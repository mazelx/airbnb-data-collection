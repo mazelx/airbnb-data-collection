{
 "cells": [
  {
   "cell_type": "code",
   "execution_count": 155,
   "metadata": {},
   "outputs": [],
   "source": [
    "import streamlit as st\n",
    "import pandas as pd\n",
    "import psycopg2\n",
    "import pandas as pds\n",
    "import numpy as np\n",
    "import plotly.express as px\n",
    "import os \n",
    "from airbnb_config import ABConfig"
   ]
  },
  {
   "cell_type": "markdown",
   "metadata": {},
   "source": [
    "# Intro"
   ]
  },
  {
   "cell_type": "markdown",
   "metadata": {},
   "source": [
    "## Config"
   ]
  },
  {
   "cell_type": "code",
   "execution_count": 156,
   "metadata": {},
   "outputs": [
    {
     "name": "stderr",
     "output_type": "stream",
     "text": [
      "2021-11-10 01:01:38.557 INFO    root: Reading configuration file mazelx.config\n",
      "2021-11-10 01:01:38.561 INFO    root: Complete proxy list has 0 proxies\n"
     ]
    }
   ],
   "source": [
    "config = ABConfig()\n",
    "px_color = px.colors.qualitative.Pastel\n",
    "px.set_mapbox_access_token(config.MAPBOX_API_KEY)\n"
   ]
  },
  {
   "cell_type": "markdown",
   "metadata": {},
   "source": [
    "## Get data"
   ]
  },
  {
   "cell_type": "code",
   "execution_count": 167,
   "metadata": {},
   "outputs": [],
   "source": [
    "def load_data(nrows=100000):\n",
    "    conn = psycopg2.connect(database=config.DB_NAME, user=config.DB_USER, password=config.DB_PASSWORD, host=config.DB_HOST, port=config.DB_PORT)\n",
    "    data = pd.read_sql_query(\"SELECT * FROM room\",con=conn)\n",
    "    data = data.head(nrows)\n",
    "    data = data.fillna(\"\")\n",
    "    data[\"host_id\"] = data.host_id.astype(str)\n",
    "    return data"
   ]
  },
  {
   "cell_type": "code",
   "execution_count": 168,
   "metadata": {},
   "outputs": [
    {
     "data": {
      "text/html": [
       "<div>\n",
       "<style scoped>\n",
       "    .dataframe tbody tr th:only-of-type {\n",
       "        vertical-align: middle;\n",
       "    }\n",
       "\n",
       "    .dataframe tbody tr th {\n",
       "        vertical-align: top;\n",
       "    }\n",
       "\n",
       "    .dataframe thead th {\n",
       "        text-align: right;\n",
       "    }\n",
       "</style>\n",
       "<table border=\"1\" class=\"dataframe\">\n",
       "  <thead>\n",
       "    <tr style=\"text-align: right;\">\n",
       "      <th></th>\n",
       "      <th>room_id</th>\n",
       "      <th>host_id</th>\n",
       "      <th>room_type</th>\n",
       "      <th>country</th>\n",
       "      <th>city</th>\n",
       "      <th>neighborhood</th>\n",
       "      <th>address</th>\n",
       "      <th>reviews</th>\n",
       "      <th>overall_satisfaction</th>\n",
       "      <th>accommodates</th>\n",
       "      <th>...</th>\n",
       "      <th>longitude</th>\n",
       "      <th>survey_id</th>\n",
       "      <th>location</th>\n",
       "      <th>coworker_hosted</th>\n",
       "      <th>extra_host_languages</th>\n",
       "      <th>name</th>\n",
       "      <th>property_type</th>\n",
       "      <th>currency</th>\n",
       "      <th>rate_type</th>\n",
       "      <th>license</th>\n",
       "    </tr>\n",
       "  </thead>\n",
       "  <tbody>\n",
       "    <tr>\n",
       "      <th>0</th>\n",
       "      <td>9018945</td>\n",
       "      <td>34938209</td>\n",
       "      <td>Entire home/apt</td>\n",
       "      <td></td>\n",
       "      <td></td>\n",
       "      <td></td>\n",
       "      <td>Biarritz, Aquitaine, France</td>\n",
       "      <td>537</td>\n",
       "      <td>5.0</td>\n",
       "      <td>2</td>\n",
       "      <td>...</td>\n",
       "      <td>-1.553770</td>\n",
       "      <td>2</td>\n",
       "      <td>0101000020E6100000401878EE3DDCF8BF842A357BA0BD...</td>\n",
       "      <td></td>\n",
       "      <td></td>\n",
       "      <td>City Center - Cosy + private courtyard</td>\n",
       "      <td></td>\n",
       "      <td></td>\n",
       "      <td>nightly</td>\n",
       "      <td></td>\n",
       "    </tr>\n",
       "    <tr>\n",
       "      <th>1</th>\n",
       "      <td>44087402</td>\n",
       "      <td>88858538</td>\n",
       "      <td>Entire home/apt</td>\n",
       "      <td></td>\n",
       "      <td></td>\n",
       "      <td></td>\n",
       "      <td>Biarritz, Nouvelle-Aquitaine, France</td>\n",
       "      <td>27</td>\n",
       "      <td>5.0</td>\n",
       "      <td>2</td>\n",
       "      <td>...</td>\n",
       "      <td>-1.558055</td>\n",
       "      <td>2</td>\n",
       "      <td>0101000020E610000092E86514CBEDF8BF9E62D520CCBD...</td>\n",
       "      <td></td>\n",
       "      <td></td>\n",
       "      <td>Appartement cosy à 150m de la plage</td>\n",
       "      <td></td>\n",
       "      <td></td>\n",
       "      <td>nightly</td>\n",
       "      <td></td>\n",
       "    </tr>\n",
       "    <tr>\n",
       "      <th>2</th>\n",
       "      <td>30008238</td>\n",
       "      <td>225567806</td>\n",
       "      <td>Entire home/apt</td>\n",
       "      <td></td>\n",
       "      <td></td>\n",
       "      <td></td>\n",
       "      <td>Biarritz, Nouvelle-Aquitaine, France</td>\n",
       "      <td>93</td>\n",
       "      <td>5.0</td>\n",
       "      <td>2</td>\n",
       "      <td>...</td>\n",
       "      <td>-1.557190</td>\n",
       "      <td>2</td>\n",
       "      <td>0101000020E61000002788BA0F40EAF8BF0BEF7211DFBD...</td>\n",
       "      <td></td>\n",
       "      <td></td>\n",
       "      <td>NOUVELLE VAGUE, studio w/ balcony, seaview &amp; p...</td>\n",
       "      <td></td>\n",
       "      <td></td>\n",
       "      <td>nightly</td>\n",
       "      <td>6412200041509</td>\n",
       "    </tr>\n",
       "  </tbody>\n",
       "</table>\n",
       "<p>3 rows × 27 columns</p>\n",
       "</div>"
      ],
      "text/plain": [
       "    room_id    host_id        room_type country city neighborhood  \\\n",
       "0   9018945   34938209  Entire home/apt                             \n",
       "1  44087402   88858538  Entire home/apt                             \n",
       "2  30008238  225567806  Entire home/apt                             \n",
       "\n",
       "                                address  reviews overall_satisfaction  \\\n",
       "0           Biarritz, Aquitaine, France      537                  5.0   \n",
       "1  Biarritz, Nouvelle-Aquitaine, France       27                  5.0   \n",
       "2  Biarritz, Nouvelle-Aquitaine, France       93                  5.0   \n",
       "\n",
       "   accommodates  ... longitude survey_id  \\\n",
       "0             2  ... -1.553770         2   \n",
       "1             2  ... -1.558055         2   \n",
       "2             2  ... -1.557190         2   \n",
       "\n",
       "                                            location  coworker_hosted  \\\n",
       "0  0101000020E6100000401878EE3DDCF8BF842A357BA0BD...                    \n",
       "1  0101000020E610000092E86514CBEDF8BF9E62D520CCBD...                    \n",
       "2  0101000020E61000002788BA0F40EAF8BF0BEF7211DFBD...                    \n",
       "\n",
       "  extra_host_languages                                               name  \\\n",
       "0                                  City Center - Cosy + private courtyard   \n",
       "1                                     Appartement cosy à 150m de la plage   \n",
       "2                       NOUVELLE VAGUE, studio w/ balcony, seaview & p...   \n",
       "\n",
       "   property_type  currency  rate_type        license  \n",
       "0                             nightly                 \n",
       "1                             nightly                 \n",
       "2                             nightly  6412200041509  \n",
       "\n",
       "[3 rows x 27 columns]"
      ]
     },
     "execution_count": 168,
     "metadata": {},
     "output_type": "execute_result"
    }
   ],
   "source": [
    "df = load_data()\n",
    "df.head(3)"
   ]
  },
  {
   "cell_type": "markdown",
   "metadata": {},
   "source": [
    "## Data enrichment"
   ]
  },
  {
   "cell_type": "code",
   "execution_count": 210,
   "metadata": {},
   "outputs": [
    {
     "data": {
      "text/html": [
       "<div>\n",
       "<style scoped>\n",
       "    .dataframe tbody tr th:only-of-type {\n",
       "        vertical-align: middle;\n",
       "    }\n",
       "\n",
       "    .dataframe tbody tr th {\n",
       "        vertical-align: top;\n",
       "    }\n",
       "\n",
       "    .dataframe thead th {\n",
       "        text-align: right;\n",
       "    }\n",
       "</style>\n",
       "<table border=\"1\" class=\"dataframe\">\n",
       "  <thead>\n",
       "    <tr style=\"text-align: right;\">\n",
       "      <th></th>\n",
       "      <th>room_id</th>\n",
       "      <th>host_id</th>\n",
       "      <th>room_type</th>\n",
       "      <th>country</th>\n",
       "      <th>city</th>\n",
       "      <th>neighborhood</th>\n",
       "      <th>address</th>\n",
       "      <th>reviews</th>\n",
       "      <th>overall_satisfaction</th>\n",
       "      <th>accommodates</th>\n",
       "      <th>...</th>\n",
       "      <th>coworker_hosted</th>\n",
       "      <th>extra_host_languages</th>\n",
       "      <th>name</th>\n",
       "      <th>property_type</th>\n",
       "      <th>currency</th>\n",
       "      <th>rate_type</th>\n",
       "      <th>license</th>\n",
       "      <th>room_link</th>\n",
       "      <th>has_license</th>\n",
       "      <th>room_url</th>\n",
       "    </tr>\n",
       "  </thead>\n",
       "  <tbody>\n",
       "    <tr>\n",
       "      <th>0</th>\n",
       "      <td>9018945</td>\n",
       "      <td>34938209</td>\n",
       "      <td>Entire home/apt</td>\n",
       "      <td></td>\n",
       "      <td></td>\n",
       "      <td></td>\n",
       "      <td>Biarritz, Aquitaine, France</td>\n",
       "      <td>537</td>\n",
       "      <td>5.0</td>\n",
       "      <td>2</td>\n",
       "      <td>...</td>\n",
       "      <td></td>\n",
       "      <td></td>\n",
       "      <td>City Center - Cosy + private courtyard</td>\n",
       "      <td></td>\n",
       "      <td></td>\n",
       "      <td>nightly</td>\n",
       "      <td></td>\n",
       "      <td>http://www.airbnb.com/rooms/9018945</td>\n",
       "      <td>False</td>\n",
       "      <td>http://www.airbnb.com/rooms/9018945</td>\n",
       "    </tr>\n",
       "    <tr>\n",
       "      <th>1</th>\n",
       "      <td>44087402</td>\n",
       "      <td>88858538</td>\n",
       "      <td>Entire home/apt</td>\n",
       "      <td></td>\n",
       "      <td></td>\n",
       "      <td></td>\n",
       "      <td>Biarritz, Nouvelle-Aquitaine, France</td>\n",
       "      <td>27</td>\n",
       "      <td>5.0</td>\n",
       "      <td>2</td>\n",
       "      <td>...</td>\n",
       "      <td></td>\n",
       "      <td></td>\n",
       "      <td>Appartement cosy à 150m de la plage</td>\n",
       "      <td></td>\n",
       "      <td></td>\n",
       "      <td>nightly</td>\n",
       "      <td></td>\n",
       "      <td>http://www.airbnb.com/rooms/44087402</td>\n",
       "      <td>False</td>\n",
       "      <td>http://www.airbnb.com/rooms/44087402</td>\n",
       "    </tr>\n",
       "    <tr>\n",
       "      <th>2</th>\n",
       "      <td>30008238</td>\n",
       "      <td>225567806</td>\n",
       "      <td>Entire home/apt</td>\n",
       "      <td></td>\n",
       "      <td></td>\n",
       "      <td></td>\n",
       "      <td>Biarritz, Nouvelle-Aquitaine, France</td>\n",
       "      <td>93</td>\n",
       "      <td>5.0</td>\n",
       "      <td>2</td>\n",
       "      <td>...</td>\n",
       "      <td></td>\n",
       "      <td></td>\n",
       "      <td>NOUVELLE VAGUE, studio w/ balcony, seaview &amp; p...</td>\n",
       "      <td></td>\n",
       "      <td></td>\n",
       "      <td>nightly</td>\n",
       "      <td>6412200041509</td>\n",
       "      <td>http://www.airbnb.com/rooms/30008238</td>\n",
       "      <td>True</td>\n",
       "      <td>http://www.airbnb.com/rooms/30008238</td>\n",
       "    </tr>\n",
       "    <tr>\n",
       "      <th>3</th>\n",
       "      <td>50582066</td>\n",
       "      <td>113038136</td>\n",
       "      <td>Entire home/apt</td>\n",
       "      <td></td>\n",
       "      <td></td>\n",
       "      <td></td>\n",
       "      <td>Biarritz, Nouvelle-Aquitaine, France</td>\n",
       "      <td>1</td>\n",
       "      <td></td>\n",
       "      <td>3</td>\n",
       "      <td>...</td>\n",
       "      <td></td>\n",
       "      <td></td>\n",
       "      <td>Bellevue Plage for 3 persons.</td>\n",
       "      <td></td>\n",
       "      <td></td>\n",
       "      <td>nightly</td>\n",
       "      <td>3</td>\n",
       "      <td>http://www.airbnb.com/rooms/50582066</td>\n",
       "      <td>False</td>\n",
       "      <td>http://www.airbnb.com/rooms/50582066</td>\n",
       "    </tr>\n",
       "    <tr>\n",
       "      <th>4</th>\n",
       "      <td>913348</td>\n",
       "      <td>4902721</td>\n",
       "      <td>Entire home/apt</td>\n",
       "      <td></td>\n",
       "      <td></td>\n",
       "      <td></td>\n",
       "      <td>Biarritz, Aquitaine, France</td>\n",
       "      <td>115</td>\n",
       "      <td>4.5</td>\n",
       "      <td>2</td>\n",
       "      <td>...</td>\n",
       "      <td></td>\n",
       "      <td></td>\n",
       "      <td>BIARRITZ 30 METERS BEACH AT VICTORIA SURF 1</td>\n",
       "      <td></td>\n",
       "      <td></td>\n",
       "      <td>nightly</td>\n",
       "      <td>64122172650VS</td>\n",
       "      <td>http://www.airbnb.com/rooms/913348</td>\n",
       "      <td>True</td>\n",
       "      <td>http://www.airbnb.com/rooms/913348</td>\n",
       "    </tr>\n",
       "    <tr>\n",
       "      <th>5</th>\n",
       "      <td>50295878</td>\n",
       "      <td>13319954</td>\n",
       "      <td>Entire home/apt</td>\n",
       "      <td></td>\n",
       "      <td></td>\n",
       "      <td></td>\n",
       "      <td>Biarritz, Nouvelle-Aquitaine, France</td>\n",
       "      <td>41</td>\n",
       "      <td>4.5</td>\n",
       "      <td>2</td>\n",
       "      <td>...</td>\n",
       "      <td></td>\n",
       "      <td></td>\n",
       "      <td>Chez « Alfred »</td>\n",
       "      <td></td>\n",
       "      <td></td>\n",
       "      <td>nightly</td>\n",
       "      <td></td>\n",
       "      <td>http://www.airbnb.com/rooms/50295878</td>\n",
       "      <td>False</td>\n",
       "      <td>http://www.airbnb.com/rooms/50295878</td>\n",
       "    </tr>\n",
       "    <tr>\n",
       "      <th>6</th>\n",
       "      <td>39991402</td>\n",
       "      <td>308352152</td>\n",
       "      <td>Entire home/apt</td>\n",
       "      <td></td>\n",
       "      <td></td>\n",
       "      <td></td>\n",
       "      <td>Biarritz, Nouvelle-Aquitaine, France</td>\n",
       "      <td>86</td>\n",
       "      <td>5.0</td>\n",
       "      <td>2</td>\n",
       "      <td>...</td>\n",
       "      <td></td>\n",
       "      <td></td>\n",
       "      <td>Studio Climatisé GrandePlage Biarritz Victoria...</td>\n",
       "      <td></td>\n",
       "      <td></td>\n",
       "      <td>nightly</td>\n",
       "      <td></td>\n",
       "      <td>http://www.airbnb.com/rooms/39991402</td>\n",
       "      <td>False</td>\n",
       "      <td>http://www.airbnb.com/rooms/39991402</td>\n",
       "    </tr>\n",
       "    <tr>\n",
       "      <th>7</th>\n",
       "      <td>49992273</td>\n",
       "      <td>403176056</td>\n",
       "      <td>Entire home/apt</td>\n",
       "      <td></td>\n",
       "      <td></td>\n",
       "      <td></td>\n",
       "      <td>Biarritz, Nouvelle-Aquitaine, France</td>\n",
       "      <td>2</td>\n",
       "      <td></td>\n",
       "      <td>5</td>\n",
       "      <td>...</td>\n",
       "      <td></td>\n",
       "      <td></td>\n",
       "      <td>Biarritz tout à pied, avec vue mer !</td>\n",
       "      <td></td>\n",
       "      <td></td>\n",
       "      <td>nightly</td>\n",
       "      <td></td>\n",
       "      <td>http://www.airbnb.com/rooms/49992273</td>\n",
       "      <td>False</td>\n",
       "      <td>http://www.airbnb.com/rooms/49992273</td>\n",
       "    </tr>\n",
       "    <tr>\n",
       "      <th>8</th>\n",
       "      <td>31720299</td>\n",
       "      <td>140887097</td>\n",
       "      <td>Entire home/apt</td>\n",
       "      <td></td>\n",
       "      <td></td>\n",
       "      <td></td>\n",
       "      <td>Biarritz, France</td>\n",
       "      <td>210</td>\n",
       "      <td>5.0</td>\n",
       "      <td>2</td>\n",
       "      <td>...</td>\n",
       "      <td></td>\n",
       "      <td></td>\n",
       "      <td>Biarritz Grande Plage 25m2 avec Balcon</td>\n",
       "      <td></td>\n",
       "      <td></td>\n",
       "      <td>nightly</td>\n",
       "      <td></td>\n",
       "      <td>http://www.airbnb.com/rooms/31720299</td>\n",
       "      <td>False</td>\n",
       "      <td>http://www.airbnb.com/rooms/31720299</td>\n",
       "    </tr>\n",
       "    <tr>\n",
       "      <th>9</th>\n",
       "      <td>50173663</td>\n",
       "      <td>404931065</td>\n",
       "      <td>Entire home/apt</td>\n",
       "      <td></td>\n",
       "      <td></td>\n",
       "      <td></td>\n",
       "      <td>Biarritz, Nouvelle-Aquitaine, France</td>\n",
       "      <td>21</td>\n",
       "      <td>5.0</td>\n",
       "      <td>2</td>\n",
       "      <td>...</td>\n",
       "      <td></td>\n",
       "      <td></td>\n",
       "      <td>Biarritz- Accès direct à la Grande Plage T2 33 m2</td>\n",
       "      <td></td>\n",
       "      <td></td>\n",
       "      <td>nightly</td>\n",
       "      <td>64122001942F6</td>\n",
       "      <td>http://www.airbnb.com/rooms/50173663</td>\n",
       "      <td>True</td>\n",
       "      <td>http://www.airbnb.com/rooms/50173663</td>\n",
       "    </tr>\n",
       "  </tbody>\n",
       "</table>\n",
       "<p>10 rows × 30 columns</p>\n",
       "</div>"
      ],
      "text/plain": [
       "    room_id    host_id        room_type country city neighborhood  \\\n",
       "0   9018945   34938209  Entire home/apt                             \n",
       "1  44087402   88858538  Entire home/apt                             \n",
       "2  30008238  225567806  Entire home/apt                             \n",
       "3  50582066  113038136  Entire home/apt                             \n",
       "4    913348    4902721  Entire home/apt                             \n",
       "5  50295878   13319954  Entire home/apt                             \n",
       "6  39991402  308352152  Entire home/apt                             \n",
       "7  49992273  403176056  Entire home/apt                             \n",
       "8  31720299  140887097  Entire home/apt                             \n",
       "9  50173663  404931065  Entire home/apt                             \n",
       "\n",
       "                                address  reviews overall_satisfaction  \\\n",
       "0           Biarritz, Aquitaine, France      537                  5.0   \n",
       "1  Biarritz, Nouvelle-Aquitaine, France       27                  5.0   \n",
       "2  Biarritz, Nouvelle-Aquitaine, France       93                  5.0   \n",
       "3  Biarritz, Nouvelle-Aquitaine, France        1                        \n",
       "4           Biarritz, Aquitaine, France      115                  4.5   \n",
       "5  Biarritz, Nouvelle-Aquitaine, France       41                  4.5   \n",
       "6  Biarritz, Nouvelle-Aquitaine, France       86                  5.0   \n",
       "7  Biarritz, Nouvelle-Aquitaine, France        2                        \n",
       "8                      Biarritz, France      210                  5.0   \n",
       "9  Biarritz, Nouvelle-Aquitaine, France       21                  5.0   \n",
       "\n",
       "   accommodates  ... coworker_hosted extra_host_languages  \\\n",
       "0             2  ...                                        \n",
       "1             2  ...                                        \n",
       "2             2  ...                                        \n",
       "3             3  ...                                        \n",
       "4             2  ...                                        \n",
       "5             2  ...                                        \n",
       "6             2  ...                                        \n",
       "7             5  ...                                        \n",
       "8             2  ...                                        \n",
       "9             2  ...                                        \n",
       "\n",
       "                                                name  property_type currency  \\\n",
       "0             City Center - Cosy + private courtyard                           \n",
       "1                Appartement cosy à 150m de la plage                           \n",
       "2  NOUVELLE VAGUE, studio w/ balcony, seaview & p...                           \n",
       "3                      Bellevue Plage for 3 persons.                           \n",
       "4        BIARRITZ 30 METERS BEACH AT VICTORIA SURF 1                           \n",
       "5                                    Chez « Alfred »                           \n",
       "6  Studio Climatisé GrandePlage Biarritz Victoria...                           \n",
       "7               Biarritz tout à pied, avec vue mer !                           \n",
       "8             Biarritz Grande Plage 25m2 avec Balcon                           \n",
       "9  Biarritz- Accès direct à la Grande Plage T2 33 m2                           \n",
       "\n",
       "  rate_type        license                             room_link  has_license  \\\n",
       "0   nightly                  http://www.airbnb.com/rooms/9018945        False   \n",
       "1   nightly                 http://www.airbnb.com/rooms/44087402        False   \n",
       "2   nightly  6412200041509  http://www.airbnb.com/rooms/30008238         True   \n",
       "3   nightly              3  http://www.airbnb.com/rooms/50582066        False   \n",
       "4   nightly  64122172650VS    http://www.airbnb.com/rooms/913348         True   \n",
       "5   nightly                 http://www.airbnb.com/rooms/50295878        False   \n",
       "6   nightly                 http://www.airbnb.com/rooms/39991402        False   \n",
       "7   nightly                 http://www.airbnb.com/rooms/49992273        False   \n",
       "8   nightly                 http://www.airbnb.com/rooms/31720299        False   \n",
       "9   nightly  64122001942F6  http://www.airbnb.com/rooms/50173663         True   \n",
       "\n",
       "                               room_url  \n",
       "0   http://www.airbnb.com/rooms/9018945  \n",
       "1  http://www.airbnb.com/rooms/44087402  \n",
       "2  http://www.airbnb.com/rooms/30008238  \n",
       "3  http://www.airbnb.com/rooms/50582066  \n",
       "4    http://www.airbnb.com/rooms/913348  \n",
       "5  http://www.airbnb.com/rooms/50295878  \n",
       "6  http://www.airbnb.com/rooms/39991402  \n",
       "7  http://www.airbnb.com/rooms/49992273  \n",
       "8  http://www.airbnb.com/rooms/31720299  \n",
       "9  http://www.airbnb.com/rooms/50173663  \n",
       "\n",
       "[10 rows x 30 columns]"
      ]
     },
     "execution_count": 210,
     "metadata": {},
     "output_type": "execute_result"
    }
   ],
   "source": [
    "# data enrichment\n",
    "df[\"room_url\"] = \"http://www.airbnb.com/rooms/\" + df.room_id.astype(str)\n",
    "df.head(10)"
   ]
  },
  {
   "cell_type": "markdown",
   "metadata": {},
   "source": [
    "# Rate of entire appartment vs private rooms ?"
   ]
  },
  {
   "cell_type": "code",
   "execution_count": 170,
   "metadata": {},
   "outputs": [
    {
     "data": {
      "application/vnd.plotly.v1+json": {
       "config": {
        "plotlyServerURL": "https://plot.ly"
       },
       "data": [
        {
         "alignmentgroup": "True",
         "bingroup": "x",
         "histnorm": "percent",
         "hovertemplate": "variable=room_type<br>value=%{x}<br>percent=%{y}<extra></extra>",
         "legendgroup": "room_type",
         "marker": {
          "color": "#636efa",
          "pattern": {
           "shape": ""
          }
         },
         "name": "room_type",
         "offsetgroup": "room_type",
         "orientation": "v",
         "showlegend": true,
         "type": "histogram",
         "x": [
          "Entire home/apt",
          "Entire home/apt",
          "Entire home/apt",
          "Entire home/apt",
          "Entire home/apt",
          "Entire home/apt",
          "Entire home/apt",
          "Entire home/apt",
          "Entire home/apt",
          "Entire home/apt",
          "Entire home/apt",
          "Entire home/apt",
          "Entire home/apt",
          "Entire home/apt",
          "Entire home/apt",
          "Entire home/apt",
          "Entire home/apt",
          "Entire home/apt",
          "Entire home/apt",
          "Entire home/apt",
          "Entire home/apt",
          "Entire home/apt",
          "Entire home/apt",
          "Entire home/apt",
          "Entire home/apt",
          "Entire home/apt",
          "Private room",
          "Entire home/apt",
          "Entire home/apt",
          "Entire home/apt",
          "Entire home/apt",
          "Entire home/apt",
          "Entire home/apt",
          "Entire home/apt",
          "Entire home/apt",
          "Entire home/apt",
          "Entire home/apt",
          "Entire home/apt",
          "Entire home/apt",
          "Entire home/apt",
          "Entire home/apt",
          "Entire home/apt",
          "Entire home/apt",
          "Entire home/apt",
          "Entire home/apt",
          "Entire home/apt",
          "Entire home/apt",
          "Entire home/apt",
          "Entire home/apt",
          "Entire home/apt",
          "Private room",
          "Entire home/apt",
          "Entire home/apt",
          "Entire home/apt",
          "Entire home/apt",
          "Entire home/apt",
          "Entire home/apt",
          "Entire home/apt",
          "Entire home/apt",
          "Entire home/apt",
          "Entire home/apt",
          "Entire home/apt",
          "Entire home/apt",
          "Entire home/apt",
          "Entire home/apt",
          "Entire home/apt",
          "Entire home/apt",
          "Entire home/apt",
          "Entire home/apt",
          "Entire home/apt",
          "Entire home/apt",
          "Entire home/apt",
          "Entire home/apt",
          "Entire home/apt",
          "Entire home/apt",
          "Entire home/apt",
          "Entire home/apt",
          "Entire home/apt",
          "Entire home/apt",
          "Entire home/apt",
          "Entire home/apt",
          "Entire home/apt",
          "Entire home/apt",
          "Entire home/apt",
          "Entire home/apt",
          "Entire home/apt",
          "Entire home/apt",
          "Entire home/apt",
          "Entire home/apt",
          "Entire home/apt",
          "Entire home/apt",
          "Entire home/apt",
          "Entire home/apt",
          "Entire home/apt",
          "Entire home/apt",
          "Entire home/apt",
          "Entire home/apt",
          "Entire home/apt",
          "Entire home/apt",
          "Entire home/apt",
          "Entire home/apt",
          "Entire home/apt",
          "Entire home/apt",
          "Entire home/apt",
          "Entire home/apt",
          "Entire home/apt",
          "Entire home/apt",
          "Entire home/apt",
          "Entire home/apt",
          "Entire home/apt",
          "Entire home/apt",
          "Entire home/apt",
          "Entire home/apt",
          "Entire home/apt",
          "Entire home/apt",
          "Entire home/apt",
          "Entire home/apt",
          "Entire home/apt",
          "Entire home/apt",
          "Entire home/apt",
          "Entire home/apt",
          "Entire home/apt",
          "Entire home/apt",
          "Entire home/apt",
          "Entire home/apt",
          "Entire home/apt",
          "Entire home/apt",
          "Entire home/apt",
          "Entire home/apt",
          "Entire home/apt",
          "Entire home/apt",
          "Entire home/apt",
          "Entire home/apt",
          "Entire home/apt",
          "Entire home/apt",
          "Entire home/apt",
          "Entire home/apt",
          "Entire home/apt",
          "Entire home/apt",
          "Entire home/apt",
          "Entire home/apt",
          "Entire home/apt",
          "Entire home/apt",
          "Entire home/apt",
          "Entire home/apt",
          "Private room",
          "Entire home/apt",
          "Entire home/apt",
          "Entire home/apt",
          "Entire home/apt",
          "Entire home/apt",
          "Entire home/apt",
          "Entire home/apt",
          "Entire home/apt",
          "Entire home/apt",
          "Entire home/apt",
          "Entire home/apt",
          "Entire home/apt",
          "Entire home/apt",
          "Entire home/apt",
          "Entire home/apt",
          "Entire home/apt",
          "Entire home/apt",
          "Entire home/apt",
          "Entire home/apt",
          "Entire home/apt",
          "Entire home/apt",
          "Entire home/apt",
          "Entire home/apt",
          "Entire home/apt",
          "Entire home/apt",
          "Entire home/apt",
          "Entire home/apt",
          "Entire home/apt",
          "Entire home/apt",
          "Entire home/apt",
          "Entire home/apt",
          "Entire home/apt",
          "Entire home/apt",
          "Entire home/apt",
          "Entire home/apt",
          "Entire home/apt",
          "Entire home/apt",
          "Entire home/apt",
          "Entire home/apt",
          "Entire home/apt",
          "Entire home/apt",
          "Entire home/apt",
          "Entire home/apt",
          "Entire home/apt",
          "Entire home/apt",
          "Entire home/apt",
          "Entire home/apt",
          "Entire home/apt",
          "Entire home/apt",
          "Entire home/apt",
          "Entire home/apt",
          "Entire home/apt",
          "Entire home/apt",
          "Entire home/apt",
          "Entire home/apt",
          "Entire home/apt",
          "Entire home/apt",
          "Entire home/apt",
          "Entire home/apt",
          "Entire home/apt",
          "Entire home/apt",
          "Entire home/apt",
          "Private room",
          "Entire home/apt",
          "Entire home/apt",
          "Entire home/apt",
          "Entire home/apt",
          "Entire home/apt",
          "Private room",
          "Entire home/apt",
          "Entire home/apt",
          "Entire home/apt",
          "Entire home/apt",
          "Hotel room",
          "Entire home/apt",
          "Entire home/apt",
          "Entire home/apt",
          "Entire home/apt",
          "Entire home/apt",
          "Entire home/apt",
          "Entire home/apt",
          "Entire home/apt",
          "Entire home/apt",
          "Entire home/apt",
          "Entire home/apt",
          "Entire home/apt",
          "Entire home/apt",
          "Entire home/apt",
          "Entire home/apt",
          "Entire home/apt",
          "Entire home/apt",
          "Entire home/apt",
          "Entire home/apt",
          "Entire home/apt",
          "Entire home/apt",
          "Entire home/apt",
          "Entire home/apt",
          "Entire home/apt",
          "Entire home/apt",
          "Entire home/apt",
          "Entire home/apt",
          "Entire home/apt",
          "Entire home/apt",
          "Entire home/apt",
          "Entire home/apt",
          "Entire home/apt",
          "Entire home/apt",
          "Entire home/apt",
          "Entire home/apt",
          "Hotel room",
          "Entire home/apt",
          "Entire home/apt",
          "Entire home/apt",
          "Entire home/apt",
          "Entire home/apt",
          "Entire home/apt",
          "Entire home/apt",
          "Entire home/apt",
          "Entire home/apt",
          "Entire home/apt",
          "Entire home/apt",
          "Entire home/apt",
          "Entire home/apt",
          "Entire home/apt",
          "Entire home/apt",
          "Entire home/apt",
          "Entire home/apt",
          "Private room",
          "Entire home/apt",
          "Entire home/apt",
          "Entire home/apt",
          "Entire home/apt",
          "Entire home/apt",
          "Entire home/apt",
          "Entire home/apt",
          "Entire home/apt",
          "Entire home/apt",
          "Entire home/apt",
          "Entire home/apt",
          "Entire home/apt",
          "Entire home/apt",
          "Entire home/apt",
          "Entire home/apt",
          "Entire home/apt",
          "Entire home/apt",
          "Entire home/apt",
          "Entire home/apt",
          "Entire home/apt",
          "Entire home/apt",
          "Entire home/apt",
          "Entire home/apt",
          "Entire home/apt",
          "Entire home/apt",
          "Entire home/apt",
          "Entire home/apt",
          "Entire home/apt",
          "Entire home/apt",
          "Entire home/apt",
          "Entire home/apt",
          "Entire home/apt",
          "Entire home/apt",
          "Entire home/apt",
          "Entire home/apt",
          "Entire home/apt",
          "Entire home/apt",
          "Entire home/apt",
          "Entire home/apt",
          "Entire home/apt",
          "Entire home/apt",
          "Entire home/apt",
          "Entire home/apt",
          "Entire home/apt",
          "Entire home/apt",
          "Entire home/apt",
          "Entire home/apt",
          "Entire home/apt",
          "Entire home/apt",
          "Entire home/apt",
          "Hotel room",
          "Entire home/apt",
          "Entire home/apt",
          "Entire home/apt",
          "Entire home/apt",
          "Entire home/apt",
          "Entire home/apt",
          "Entire home/apt",
          "Entire home/apt",
          "Entire home/apt",
          "Entire home/apt",
          "Entire home/apt",
          "Entire home/apt",
          "Entire home/apt",
          "Entire home/apt",
          "Entire home/apt",
          "Entire home/apt",
          "Entire home/apt",
          "Entire home/apt",
          "Entire home/apt",
          "Entire home/apt",
          "Entire home/apt",
          "Entire home/apt",
          "Entire home/apt",
          "Entire home/apt",
          "Entire home/apt",
          "Entire home/apt",
          "Entire home/apt",
          "Entire home/apt",
          "Entire home/apt",
          "Entire home/apt",
          "Entire home/apt",
          "Entire home/apt",
          "Entire home/apt",
          "Hotel room",
          "Entire home/apt",
          "Entire home/apt",
          "Entire home/apt",
          "Private room",
          "Entire home/apt",
          "Entire home/apt",
          "Entire home/apt",
          "Entire home/apt",
          "Entire home/apt",
          "Entire home/apt",
          "Entire home/apt",
          "Entire home/apt",
          "Entire home/apt",
          "Entire home/apt",
          "Entire home/apt",
          "Entire home/apt",
          "Entire home/apt",
          "Entire home/apt",
          "Entire home/apt",
          "Entire home/apt",
          "Entire home/apt",
          "Entire home/apt",
          "Entire home/apt",
          "Entire home/apt",
          "Entire home/apt",
          "Entire home/apt",
          "Entire home/apt",
          "Entire home/apt",
          "Entire home/apt",
          "Private room",
          "Entire home/apt",
          "Entire home/apt",
          "Entire home/apt",
          "Entire home/apt",
          "Entire home/apt",
          "Entire home/apt",
          "Entire home/apt",
          "Entire home/apt",
          "Entire home/apt",
          "Entire home/apt",
          "Entire home/apt",
          "Entire home/apt",
          "Entire home/apt",
          "Entire home/apt",
          "Entire home/apt",
          "Entire home/apt",
          "Entire home/apt",
          "Entire home/apt",
          "Entire home/apt",
          "Entire home/apt",
          "Entire home/apt",
          "Entire home/apt",
          "Entire home/apt",
          "Entire home/apt",
          "Entire home/apt",
          "Entire home/apt",
          "Entire home/apt",
          "Entire home/apt",
          "Entire home/apt",
          "Entire home/apt",
          "Entire home/apt",
          "Entire home/apt",
          "Entire home/apt",
          "Entire home/apt",
          "Entire home/apt",
          "Entire home/apt",
          "Entire home/apt",
          "Entire home/apt",
          "Entire home/apt",
          "Entire home/apt",
          "Entire home/apt",
          "Entire home/apt",
          "Private room",
          "Entire home/apt",
          "Entire home/apt",
          "Entire home/apt",
          "Entire home/apt",
          "Entire home/apt",
          "Entire home/apt",
          "Entire home/apt",
          "Entire home/apt",
          "Entire home/apt",
          "Entire home/apt",
          "Entire home/apt",
          "Entire home/apt",
          "Entire home/apt",
          "Entire home/apt",
          "Entire home/apt",
          "Entire home/apt",
          "Entire home/apt",
          "Entire home/apt",
          "Entire home/apt",
          "Entire home/apt",
          "Entire home/apt",
          "Entire home/apt",
          "Entire home/apt",
          "Entire home/apt",
          "Entire home/apt",
          "Entire home/apt",
          "Entire home/apt",
          "Entire home/apt",
          "Entire home/apt",
          "Entire home/apt",
          "Entire home/apt",
          "Entire home/apt",
          "Entire home/apt",
          "Entire home/apt",
          "Entire home/apt",
          "Entire home/apt",
          "Entire home/apt",
          "Entire home/apt",
          "Entire home/apt",
          "Entire home/apt",
          "Entire home/apt",
          "Entire home/apt",
          "Entire home/apt",
          "Entire home/apt",
          "Entire home/apt",
          "Entire home/apt",
          "Entire home/apt",
          "Entire home/apt",
          "Entire home/apt",
          "Entire home/apt",
          "Entire home/apt",
          "Entire home/apt",
          "Entire home/apt",
          "Entire home/apt",
          "Entire home/apt",
          "Entire home/apt",
          "Entire home/apt",
          "Entire home/apt",
          "Entire home/apt",
          "Entire home/apt",
          "Entire home/apt",
          "Entire home/apt",
          "Entire home/apt",
          "Entire home/apt",
          "Private room",
          "Entire home/apt",
          "Entire home/apt",
          "Private room",
          "Entire home/apt",
          "Entire home/apt",
          "Entire home/apt",
          "Entire home/apt",
          "Entire home/apt",
          "Entire home/apt",
          "Entire home/apt",
          "Entire home/apt",
          "Entire home/apt",
          "Entire home/apt",
          "Entire home/apt",
          "Entire home/apt",
          "Entire home/apt",
          "Entire home/apt",
          "Entire home/apt",
          "Entire home/apt",
          "Entire home/apt",
          "Entire home/apt",
          "Entire home/apt",
          "Entire home/apt",
          "Entire home/apt",
          "Entire home/apt",
          "Entire home/apt",
          "Entire home/apt",
          "Entire home/apt",
          "Entire home/apt",
          "Entire home/apt",
          "Entire home/apt",
          "Entire home/apt",
          "Entire home/apt",
          "Entire home/apt",
          "Entire home/apt",
          "Entire home/apt",
          "Entire home/apt",
          "Entire home/apt",
          "Entire home/apt",
          "Entire home/apt",
          "Entire home/apt",
          "Entire home/apt",
          "Entire home/apt",
          "Hotel room",
          "Entire home/apt",
          "Entire home/apt",
          "Entire home/apt",
          "Entire home/apt",
          "Entire home/apt",
          "Entire home/apt",
          "Entire home/apt",
          "Entire home/apt",
          "Private room",
          "Entire home/apt",
          "Entire home/apt",
          "Entire home/apt",
          "Entire home/apt",
          "Entire home/apt",
          "Entire home/apt",
          "Entire home/apt",
          "Entire home/apt",
          "Entire home/apt",
          "Entire home/apt",
          "Entire home/apt",
          "Entire home/apt",
          "Entire home/apt",
          "Entire home/apt",
          "Entire home/apt",
          "Entire home/apt",
          "Entire home/apt",
          "Entire home/apt",
          "Entire home/apt",
          "Entire home/apt",
          "Entire home/apt",
          "Entire home/apt",
          "Entire home/apt",
          "Entire home/apt",
          "Entire home/apt",
          "Entire home/apt",
          "Entire home/apt",
          "Entire home/apt",
          "Entire home/apt",
          "Entire home/apt",
          "Entire home/apt",
          "Entire home/apt",
          "Entire home/apt",
          "Entire home/apt",
          "Entire home/apt",
          "Entire home/apt",
          "Entire home/apt",
          "Entire home/apt",
          "Entire home/apt",
          "Entire home/apt",
          "Entire home/apt",
          "Entire home/apt",
          "Private room",
          "Entire home/apt",
          "Entire home/apt",
          "Entire home/apt",
          "Entire home/apt",
          "Entire home/apt",
          "Entire home/apt",
          "Entire home/apt",
          "Entire home/apt",
          "Entire home/apt",
          "Entire home/apt",
          "Entire home/apt",
          "Entire home/apt",
          "Entire home/apt"
         ],
         "xaxis": "x",
         "yaxis": "y"
        }
       ],
       "layout": {
        "barmode": "relative",
        "legend": {
         "title": {
          "text": "variable"
         },
         "tracegroupgap": 0
        },
        "margin": {
         "t": 60
        },
        "template": {
         "data": {
          "bar": [
           {
            "error_x": {
             "color": "#2a3f5f"
            },
            "error_y": {
             "color": "#2a3f5f"
            },
            "marker": {
             "line": {
              "color": "#E5ECF6",
              "width": 0.5
             },
             "pattern": {
              "fillmode": "overlay",
              "size": 10,
              "solidity": 0.2
             }
            },
            "type": "bar"
           }
          ],
          "barpolar": [
           {
            "marker": {
             "line": {
              "color": "#E5ECF6",
              "width": 0.5
             },
             "pattern": {
              "fillmode": "overlay",
              "size": 10,
              "solidity": 0.2
             }
            },
            "type": "barpolar"
           }
          ],
          "carpet": [
           {
            "aaxis": {
             "endlinecolor": "#2a3f5f",
             "gridcolor": "white",
             "linecolor": "white",
             "minorgridcolor": "white",
             "startlinecolor": "#2a3f5f"
            },
            "baxis": {
             "endlinecolor": "#2a3f5f",
             "gridcolor": "white",
             "linecolor": "white",
             "minorgridcolor": "white",
             "startlinecolor": "#2a3f5f"
            },
            "type": "carpet"
           }
          ],
          "choropleth": [
           {
            "colorbar": {
             "outlinewidth": 0,
             "ticks": ""
            },
            "type": "choropleth"
           }
          ],
          "contour": [
           {
            "colorbar": {
             "outlinewidth": 0,
             "ticks": ""
            },
            "colorscale": [
             [
              0,
              "#0d0887"
             ],
             [
              0.1111111111111111,
              "#46039f"
             ],
             [
              0.2222222222222222,
              "#7201a8"
             ],
             [
              0.3333333333333333,
              "#9c179e"
             ],
             [
              0.4444444444444444,
              "#bd3786"
             ],
             [
              0.5555555555555556,
              "#d8576b"
             ],
             [
              0.6666666666666666,
              "#ed7953"
             ],
             [
              0.7777777777777778,
              "#fb9f3a"
             ],
             [
              0.8888888888888888,
              "#fdca26"
             ],
             [
              1,
              "#f0f921"
             ]
            ],
            "type": "contour"
           }
          ],
          "contourcarpet": [
           {
            "colorbar": {
             "outlinewidth": 0,
             "ticks": ""
            },
            "type": "contourcarpet"
           }
          ],
          "heatmap": [
           {
            "colorbar": {
             "outlinewidth": 0,
             "ticks": ""
            },
            "colorscale": [
             [
              0,
              "#0d0887"
             ],
             [
              0.1111111111111111,
              "#46039f"
             ],
             [
              0.2222222222222222,
              "#7201a8"
             ],
             [
              0.3333333333333333,
              "#9c179e"
             ],
             [
              0.4444444444444444,
              "#bd3786"
             ],
             [
              0.5555555555555556,
              "#d8576b"
             ],
             [
              0.6666666666666666,
              "#ed7953"
             ],
             [
              0.7777777777777778,
              "#fb9f3a"
             ],
             [
              0.8888888888888888,
              "#fdca26"
             ],
             [
              1,
              "#f0f921"
             ]
            ],
            "type": "heatmap"
           }
          ],
          "heatmapgl": [
           {
            "colorbar": {
             "outlinewidth": 0,
             "ticks": ""
            },
            "colorscale": [
             [
              0,
              "#0d0887"
             ],
             [
              0.1111111111111111,
              "#46039f"
             ],
             [
              0.2222222222222222,
              "#7201a8"
             ],
             [
              0.3333333333333333,
              "#9c179e"
             ],
             [
              0.4444444444444444,
              "#bd3786"
             ],
             [
              0.5555555555555556,
              "#d8576b"
             ],
             [
              0.6666666666666666,
              "#ed7953"
             ],
             [
              0.7777777777777778,
              "#fb9f3a"
             ],
             [
              0.8888888888888888,
              "#fdca26"
             ],
             [
              1,
              "#f0f921"
             ]
            ],
            "type": "heatmapgl"
           }
          ],
          "histogram": [
           {
            "marker": {
             "pattern": {
              "fillmode": "overlay",
              "size": 10,
              "solidity": 0.2
             }
            },
            "type": "histogram"
           }
          ],
          "histogram2d": [
           {
            "colorbar": {
             "outlinewidth": 0,
             "ticks": ""
            },
            "colorscale": [
             [
              0,
              "#0d0887"
             ],
             [
              0.1111111111111111,
              "#46039f"
             ],
             [
              0.2222222222222222,
              "#7201a8"
             ],
             [
              0.3333333333333333,
              "#9c179e"
             ],
             [
              0.4444444444444444,
              "#bd3786"
             ],
             [
              0.5555555555555556,
              "#d8576b"
             ],
             [
              0.6666666666666666,
              "#ed7953"
             ],
             [
              0.7777777777777778,
              "#fb9f3a"
             ],
             [
              0.8888888888888888,
              "#fdca26"
             ],
             [
              1,
              "#f0f921"
             ]
            ],
            "type": "histogram2d"
           }
          ],
          "histogram2dcontour": [
           {
            "colorbar": {
             "outlinewidth": 0,
             "ticks": ""
            },
            "colorscale": [
             [
              0,
              "#0d0887"
             ],
             [
              0.1111111111111111,
              "#46039f"
             ],
             [
              0.2222222222222222,
              "#7201a8"
             ],
             [
              0.3333333333333333,
              "#9c179e"
             ],
             [
              0.4444444444444444,
              "#bd3786"
             ],
             [
              0.5555555555555556,
              "#d8576b"
             ],
             [
              0.6666666666666666,
              "#ed7953"
             ],
             [
              0.7777777777777778,
              "#fb9f3a"
             ],
             [
              0.8888888888888888,
              "#fdca26"
             ],
             [
              1,
              "#f0f921"
             ]
            ],
            "type": "histogram2dcontour"
           }
          ],
          "mesh3d": [
           {
            "colorbar": {
             "outlinewidth": 0,
             "ticks": ""
            },
            "type": "mesh3d"
           }
          ],
          "parcoords": [
           {
            "line": {
             "colorbar": {
              "outlinewidth": 0,
              "ticks": ""
             }
            },
            "type": "parcoords"
           }
          ],
          "pie": [
           {
            "automargin": true,
            "type": "pie"
           }
          ],
          "scatter": [
           {
            "marker": {
             "colorbar": {
              "outlinewidth": 0,
              "ticks": ""
             }
            },
            "type": "scatter"
           }
          ],
          "scatter3d": [
           {
            "line": {
             "colorbar": {
              "outlinewidth": 0,
              "ticks": ""
             }
            },
            "marker": {
             "colorbar": {
              "outlinewidth": 0,
              "ticks": ""
             }
            },
            "type": "scatter3d"
           }
          ],
          "scattercarpet": [
           {
            "marker": {
             "colorbar": {
              "outlinewidth": 0,
              "ticks": ""
             }
            },
            "type": "scattercarpet"
           }
          ],
          "scattergeo": [
           {
            "marker": {
             "colorbar": {
              "outlinewidth": 0,
              "ticks": ""
             }
            },
            "type": "scattergeo"
           }
          ],
          "scattergl": [
           {
            "marker": {
             "colorbar": {
              "outlinewidth": 0,
              "ticks": ""
             }
            },
            "type": "scattergl"
           }
          ],
          "scattermapbox": [
           {
            "marker": {
             "colorbar": {
              "outlinewidth": 0,
              "ticks": ""
             }
            },
            "type": "scattermapbox"
           }
          ],
          "scatterpolar": [
           {
            "marker": {
             "colorbar": {
              "outlinewidth": 0,
              "ticks": ""
             }
            },
            "type": "scatterpolar"
           }
          ],
          "scatterpolargl": [
           {
            "marker": {
             "colorbar": {
              "outlinewidth": 0,
              "ticks": ""
             }
            },
            "type": "scatterpolargl"
           }
          ],
          "scatterternary": [
           {
            "marker": {
             "colorbar": {
              "outlinewidth": 0,
              "ticks": ""
             }
            },
            "type": "scatterternary"
           }
          ],
          "surface": [
           {
            "colorbar": {
             "outlinewidth": 0,
             "ticks": ""
            },
            "colorscale": [
             [
              0,
              "#0d0887"
             ],
             [
              0.1111111111111111,
              "#46039f"
             ],
             [
              0.2222222222222222,
              "#7201a8"
             ],
             [
              0.3333333333333333,
              "#9c179e"
             ],
             [
              0.4444444444444444,
              "#bd3786"
             ],
             [
              0.5555555555555556,
              "#d8576b"
             ],
             [
              0.6666666666666666,
              "#ed7953"
             ],
             [
              0.7777777777777778,
              "#fb9f3a"
             ],
             [
              0.8888888888888888,
              "#fdca26"
             ],
             [
              1,
              "#f0f921"
             ]
            ],
            "type": "surface"
           }
          ],
          "table": [
           {
            "cells": {
             "fill": {
              "color": "#EBF0F8"
             },
             "line": {
              "color": "white"
             }
            },
            "header": {
             "fill": {
              "color": "#C8D4E3"
             },
             "line": {
              "color": "white"
             }
            },
            "type": "table"
           }
          ]
         },
         "layout": {
          "annotationdefaults": {
           "arrowcolor": "#2a3f5f",
           "arrowhead": 0,
           "arrowwidth": 1
          },
          "autotypenumbers": "strict",
          "coloraxis": {
           "colorbar": {
            "outlinewidth": 0,
            "ticks": ""
           }
          },
          "colorscale": {
           "diverging": [
            [
             0,
             "#8e0152"
            ],
            [
             0.1,
             "#c51b7d"
            ],
            [
             0.2,
             "#de77ae"
            ],
            [
             0.3,
             "#f1b6da"
            ],
            [
             0.4,
             "#fde0ef"
            ],
            [
             0.5,
             "#f7f7f7"
            ],
            [
             0.6,
             "#e6f5d0"
            ],
            [
             0.7,
             "#b8e186"
            ],
            [
             0.8,
             "#7fbc41"
            ],
            [
             0.9,
             "#4d9221"
            ],
            [
             1,
             "#276419"
            ]
           ],
           "sequential": [
            [
             0,
             "#0d0887"
            ],
            [
             0.1111111111111111,
             "#46039f"
            ],
            [
             0.2222222222222222,
             "#7201a8"
            ],
            [
             0.3333333333333333,
             "#9c179e"
            ],
            [
             0.4444444444444444,
             "#bd3786"
            ],
            [
             0.5555555555555556,
             "#d8576b"
            ],
            [
             0.6666666666666666,
             "#ed7953"
            ],
            [
             0.7777777777777778,
             "#fb9f3a"
            ],
            [
             0.8888888888888888,
             "#fdca26"
            ],
            [
             1,
             "#f0f921"
            ]
           ],
           "sequentialminus": [
            [
             0,
             "#0d0887"
            ],
            [
             0.1111111111111111,
             "#46039f"
            ],
            [
             0.2222222222222222,
             "#7201a8"
            ],
            [
             0.3333333333333333,
             "#9c179e"
            ],
            [
             0.4444444444444444,
             "#bd3786"
            ],
            [
             0.5555555555555556,
             "#d8576b"
            ],
            [
             0.6666666666666666,
             "#ed7953"
            ],
            [
             0.7777777777777778,
             "#fb9f3a"
            ],
            [
             0.8888888888888888,
             "#fdca26"
            ],
            [
             1,
             "#f0f921"
            ]
           ]
          },
          "colorway": [
           "#636efa",
           "#EF553B",
           "#00cc96",
           "#ab63fa",
           "#FFA15A",
           "#19d3f3",
           "#FF6692",
           "#B6E880",
           "#FF97FF",
           "#FECB52"
          ],
          "font": {
           "color": "#2a3f5f"
          },
          "geo": {
           "bgcolor": "white",
           "lakecolor": "white",
           "landcolor": "#E5ECF6",
           "showlakes": true,
           "showland": true,
           "subunitcolor": "white"
          },
          "hoverlabel": {
           "align": "left"
          },
          "hovermode": "closest",
          "mapbox": {
           "style": "light"
          },
          "paper_bgcolor": "white",
          "plot_bgcolor": "#E5ECF6",
          "polar": {
           "angularaxis": {
            "gridcolor": "white",
            "linecolor": "white",
            "ticks": ""
           },
           "bgcolor": "#E5ECF6",
           "radialaxis": {
            "gridcolor": "white",
            "linecolor": "white",
            "ticks": ""
           }
          },
          "scene": {
           "xaxis": {
            "backgroundcolor": "#E5ECF6",
            "gridcolor": "white",
            "gridwidth": 2,
            "linecolor": "white",
            "showbackground": true,
            "ticks": "",
            "zerolinecolor": "white"
           },
           "yaxis": {
            "backgroundcolor": "#E5ECF6",
            "gridcolor": "white",
            "gridwidth": 2,
            "linecolor": "white",
            "showbackground": true,
            "ticks": "",
            "zerolinecolor": "white"
           },
           "zaxis": {
            "backgroundcolor": "#E5ECF6",
            "gridcolor": "white",
            "gridwidth": 2,
            "linecolor": "white",
            "showbackground": true,
            "ticks": "",
            "zerolinecolor": "white"
           }
          },
          "shapedefaults": {
           "line": {
            "color": "#2a3f5f"
           }
          },
          "ternary": {
           "aaxis": {
            "gridcolor": "white",
            "linecolor": "white",
            "ticks": ""
           },
           "baxis": {
            "gridcolor": "white",
            "linecolor": "white",
            "ticks": ""
           },
           "bgcolor": "#E5ECF6",
           "caxis": {
            "gridcolor": "white",
            "linecolor": "white",
            "ticks": ""
           }
          },
          "title": {
           "x": 0.05
          },
          "xaxis": {
           "automargin": true,
           "gridcolor": "white",
           "linecolor": "white",
           "ticks": "",
           "title": {
            "standoff": 15
           },
           "zerolinecolor": "white",
           "zerolinewidth": 2
          },
          "yaxis": {
           "automargin": true,
           "gridcolor": "white",
           "linecolor": "white",
           "ticks": "",
           "title": {
            "standoff": 15
           },
           "zerolinecolor": "white",
           "zerolinewidth": 2
          }
         }
        },
        "xaxis": {
         "anchor": "y",
         "domain": [
          0,
          1
         ],
         "title": {
          "text": "value"
         }
        },
        "yaxis": {
         "anchor": "x",
         "domain": [
          0,
          1
         ],
         "title": {
          "text": "percent"
         }
        }
       }
      }
     },
     "metadata": {},
     "output_type": "display_data"
    }
   ],
   "source": [
    "px.histogram(\n",
    "        df.room_type, \n",
    "        histnorm='percent')"
   ]
  },
  {
   "cell_type": "markdown",
   "metadata": {},
   "source": []
  },
  {
   "cell_type": "code",
   "execution_count": 171,
   "metadata": {},
   "outputs": [
    {
     "data": {
      "application/vnd.plotly.v1+json": {
       "config": {
        "plotlyServerURL": "https://plot.ly"
       },
       "data": [
        {
         "customdata": [
          [
           "Entire home/apt",
           "http://www.airbnb.com/rooms/9018945",
           ""
          ],
          [
           "Entire home/apt",
           "http://www.airbnb.com/rooms/44087402",
           ""
          ],
          [
           "Entire home/apt",
           "http://www.airbnb.com/rooms/30008238",
           "6412200041509"
          ],
          [
           "Entire home/apt",
           "http://www.airbnb.com/rooms/50582066",
           "3"
          ],
          [
           "Entire home/apt",
           "http://www.airbnb.com/rooms/913348",
           "64122172650VS"
          ],
          [
           "Entire home/apt",
           "http://www.airbnb.com/rooms/50295878",
           ""
          ],
          [
           "Entire home/apt",
           "http://www.airbnb.com/rooms/39991402",
           ""
          ],
          [
           "Entire home/apt",
           "http://www.airbnb.com/rooms/49992273",
           ""
          ],
          [
           "Entire home/apt",
           "http://www.airbnb.com/rooms/31720299",
           ""
          ],
          [
           "Entire home/apt",
           "http://www.airbnb.com/rooms/50173663",
           "64122001942F6"
          ],
          [
           "Entire home/apt",
           "http://www.airbnb.com/rooms/36550012",
           "64122001082BA"
          ],
          [
           "Entire home/apt",
           "http://www.airbnb.com/rooms/48280147",
           ""
          ],
          [
           "Entire home/apt",
           "http://www.airbnb.com/rooms/44133724",
           "641220016532A"
          ],
          [
           "Entire home/apt",
           "http://www.airbnb.com/rooms/26471340",
           "64122182781TJ"
          ],
          [
           "Entire home/apt",
           "http://www.airbnb.com/rooms/744138",
           "64122182647RM"
          ],
          [
           "Entire home/apt",
           "http://www.airbnb.com/rooms/43058441",
           ""
          ],
          [
           "Entire home/apt",
           "http://www.airbnb.com/rooms/44584262",
           ""
          ],
          [
           "Entire home/apt",
           "http://www.airbnb.com/rooms/19763473",
           ""
          ],
          [
           "Entire home/apt",
           "http://www.airbnb.com/rooms/38420786",
           ""
          ],
          [
           "Entire home/apt",
           "http://www.airbnb.com/rooms/12769031",
           "64122 171751 YN"
          ],
          [
           "Entire home/apt",
           "http://www.airbnb.com/rooms/27820639",
           ""
          ],
          [
           "Entire home/apt",
           "http://www.airbnb.com/rooms/17809436",
           ""
          ],
          [
           "Entire home/apt",
           "http://www.airbnb.com/rooms/12900857",
           ""
          ],
          [
           "Entire home/apt",
           "http://www.airbnb.com/rooms/46404614",
           "64122182878RA"
          ],
          [
           "Entire home/apt",
           "http://www.airbnb.com/rooms/49475837",
           ""
          ],
          [
           "Entire home/apt",
           "http://www.airbnb.com/rooms/40642286",
           ""
          ],
          [
           "Entire home/apt",
           "http://www.airbnb.com/rooms/8934704",
           ""
          ],
          [
           "Entire home/apt",
           "http://www.airbnb.com/rooms/49084346",
           ""
          ],
          [
           "Entire home/apt",
           "http://www.airbnb.com/rooms/36480489",
           ""
          ],
          [
           "Entire home/apt",
           "http://www.airbnb.com/rooms/52217754",
           ""
          ],
          [
           "Entire home/apt",
           "http://www.airbnb.com/rooms/23678711",
           "6412200003673"
          ],
          [
           "Entire home/apt",
           "http://www.airbnb.com/rooms/42291837",
           "641220013277E"
          ],
          [
           "Entire home/apt",
           "http://www.airbnb.com/rooms/20317845",
           "6412200006628"
          ],
          [
           "Entire home/apt",
           "http://www.airbnb.com/rooms/50252825",
           ""
          ],
          [
           "Entire home/apt",
           "http://www.airbnb.com/rooms/34220853",
           ""
          ],
          [
           "Entire home/apt",
           "http://www.airbnb.com/rooms/20644237",
           "64122170173 SA"
          ],
          [
           "Entire home/apt",
           "http://www.airbnb.com/rooms/663153",
           ""
          ],
          [
           "Entire home/apt",
           "http://www.airbnb.com/rooms/29096457",
           "6412200139930"
          ],
          [
           "Entire home/apt",
           "http://www.airbnb.com/rooms/40150842",
           "64122000991EB"
          ],
          [
           "Entire home/apt",
           "http://www.airbnb.com/rooms/43856036",
           ""
          ],
          [
           "Entire home/apt",
           "http://www.airbnb.com/rooms/38439782",
           "3"
          ],
          [
           "Entire home/apt",
           "http://www.airbnb.com/rooms/6183228",
           "64122171301ZS"
          ],
          [
           "Entire home/apt",
           "http://www.airbnb.com/rooms/36397100",
           "6412200182691"
          ],
          [
           "Entire home/apt",
           "http://www.airbnb.com/rooms/43607365",
           ""
          ],
          [
           "Entire home/apt",
           "http://www.airbnb.com/rooms/17484693",
           ""
          ],
          [
           "Entire home/apt",
           "http://www.airbnb.com/rooms/51321774",
           "64122210474"
          ],
          [
           "Entire home/apt",
           "http://www.airbnb.com/rooms/43607015",
           "641220013759F"
          ],
          [
           "Entire home/apt",
           "http://www.airbnb.com/rooms/22662798",
           "64122182847TJ"
          ],
          [
           "Entire home/apt",
           "http://www.airbnb.com/rooms/50595675",
           ""
          ],
          [
           "Entire home/apt",
           "http://www.airbnb.com/rooms/6189590",
           "64122182792TJ"
          ],
          [
           "Entire home/apt",
           "http://www.airbnb.com/rooms/21127022",
           "6412200121119"
          ],
          [
           "Entire home/apt",
           "http://www.airbnb.com/rooms/48024575",
           "64122001837D3"
          ],
          [
           "Entire home/apt",
           "http://www.airbnb.com/rooms/32060475",
           "641220004798A"
          ],
          [
           "Entire home/apt",
           "http://www.airbnb.com/rooms/30528000",
           "6412200046430"
          ],
          [
           "Entire home/apt",
           "http://www.airbnb.com/rooms/43447953",
           "6412200135733"
          ],
          [
           "Entire home/apt",
           "http://www.airbnb.com/rooms/43769330",
           "6412200156673"
          ],
          [
           "Entire home/apt",
           "http://www.airbnb.com/rooms/44114732",
           "64122000202B0"
          ],
          [
           "Entire home/apt",
           "http://www.airbnb.com/rooms/33768886",
           "64122000684B2"
          ],
          [
           "Entire home/apt",
           "http://www.airbnb.com/rooms/18679128",
           "64122000696FA"
          ],
          [
           "Entire home/apt",
           "http://www.airbnb.com/rooms/41875446",
           ""
          ],
          [
           "Entire home/apt",
           "http://www.airbnb.com/rooms/49330258",
           "2"
          ],
          [
           "Entire home/apt",
           "http://www.airbnb.com/rooms/49706193",
           "6412200176889"
          ],
          [
           "Entire home/apt",
           "http://www.airbnb.com/rooms/5776607",
           "641220001009F"
          ],
          [
           "Entire home/apt",
           "http://www.airbnb.com/rooms/46770288",
           "64122001800F4"
          ],
          [
           "Entire home/apt",
           "http://www.airbnb.com/rooms/42480014",
           ""
          ],
          [
           "Entire home/apt",
           "http://www.airbnb.com/rooms/35507791",
           ""
          ],
          [
           "Entire home/apt",
           "http://www.airbnb.com/rooms/35020755",
           ""
          ],
          [
           "Entire home/apt",
           "http://www.airbnb.com/rooms/48754390",
           ""
          ],
          [
           "Entire home/apt",
           "http://www.airbnb.com/rooms/680185",
           "6412200082971"
          ],
          [
           "Entire home/apt",
           "http://www.airbnb.com/rooms/16715018",
           "64122 182610 ZM"
          ],
          [
           "Entire home/apt",
           "http://www.airbnb.com/rooms/33526014",
           "6412200063691"
          ],
          [
           "Entire home/apt",
           "http://www.airbnb.com/rooms/43587757",
           ""
          ],
          [
           "Entire home/apt",
           "http://www.airbnb.com/rooms/44955376",
           ""
          ],
          [
           "Entire home/apt",
           "http://www.airbnb.com/rooms/50323556",
           ""
          ],
          [
           "Entire home/apt",
           "http://www.airbnb.com/rooms/10422658",
           ""
          ],
          [
           "Entire home/apt",
           "http://www.airbnb.com/rooms/35701427",
           ""
          ],
          [
           "Entire home/apt",
           "http://www.airbnb.com/rooms/15871375",
           ""
          ],
          [
           "Entire home/apt",
           "http://www.airbnb.com/rooms/18422388",
           ""
          ],
          [
           "Entire home/apt",
           "http://www.airbnb.com/rooms/49725636",
           "64122002028A7"
          ],
          [
           "Entire home/apt",
           "http://www.airbnb.com/rooms/43964394",
           "64122001534B2"
          ],
          [
           "Entire home/apt",
           "http://www.airbnb.com/rooms/18583323",
           "64122172207 RJ"
          ],
          [
           "Entire home/apt",
           "http://www.airbnb.com/rooms/49720218",
           "3"
          ],
          [
           "Entire home/apt",
           "http://www.airbnb.com/rooms/9833149",
           "64122 171993 YM"
          ],
          [
           "Entire home/apt",
           "http://www.airbnb.com/rooms/19540151",
           "6412200085926"
          ],
          [
           "Entire home/apt",
           "http://www.airbnb.com/rooms/36206133",
           "6412200096967"
          ],
          [
           "Entire home/apt",
           "http://www.airbnb.com/rooms/20537370",
           "6412200023059"
          ],
          [
           "Entire home/apt",
           "http://www.airbnb.com/rooms/40526228",
           ""
          ],
          [
           "Entire home/apt",
           "http://www.airbnb.com/rooms/39827154",
           "64122 172291 ZA"
          ],
          [
           "Entire home/apt",
           "http://www.airbnb.com/rooms/14411963",
           ""
          ],
          [
           "Entire home/apt",
           "http://www.airbnb.com/rooms/25441938",
           ""
          ],
          [
           "Entire home/apt",
           "http://www.airbnb.com/rooms/51097054",
           ""
          ],
          [
           "Entire home/apt",
           "http://www.airbnb.com/rooms/24613490",
           ""
          ],
          [
           "Entire home/apt",
           "http://www.airbnb.com/rooms/49331210",
           "2"
          ],
          [
           "Entire home/apt",
           "http://www.airbnb.com/rooms/33633268",
           "641220008203B"
          ],
          [
           "Entire home/apt",
           "http://www.airbnb.com/rooms/51114157",
           "6412200229027"
          ],
          [
           "Entire home/apt",
           "http://www.airbnb.com/rooms/42107078",
           "64122001389F3"
          ],
          [
           "Entire home/apt",
           "http://www.airbnb.com/rooms/50448905",
           "6412200023059"
          ],
          [
           "Entire home/apt",
           "http://www.airbnb.com/rooms/43146781",
           ""
          ],
          [
           "Entire home/apt",
           "http://www.airbnb.com/rooms/51416589",
           "641220021041C"
          ],
          [
           "Entire home/apt",
           "http://www.airbnb.com/rooms/2519893",
           "64122000309DF"
          ],
          [
           "Entire home/apt",
           "http://www.airbnb.com/rooms/34432848",
           "6412200076545"
          ],
          [
           "Entire home/apt",
           "http://www.airbnb.com/rooms/19786084",
           "641220000195DB"
          ],
          [
           "Entire home/apt",
           "http://www.airbnb.com/rooms/2428567",
           ""
          ],
          [
           "Entire home/apt",
           "http://www.airbnb.com/rooms/49330931",
           "3"
          ],
          [
           "Entire home/apt",
           "http://www.airbnb.com/rooms/49496432",
           "6412200200729"
          ],
          [
           "Entire home/apt",
           "http://www.airbnb.com/rooms/50433682",
           "64122002127A6"
          ],
          [
           "Entire home/apt",
           "http://www.airbnb.com/rooms/50330518",
           ""
          ],
          [
           "Entire home/apt",
           "http://www.airbnb.com/rooms/50751415",
           ""
          ],
          [
           "Entire home/apt",
           "http://www.airbnb.com/rooms/18985030",
           ""
          ],
          [
           "Entire home/apt",
           "http://www.airbnb.com/rooms/20416682",
           ""
          ],
          [
           "Entire home/apt",
           "http://www.airbnb.com/rooms/7571180",
           ""
          ],
          [
           "Entire home/apt",
           "http://www.airbnb.com/rooms/4294607",
           "6412200022641"
          ],
          [
           "Entire home/apt",
           "http://www.airbnb.com/rooms/31705940",
           ""
          ],
          [
           "Entire home/apt",
           "http://www.airbnb.com/rooms/11620548",
           ""
          ],
          [
           "Entire home/apt",
           "http://www.airbnb.com/rooms/25076888",
           "62122 182891 TA"
          ],
          [
           "Entire home/apt",
           "http://www.airbnb.com/rooms/23014846",
           ""
          ],
          [
           "Entire home/apt",
           "http://www.airbnb.com/rooms/34564918",
           "641220006726A"
          ],
          [
           "Entire home/apt",
           "http://www.airbnb.com/rooms/23873302",
           "6412200017563"
          ],
          [
           "Entire home/apt",
           "http://www.airbnb.com/rooms/2776136",
           "3-0705"
          ],
          [
           "Entire home/apt",
           "http://www.airbnb.com/rooms/48688590",
           "64122171880VS"
          ],
          [
           "Entire home/apt",
           "http://www.airbnb.com/rooms/3044322",
           ""
          ],
          [
           "Entire home/apt",
           "http://www.airbnb.com/rooms/32414913",
           "641220005399E"
          ],
          [
           "Entire home/apt",
           "http://www.airbnb.com/rooms/50771553",
           "6412200206586"
          ],
          [
           "Entire home/apt",
           "http://www.airbnb.com/rooms/3203911",
           ""
          ],
          [
           "Entire home/apt",
           "http://www.airbnb.com/rooms/3696114",
           "6412200056953"
          ],
          [
           "Entire home/apt",
           "http://www.airbnb.com/rooms/49978213",
           ""
          ],
          [
           "Entire home/apt",
           "http://www.airbnb.com/rooms/8184660",
           ""
          ],
          [
           "Entire home/apt",
           "http://www.airbnb.com/rooms/21922191",
           "6412200023889"
          ],
          [
           "Entire home/apt",
           "http://www.airbnb.com/rooms/21987146",
           ""
          ],
          [
           "Entire home/apt",
           "http://www.airbnb.com/rooms/51685903",
           ""
          ],
          [
           "Entire home/apt",
           "http://www.airbnb.com/rooms/18373706",
           ""
          ],
          [
           "Entire home/apt",
           "http://www.airbnb.com/rooms/44054650",
           ""
          ],
          [
           "Entire home/apt",
           "http://www.airbnb.com/rooms/24721541",
           "64122182341TJ"
          ],
          [
           "Entire home/apt",
           "http://www.airbnb.com/rooms/27570228",
           "64122001402EC"
          ],
          [
           "Entire home/apt",
           "http://www.airbnb.com/rooms/51420718",
           "6412200166572"
          ],
          [
           "Entire home/apt",
           "http://www.airbnb.com/rooms/44053092",
           "Numéro d’enregistrement 64122001779CB"
          ],
          [
           "Entire home/apt",
           "http://www.airbnb.com/rooms/25199426",
           ""
          ],
          [
           "Entire home/apt",
           "http://www.airbnb.com/rooms/33059466",
           "64122001487EC"
          ],
          [
           "Entire home/apt",
           "http://www.airbnb.com/rooms/3445009",
           ""
          ],
          [
           "Entire home/apt",
           "http://www.airbnb.com/rooms/12554030",
           ""
          ],
          [
           "Entire home/apt",
           "http://www.airbnb.com/rooms/48763419",
           "641220023052C"
          ],
          [
           "Entire home/apt",
           "http://www.airbnb.com/rooms/43738065",
           ""
          ],
          [
           "Entire home/apt",
           "http://www.airbnb.com/rooms/48901391",
           "641220019647B"
          ],
          [
           "Entire home/apt",
           "http://www.airbnb.com/rooms/49742491",
           "3"
          ],
          [
           "Entire home/apt",
           "http://www.airbnb.com/rooms/49331437",
           "2"
          ],
          [
           "Entire home/apt",
           "http://www.airbnb.com/rooms/49631339",
           ""
          ],
          [
           "Entire home/apt",
           "http://www.airbnb.com/rooms/25385796",
           "6412200016839"
          ],
          [
           "Entire home/apt",
           "http://www.airbnb.com/rooms/50239302",
           "6412200216173"
          ],
          [
           "Entire home/apt",
           "http://www.airbnb.com/rooms/45571937",
           "641220003191C"
          ],
          [
           "Entire home/apt",
           "http://www.airbnb.com/rooms/20403354",
           ""
          ],
          [
           "Entire home/apt",
           "http://www.airbnb.com/rooms/32522917",
           ""
          ],
          [
           "Entire home/apt",
           "http://www.airbnb.com/rooms/27882797",
           ""
          ],
          [
           "Entire home/apt",
           "http://www.airbnb.com/rooms/5981693",
           ""
          ],
          [
           "Entire home/apt",
           "http://www.airbnb.com/rooms/50739659",
           "64122002172B5"
          ],
          [
           "Entire home/apt",
           "http://www.airbnb.com/rooms/33762472",
           "6412200101527"
          ],
          [
           "Entire home/apt",
           "http://www.airbnb.com/rooms/48443573",
           ""
          ],
          [
           "Entire home/apt",
           "http://www.airbnb.com/rooms/12733075",
           ""
          ],
          [
           "Entire home/apt",
           "http://www.airbnb.com/rooms/13483465",
           "64122000695F4"
          ],
          [
           "Entire home/apt",
           "http://www.airbnb.com/rooms/51183938",
           "64122002233CF"
          ],
          [
           "Entire home/apt",
           "http://www.airbnb.com/rooms/17435137",
           ""
          ],
          [
           "Entire home/apt",
           "http://www.airbnb.com/rooms/39404734",
           "64122000254E9"
          ],
          [
           "Entire home/apt",
           "http://www.airbnb.com/rooms/16791945",
           ""
          ],
          [
           "Entire home/apt",
           "http://www.airbnb.com/rooms/50985163",
           ""
          ],
          [
           "Entire home/apt",
           "http://www.airbnb.com/rooms/1220244",
           "64122 171558 RS"
          ],
          [
           "Entire home/apt",
           "http://www.airbnb.com/rooms/38890841",
           "6412200121637"
          ],
          [
           "Entire home/apt",
           "http://www.airbnb.com/rooms/7051171",
           ""
          ],
          [
           "Entire home/apt",
           "http://www.airbnb.com/rooms/41907913",
           ""
          ],
          [
           "Entire home/apt",
           "http://www.airbnb.com/rooms/3551591",
           "64122182536QM"
          ],
          [
           "Entire home/apt",
           "http://www.airbnb.com/rooms/50763044",
           "6412200221357"
          ],
          [
           "Entire home/apt",
           "http://www.airbnb.com/rooms/13779622",
           ""
          ],
          [
           "Entire home/apt",
           "http://www.airbnb.com/rooms/13448175",
           ""
          ],
          [
           "Entire home/apt",
           "http://www.airbnb.com/rooms/24741468",
           ""
          ],
          [
           "Entire home/apt",
           "http://www.airbnb.com/rooms/23476018",
           "641220005684D"
          ],
          [
           "Entire home/apt",
           "http://www.airbnb.com/rooms/43812511",
           ""
          ],
          [
           "Entire home/apt",
           "http://www.airbnb.com/rooms/12193622",
           ""
          ],
          [
           "Entire home/apt",
           "http://www.airbnb.com/rooms/3733730",
           ""
          ],
          [
           "Entire home/apt",
           "http://www.airbnb.com/rooms/16870254",
           ""
          ],
          [
           "Entire home/apt",
           "http://www.airbnb.com/rooms/49445082",
           "6412200161751"
          ],
          [
           "Entire home/apt",
           "http://www.airbnb.com/rooms/37281560",
           "64122001048ED"
          ],
          [
           "Entire home/apt",
           "http://www.airbnb.com/rooms/6631911",
           ""
          ],
          [
           "Entire home/apt",
           "http://www.airbnb.com/rooms/30396853",
           "14000004*02"
          ],
          [
           "Entire home/apt",
           "http://www.airbnb.com/rooms/19328006",
           "64125000210E9"
          ],
          [
           "Entire home/apt",
           "http://www.airbnb.com/rooms/52768736",
           "64122001676B4"
          ],
          [
           "Entire home/apt",
           "http://www.airbnb.com/rooms/49903649",
           ""
          ],
          [
           "Entire home/apt",
           "http://www.airbnb.com/rooms/52807129",
           ""
          ],
          [
           "Entire home/apt",
           "http://www.airbnb.com/rooms/49331021",
           "2"
          ],
          [
           "Entire home/apt",
           "http://www.airbnb.com/rooms/38219821",
           "2"
          ],
          [
           "Entire home/apt",
           "http://www.airbnb.com/rooms/49812724",
           ""
          ],
          [
           "Entire home/apt",
           "http://www.airbnb.com/rooms/18787534",
           "64122000889DA"
          ],
          [
           "Entire home/apt",
           "http://www.airbnb.com/rooms/26524700",
           "641220003642B"
          ],
          [
           "Entire home/apt",
           "http://www.airbnb.com/rooms/781465",
           ""
          ],
          [
           "Entire home/apt",
           "http://www.airbnb.com/rooms/18884144",
           ""
          ],
          [
           "Entire home/apt",
           "http://www.airbnb.com/rooms/20086722",
           "6412200140917"
          ],
          [
           "Entire home/apt",
           "http://www.airbnb.com/rooms/44158490",
           ""
          ],
          [
           "Entire home/apt",
           "http://www.airbnb.com/rooms/36386386",
           "6412200071724"
          ],
          [
           "Entire home/apt",
           "http://www.airbnb.com/rooms/52356490",
           ""
          ],
          [
           "Entire home/apt",
           "http://www.airbnb.com/rooms/25798936",
           "64122 182732 NJ"
          ],
          [
           "Entire home/apt",
           "http://www.airbnb.com/rooms/20411039",
           ""
          ],
          [
           "Entire home/apt",
           "http://www.airbnb.com/rooms/21407600",
           "64122172246YS"
          ],
          [
           "Entire home/apt",
           "http://www.airbnb.com/rooms/50122237",
           ""
          ],
          [
           "Entire home/apt",
           "http://www.airbnb.com/rooms/20415630",
           "641220009623D"
          ],
          [
           "Entire home/apt",
           "http://www.airbnb.com/rooms/48895763",
           ""
          ],
          [
           "Entire home/apt",
           "http://www.airbnb.com/rooms/48837967",
           ""
          ],
          [
           "Entire home/apt",
           "http://www.airbnb.com/rooms/28795580",
           "6412200003155"
          ],
          [
           "Entire home/apt",
           "http://www.airbnb.com/rooms/13967073",
           ""
          ],
          [
           "Entire home/apt",
           "http://www.airbnb.com/rooms/16957514",
           "2"
          ],
          [
           "Entire home/apt",
           "http://www.airbnb.com/rooms/49330673",
           "3"
          ],
          [
           "Entire home/apt",
           "http://www.airbnb.com/rooms/16957483",
           "3"
          ],
          [
           "Entire home/apt",
           "http://www.airbnb.com/rooms/26561585",
           ""
          ],
          [
           "Entire home/apt",
           "http://www.airbnb.com/rooms/47980261",
           "64122001871A0"
          ],
          [
           "Entire home/apt",
           "http://www.airbnb.com/rooms/35637652",
           "64122001036A5"
          ],
          [
           "Entire home/apt",
           "http://www.airbnb.com/rooms/20416813",
           ""
          ],
          [
           "Entire home/apt",
           "http://www.airbnb.com/rooms/45552395",
           "641220016729C"
          ],
          [
           "Entire home/apt",
           "http://www.airbnb.com/rooms/36043421",
           "641220009359A"
          ],
          [
           "Entire home/apt",
           "http://www.airbnb.com/rooms/4066499",
           ""
          ],
          [
           "Entire home/apt",
           "http://www.airbnb.com/rooms/42186581",
           "641220010696C"
          ],
          [
           "Entire home/apt",
           "http://www.airbnb.com/rooms/48391313",
           "641220013982A"
          ],
          [
           "Entire home/apt",
           "http://www.airbnb.com/rooms/50321291",
           "641220022145D"
          ],
          [
           "Entire home/apt",
           "http://www.airbnb.com/rooms/6609982",
           ""
          ],
          [
           "Entire home/apt",
           "http://www.airbnb.com/rooms/36473818",
           "6412200201765"
          ],
          [
           "Entire home/apt",
           "http://www.airbnb.com/rooms/50612160",
           ""
          ],
          [
           "Entire home/apt",
           "http://www.airbnb.com/rooms/32035574",
           ""
          ],
          [
           "Entire home/apt",
           "http://www.airbnb.com/rooms/44672920",
           "641220016278D"
          ],
          [
           "Entire home/apt",
           "http://www.airbnb.com/rooms/3040607",
           "64122 182436 PJ"
          ],
          [
           "Entire home/apt",
           "http://www.airbnb.com/rooms/16957497",
           "3"
          ],
          [
           "Entire home/apt",
           "http://www.airbnb.com/rooms/42795203",
           "2"
          ],
          [
           "Entire home/apt",
           "http://www.airbnb.com/rooms/16957522",
           "3"
          ],
          [
           "Entire home/apt",
           "http://www.airbnb.com/rooms/50081344",
           "64122001974B7"
          ],
          [
           "Entire home/apt",
           "http://www.airbnb.com/rooms/25330703",
           "64122182692sj"
          ],
          [
           "Entire home/apt",
           "http://www.airbnb.com/rooms/47831545",
           ""
          ],
          [
           "Entire home/apt",
           "http://www.airbnb.com/rooms/1240053",
           "64122182685xm"
          ],
          [
           "Entire home/apt",
           "http://www.airbnb.com/rooms/25833611",
           "641220001776F"
          ],
          [
           "Entire home/apt",
           "http://www.airbnb.com/rooms/33264724",
           "64122170703VS"
          ],
          [
           "Entire home/apt",
           "http://www.airbnb.com/rooms/23629103",
           ""
          ],
          [
           "Entire home/apt",
           "http://www.airbnb.com/rooms/1197701",
           "6412200046848"
          ],
          [
           "Entire home/apt",
           "http://www.airbnb.com/rooms/6255589",
           ""
          ],
          [
           "Entire home/apt",
           "http://www.airbnb.com/rooms/29122745",
           "64122000650E5"
          ],
          [
           "Entire home/apt",
           "http://www.airbnb.com/rooms/29895066",
           "64122171932RS"
          ],
          [
           "Entire home/apt",
           "http://www.airbnb.com/rooms/47246862",
           ""
          ],
          [
           "Entire home/apt",
           "http://www.airbnb.com/rooms/18924525",
           "641220013930C"
          ],
          [
           "Entire home/apt",
           "http://www.airbnb.com/rooms/5974555",
           ""
          ],
          [
           "Entire home/apt",
           "http://www.airbnb.com/rooms/52790410",
           ""
          ],
          [
           "Entire home/apt",
           "http://www.airbnb.com/rooms/1701412",
           "6412200022641"
          ],
          [
           "Entire home/apt",
           "http://www.airbnb.com/rooms/24753671",
           "6412200013572"
          ],
          [
           "Entire home/apt",
           "http://www.airbnb.com/rooms/49094219",
           ""
          ],
          [
           "Entire home/apt",
           "http://www.airbnb.com/rooms/16957520",
           "3"
          ],
          [
           "Entire home/apt",
           "http://www.airbnb.com/rooms/52543437",
           "2"
          ],
          [
           "Entire home/apt",
           "http://www.airbnb.com/rooms/49327948",
           "3"
          ],
          [
           "Entire home/apt",
           "http://www.airbnb.com/rooms/25441842",
           "2"
          ],
          [
           "Entire home/apt",
           "http://www.airbnb.com/rooms/48103344",
           ""
          ],
          [
           "Entire home/apt",
           "http://www.airbnb.com/rooms/34192245",
           "64122000710F9"
          ],
          [
           "Entire home/apt",
           "http://www.airbnb.com/rooms/42702309",
           ""
          ],
          [
           "Entire home/apt",
           "http://www.airbnb.com/rooms/24741339",
           ""
          ],
          [
           "Entire home/apt",
           "http://www.airbnb.com/rooms/44428724",
           ""
          ],
          [
           "Entire home/apt",
           "http://www.airbnb.com/rooms/47774608",
           ""
          ],
          [
           "Entire home/apt",
           "http://www.airbnb.com/rooms/514652",
           ""
          ],
          [
           "Entire home/apt",
           "http://www.airbnb.com/rooms/20467323",
           ""
          ],
          [
           "Entire home/apt",
           "http://www.airbnb.com/rooms/24435727",
           "64122 171667 QN"
          ],
          [
           "Entire home/apt",
           "http://www.airbnb.com/rooms/45306719",
           ""
          ],
          [
           "Entire home/apt",
           "http://www.airbnb.com/rooms/22184545",
           "64122172433YD"
          ],
          [
           "Entire home/apt",
           "http://www.airbnb.com/rooms/48899192",
           "6412200202595"
          ],
          [
           "Entire home/apt",
           "http://www.airbnb.com/rooms/30691588",
           ""
          ],
          [
           "Entire home/apt",
           "http://www.airbnb.com/rooms/48765206",
           ""
          ],
          [
           "Entire home/apt",
           "http://www.airbnb.com/rooms/51207676",
           ""
          ],
          [
           "Entire home/apt",
           "http://www.airbnb.com/rooms/7210504",
           ""
          ],
          [
           "Entire home/apt",
           "http://www.airbnb.com/rooms/52545535",
           ""
          ],
          [
           "Entire home/apt",
           "http://www.airbnb.com/rooms/48252114",
           ""
          ],
          [
           "Entire home/apt",
           "http://www.airbnb.com/rooms/50427091",
           "641220018657C"
          ],
          [
           "Entire home/apt",
           "http://www.airbnb.com/rooms/14435191",
           ""
          ],
          [
           "Entire home/apt",
           "http://www.airbnb.com/rooms/51162645",
           ""
          ],
          [
           "Entire home/apt",
           "http://www.airbnb.com/rooms/35084584",
           "641220009592B"
          ],
          [
           "Entire home/apt",
           "http://www.airbnb.com/rooms/13241893",
           "641220003243A"
          ],
          [
           "Entire home/apt",
           "http://www.airbnb.com/rooms/14687284",
           "6412200210522"
          ],
          [
           "Entire home/apt",
           "http://www.airbnb.com/rooms/51835062",
           ""
          ],
          [
           "Entire home/apt",
           "http://www.airbnb.com/rooms/43696068",
           ""
          ],
          [
           "Entire home/apt",
           "http://www.airbnb.com/rooms/50694994",
           "641220022881B"
          ],
          [
           "Entire home/apt",
           "http://www.airbnb.com/rooms/1241427",
           "64122182853NJ"
          ],
          [
           "Entire home/apt",
           "http://www.airbnb.com/rooms/21987243",
           ""
          ],
          [
           "Entire home/apt",
           "http://www.airbnb.com/rooms/51277495",
           "6412200206586"
          ],
          [
           "Entire home/apt",
           "http://www.airbnb.com/rooms/2312867",
           "64122182684WM"
          ],
          [
           "Entire home/apt",
           "http://www.airbnb.com/rooms/48558077",
           "MT064122210046"
          ],
          [
           "Entire home/apt",
           "http://www.airbnb.com/rooms/6967560",
           "64122 182884 YA"
          ],
          [
           "Entire home/apt",
           "http://www.airbnb.com/rooms/45168344",
           "64122001631A5"
          ],
          [
           "Entire home/apt",
           "http://www.airbnb.com/rooms/27642524",
           ""
          ],
          [
           "Entire home/apt",
           "http://www.airbnb.com/rooms/52526176",
           "641220023083E"
          ],
          [
           "Entire home/apt",
           "http://www.airbnb.com/rooms/43050034",
           ""
          ],
          [
           "Entire home/apt",
           "http://www.airbnb.com/rooms/17781935",
           "64122172570 RS"
          ],
          [
           "Entire home/apt",
           "http://www.airbnb.com/rooms/50747291",
           "7412200123191"
          ],
          [
           "Entire home/apt",
           "http://www.airbnb.com/rooms/49661589",
           ""
          ],
          [
           "Entire home/apt",
           "http://www.airbnb.com/rooms/19714637",
           "641220000387F"
          ],
          [
           "Entire home/apt",
           "http://www.airbnb.com/rooms/6704668",
           ""
          ],
          [
           "Entire home/apt",
           "http://www.airbnb.com/rooms/48066835",
           "641220018709A"
          ],
          [
           "Entire home/apt",
           "http://www.airbnb.com/rooms/43447948",
           "6412200142889"
          ],
          [
           "Entire home/apt",
           "http://www.airbnb.com/rooms/26990055",
           "64122182836TJ"
          ],
          [
           "Entire home/apt",
           "http://www.airbnb.com/rooms/3146424",
           ""
          ],
          [
           "Entire home/apt",
           "http://www.airbnb.com/rooms/49671686",
           "MT064122210298"
          ],
          [
           "Entire home/apt",
           "http://www.airbnb.com/rooms/13772485",
           ""
          ],
          [
           "Entire home/apt",
           "http://www.airbnb.com/rooms/50668809",
           ""
          ],
          [
           "Entire home/apt",
           "http://www.airbnb.com/rooms/36294903",
           ""
          ],
          [
           "Entire home/apt",
           "http://www.airbnb.com/rooms/49219717",
           ""
          ],
          [
           "Entire home/apt",
           "http://www.airbnb.com/rooms/37988016",
           ""
          ],
          [
           "Entire home/apt",
           "http://www.airbnb.com/rooms/10716840",
           ""
          ],
          [
           "Entire home/apt",
           "http://www.airbnb.com/rooms/43868353",
           ""
          ],
          [
           "Entire home/apt",
           "http://www.airbnb.com/rooms/48311823",
           ""
          ],
          [
           "Entire home/apt",
           "http://www.airbnb.com/rooms/18237954",
           ""
          ],
          [
           "Entire home/apt",
           "http://www.airbnb.com/rooms/50719800",
           ""
          ],
          [
           "Entire home/apt",
           "http://www.airbnb.com/rooms/51897877",
           "6464122001545F4"
          ],
          [
           "Entire home/apt",
           "http://www.airbnb.com/rooms/37027128",
           ""
          ],
          [
           "Entire home/apt",
           "http://www.airbnb.com/rooms/51255535",
           ""
          ],
          [
           "Entire home/apt",
           "http://www.airbnb.com/rooms/43258070",
           ""
          ],
          [
           "Entire home/apt",
           "http://www.airbnb.com/rooms/21904424",
           ""
          ],
          [
           "Entire home/apt",
           "http://www.airbnb.com/rooms/43975815",
           "64122001535B8"
          ],
          [
           "Entire home/apt",
           "http://www.airbnb.com/rooms/18831229",
           ""
          ],
          [
           "Entire home/apt",
           "http://www.airbnb.com/rooms/1599030",
           ""
          ],
          [
           "Entire home/apt",
           "http://www.airbnb.com/rooms/10029525",
           ""
          ],
          [
           "Entire home/apt",
           "http://www.airbnb.com/rooms/26580157",
           ""
          ],
          [
           "Entire home/apt",
           "http://www.airbnb.com/rooms/18618641",
           ""
          ],
          [
           "Entire home/apt",
           "http://www.airbnb.com/rooms/36164839",
           "641220018890D"
          ],
          [
           "Entire home/apt",
           "http://www.airbnb.com/rooms/16544211",
           ""
          ],
          [
           "Entire home/apt",
           "http://www.airbnb.com/rooms/20403342",
           ""
          ],
          [
           "Entire home/apt",
           "http://www.airbnb.com/rooms/34487019",
           ""
          ],
          [
           "Entire home/apt",
           "http://www.airbnb.com/rooms/24955642",
           ""
          ],
          [
           "Entire home/apt",
           "http://www.airbnb.com/rooms/50353603",
           ""
          ],
          [
           "Entire home/apt",
           "http://www.airbnb.com/rooms/8019766",
           ""
          ],
          [
           "Entire home/apt",
           "http://www.airbnb.com/rooms/52880408",
           ""
          ],
          [
           "Entire home/apt",
           "http://www.airbnb.com/rooms/50061733",
           ""
          ],
          [
           "Entire home/apt",
           "http://www.airbnb.com/rooms/15703594",
           "64122 172298 VA"
          ],
          [
           "Entire home/apt",
           "http://www.airbnb.com/rooms/36414166",
           ""
          ],
          [
           "Entire home/apt",
           "http://www.airbnb.com/rooms/48217774",
           ""
          ],
          [
           "Entire home/apt",
           "http://www.airbnb.com/rooms/33572882",
           ""
          ],
          [
           "Entire home/apt",
           "http://www.airbnb.com/rooms/10913666",
           ""
          ],
          [
           "Entire home/apt",
           "http://www.airbnb.com/rooms/47353317",
           "64122001583D9"
          ],
          [
           "Entire home/apt",
           "http://www.airbnb.com/rooms/20403444",
           ""
          ],
          [
           "Entire home/apt",
           "http://www.airbnb.com/rooms/6483286",
           "64122182506TM"
          ],
          [
           "Entire home/apt",
           "http://www.airbnb.com/rooms/50916010",
           ""
          ],
          [
           "Entire home/apt",
           "http://www.airbnb.com/rooms/48038071",
           ""
          ],
          [
           "Entire home/apt",
           "http://www.airbnb.com/rooms/42821796",
           "641220023000E"
          ],
          [
           "Entire home/apt",
           "http://www.airbnb.com/rooms/50303904",
           "641220018942B"
          ],
          [
           "Entire home/apt",
           "http://www.airbnb.com/rooms/50712383",
           ""
          ],
          [
           "Entire home/apt",
           "http://www.airbnb.com/rooms/49310991",
           ""
          ],
          [
           "Entire home/apt",
           "http://www.airbnb.com/rooms/43918415",
           "6412200155119"
          ],
          [
           "Entire home/apt",
           "http://www.airbnb.com/rooms/24648162",
           "64122001401E6"
          ],
          [
           "Entire home/apt",
           "http://www.airbnb.com/rooms/48708056",
           ""
          ],
          [
           "Entire home/apt",
           "http://www.airbnb.com/rooms/43970124",
           "641220017501D"
          ],
          [
           "Entire home/apt",
           "http://www.airbnb.com/rooms/33607270",
           "641220006254F"
          ],
          [
           "Entire home/apt",
           "http://www.airbnb.com/rooms/6219400",
           ""
          ],
          [
           "Entire home/apt",
           "http://www.airbnb.com/rooms/49853944",
           ""
          ],
          [
           "Entire home/apt",
           "http://www.airbnb.com/rooms/27503667",
           "64122000589CB"
          ],
          [
           "Entire home/apt",
           "http://www.airbnb.com/rooms/13610502",
           "6412200102251"
          ],
          [
           "Entire home/apt",
           "http://www.airbnb.com/rooms/48764279",
           "6412200230632"
          ],
          [
           "Entire home/apt",
           "http://www.airbnb.com/rooms/16265685",
           "64122000111E1"
          ],
          [
           "Entire home/apt",
           "http://www.airbnb.com/rooms/19637718",
           "MT064122210219"
          ],
          [
           "Entire home/apt",
           "http://www.airbnb.com/rooms/37269074",
           "64122182762XJ"
          ],
          [
           "Entire home/apt",
           "http://www.airbnb.com/rooms/3885759",
           ""
          ],
          [
           "Entire home/apt",
           "http://www.airbnb.com/rooms/29147179",
           "64122182888QA"
          ],
          [
           "Entire home/apt",
           "http://www.airbnb.com/rooms/48679147",
           ""
          ],
          [
           "Entire home/apt",
           "http://www.airbnb.com/rooms/14779318",
           ""
          ],
          [
           "Entire home/apt",
           "http://www.airbnb.com/rooms/46371957",
           "1220260643"
          ],
          [
           "Entire home/apt",
           "http://www.airbnb.com/rooms/32651511",
           "641220005653B"
          ],
          [
           "Entire home/apt",
           "http://www.airbnb.com/rooms/50808847",
           "641220020668C"
          ],
          [
           "Entire home/apt",
           "http://www.airbnb.com/rooms/48228656",
           ""
          ],
          [
           "Entire home/apt",
           "http://www.airbnb.com/rooms/20131485",
           "64122.172.302.Z.A"
          ],
          [
           "Entire home/apt",
           "http://www.airbnb.com/rooms/3526332",
           ""
          ],
          [
           "Entire home/apt",
           "http://www.airbnb.com/rooms/33933275",
           "641220004611E"
          ],
          [
           "Entire home/apt",
           "http://www.airbnb.com/rooms/20403278",
           ""
          ],
          [
           "Entire home/apt",
           "http://www.airbnb.com/rooms/52250572",
           "MT064122210589"
          ],
          [
           "Entire home/apt",
           "http://www.airbnb.com/rooms/15699575",
           ""
          ],
          [
           "Entire home/apt",
           "http://www.airbnb.com/rooms/19185756",
           ""
          ],
          [
           "Entire home/apt",
           "http://www.airbnb.com/rooms/5407553",
           ""
          ],
          [
           "Entire home/apt",
           "http://www.airbnb.com/rooms/32687039",
           ""
          ],
          [
           "Entire home/apt",
           "http://www.airbnb.com/rooms/41869819",
           ""
          ],
          [
           "Entire home/apt",
           "http://www.airbnb.com/rooms/49139452",
           ""
          ],
          [
           "Entire home/apt",
           "http://www.airbnb.com/rooms/4081124",
           "64122171588NS"
          ],
          [
           "Entire home/apt",
           "http://www.airbnb.com/rooms/50218204",
           ""
          ],
          [
           "Entire home/apt",
           "http://www.airbnb.com/rooms/37030676",
           ""
          ],
          [
           "Entire home/apt",
           "http://www.airbnb.com/rooms/50849640",
           ""
          ],
          [
           "Entire home/apt",
           "http://www.airbnb.com/rooms/18118706",
           ""
          ],
          [
           "Entire home/apt",
           "http://www.airbnb.com/rooms/26462821",
           ""
          ],
          [
           "Entire home/apt",
           "http://www.airbnb.com/rooms/33217275",
           ""
          ],
          [
           "Entire home/apt",
           "http://www.airbnb.com/rooms/3317845",
           ""
          ],
          [
           "Entire home/apt",
           "http://www.airbnb.com/rooms/50772455",
           "6412200184504"
          ],
          [
           "Entire home/apt",
           "http://www.airbnb.com/rooms/49664931",
           ""
          ],
          [
           "Entire home/apt",
           "http://www.airbnb.com/rooms/49285159",
           "6412200208917"
          ],
          [
           "Entire home/apt",
           "http://www.airbnb.com/rooms/18469304",
           "6412200139100"
          ],
          [
           "Entire home/apt",
           "http://www.airbnb.com/rooms/49154226",
           ""
          ],
          [
           "Entire home/apt",
           "http://www.airbnb.com/rooms/27010111",
           ""
          ],
          [
           "Entire home/apt",
           "http://www.airbnb.com/rooms/24787774",
           ""
          ],
          [
           "Entire home/apt",
           "http://www.airbnb.com/rooms/13072898",
           "64122182501NM"
          ],
          [
           "Entire home/apt",
           "http://www.airbnb.com/rooms/9890215",
           ""
          ],
          [
           "Entire home/apt",
           "http://www.airbnb.com/rooms/28132223",
           ""
          ],
          [
           "Entire home/apt",
           "http://www.airbnb.com/rooms/31462680",
           ""
          ],
          [
           "Entire home/apt",
           "http://www.airbnb.com/rooms/13233557",
           "64122 172434 ZD"
          ],
          [
           "Entire home/apt",
           "http://www.airbnb.com/rooms/36894042",
           "6412209937985"
          ],
          [
           "Entire home/apt",
           "http://www.airbnb.com/rooms/46618264",
           "6412200174811"
          ],
          [
           "Entire home/apt",
           "http://www.airbnb.com/rooms/27279496",
           ""
          ],
          [
           "Entire home/apt",
           "http://www.airbnb.com/rooms/31396189",
           ""
          ],
          [
           "Entire home/apt",
           "http://www.airbnb.com/rooms/43661860",
           ""
          ],
          [
           "Entire home/apt",
           "http://www.airbnb.com/rooms/19672189",
           "64200172241SJ"
          ],
          [
           "Entire home/apt",
           "http://www.airbnb.com/rooms/19520608",
           ""
          ],
          [
           "Entire home/apt",
           "http://www.airbnb.com/rooms/48951572",
           "6412200076027"
          ],
          [
           "Entire home/apt",
           "http://www.airbnb.com/rooms/36480284",
           ""
          ],
          [
           "Entire home/apt",
           "http://www.airbnb.com/rooms/2423160",
           ""
          ],
          [
           "Entire home/apt",
           "http://www.airbnb.com/rooms/24491288",
           ""
          ],
          [
           "Entire home/apt",
           "http://www.airbnb.com/rooms/16852743",
           "64122001039B7"
          ],
          [
           "Entire home/apt",
           "http://www.airbnb.com/rooms/49663028",
           ""
          ],
          [
           "Entire home/apt",
           "http://www.airbnb.com/rooms/21922351",
           "64122172423zn"
          ],
          [
           "Entire home/apt",
           "http://www.airbnb.com/rooms/47443378",
           ""
          ],
          [
           "Entire home/apt",
           "http://www.airbnb.com/rooms/36659577",
           ""
          ],
          [
           "Entire home/apt",
           "http://www.airbnb.com/rooms/42746051",
           ""
          ],
          [
           "Entire home/apt",
           "http://www.airbnb.com/rooms/38210898",
           ""
          ],
          [
           "Entire home/apt",
           "http://www.airbnb.com/rooms/34404435",
           ""
          ],
          [
           "Entire home/apt",
           "http://www.airbnb.com/rooms/36531007",
           ""
          ],
          [
           "Entire home/apt",
           "http://www.airbnb.com/rooms/31032000",
           ""
          ],
          [
           "Entire home/apt",
           "http://www.airbnb.com/rooms/51162441",
           ""
          ],
          [
           "Entire home/apt",
           "http://www.airbnb.com/rooms/50635022",
           "64122182476XJ"
          ],
          [
           "Entire home/apt",
           "http://www.airbnb.com/rooms/34579319",
           ""
          ],
          [
           "Entire home/apt",
           "http://www.airbnb.com/rooms/7285233",
           ""
          ],
          [
           "Entire home/apt",
           "http://www.airbnb.com/rooms/50415281",
           "641220020186B"
          ],
          [
           "Entire home/apt",
           "http://www.airbnb.com/rooms/44388748",
           ""
          ],
          [
           "Entire home/apt",
           "http://www.airbnb.com/rooms/13923902",
           ""
          ],
          [
           "Entire home/apt",
           "http://www.airbnb.com/rooms/41043794",
           "6412200139518"
          ],
          [
           "Entire home/apt",
           "http://www.airbnb.com/rooms/48650548",
           "MT064122210217"
          ],
          [
           "Entire home/apt",
           "http://www.airbnb.com/rooms/43974658",
           ""
          ],
          [
           "Entire home/apt",
           "http://www.airbnb.com/rooms/34384709",
           ""
          ],
          [
           "Entire home/apt",
           "http://www.airbnb.com/rooms/43801071",
           ""
          ],
          [
           "Entire home/apt",
           "http://www.airbnb.com/rooms/50029942",
           ""
          ],
          [
           "Entire home/apt",
           "http://www.airbnb.com/rooms/50042148",
           ""
          ],
          [
           "Entire home/apt",
           "http://www.airbnb.com/rooms/5009016",
           "6412200200935"
          ],
          [
           "Entire home/apt",
           "http://www.airbnb.com/rooms/41924398",
           "6412200121949"
          ],
          [
           "Entire home/apt",
           "http://www.airbnb.com/rooms/36591806",
           ""
          ],
          [
           "Entire home/apt",
           "http://www.airbnb.com/rooms/26159543",
           ""
          ],
          [
           "Entire home/apt",
           "http://www.airbnb.com/rooms/35943091",
           "6412200055605"
          ],
          [
           "Entire home/apt",
           "http://www.airbnb.com/rooms/31666609",
           "64122000505D1"
          ],
          [
           "Entire home/apt",
           "http://www.airbnb.com/rooms/49848653",
           ""
          ],
          [
           "Entire home/apt",
           "http://www.airbnb.com/rooms/50635514",
           ""
          ],
          [
           "Entire home/apt",
           "http://www.airbnb.com/rooms/35464703",
           ""
          ],
          [
           "Entire home/apt",
           "http://www.airbnb.com/rooms/6325216",
           ""
          ],
          [
           "Entire home/apt",
           "http://www.airbnb.com/rooms/35780901",
           ""
          ],
          [
           "Entire home/apt",
           "http://www.airbnb.com/rooms/19381606",
           "641220018890D"
          ],
          [
           "Entire home/apt",
           "http://www.airbnb.com/rooms/35391830",
           ""
          ],
          [
           "Entire home/apt",
           "http://www.airbnb.com/rooms/43295501",
           ""
          ],
          [
           "Entire home/apt",
           "http://www.airbnb.com/rooms/50653582",
           "6412200214619"
          ],
          [
           "Entire home/apt",
           "http://www.airbnb.com/rooms/30014033",
           "64122001883E8"
          ],
          [
           "Entire home/apt",
           "http://www.airbnb.com/rooms/11566815",
           "6412200046224"
          ],
          [
           "Entire home/apt",
           "http://www.airbnb.com/rooms/49329232",
           "3"
          ],
          [
           "Entire home/apt",
           "http://www.airbnb.com/rooms/35536076",
           ""
          ],
          [
           "Entire home/apt",
           "http://www.airbnb.com/rooms/16170190",
           ""
          ],
          [
           "Entire home/apt",
           "http://www.airbnb.com/rooms/36530995",
           ""
          ],
          [
           "Entire home/apt",
           "http://www.airbnb.com/rooms/35556609",
           ""
          ],
          [
           "Entire home/apt",
           "http://www.airbnb.com/rooms/50266925",
           "6412200209953"
          ],
          [
           "Entire home/apt",
           "http://www.airbnb.com/rooms/51079644",
           ""
          ],
          [
           "Entire home/apt",
           "http://www.airbnb.com/rooms/51854467",
           "641220022679C"
          ],
          [
           "Entire home/apt",
           "http://www.airbnb.com/rooms/36620255",
           ""
          ],
          [
           "Entire home/apt",
           "http://www.airbnb.com/rooms/38696305",
           ""
          ],
          [
           "Entire home/apt",
           "http://www.airbnb.com/rooms/47877787",
           ""
          ],
          [
           "Entire home/apt",
           "http://www.airbnb.com/rooms/6859507",
           "64122 182520 XM"
          ],
          [
           "Entire home/apt",
           "http://www.airbnb.com/rooms/2823899",
           ""
          ],
          [
           "Entire home/apt",
           "http://www.airbnb.com/rooms/50910436",
           ""
          ],
          [
           "Entire home/apt",
           "http://www.airbnb.com/rooms/35182330",
           ""
          ],
          [
           "Entire home/apt",
           "http://www.airbnb.com/rooms/8959413",
           ""
          ],
          [
           "Entire home/apt",
           "http://www.airbnb.com/rooms/2492079",
           ""
          ],
          [
           "Entire home/apt",
           "http://www.airbnb.com/rooms/6232250",
           ""
          ],
          [
           "Entire home/apt",
           "http://www.airbnb.com/rooms/51229044",
           ""
          ],
          [
           "Entire home/apt",
           "http://www.airbnb.com/rooms/36932195",
           ""
          ],
          [
           "Entire home/apt",
           "http://www.airbnb.com/rooms/3726393",
           ""
          ],
          [
           "Entire home/apt",
           "http://www.airbnb.com/rooms/18420304",
           ""
          ],
          [
           "Entire home/apt",
           "http://www.airbnb.com/rooms/30441150",
           ""
          ],
          [
           "Entire home/apt",
           "http://www.airbnb.com/rooms/44552989",
           "641220017636B"
          ],
          [
           "Entire home/apt",
           "http://www.airbnb.com/rooms/52684358",
           "64122181859VJ"
          ],
          [
           "Entire home/apt",
           "http://www.airbnb.com/rooms/19735246",
           "780664496"
          ],
          [
           "Entire home/apt",
           "http://www.airbnb.com/rooms/49544413",
           "6412200204926"
          ],
          [
           "Entire home/apt",
           "http://www.airbnb.com/rooms/17393940",
           "64122000144A8"
          ],
          [
           "Entire home/apt",
           "http://www.airbnb.com/rooms/21922542",
           "64122172423ZN"
          ],
          [
           "Entire home/apt",
           "http://www.airbnb.com/rooms/18399769",
           "64122172164SS"
          ],
          [
           "Entire home/apt",
           "http://www.airbnb.com/rooms/6684523",
           "64122000346BE"
          ],
          [
           "Entire home/apt",
           "http://www.airbnb.com/rooms/49490802",
           ""
          ],
          [
           "Entire home/apt",
           "http://www.airbnb.com/rooms/35257794",
           ""
          ],
          [
           "Entire home/apt",
           "http://www.airbnb.com/rooms/5958121",
           ""
          ],
          [
           "Entire home/apt",
           "http://www.airbnb.com/rooms/41632185",
           ""
          ],
          [
           "Entire home/apt",
           "http://www.airbnb.com/rooms/13004284",
           "64122 182463VJ"
          ],
          [
           "Entire home/apt",
           "http://www.airbnb.com/rooms/1242856",
           "64122182682TM"
          ],
          [
           "Entire home/apt",
           "http://www.airbnb.com/rooms/26946218",
           ""
          ],
          [
           "Entire home/apt",
           "http://www.airbnb.com/rooms/20006630",
           "64200172268YJ"
          ],
          [
           "Entire home/apt",
           "http://www.airbnb.com/rooms/38945367",
           "64122001482CE"
          ],
          [
           "Entire home/apt",
           "http://www.airbnb.com/rooms/41770863",
           ""
          ],
          [
           "Entire home/apt",
           "http://www.airbnb.com/rooms/34714273",
           "6412200186994"
          ],
          [
           "Entire home/apt",
           "http://www.airbnb.com/rooms/14256858",
           "64122001305F9"
          ],
          [
           "Entire home/apt",
           "http://www.airbnb.com/rooms/20082560",
           "FR64122182851"
          ],
          [
           "Entire home/apt",
           "http://www.airbnb.com/rooms/19804762",
           ""
          ],
          [
           "Entire home/apt",
           "http://www.airbnb.com/rooms/24110946",
           ""
          ],
          [
           "Entire home/apt",
           "http://www.airbnb.com/rooms/50761748",
           ""
          ],
          [
           "Entire home/apt",
           "http://www.airbnb.com/rooms/48327294",
           "6412200184816"
          ],
          [
           "Entire home/apt",
           "http://www.airbnb.com/rooms/52609071",
           ""
          ],
          [
           "Entire home/apt",
           "http://www.airbnb.com/rooms/27484489",
           "64122182808ZJ"
          ],
          [
           "Entire home/apt",
           "http://www.airbnb.com/rooms/42523706",
           "6412200135215"
          ],
          [
           "Entire home/apt",
           "http://www.airbnb.com/rooms/49787816",
           "64122001983ED"
          ],
          [
           "Entire home/apt",
           "http://www.airbnb.com/rooms/17724599",
           ""
          ],
          [
           "Entire home/apt",
           "http://www.airbnb.com/rooms/42483237",
           "64122001432A1"
          ],
          [
           "Entire home/apt",
           "http://www.airbnb.com/rooms/35988970",
           ""
          ],
          [
           "Entire home/apt",
           "http://www.airbnb.com/rooms/26549177",
           "64122000106C3"
          ],
          [
           "Entire home/apt",
           "http://www.airbnb.com/rooms/3745332",
           ""
          ],
          [
           "Entire home/apt",
           "http://www.airbnb.com/rooms/4032545",
           ""
          ],
          [
           "Entire home/apt",
           "http://www.airbnb.com/rooms/39943963",
           ""
          ],
          [
           "Entire home/apt",
           "http://www.airbnb.com/rooms/49080487",
           ""
          ],
          [
           "Entire home/apt",
           "http://www.airbnb.com/rooms/44510605",
           ""
          ],
          [
           "Entire home/apt",
           "http://www.airbnb.com/rooms/40712545",
           ""
          ],
          [
           "Entire home/apt",
           "http://www.airbnb.com/rooms/44423284",
           ""
          ],
          [
           "Entire home/apt",
           "http://www.airbnb.com/rooms/33933091",
           ""
          ],
          [
           "Entire home/apt",
           "http://www.airbnb.com/rooms/51120328",
           ""
          ],
          [
           "Entire home/apt",
           "http://www.airbnb.com/rooms/10951137",
           "64122182678PM"
          ],
          [
           "Entire home/apt",
           "http://www.airbnb.com/rooms/43721195",
           ""
          ],
          [
           "Entire home/apt",
           "http://www.airbnb.com/rooms/7910352",
           ""
          ],
          [
           "Entire home/apt",
           "http://www.airbnb.com/rooms/50440605",
           ""
          ],
          [
           "Entire home/apt",
           "http://www.airbnb.com/rooms/36266935",
           ""
          ],
          [
           "Entire home/apt",
           "http://www.airbnb.com/rooms/34301235",
           ""
          ],
          [
           "Entire home/apt",
           "http://www.airbnb.com/rooms/38355980",
           ""
          ],
          [
           "Entire home/apt",
           "http://www.airbnb.com/rooms/48051072",
           ""
          ],
          [
           "Entire home/apt",
           "http://www.airbnb.com/rooms/16922913",
           "MT064122210669"
          ],
          [
           "Entire home/apt",
           "http://www.airbnb.com/rooms/49358847",
           ""
          ],
          [
           "Entire home/apt",
           "http://www.airbnb.com/rooms/12779919",
           ""
          ],
          [
           "Entire home/apt",
           "http://www.airbnb.com/rooms/47573297",
           "6412200176577"
          ],
          [
           "Entire home/apt",
           "http://www.airbnb.com/rooms/38348425",
           ""
          ],
          [
           "Entire home/apt",
           "http://www.airbnb.com/rooms/44226043",
           ""
          ],
          [
           "Entire home/apt",
           "http://www.airbnb.com/rooms/22207445",
           ""
          ],
          [
           "Entire home/apt",
           "http://www.airbnb.com/rooms/12147797",
           ""
          ],
          [
           "Entire home/apt",
           "http://www.airbnb.com/rooms/849475",
           ""
          ],
          [
           "Entire home/apt",
           "http://www.airbnb.com/rooms/35641655",
           ""
          ],
          [
           "Entire home/apt",
           "http://www.airbnb.com/rooms/36668164",
           ""
          ],
          [
           "Entire home/apt",
           "http://www.airbnb.com/rooms/50353564",
           ""
          ],
          [
           "Entire home/apt",
           "http://www.airbnb.com/rooms/14894955",
           "64122001543E8"
          ],
          [
           "Entire home/apt",
           "http://www.airbnb.com/rooms/2926731",
           ""
          ],
          [
           "Entire home/apt",
           "http://www.airbnb.com/rooms/33947268",
           "64122182630XM"
          ],
          [
           "Entire home/apt",
           "http://www.airbnb.com/rooms/35764328",
           "64122001971A5"
          ],
          [
           "Entire home/apt",
           "http://www.airbnb.com/rooms/18688646",
           "641220003409A"
          ],
          [
           "Entire home/apt",
           "http://www.airbnb.com/rooms/18262531",
           ""
          ],
          [
           "Entire home/apt",
           "http://www.airbnb.com/rooms/36573362",
           ""
          ],
          [
           "Entire home/apt",
           "http://www.airbnb.com/rooms/24349393",
           "641220000221F"
          ],
          [
           "Entire home/apt",
           "http://www.airbnb.com/rooms/24843401",
           ""
          ],
          [
           "Entire home/apt",
           "http://www.airbnb.com/rooms/35476029",
           "64122000744C6"
          ],
          [
           "Entire home/apt",
           "http://www.airbnb.com/rooms/7753978",
           "6412200057783"
          ],
          [
           "Entire home/apt",
           "http://www.airbnb.com/rooms/1486599",
           ""
          ],
          [
           "Entire home/apt",
           "http://www.airbnb.com/rooms/51135867",
           ""
          ],
          [
           "Entire home/apt",
           "http://www.airbnb.com/rooms/38949847",
           ""
          ],
          [
           "Entire home/apt",
           "http://www.airbnb.com/rooms/42649605",
           "MT064122200092"
          ],
          [
           "Entire home/apt",
           "http://www.airbnb.com/rooms/45493850",
           "MT064122200764"
          ],
          [
           "Entire home/apt",
           "http://www.airbnb.com/rooms/40691912",
           ""
          ],
          [
           "Entire home/apt",
           "http://www.airbnb.com/rooms/48241986",
           "64122182858TJ"
          ],
          [
           "Entire home/apt",
           "http://www.airbnb.com/rooms/46501316",
           "64122171082NS"
          ],
          [
           "Entire home/apt",
           "http://www.airbnb.com/rooms/21670212",
           ""
          ],
          [
           "Entire home/apt",
           "http://www.airbnb.com/rooms/41846573",
           ""
          ],
          [
           "Entire home/apt",
           "http://www.airbnb.com/rooms/14363649",
           ""
          ],
          [
           "Entire home/apt",
           "http://www.airbnb.com/rooms/46130402",
           "6412200180619"
          ],
          [
           "Entire home/apt",
           "http://www.airbnb.com/rooms/50200513",
           ""
          ],
          [
           "Entire home/apt",
           "http://www.airbnb.com/rooms/49331212",
           "2"
          ],
          [
           "Entire home/apt",
           "http://www.airbnb.com/rooms/38152854",
           "64122182475WF"
          ],
          [
           "Entire home/apt",
           "http://www.airbnb.com/rooms/38311255",
           "64122001186D7"
          ],
          [
           "Entire home/apt",
           "http://www.airbnb.com/rooms/6996218",
           "64122182502PM"
          ],
          [
           "Entire home/apt",
           "http://www.airbnb.com/rooms/20354099",
           ""
          ],
          [
           "Entire home/apt",
           "http://www.airbnb.com/rooms/50411590",
           ""
          ],
          [
           "Entire home/apt",
           "http://www.airbnb.com/rooms/38118582",
           ""
          ],
          [
           "Entire home/apt",
           "http://www.airbnb.com/rooms/1342493",
           ""
          ],
          [
           "Entire home/apt",
           "http://www.airbnb.com/rooms/27827367",
           "64122182889RA"
          ],
          [
           "Entire home/apt",
           "http://www.airbnb.com/rooms/15411578",
           "MT064122210187"
          ],
          [
           "Entire home/apt",
           "http://www.airbnb.com/rooms/49558363",
           ""
          ],
          [
           "Entire home/apt",
           "http://www.airbnb.com/rooms/11385792",
           "64122001244DF"
          ],
          [
           "Entire home/apt",
           "http://www.airbnb.com/rooms/36613253",
           "6412200106242"
          ],
          [
           "Entire home/apt",
           "http://www.airbnb.com/rooms/14271726",
           ""
          ],
          [
           "Entire home/apt",
           "http://www.airbnb.com/rooms/50240463",
           "6412200216691"
          ],
          [
           "Entire home/apt",
           "http://www.airbnb.com/rooms/42230601",
           ""
          ],
          [
           "Entire home/apt",
           "http://www.airbnb.com/rooms/48325492",
           ""
          ],
          [
           "Entire home/apt",
           "http://www.airbnb.com/rooms/11530436",
           ""
          ],
          [
           "Entire home/apt",
           "http://www.airbnb.com/rooms/17902997",
           ""
          ],
          [
           "Entire home/apt",
           "http://www.airbnb.com/rooms/50068836",
           ""
          ],
          [
           "Entire home/apt",
           "http://www.airbnb.com/rooms/52955847",
           ""
          ],
          [
           "Entire home/apt",
           "http://www.airbnb.com/rooms/25697671",
           "6412200047884"
          ],
          [
           "Entire home/apt",
           "http://www.airbnb.com/rooms/14412421",
           ""
          ],
          [
           "Entire home/apt",
           "http://www.airbnb.com/rooms/35934318",
           "641220010665A"
          ],
          [
           "Entire home/apt",
           "http://www.airbnb.com/rooms/18563252",
           ""
          ],
          [
           "Entire home/apt",
           "http://www.airbnb.com/rooms/50384419",
           ""
          ],
          [
           "Entire home/apt",
           "http://www.airbnb.com/rooms/35995081",
           "6412200101215"
          ],
          [
           "Entire home/apt",
           "http://www.airbnb.com/rooms/49026528",
           "1220240733X"
          ],
          [
           "Entire home/apt",
           "http://www.airbnb.com/rooms/50161450",
           ""
          ],
          [
           "Entire home/apt",
           "http://www.airbnb.com/rooms/18850151",
           "64122 182697 YJ"
          ],
          [
           "Entire home/apt",
           "http://www.airbnb.com/rooms/51203464",
           "641220022430C"
          ],
          [
           "Entire home/apt",
           "http://www.airbnb.com/rooms/20410897",
           ""
          ],
          [
           "Entire home/apt",
           "http://www.airbnb.com/rooms/9853725",
           ""
          ],
          [
           "Entire home/apt",
           "http://www.airbnb.com/rooms/51593901",
           "641220078131"
          ],
          [
           "Entire home/apt",
           "http://www.airbnb.com/rooms/19205340",
           "64122 172418 VN"
          ]
         ],
         "hovertemplate": "<b>%{hovertext}</b><br><br>room_type=%{customdata[0]}<br>latitude=%{lat}<br>longitude=%{lon}<br>room_link=%{customdata[1]}<br>license=%{customdata[2]}<extra></extra>",
         "hovertext": [
          "City Center - Cosy + private courtyard",
          "Appartement cosy à 150m de la plage",
          "NOUVELLE VAGUE, studio w/ balcony, seaview & pool.",
          "Bellevue Plage for 3 persons.",
          "BIARRITZ 30 METERS BEACH AT VICTORIA SURF 1",
          "Chez « Alfred »",
          "Studio Climatisé GrandePlage Biarritz VictoriaSurf",
          "Biarritz tout à pied, avec vue mer !",
          "Biarritz Grande Plage 25m2 avec Balcon",
          "Biarritz- Accès direct à la Grande Plage T2 33 m2",
          "Studio apartment in central Biarritz",
          "MODERN T1 CENTRE BIARRITZ, 100M PLAGE, WIFI+BALCON",
          "Victoria surf / Front de mer / Balcon / piscine",
          "4* Biarritz Standing Hyper Centre 100m Plage",
          "Nice studio, excellent situation.",
          "Studio, Biarritz- Centre, piscine privée",
          "APPARTEMENT COSY RENOVE BIARRITZ GRANDE PLAGE",
          "Charmant petit studio en plein centre de Biarritz",
          "Biarritz Balcon sur la Grande plage",
          "TINY CENTER BY FIRSTLIDAYS",
          "Villa Ariany - appartement au coeur de Biarritz",
          "T2 - 85m from the Gran Plage",
          "Biarritz T2 bis 4, 6 personnes 300m Grande plage",
          "GuestReady - Luxurious Apartment with view of The Grande Plage",
          "Esprit cosy pour ce bien à l'emplacement de choix - FR-1-3-517",
          "Bien de prestige à l'emplacement idéal - FR-1-3-488",
          "2 pièces hyper centre Biarritz",
          "30 m2 Livres et vinyles Grande plage",
          "Appartement Design Biarritz Coeur de Ville",
          "Très bel appartement de caractère avec vue sur mer",
          "Studio Grande Plage Quartier Impérial",
          "BRIGHT APT WITH LARGE BALCONY IN BIARRITZ BEACH, 2 PEOPLE",
          "Studio avec terrasse  - 200 m de la Grande plage",
          "Appartement vue Mer Biarritz",
          "Agreable T2 plein centre Biarritz",
          "T2 avec vue exceptionnelle BIARRITZ +Parking",
          "Stylish beach home in town center",
          "Biarritz Hyper centre au calme, Parking, Terrasse",
          "T2 cosy, parking, 100m de la grande plage",
          "T2 centre ville + patio, 650 mètres Grande Plage",
          "Jaulerry for 4 persons.",
          "BIARRITZ 30 METERS BEACH AT VICTORIA SURF 3",
          "Studio Rés. Victoria Surf  vue ville avec piscine",
          "Un pied dans l'océan, l'autre centre-ville !",
          "Charming apartment perfect for couples",
          "Superbe appartement T3 centre, terrasse, parking",
          "Biarritz - Centre Ville - Grande Plage",
          "Biarritz centre haut de gamme. Calme. 150 m plage.",
          "VUE MER BIARRITZ GRANDE PLAGE - STUDIO AVEC BALCON",
          "One room downtown Rue du Helder",
          "Breathtaking apartment with an ocean view",
          "Biarritz center / studio / beach and halls 5minute",
          "PALMA : Biarritz downtown & 150 meters to the beach",
          "Superbe Appartement à louer avec Vue Mer, Biarritz",
          "Large studio design w/ balcony at the heart of Biarritz - Welkeys",
          "Biarritz hyper centre Plage direct Grande terrasse",
          "Studio w/ balcony and breathtaking view of Grand Plage (Biarritz) – Welkeys",
          "Studio sur la grande plage - Piscine privée",
          "T1 lumineux au calme hyper centre 150m océan",
          "Biarritz  STUDIO VUE SUR MER",
          "Villa Maurice for 4 persons.",
          "Charming T2 with terrace in the city center",
          "LA COUPOLE -  200m from the beach",
          "Studio au calme, rénové. Plage à pied/parking/Wifi",
          "BIARRITZ CENTRE AU CALME TOUT A PIED T2 LUMINEUX",
          "Superbe vue grande plage, hyper centre Biarritz",
          "Charmant appartement idéalement situé à Biarritz",
          "\"BLUE COCOON\": hypercentre, plages, WIFI",
          "BIARRITZ - 200 M FROM THE BEACH",
          "Spacious 2 bedrooms Apartment Town Hall Biarritz",
          "Hyper centre Biarritz  près Halles et Grande Plage",
          "Location à la semaine studio centre de Biarritz",
          "Front de mer, belle vue mer grand plage et piscine",
          "Studio en centre ville",
          "Biarritz charmant  appartement",
          "Studio 4pers au cœur de Biarritz",
          "Biarritz hyper centre, gare du midi, Magnifique T2",
          "T2 Hypercentre tout près de la Plage - aperçu mer",
          "Le Queen Victoria - Proche plage - Quartier St Charles",
          "T2 50 m2 plein centre tout confort au calme",
          "Biarritz ocean front condo with swiming pool",
          "La Maison Basque for 4 persons.",
          "Charmant 2p hyper centre Biarritz plage à pieds",
          "Au pied de la Grande Plage Hypercentre de Biarritz",
          "Bright and functional studio in Biarritz center",
          "Studio neuf balcon piscine Grande Plage Biarritz",
          "Appartement plein coeur de Biarritz -Victoria Surf",
          "Plage et design en plein coeur de Biarritz",
          "Charmant T2 au coeur de biarritz",
          "GuestReady - Glamorous Apartment in Biarritz",
          "Appartement au coeur de Biarritz - 5 min plage",
          "Biarritz Studio F",
          "Bellevue Clemenceau for 2 persons.",
          "Studio & Piscine sur la grande plage de Biarritz!",
          "VUE MER GRANDE PLAGE T2 DUPLEX // PARKING PRIVÉE",
          "Grand studio lumineux au coeur de Biarritz",
          "★HYPERCENTRE BIARRITZ★ Proche Plage et Casino★WIFI",
          "Studio face à la mer avec piscine",
          "Modern studio in the heart of Biarritz, 4 min walk from the beach - Welkeys",
          "Prestigious*Jewel*, town's heart, Internet.",
          "Charmant T2 centre de Biarritz - Tout à pieds",
          "Biarritz centre. Au calme. 2>4 pers. Plage 150m.",
          "T2 sur Grande Plage avec Parking",
          "Clémenceau for 4 persons.",
          "Nice studio with sea view & balcony in the centre of Biarritz - Welkeys",
          "Biarritz Centre, beaux volumes au dernier étage!",
          "Charmant Appartement de 40 m2 avec parking privé",
          "Superbe studio dernier étage, Biarritz centre.",
          "Beautiful flat in the center of Biarritz",
          "Studio les pieds dans l'eau à Biarritz - FR-1-3-389",
          "VIEW SEA+PALACE, CENTRE BIARRITZ & 50M BEACH+WIFI",
          "BIARRITZ, 130 M2  , HYPER CENTRE, SEA VIEW",
          "Appartement cosy et design proche Mer/hyper centre",
          "APPARTEMENT GRAND STANDING - VUE OCEAN",
          "Studio lumineux hyper centre / Grande plage",
          "CINE'HOME in town - Bedroom & mezzanine + Parking",
          "Cozy studio just nearby Biarritz beach",
          "Biarritz  près des halles vue mer  studio ***",
          "Appartement de charme à Biarritz près de la mer",
          "Charming flat 4 minutes from the Grande Plage of Biarritz away - Welkeys",
          "Beau T2 avec vue sur Grande Plage",
          "Studio 50m away from the beach with terrace",
          "Studio d architecte vue mer",
          "3*** CNTRE BIARRITZ 100M BEACH WIFI",
          "STUDIO AVEC BALCON VUE MER PANORAMIQUE & PISCINE",
          "Appartement hyper centre Biarritz, 200m plage",
          "Très beau studio 40m2 hypercentre VUE MER  Wifi HD",
          "L’océan à perte de vue, la grand plage à vos pieds",
          "W193 - Cute studio close to beaches in Biarritz",
          "Appartement 4/6 pers avec piscine",
          "Magnifique Appartement de 80m2 Centre ville",
          "Biarritz - Grande Plage - Studio avec terrasse",
          "STUDIO FLOUMOR PARKING HYPER CENTRE - TOUT A PIED",
          "Pavillon studio au calme hyper centre 150m océan",
          "🏖Superbe T2 + parking / Grande plage à 90m",
          "Studio Hypercentre Biarritz",
          "Studio piscine Centre Ville/Grande Plage Terrasse",
          "Luminous studio in the heart of Biarritz - Welkeys",
          "Biarritz studio charmant 100m plage",
          "T2 of 29 M ² IN THE CITY CENTER",
          "Studio d' exception 103 Victoria Surf",
          "Apt Biarritz Res Carlton, proche Grande Plage",
          "Studio Biarritz Centre~Calme~Grande Plage à 400m",
          "Bellevue Plage for 4 persons.",
          "Victoria Surf for 4 persons.",
          "Grand Appt centre Biarritz à 300m Grande Plage",
          "BEACHVIEW · KEYWEEK Beachfront Renovated Apartment with Parking in Biarritz",
          "★ HYPERCENTRE BIARRITZ★Proche Plage et Casino★WIFI",
          "The Carlton",
          "Emplacement de choix pour ce studio - FR-1-3-412",
          "Location centre-ville de Biarritz",
          "Studio Place de la Libération",
          "Big flat in Central Biarritz",
          "Studio with a peacefull private patio",
          "Charmant studio, coeur de ville, proche des plages",
          "Proximité grande plage, appartement T2 lumineux",
          "Biarritz T2 Centre Proche Grande Plage",
          "Charmant studio au calme centre ville 150m océan",
          "Charmant T1 hypercentre 100m Grand Plage",
          "Studio  avec piscine sur  Grande plage Biarritz",
          "Charming 3*** studio at the heart of Biarritz, 50m from the beach - Welkeys",
          "Biarritz, hyper centre, Gde plage",
          "** Appartement tout neuf au coeur des halles **",
          "STUDIO *** HEART of BARRITZ ,250 m FROM THE BEACH",
          "Apartment with a beautiful terrace in Biarritz",
          "VUE PANORAMIQUE SUR  GRANDE PLAGE PISCINE PARKING",
          "Le Manège Btz 600m de la plage",
          "Etche IZADI 4 pièces Grande Plage, terrasse",
          "T1 avec balcon au pied de la grande plage",
          "T4 de charme, vue mer, 1ère ligne, centre Biarritz",
          "3 chambres dans un Palace+Parking-Biarritz",
          "T2 Biarritz hypercentre, la grande plage à 500m",
          "HYPER CENTRE soit 250 m de la grande plage",
          "VILLA CASANOVA appartement au coeur de Biarritz",
          "Appartement charmant plein centre",
          "In the heart of Biarritz",
          "Joli studio avec terrasse à 300m grande plage",
          "Central 1Bed flat-5mn from the beach-South Terrace",
          "Appartement F2 original.",
          "Beau T3 80m2 - Coeur BIARRITZ entre Halles & Plage",
          "Clémenceau / Place Bellevue T2 - 2/4 personnes",
          "PALM • KEYWEEK Townhouse - terrace and Jacuzzi in Bidart beach",
          "Jaulerry · Plages, Halles à pied ☼",
          "Studio 600m grande plage",
          "Studio avec terrasse au centre de Biarritz",
          "Arudy for 4 persons.",
          "Atlantic for 6 persons.",
          "T3 centre-ville avec terrasse et parking + WIFI",
          "Superb apartment near the Grande plage",
          "T3 Biarritz centre - parking - famille 4 personnes",
          "Biarritz centre appartement 70 m2",
          "T 2, hyper centre avec terrasse et parking privé.",
          "Agreable T2 de 60 m2 Biarritz centre et plages",
          "Appartement bord de mer Biarritz",
          "Grande plage, beau 3 pièces refait à neuf, parking, calme",
          "T2 dans le coeur de Biarritz",
          "COUP DE COEUR - T3 AU COEUR DE BIARRITZ",
          "Studio face à la mer - FR-1-3-394",
          "T3 Cosy avec terrasse Coeur de Biarritz Parking",
          "Itsasoaren: «  Auprès de l océan » T2 très cosy !",
          "T2 à Biarritz: Plage et centre-ville 5min à pied",
          "Très beau T2, balcon, parking, Grande Plage à 200m",
          "T2 lumineux central, Grde plage & commerces à pied",
          "Modern apartment in Biarritz center",
          "Erdian - Biarritz",
          "Saint Andrews for 2 persons.",
          "Astoria for 4 persons.",
          "Victoria for 6 persons.",
          "Joli T3 RDC rénové au coeur de Biarritz",
          "STUDIO - Grande plage Biarritz - Balcon - Piscine",
          "Centre Biarritz Grande plage Victoria surf",
          "Studio avec un emplacement de choix à Biarritz - FR-1-3-418",
          "Appartement cosy //Centre ville au calme",
          "Appartement vue mer et grande plage",
          "Salty holidays !",
          "KAIROS • KEYWEEK Apartment with sea view ideally located in Biarritz",
          "Superb and calm T3 in the heart of Biarritz, 5 min from the beach - Welkeys",
          "Appartement, situation idéale, avec parking",
          "Agréable 45m2 hyper centre ville",
          "Exceptionnel 2** : hypercentre Biarritz T2 + patio",
          "Superbe appartement belle Terrasse proche plage 🏖",
          "GRANDE PLAGE AVEC VUE MER ET PARKING",
          "Modern 1br with terrace, 5 min from Biarritz’s Grande Plage – Welkeys",
          "T1  classé  4pers 100 m Gde  Plage  BIARRITZ  Wifi",
          "Charles Floquet for 4 persons.",
          "Jardin Public for 4 persons.",
          "Bellevue Clemenceau for 6 persons.",
          "T2 moderne-4pers. Aperçu océan.Hypercentre+Parking",
          "Biarritz - 2 bedroom apartment 5 min walk to beach",
          "Biarritz Quartier des Halles et 2min Grande Plage",
          "STUDIO ON PLACE CENTER, 100M FROM THE BEACH",
          "BLUE MOON • KEYWEEK Seafront Apt with large Terrace and Parking Biarritz",
          "Victoria Surf apart 4 pers. 2* ocean view & pool",
          "T1 bis bien placé, coquet, au centre de Biarritz",
          "Maison centre Biarritz 500 m plage",
          "Central Biarritz modern flat",
          "Studio grande plage vue mer, possibilité parking!",
          "Spacious 2br in central Biarritz, close to beaches",
          "Superbe 3* Halles+ plage à pied+ 2 jolis balcons¤¤",
          "⭐Le Bellevue BTZ : bercé par les vagues🌊🏖️🚙",
          "Charmant T2 à 200m de la plage",
          "COSY apt just a step from the BEACH",
          "BIARRITZ, T3, 100m2 VUE MER +GARAGE",
          "Appartement à 2 pas de la plage et des halles !",
          "IMPÉRIAL BEACH  JOLI T1 bis + BALCON 150m plage",
          "Victoria for 4 persons.",
          "André Lamandé for 4 persons.",
          "Chalet Louisette for 4 persons.",
          "Etcheverry for 4 persons.",
          "VICTORIA - Beautiful Apartment, few steps from the main Beach of Biarritz with Parking - BARNES",
          "Studio with pool and direct entrance to the beach",
          "Biarritz centre ville grand plage à 100 m",
          "#L étape 2 Ch, Parking, 250m Gde Plage, tt à pieds",
          "Studio au cœur des halles de Biarritz",
          "Résidence bord de plage, Biarritz pour 6 personnes",
          "2-bedroom  flat in central Biarritz",
          "Face hôtel du Palais F3 ttes vue sur mer ,parking",
          "VILLA CLEMENCE BY FIRSTLIDAYS",
          "Grande Plage / Impérial  - Loft avec terrasse",
          "4 pers 49m² BIARRITZ  Casino Hypercentre",
          "FULL CENTER, 6 adults, sea view, 50 m large beach",
          "Joli studio, Grande plage, les Halles, 5 mn à pied",
          "Appartement centre ville à 100m de la grande plage",
          "Résidence bere Naia Biarritz",
          "Beautiful T2 in Biarritz center with parking",
          "Biarritz 1 minute de la plage",
          "BiarritzStudio  acces direct plage Milady Marbella",
          "T3 Hyper-Centre avec terrasse - Biarritz",
          "Nice 1 bedroom, large balcony, heart of Biarritz",
          "Biarritz -T2 - grande terrasse vue mer",
          "Bel appartement 104m² - Grande Plage  + Parking",
          "Studio de charme au coeur de Biarritz",
          "T3 d'architecte classé 4* en hypercentre ville",
          "Appartement à 500 m  de la plage avec place de parking - FR-1-3-536",
          "Appartement de charme + Jardin, à 400m de la plage",
          "Superbe T3, parking, balcon, Grande Plage à pied",
          "Large Studio with Sea View, contemporary design.",
          "Large apartment in Biarritz, balconies, parking, 350m beach - W201",
          "Studio avec balcon, plein centre, sans vis à vis",
          "STUDIO T1 BIS CENTER , 200m BEACH, BALCONY, WIFI..",
          "Nice clear studio - Near the beach",
          "Très Beau T2 44m2 terrasse 1er Biarritz centre",
          "Charmant appartement // HYPER CENTRE AVEC BALCON",
          "Appartement de Charme au coeur de Biarritz",
          "Nice and modern 1br flat at the heart of Biarritz - Welkeys",
          "Proximité grande plage, joli T2 dans maison basque",
          "Studio cosy Biarritz 250 m de la plage",
          "Marilyn : beautiful flat at 400 meters from the Grande Plage in Biarritz",
          "TRÈS BEAU STUDIO AVEC BALCON VUE MER À 180°",
          "Large studio in the city center of Biarritz",
          "STUDIO BIARRRITZ CENTRE PLAGE",
          "Nice modern apartment in the heart of Biarritz",
          "Charming 5 stars flat at the heart of Biarritz, near the beach - Welkeys",
          "Beautiful apartment near the Grande Plage Biarritz",
          "Be in Biarritz - 200 m Grande Plage",
          "Bel appartement- terrasse-centre ville Parking",
          "A 3mn de la Plage à pied  ** HYPER CENTRE **",
          "Biarritz super petit appartement avec balcon. En plein coeur du centre ville et du quartier des halles, vous profiterez pleinement des bars et restaurants ainsi que de la proximités des plages",
          "Villa Berroeta : à 5 min de la grande plage",
          "Studio rénové résidence piscine en front de mer",
          "Biarritz en Campervan !",
          "studio au coeur de biarritz",
          "Coeur Biarritz 5 mn à pied grde plage. Grd T2  .",
          "Location Biarritz ocean",
          "T2 front de mer hyper-centre Biarritz",
          "Superbe T1bis, Grande Plage : vue mer et piscine",
          "Cozy Apartment in the Heart of Biarritz, Parking, Walking distance to the Beach - BARNES",
          "Appartement cosy à 5 min de la plage",
          "Superbe appartement balcon  vue mer Grande Plage",
          "LES TOURELLES - Maison entièrement rénovée",
          "Appartement bourgeois idéalement situé - FR-1-3-406",
          "Santa Clara · Apt familial, plages à pied ☼",
          "T2 hyper centre 47 M2",
          "Maison centre Biarritz 4 chambres terrasse parking",
          "F3  Biarritz  300m plage tout inclus et parking",
          "Maison de 300m2 avec piscine en centre ville BTZ",
          "STUDIO 1 min from the beach",
          "\"Appart Californien 3 Chambres 150m2\"",
          "Biarritz 1 min de la grande plage",
          "Studio au cur de la ville - FR-1-3-410",
          "Découvrez le Pays Basque en Campervan !",
          "Grande maison de charme 270m2 au coeur de Biarritz",
          "superbe appartement grand 2 pieces",
          "Quiet apartment for family in hyper center",
          "BIARRITZ HYPER CENTRE AU CALME",
          "Appartement vintage tout près de la plage",
          "Appartement vue imprenable sur l'Océan",
          "Maison de charme avec jardin plein sud",
          "Appart.hyper centre au calme,jolies prestations",
          "Appart hypercentre 2mn Grande plage 3 à 5 pers.",
          "Résidence Palais continental",
          "Charming 1br at the heart of Biarritz, 5 min walking to the beach - Welkeys",
          "Un balcon sur l'Océan à Biarritz - FR-1-3-379",
          "LOFT · KEYWEEK contemporary Loft style Apartment in Biarritz City center",
          "Superbe appartement au centre de Biarritz",
          "Studio en centre ville de Biarritz",
          "Biarritz, quartier des halles, coquet T2",
          "COAST • KEYWEEK Duplex apartment in the city center with sea view",
          "Spacieux T3 à quelques pas de la plage + parking",
          "Grand T3 en plein centre, plage à pied",
          "Biarritz accès direct à la grande plage",
          "T2 Biarritz Centre, 150m Grande Plage, au calme",
          "T2 400 de la grande plage",
          "Mignon studio entièrement rénové  hyper centre",
          "Vue exceptionnelle !  Appartement avec parking",
          "Chambre centre ville Biarritz",
          "Hypercentre de Biarritz avec parking !",
          "Biarritz Studio: super central, awesome sea view.",
          "Very nice",
          "Studio d' exception 101 Victoria Surf",
          "Appart au calme 3 chambres 500m de la Grande Plage",
          "Charming apartment in the luxury Carlton palace",
          "Charming flat in the heart of Biarritz",
          "Ravissante maison Biarritz centre",
          "Biarritz / Clemenceau / plage & centre ville",
          "T2 hypercentre halles avec terrasse",
          "grande plage à pied, T3 de charme + parking",
          "Bel appartement T3, Grange Plage, design, parking",
          "HYPERCENTRE +PARKING T2  50m de la Grande Plage",
          "Quartier impérial, dernier étage à la déco pop",
          "Appartement 4-6 pers vue panoramique",
          "Appartement 80m² à 100m de la plage.",
          "à 150 m à pied de la grande plage",
          "BIARRITZ: Duplex  85 m² vue mer et montagne",
          "Grand appartement en plein centre-ville - FR-1-3-390",
          "Appartement \"Confort&Cosy\" aux Halles de Biarritz",
          "Superb duplex 3bdr, heart of Biarritz, ocean view",
          "Biarritz tout à pied, 70m² pour 4/6 , wifi",
          "TRES BEAU - 200m2 - HYPER CENTRE  + PARKING",
          "A 5MNs À PIED DE LA GRANDE PLAGE",
          "Plein de centre de Biarritz",
          "Halles BIARRITZ, duplex 4p, centre-ville & plages",
          "Duplex 135 m2  0.4 KM Grande Plage",
          "MIARRITZE - FR-1-239-660",
          "Appartement en première ligne sur l'océan",
          "Superbe appartement au bord de l'océan",
          "Appartement duplex en centre ville",
          "Bien d'exception au coeur de Biarritz",
          "Duplex avec terrasse en plein coeur de Biarritz",
          "Studio Face à la Grande Plage",
          "Appartement Biarritz centre, au calme/proche plage",
          "A 200 mètre de la plage - FR-1-3-518",
          "Grand et lumineux appartement en duplex",
          "Chez Mamie, hyper centre, sur la place Bellevue",
          "T2 Biarritz centre, 350m plage, terrasse, parking",
          "Lovely studio, Beach front , Sea view & Pool",
          "Les Halles, tout à pied",
          "PERSPECTIVE • KEYWEEK Beachfront Apartment with Parking, Biarritz Center",
          "Biarritz centre 2ch, jardin,   80m2",
          "Studio quartier des Halles au coeur de Biarritz",
          "Entre Mer et Ciel. Terrasse et Parking au centre.",
          "123 - BELLEVUE-CLEMENCEAU EN TERRASSE",
          "Biarritz , plein centre , loft avec terrasse",
          "Très bel appartement // Hyper centre Biarritz",
          "Studio Biarritz  vue Mer",
          "Studio vue mer place Bellevue.",
          "Plein centre-ville 200 m de la grande plage",
          "Coup de coeur assuré!",
          "Oceanfront ideal family apartment",
          "Beautiful flat in the centre of Biarritz",
          "studio quartier Saint Charles Biarritz",
          "Earth, sea and sky!",
          "Deux pièces hypercentre Biarritz/100m de la plage",
          "Fenêtres sur mer, Biarritz sur la Grande Plage",
          "Appartement 2-4 pers avec piscine",
          "Fully renovated studio, 100m from the Grande Plage",
          "4*- 3 Bedrooms Rooftop Sea View Bellevue  Biarritz",
          "Superbe studio avec balcons en coeur de ville",
          "Vue d'exception à Biarritz - FR-1-3-499",
          "Appartement à 50m de la plage tout confort",
          "Grand appartement vue mer au coeur de Biarritz",
          "Appt 3 pièces 5 couchages BIARRITZ - FR-1-248-10",
          "Appt Studio 2 couchages BIARRITZ - FR-1-248-63",
          "Bel appartement dans résidence de caractère",
          "Appartement contemporain 90m2, Halles de Biarritz",
          "Studio - 2 personnes - BIARRITZ (64) - FR-1-248-70",
          "studio bord de mer",
          "CATWALK • KEYWEEK 2 bedroom apartment in Biarritz city center, parking",
          "Le Phare",
          "T2 Biarritz Hypercentre Terrasse Parking Securisé",
          "IMPERIAL • Apartment in the center of Biarritz close to the beach",
          "Loft Coco · Luxe au coeur de Biarritz",
          "Studio charmant idéalement situé à Biarritz centre",
          "Magnifique 3 pièces au cœur de Biarritz les Halles",
          "T2 avec grande terrasse vue mer & ville / Piscine",
          "Appartement en hypercentre- 1mn de la Grande Plage",
          "Appartement hyper centre Biarritz",
          "Apartment , view on Biarritz beach, 6 persons",
          "CALYPSO • KEYWEEK Apartment with amazing sea view in Biarritz",
          "Grande villa bourgeoise",
          "APPARTEMENT CENTRE/PLAGE",
          "T4, Hyper centre, tout équipé, vue mer,  8pers",
          "l'océanic: 2 pers vue mer, parking, grande plage",
          "PANORAMA OCEAN, Place Bellevue, 130m2 + Parking",
          "HYPER CENTRAL Grand Appartement +100m² BIARRITZ",
          "CHARMANTE VILLA BASQUE + PISCINE+ MUSCU À BIARRITZ",
          "Appartement 6 pièces Grande Plage",
          "Studio plein centre Biarritz",
          "Appartement 3 Chambres 150m2",
          "Maison Biarritz à deux pas de la côte des basques",
          "Grande plage appartement dernier étage sur océan",
          "Spacieux T2, hypercentre Biarritz, tout à pied",
          "Le Rooftop des Halles",
          "Typical Neighborhood - All on foot - 6 Persons",
          "Windsor for 4 persons.",
          "Idéal pour vacances familiales.",
          "Bel appartement au coeur de Biarritz, à 200m plage",
          "Appt 3 pièces 4 couchages BIARRITZ - FR-1-248-54",
          "BIARRITZ GRANDE PLAGE DUPLEX TERRASSE MER",
          "Biarritz hyper centre - à 350 m de la Grande Plage",
          "Appartement hyper centre Biarritz avec parking",
          "A little sweet home in the heart of Biarritz",
          "F2 PLEIN CENTRE",
          "T3 bis stylé, Halles et surf à pied.",
          "Artist workshop in Biarritz' city centre",
          "Appartement Biarritz Clémenceau",
          "Apt idéalement situé, plages à pied",
          "Grand studio plein centre",
          "Maison 4 chambres, piscine, jardin plein sud",
          "Beach, downtown Biarritz",
          "T3 town center, 100 meters from the beach",
          "Appartement hyper centre",
          "Appartement T3 au calme centre-ville de Biarritz",
          "Appartement Biarritz centre",
          "Studio avec patio en centre ville",
          "T2 Biarritz Centre 500m Grande plage ☀ !",
          "Maison Appart 50 m² terrasse-BIARRITZ Centre",
          "Appartement 45m2 au centre avec garage et balcons",
          "Charming flat with garden in a house at the heart of Biarritz - Welkeys",
          "Appartement de charme en plein coeur de Biarritz",
          "Joli Appartement à Biarritz",
          "Charming apartment in Biarritz with a balcony",
          "Fully renovated studio 100m from the Grande Plage",
          "Ravissant studio baroque -  200 m Grande Plage",
          "Studio 30 m2 Biarritz centre 300m plage + Garage",
          "LOFT 3 ch CENTRE, proche Halles + Grande Plage",
          "Superbe appartement Biarritz centre ville",
          "Super central & Charming apartment,  5 min beach",
          "Cocon familial plein centre+garage+place privative",
          "Appartement à 5 min de la Grande Plage.",
          "STUDIO CENTER of BIARRITZ, 100M FROM BEACH, WIFI..",
          "T3+ à Biarritz centre - 2mn Grande plage - commerc",
          "T2 duplex hyper centre de Biarritz - tout à pied",
          "Hyper centre au calme, grande plage du casino",
          "⭐️ Charmant T2Bis à 5 minutes de la plage ⭐️",
          "Appartement de charme Grande plage/halles à pieds",
          "Appartement T4 coup de coeur, 5mn plage, vue Phare",
          "GuestReady - Family Apt near La Grande Plage and Les Halles",
          "Hypercentre Biarritz,",
          "Hypercentre, terrasse, vue mer, proche plage",
          "Nice bright and quiet apt in BIARRITZ",
          "POP • KEYWEEK Apt 3 bedrooms with terrace & parking Biarritz city center",
          "Superbe 130m2 lumineux, 5min à pied plage/centre",
          "COCOON • KEYWEEK Holiday House with lovely patio in Biarritz city center",
          "ENEKO • KEYWEEK Apartment with car park and balcony in Biarritz center",
          "Modern apartment - Near the city center/beach",
          "Bel Appartement en coeur de ville",
          "Agréable T3 - Hypercentre, plage à pied – Parking",
          "T2 Bis, hyper centre de Biarritz",
          "Cosy loft 6 couchages.Calme et charme.Centre-ville",
          "appartement  4 personnes Biarritz",
          "Biarritz Centre-Gde Plage à 3 min Idealement placé",
          "Beautiful charm suit for 2/4 person, amazing view",
          "Moussempes - a moins de 500m de la grande plage - FR-1-239-616",
          "Appartement vintage au coeur de Biarritz",
          "Saint Georges à 350m de la Grande plage - FR-1-3-489",
          "Bien de caractère situé au centre-ville - FR-1-3-391",
          "Studio tout neuf centre Biarritz 2/4 pers",
          "Beau T2 centre Biarritz",
          "Maison au coeur de Biarritz avec terrasse & garage",
          "T4 Biarritz au calme 2 Sdb",
          "T3 au coeur de Biarritz tout à pied",
          "Hyper centre F2. de 40m2 traversant.",
          "Charming apartment city center-Grande Plage 5 min walking",
          "Appartement lumineux et calme rue Moussempès",
          "Studio à 2 pas des plages au cœur de Biarritz",
          "Pleasant studio - near ocean",
          "200m de la plage, beau 3 pièces pour 6 personnes",
          "location d’été appartement Biarritz Centre",
          "Centre Biarritz 300 m de la plage",
          "2** Les Petites Cyclades, 2 ch av SDB, Pkg sécur",
          "Charmant T3 au cœur du centre ville de Biarritz",
          "T3 proche centre ville et plages à pied",
          "Appartement neuf et calme, hypercentre, 2 balcons.",
          "Biarritz hyper centre",
          "3P rénové à 200m Grande Plage avec  parking",
          "Maison de ville 10 minutes  à pied grande plage.",
          "Biarritz hypercentre, T3, 2 chambres",
          "Charmant triplex T3 vue mer en plein centre ville",
          "MAISON 5* PISCINE, CENTRE HALLES,GARAGES,PLAGE à p",
          "70m2 Hyper centre/Gde Plage, parking couvert, wifi",
          "Charmant 90m2 dans maison basque avec jardin",
          "Appartement plein centre / Grande plage",
          "Superbe T3, Biarritz centre et proche des plages",
          "appartment Brigitte",
          "Bel appartement à 500m de la Grande Plage",
          "OSSUNA • KEYWEEK Very nice apartment close the main beach in Biarritz",
          "Villa Juancho",
          "Appartement Terrasse Hypercentre Biarritz",
          "Studio calme - Ultra centre les Halles - Vue phare",
          "Adorable appartement aux Halles",
          "Appartement de charme en plein coeur de Biarritz",
          "Joli appartement au cœur des halles de Biarritz",
          "Authentic apartment with a ocean view",
          "Contemporary junior suite - Halles, Biarritz",
          "Charmant Appartement de 45 m2 aux Halles",
          "Agréable appartement // Grande terrasse",
          "Charming 3*** 3br with breathtaking seaview in Biarritz center - Welkeys",
          "Spacious 100sqm apartment in Biarritz center",
          "T2+Mezzanine Cosy, Balcon, 150m Halles&Plage, 30m2",
          "Superb design 1 bedroom, heart of town, Ocean view",
          "Hyper centre : Appartement avec grande terrasse",
          "Clemenceau - FR-1-239-658",
          "Bellevue Clemenceau for 2 persons.",
          "Apartment in the center of Biarritz",
          "PROMO Haussman -Elegant 2 bedrooms flat in the heart of Biarritz- Parking",
          "BELLEVUE · KEYWEEK Elegant Apartment with Elevator, Ocean View in Biarritz",
          "appartement hyper centre Biarritz, plage à pied",
          "Appartement vue mer dans l'hypercentre de Biarritz",
          "Appartement 5 pers, au centre-ville/plages a 50 m",
          "Superbe loft ,Halles et plages",
          "CITY VIEW • KEYWEEK Apartment in the heart of Biarritz close to the beach",
          "T3, hypercentre, vue mer, Halles et plage à pieds",
          "Appartement spacieux au coeur de Biarritz",
          "Plage 450m, Marché 200m : hyper centre ! parking !",
          "TONIC BELLEVUE BY FIRSTLIDAYS",
          "Studio \"Surf Rétro\", coeur du Quartier des Halles",
          "Biarritz hyper centre, en mode tout à pied !",
          "Jean Bart - offrez-vous Biarritz à pied - FR-1-239-498",
          "Coquet T2bis Biarritz centre pour 3 personnes",
          "Bright duplex appartment citycenter",
          "non dispo",
          "Biarritz: aux Halles, terrasse, olivier et jasmin",
          "Chez « Alban »",
          "Très bel appartement, hyper-centre de Biarritz.",
          "Superb duplex, heart of Biarritz",
          "Bel appartement en plein cœur de Biarritz",
          "Charmant T3 à 2 pas de la plage.",
          "Biarritz Halles / Ambiance pop Art / balcon",
          "Studio proche des plages au coeur de Biarritz",
          "Aperçu océan rénové hypercentre, plage à pied",
          "Superbe petit appartement avec parking privé",
          "GuestReady - Charming Duplex with a Park View",
          "Biarritz tout à pied",
          "Du bleu à perte de vue pour ce charmant studio - FR-1-3-383",
          "Appartement T3 Pavillon d'Angleterre vue mer",
          "Holiday flat with balcony and ocean view in Biarritz town centre",
          "PARK VIEW BY FIRSTLIDAYS"
         ],
         "lat": [
          43.48146,
          43.482792,
          43.48337,
          43.48265,
          43.48491,
          43.48389,
          43.48526,
          43.48257,
          43.48475,
          43.4846,
          43.48238,
          43.48384,
          43.48391,
          43.48235,
          43.48375,
          43.48507,
          43.48475,
          43.48161,
          43.48494,
          43.48052,
          43.48504,
          43.48347,
          43.48497,
          43.48517,
          43.484795,
          43.48535,
          43.4829,
          43.48325,
          43.48475,
          43.48485,
          43.48463,
          43.48464,
          43.4851,
          43.48377,
          43.48139,
          43.48347,
          43.48409,
          43.48033,
          43.484,
          43.48174,
          43.48056,
          43.48459,
          43.48457,
          43.48508,
          43.48426,
          43.48292,
          43.48443,
          43.48217,
          43.48383,
          43.48136,
          43.4841,
          43.48126,
          43.4818,
          43.48363,
          43.4832,
          43.48473,
          43.48342,
          43.48475,
          43.48343,
          43.48291,
          43.481083,
          43.48082,
          43.48192,
          43.48448,
          43.48067,
          43.48549,
          43.48427,
          43.48141,
          43.4848,
          43.48434,
          43.48158,
          43.48476,
          43.48541,
          43.48205,
          43.48402,
          43.48317,
          43.48102,
          43.48234,
          43.484978,
          43.48044,
          43.48389,
          43.483635,
          43.48061,
          43.48451,
          43.48115,
          43.48457,
          43.48257,
          43.48095,
          43.48434,
          43.48359,
          43.48351,
          43.48194,
          43.482609,
          43.48457,
          43.48377,
          43.48315,
          43.48481,
          43.48349,
          43.48129,
          43.48206,
          43.482105,
          43.48235,
          43.4854,
          43.482258,
          43.48165,
          43.48163,
          43.48364,
          43.48353,
          43.48299,
          43.48487,
          43.48498,
          43.48398,
          43.48295,
          43.4851,
          43.48216,
          43.48448,
          43.48311,
          43.4811,
          43.4849,
          43.48372,
          43.48374,
          43.48259,
          43.48416,
          43.48194,
          43.48457,
          43.48201,
          43.48136,
          43.48479,
          43.48315,
          43.48351,
          43.48255,
          43.48136,
          43.4811,
          43.48182,
          43.485046,
          43.48166,
          43.48412,
          43.48029,
          43.48322,
          43.48331,
          43.48507,
          43.4845,
          43.48064,
          43.482647,
          43.485008,
          43.4831,
          43.48275,
          43.48507,
          43.48542,
          43.48487,
          43.48166,
          43.48004,
          43.48449,
          43.48282,
          43.48213,
          43.48293,
          43.4823,
          43.48322,
          43.4832,
          43.48454,
          43.48311,
          43.4843,
          43.48066,
          43.48191,
          43.48323,
          43.48442,
          43.48357,
          43.48246,
          43.48417,
          43.48207,
          43.48539,
          43.48268,
          43.48254,
          43.48163,
          43.48188,
          43.4805,
          43.48214,
          43.48143,
          43.48236,
          43.48264,
          43.48117,
          43.48007,
          43.48119,
          43.48069,
          43.48389,
          43.480305,
          43.48323,
          43.48338,
          43.4841,
          43.48435,
          43.48376,
          43.4838,
          43.48443,
          43.482697,
          43.48328,
          43.48228,
          43.48315,
          43.48487,
          43.48227,
          43.48396,
          43.48326,
          43.48508,
          43.48138,
          43.48282,
          43.48193,
          43.48139,
          43.48122,
          43.48518,
          43.48051,
          43.48516,
          43.48489,
          43.48491,
          43.48349,
          43.48264,
          43.48064,
          43.48436,
          43.48149,
          43.48487,
          43.48136,
          43.48089,
          43.482441,
          43.48529,
          43.48123,
          43.4845,
          43.48033,
          43.48025,
          43.48261,
          43.481171,
          43.48475,
          43.480453,
          43.48177,
          43.48255,
          43.48437,
          43.48297,
          43.48323,
          43.48107,
          43.48457,
          43.48367,
          43.48021,
          43.48278,
          43.48317,
          43.48272,
          43.48349,
          43.48099,
          43.48503,
          43.48515,
          43.482735,
          43.480297,
          43.48186,
          43.48388,
          43.48457,
          43.48359,
          43.48465,
          43.48078,
          43.4842,
          43.48055,
          43.48522,
          43.48454,
          43.485294,
          43.48184,
          43.482746,
          43.4811,
          43.48322,
          43.48413,
          43.4819,
          43.483,
          43.48346,
          43.48044,
          43.48119,
          43.48208,
          43.48253,
          43.48043,
          43.482037,
          43.48441,
          43.48341,
          43.484413,
          43.48308,
          43.48499,
          43.48324,
          43.48141,
          43.48489,
          43.48095,
          43.48214,
          43.48039,
          43.48413,
          43.48341,
          43.48037,
          43.48254,
          43.48378,
          43.48235,
          43.48074,
          43.48211,
          43.48073,
          43.48509,
          43.48376,
          43.48269,
          43.48345,
          43.48123,
          43.48384,
          43.48546,
          43.48412,
          43.48502,
          43.48191,
          43.48389,
          43.4846,
          43.484753,
          43.48169,
          43.48156,
          43.48389,
          43.48311,
          43.48483,
          43.48324,
          43.48338,
          43.48309,
          43.48312,
          43.48457,
          43.48365,
          43.48344,
          43.48502,
          43.48488,
          43.48473,
          43.48309,
          43.48459,
          43.48429,
          43.48362,
          43.48319,
          43.48298,
          43.4838,
          43.48348,
          43.4831,
          43.48518,
          43.4834,
          43.482388,
          43.48273,
          43.48154,
          43.48224,
          43.48121,
          43.48129,
          43.48318,
          43.48203,
          43.48537,
          43.48293,
          43.48009,
          43.48293,
          43.48301,
          43.48104,
          43.48339,
          43.48283,
          43.48507,
          43.48515,
          43.48428,
          43.48484,
          43.48516,
          43.48351,
          43.48294,
          43.48045,
          43.48288,
          43.48372,
          43.484608,
          43.48425,
          43.48513,
          43.48497,
          43.48542,
          43.48235,
          43.48118,
          43.4801,
          43.48119,
          43.48122,
          43.48062,
          43.48071,
          43.48186,
          43.48204,
          43.48029,
          43.482349,
          43.48178,
          43.4833,
          43.48216,
          43.48407,
          43.48045,
          43.48443,
          43.480976,
          43.48239,
          43.48257,
          43.48332,
          43.48031,
          43.48504,
          43.48084,
          43.4837,
          43.48426,
          43.48061,
          43.48322,
          43.48282,
          43.48111,
          43.48344,
          43.48425,
          43.48333,
          43.4828,
          43.4834,
          43.48464,
          43.48313,
          43.48397,
          43.482609,
          43.48286,
          43.48517,
          43.48415,
          43.48319,
          43.48299,
          43.48289,
          43.48301,
          43.48461,
          43.48352,
          43.48315,
          43.48323,
          43.48323,
          43.48075,
          43.48315,
          43.48502,
          43.48427,
          43.48366,
          43.48341,
          43.48363,
          43.48294,
          43.48318,
          43.48282,
          43.48367,
          43.484,
          43.483757,
          43.48344,
          43.48413,
          43.48412,
          43.48281,
          43.48346,
          43.48447,
          43.48294,
          43.482224,
          43.48292,
          43.48338,
          43.48352,
          43.48296,
          43.48429,
          43.48316,
          43.48254,
          43.48004,
          43.481,
          43.48114,
          43.48197,
          43.48117,
          43.48135,
          43.48219,
          43.48161,
          43.48245,
          43.480667,
          43.48106,
          43.48113,
          43.48014,
          43.48215,
          43.48211,
          43.48222,
          43.48215,
          43.48045,
          43.48069,
          43.4816,
          43.48115,
          43.48239,
          43.48253,
          43.4827,
          43.48132,
          43.48167,
          43.481564,
          43.48038,
          43.48072,
          43.4822,
          43.48184,
          43.48275,
          43.48264,
          43.48155,
          43.48186,
          43.4805,
          43.48064,
          43.48211,
          43.48267,
          43.48274,
          43.48172,
          43.48125,
          43.48231,
          43.48023,
          43.48156,
          43.48143,
          43.48151,
          43.48214,
          43.481358,
          43.48121,
          43.48155,
          43.48222,
          43.48158,
          43.48135,
          43.48126,
          43.48164,
          43.48015,
          43.48008,
          43.48153,
          43.48021,
          43.48071,
          43.48128,
          43.4825,
          43.48152,
          43.48092,
          43.48135,
          43.48133,
          43.48153,
          43.48131,
          43.4803,
          43.480564,
          43.48134,
          43.48226,
          43.48149,
          43.48182,
          43.48077,
          43.48209,
          43.48211,
          43.4809,
          43.48255,
          43.481823,
          43.48195,
          43.48185,
          43.48012,
          43.4822,
          43.48197,
          43.48182,
          43.48229,
          43.48109,
          43.48232,
          43.48233,
          43.48021,
          43.48167,
          43.48021,
          43.48185,
          43.48261,
          43.48168,
          43.48052,
          43.48021,
          43.48266,
          43.48071,
          43.48176,
          43.48107,
          43.48115,
          43.48199,
          43.48253,
          43.4819,
          43.480709,
          43.48119,
          43.48106,
          43.48215,
          43.482609,
          43.48149,
          43.48019,
          43.48159,
          43.48155,
          43.48238,
          43.4825,
          43.48021,
          43.4824,
          43.4827,
          43.480251,
          43.48078,
          43.48186,
          43.48012,
          43.482,
          43.48108,
          43.48267,
          43.48045,
          43.48099,
          43.48074,
          43.48183,
          43.48238,
          43.48119,
          43.4811,
          43.48007,
          43.48063,
          43.48122,
          43.48005,
          43.48213,
          43.48125,
          43.48134,
          43.482388,
          43.48109,
          43.48064,
          43.48025
         ],
         "legendgroup": "Entire home/apt",
         "lon": [
          -1.55377,
          -1.558055,
          -1.55719,
          -1.56135,
          -1.55719,
          -1.55875,
          -1.55763,
          -1.55889,
          -1.55726,
          -1.55726,
          -1.55577,
          -1.55617,
          -1.55716,
          -1.56105,
          -1.55851,
          -1.55706,
          -1.55908,
          -1.5602,
          -1.55832,
          -1.55904,
          -1.55475,
          -1.5564,
          -1.55691,
          -1.55525,
          -1.556773,
          -1.55682,
          -1.55558,
          -1.55513,
          -1.55726,
          -1.55779,
          -1.55461,
          -1.55776,
          -1.55528,
          -1.55755,
          -1.55674,
          -1.56102,
          -1.55627,
          -1.55737,
          -1.55587,
          -1.55413,
          -1.55915,
          -1.55723,
          -1.55756,
          -1.55699,
          -1.55657,
          -1.55455,
          -1.55766,
          -1.55895,
          -1.55868,
          -1.55774,
          -1.5574,
          -1.55876,
          -1.55722,
          -1.56113,
          -1.56027,
          -1.55799,
          -1.56091,
          -1.55726,
          -1.5575,
          -1.55997,
          -1.557525,
          -1.55515,
          -1.55904,
          -1.5544,
          -1.55673,
          -1.55689,
          -1.55971,
          -1.5618,
          -1.55557,
          -1.55595,
          -1.55732,
          -1.55569,
          -1.55624,
          -1.56087,
          -1.55784,
          -1.55606,
          -1.55627,
          -1.55636,
          -1.554132,
          -1.55963,
          -1.55705,
          -1.559254,
          -1.55655,
          -1.55964,
          -1.55815,
          -1.55756,
          -1.55762,
          -1.55851,
          -1.55494,
          -1.55615,
          -1.55531,
          -1.55404,
          -1.560922,
          -1.55756,
          -1.55913,
          -1.56138,
          -1.55709,
          -1.55854,
          -1.55903,
          -1.56044,
          -1.555104,
          -1.55768,
          -1.55565,
          -1.559593,
          -1.56162,
          -1.55892,
          -1.55394,
          -1.5561,
          -1.55621,
          -1.55713,
          -1.55574,
          -1.55987,
          -1.55529,
          -1.55533,
          -1.55936,
          -1.5554,
          -1.55689,
          -1.56097,
          -1.55608,
          -1.55652,
          -1.56183,
          -1.55972,
          -1.55679,
          -1.56132,
          -1.55756,
          -1.55708,
          -1.56119,
          -1.55685,
          -1.55863,
          -1.55793,
          -1.55633,
          -1.55729,
          -1.55839,
          -1.5556,
          -1.556118,
          -1.56106,
          -1.55691,
          -1.56159,
          -1.55674,
          -1.5544,
          -1.55871,
          -1.55411,
          -1.55584,
          -1.561351,
          -1.55683,
          -1.55554,
          -1.56044,
          -1.55818,
          -1.55526,
          -1.55712,
          -1.55475,
          -1.55632,
          -1.55604,
          -1.55799,
          -1.55494,
          -1.55696,
          -1.55658,
          -1.55729,
          -1.5574,
          -1.55768,
          -1.55772,
          -1.55418,
          -1.5619,
          -1.55994,
          -1.5566,
          -1.55792,
          -1.55441,
          -1.55637,
          -1.55642,
          -1.56067,
          -1.55567,
          -1.55458,
          -1.55663,
          -1.56135,
          -1.55941,
          -1.5595,
          -1.55723,
          -1.55628,
          -1.55615,
          -1.56029,
          -1.56091,
          -1.56183,
          -1.56005,
          -1.55481,
          -1.55799,
          -1.557436,
          -1.55806,
          -1.55578,
          -1.55486,
          -1.55604,
          -1.55398,
          -1.56072,
          -1.55574,
          -1.560196,
          -1.55607,
          -1.55946,
          -1.55863,
          -1.55712,
          -1.55594,
          -1.55787,
          -1.55648,
          -1.55411,
          -1.55774,
          -1.55741,
          -1.559,
          -1.56207,
          -1.56219,
          -1.55553,
          -1.56049,
          -1.55744,
          -1.55786,
          -1.55717,
          -1.55386,
          -1.56041,
          -1.56223,
          -1.55492,
          -1.55669,
          -1.55569,
          -1.55972,
          -1.55742,
          -1.55422,
          -1.55729,
          -1.5564,
          -1.55746,
          -1.55663,
          -1.55929,
          -1.56092,
          -1.556822,
          -1.55443,
          -1.560321,
          -1.56086,
          -1.56027,
          -1.55611,
          -1.55461,
          -1.55418,
          -1.55904,
          -1.55756,
          -1.55903,
          -1.56147,
          -1.56199,
          -1.55502,
          -1.55783,
          -1.562,
          -1.55986,
          -1.55498,
          -1.55576,
          -1.554327,
          -1.554482,
          -1.5617,
          -1.55714,
          -1.55756,
          -1.55615,
          -1.55646,
          -1.56119,
          -1.55668,
          -1.55392,
          -1.55707,
          -1.55488,
          -1.554767,
          -1.5586,
          -1.56094,
          -1.56024,
          -1.55722,
          -1.55637,
          -1.56202,
          -1.55758,
          -1.55782,
          -1.55941,
          -1.56187,
          -1.55631,
          -1.5576,
          -1.5618,
          -1.562132,
          -1.55611,
          -1.5547,
          -1.556106,
          -1.56087,
          -1.5542,
          -1.55856,
          -1.55811,
          -1.55471,
          -1.55886,
          -1.55851,
          -1.55661,
          -1.55585,
          -1.55565,
          -1.55736,
          -1.55764,
          -1.55819,
          -1.5622,
          -1.55987,
          -1.55954,
          -1.5557,
          -1.55692,
          -1.55637,
          -1.55537,
          -1.56153,
          -1.56142,
          -1.55417,
          -1.55696,
          -1.55774,
          -1.55559,
          -1.5579,
          -1.55639,
          -1.55603,
          -1.557259,
          -1.55979,
          -1.55441,
          -1.5565,
          -1.55602,
          -1.55688,
          -1.55618,
          -1.55692,
          -1.55511,
          -1.55801,
          -1.55596,
          -1.55674,
          -1.55752,
          -1.55687,
          -1.55713,
          -1.55621,
          -1.55685,
          -1.5555,
          -1.55653,
          -1.55553,
          -1.55471,
          -1.55414,
          -1.55774,
          -1.55608,
          -1.55696,
          -1.55435,
          -1.55886,
          -1.561632,
          -1.56041,
          -1.56062,
          -1.56073,
          -1.55909,
          -1.55802,
          -1.55737,
          -1.56109,
          -1.55837,
          -1.55669,
          -1.55813,
          -1.56102,
          -1.56097,
          -1.55955,
          -1.56107,
          -1.56087,
          -1.55806,
          -1.55664,
          -1.55446,
          -1.55483,
          -1.55539,
          -1.55608,
          -1.56066,
          -1.56206,
          -1.55474,
          -1.55686,
          -1.55667,
          -1.55404,
          -1.55656,
          -1.55481,
          -1.55646,
          -1.55962,
          -1.56025,
          -1.56161,
          -1.56187,
          -1.56206,
          -1.55987,
          -1.55713,
          -1.55821,
          -1.56145,
          -1.55879,
          -1.561719,
          -1.5617,
          -1.55963,
          -1.55812,
          -1.56066,
          -1.56102,
          -1.55952,
          -1.558327,
          -1.56163,
          -1.56208,
          -1.56221,
          -1.55976,
          -1.55819,
          -1.56221,
          -1.56122,
          -1.56167,
          -1.5609,
          -1.56154,
          -1.56167,
          -1.56137,
          -1.55891,
          -1.55843,
          -1.56015,
          -1.56194,
          -1.55905,
          -1.5589,
          -1.56032,
          -1.55841,
          -1.559407,
          -1.56165,
          -1.55909,
          -1.5584,
          -1.55848,
          -1.56092,
          -1.56171,
          -1.56046,
          -1.55888,
          -1.55815,
          -1.55863,
          -1.56146,
          -1.56177,
          -1.56146,
          -1.55863,
          -1.55832,
          -1.55827,
          -1.56073,
          -1.55902,
          -1.55895,
          -1.55944,
          -1.5613,
          -1.55902,
          -1.55809,
          -1.55838,
          -1.55866,
          -1.5588,
          -1.55813,
          -1.55821,
          -1.56175,
          -1.56065,
          -1.55898,
          -1.56173,
          -1.561221,
          -1.55935,
          -1.55909,
          -1.55909,
          -1.55991,
          -1.55971,
          -1.56207,
          -1.55727,
          -1.56204,
          -1.56188,
          -1.55555,
          -1.55924,
          -1.55816,
          -1.56015,
          -1.56094,
          -1.55852,
          -1.55839,
          -1.557548,
          -1.55904,
          -1.55846,
          -1.5582,
          -1.55729,
          -1.55901,
          -1.55877,
          -1.55914,
          -1.55811,
          -1.5583,
          -1.55912,
          -1.55634,
          -1.55564,
          -1.55382,
          -1.55685,
          -1.55423,
          -1.5558,
          -1.55651,
          -1.55714,
          -1.55683,
          -1.5541,
          -1.55717,
          -1.55773,
          -1.55572,
          -1.5571,
          -1.55664,
          -1.55738,
          -1.55786,
          -1.5551,
          -1.55759,
          -1.55698,
          -1.55799,
          -1.55486,
          -1.55418,
          -1.55466,
          -1.55558,
          -1.5565,
          -1.55732,
          -1.5562,
          -1.557738,
          -1.55734,
          -1.55626,
          -1.55547,
          -1.55747,
          -1.55403,
          -1.55661,
          -1.55698,
          -1.55702,
          -1.55443,
          -1.55636,
          -1.55718,
          -1.55702,
          -1.55659,
          -1.55519,
          -1.55683,
          -1.55663,
          -1.55755,
          -1.55421,
          -1.55535,
          -1.55439,
          -1.55754,
          -1.557944,
          -1.55612,
          -1.55556,
          -1.55716,
          -1.55793,
          -1.55751,
          -1.55714,
          -1.55476,
          -1.55746,
          -1.55726,
          -1.555647,
          -1.5561,
          -1.55447,
          -1.55597,
          -1.55759,
          -1.55705,
          -1.55761,
          -1.55789,
          -1.55659,
          -1.55759,
          -1.55702,
          -1.55402,
          -1.5541,
          -1.55579,
          -1.55527,
          -1.55408,
          -1.562,
          -1.56191,
          -1.56225,
          -1.56122,
          -1.55995,
          -1.5601,
          -1.56206,
          -1.56158,
          -1.5587,
          -1.55827,
          -1.56203,
          -1.559948,
          -1.56187,
          -1.56079,
          -1.55948,
          -1.560922,
          -1.56189,
          -1.56155,
          -1.56176,
          -1.56099,
          -1.55955,
          -1.56212,
          -1.56225,
          -1.5591,
          -1.56175,
          -1.55964,
          -1.56026,
          -1.56097,
          -1.56128,
          -1.55932,
          -1.55812,
          -1.56019,
          -1.5584,
          -1.55968,
          -1.56174,
          -1.55814,
          -1.56152,
          -1.56187,
          -1.55811,
          -1.55883,
          -1.56173,
          -1.55838,
          -1.56133,
          -1.56047,
          -1.5586,
          -1.56153,
          -1.561632,
          -1.56162,
          -1.55969,
          -1.55964
         ],
         "marker": {
          "color": "lightgray"
         },
         "mode": "markers",
         "name": "Entire home/apt",
         "showlegend": true,
         "subplot": "mapbox",
         "type": "scattermapbox"
        },
        {
         "customdata": [
          [
           "Private room",
           "http://www.airbnb.com/rooms/43389495",
           ""
          ],
          [
           "Private room",
           "http://www.airbnb.com/rooms/7541040",
           ""
          ],
          [
           "Private room",
           "http://www.airbnb.com/rooms/11076598",
           ""
          ],
          [
           "Private room",
           "http://www.airbnb.com/rooms/44996231",
           ""
          ],
          [
           "Private room",
           "http://www.airbnb.com/rooms/43390548",
           ""
          ],
          [
           "Private room",
           "http://www.airbnb.com/rooms/43389865",
           ""
          ],
          [
           "Private room",
           "http://www.airbnb.com/rooms/51383338",
           ""
          ],
          [
           "Private room",
           "http://www.airbnb.com/rooms/587663",
           ""
          ],
          [
           "Private room",
           "http://www.airbnb.com/rooms/24026746",
           ""
          ],
          [
           "Private room",
           "http://www.airbnb.com/rooms/18083075",
           ""
          ],
          [
           "Private room",
           "http://www.airbnb.com/rooms/19757963",
           ""
          ],
          [
           "Private room",
           "http://www.airbnb.com/rooms/38031559",
           ""
          ],
          [
           "Private room",
           "http://www.airbnb.com/rooms/11683258",
           ""
          ]
         ],
         "hovertemplate": "<b>%{hovertext}</b><br><br>room_type=%{customdata[0]}<br>latitude=%{lat}<br>longitude=%{lon}<br>room_link=%{customdata[1]}<br>license=%{customdata[2]}<extra></extra>",
         "hovertext": [
          "Les Tourelles -Deluxe Bedroom",
          "Petite Chambre à Biarritz avec vue terrasse sud",
          "Chambre à louer chez un particulier (centre ville)",
          "Petit studio centre ville + TV Wifi + longboard🏄‍♂️",
          "Les Tourelles - Family/Friends Suite",
          "Les Tourelles - Premium Bedroom",
          "Biarritz centre ville 2 min de la grand plage.",
          "VillaEtxeGorria (1) Biarritz center",
          "Seaview",
          "chambre chez l'habitant idéal surfeur",
          "Small room / little price — 200m Grande Plage",
          "Chambre dans un bel appartement à 500m de la plage",
          "Petite chambre rouge avec vu sur jardin"
         ],
         "lat": [
          43.48308,
          43.48018,
          43.48369,
          43.48318,
          43.48288,
          43.48106,
          43.48429,
          43.48012,
          43.48474,
          43.48097,
          43.48206,
          43.48192,
          43.48018
         ],
         "legendgroup": "Private room",
         "lon": [
          -1.55535,
          -1.56063,
          -1.55576,
          -1.55822,
          -1.55613,
          -1.55583,
          -1.55593,
          -1.55837,
          -1.55981,
          -1.55776,
          -1.55705,
          -1.55712,
          -1.56063
         ],
         "marker": {
          "color": "red"
         },
         "mode": "markers",
         "name": "Private room",
         "showlegend": true,
         "subplot": "mapbox",
         "type": "scattermapbox"
        },
        {
         "customdata": [
          [
           "Hotel room",
           "http://www.airbnb.com/rooms/27568293",
           ""
          ],
          [
           "Hotel room",
           "http://www.airbnb.com/rooms/27568291",
           ""
          ],
          [
           "Hotel room",
           "http://www.airbnb.com/rooms/27568301",
           ""
          ],
          [
           "Hotel room",
           "http://www.airbnb.com/rooms/27568299",
           ""
          ],
          [
           "Hotel room",
           "http://www.airbnb.com/rooms/43561460",
           ""
          ]
         ],
         "hovertemplate": "<b>%{hovertext}</b><br><br>room_type=%{customdata[0]}<br>latitude=%{lat}<br>longitude=%{lon}<br>room_link=%{customdata[1]}<br>license=%{customdata[2]}<extra></extra>",
         "hovertext": [
          "Triple Room",
          "Deluxe Room",
          "Family Room",
          "Standard Room",
          "Hôtel Au Bon Coin Biarritz"
         ],
         "lat": [
          43.48544,
          43.48417,
          43.48427,
          43.48454,
          43.48225
         ],
         "legendgroup": "Hotel room",
         "lon": [
          -1.55589,
          -1.55722,
          -1.55608,
          -1.55647,
          -1.55438
         ],
         "marker": {
          "color": "blue"
         },
         "mode": "markers",
         "name": "Hotel room",
         "showlegend": true,
         "subplot": "mapbox",
         "type": "scattermapbox"
        }
       ],
       "layout": {
        "legend": {
         "title": {
          "text": "room_type"
         },
         "tracegroupgap": 0
        },
        "mapbox": {
         "accesstoken": "pk.eyJ1IjoibWF6ZWx4IiwiYSI6ImNqOG9tODMzYzA1MnAydnBjZG5lYTR4bGwifQ.R7lZcLkJejwX4D4--1yMSA",
         "center": {
          "lat": 43.48267878217822,
          "lon": -1.5580015676567658
         },
         "domain": {
          "x": [
           0,
           1
          ],
          "y": [
           0,
           1
          ]
         },
         "zoom": 14
        },
        "margin": {
         "t": 60
        },
        "template": {
         "data": {
          "bar": [
           {
            "error_x": {
             "color": "#2a3f5f"
            },
            "error_y": {
             "color": "#2a3f5f"
            },
            "marker": {
             "line": {
              "color": "#E5ECF6",
              "width": 0.5
             },
             "pattern": {
              "fillmode": "overlay",
              "size": 10,
              "solidity": 0.2
             }
            },
            "type": "bar"
           }
          ],
          "barpolar": [
           {
            "marker": {
             "line": {
              "color": "#E5ECF6",
              "width": 0.5
             },
             "pattern": {
              "fillmode": "overlay",
              "size": 10,
              "solidity": 0.2
             }
            },
            "type": "barpolar"
           }
          ],
          "carpet": [
           {
            "aaxis": {
             "endlinecolor": "#2a3f5f",
             "gridcolor": "white",
             "linecolor": "white",
             "minorgridcolor": "white",
             "startlinecolor": "#2a3f5f"
            },
            "baxis": {
             "endlinecolor": "#2a3f5f",
             "gridcolor": "white",
             "linecolor": "white",
             "minorgridcolor": "white",
             "startlinecolor": "#2a3f5f"
            },
            "type": "carpet"
           }
          ],
          "choropleth": [
           {
            "colorbar": {
             "outlinewidth": 0,
             "ticks": ""
            },
            "type": "choropleth"
           }
          ],
          "contour": [
           {
            "colorbar": {
             "outlinewidth": 0,
             "ticks": ""
            },
            "colorscale": [
             [
              0,
              "#0d0887"
             ],
             [
              0.1111111111111111,
              "#46039f"
             ],
             [
              0.2222222222222222,
              "#7201a8"
             ],
             [
              0.3333333333333333,
              "#9c179e"
             ],
             [
              0.4444444444444444,
              "#bd3786"
             ],
             [
              0.5555555555555556,
              "#d8576b"
             ],
             [
              0.6666666666666666,
              "#ed7953"
             ],
             [
              0.7777777777777778,
              "#fb9f3a"
             ],
             [
              0.8888888888888888,
              "#fdca26"
             ],
             [
              1,
              "#f0f921"
             ]
            ],
            "type": "contour"
           }
          ],
          "contourcarpet": [
           {
            "colorbar": {
             "outlinewidth": 0,
             "ticks": ""
            },
            "type": "contourcarpet"
           }
          ],
          "heatmap": [
           {
            "colorbar": {
             "outlinewidth": 0,
             "ticks": ""
            },
            "colorscale": [
             [
              0,
              "#0d0887"
             ],
             [
              0.1111111111111111,
              "#46039f"
             ],
             [
              0.2222222222222222,
              "#7201a8"
             ],
             [
              0.3333333333333333,
              "#9c179e"
             ],
             [
              0.4444444444444444,
              "#bd3786"
             ],
             [
              0.5555555555555556,
              "#d8576b"
             ],
             [
              0.6666666666666666,
              "#ed7953"
             ],
             [
              0.7777777777777778,
              "#fb9f3a"
             ],
             [
              0.8888888888888888,
              "#fdca26"
             ],
             [
              1,
              "#f0f921"
             ]
            ],
            "type": "heatmap"
           }
          ],
          "heatmapgl": [
           {
            "colorbar": {
             "outlinewidth": 0,
             "ticks": ""
            },
            "colorscale": [
             [
              0,
              "#0d0887"
             ],
             [
              0.1111111111111111,
              "#46039f"
             ],
             [
              0.2222222222222222,
              "#7201a8"
             ],
             [
              0.3333333333333333,
              "#9c179e"
             ],
             [
              0.4444444444444444,
              "#bd3786"
             ],
             [
              0.5555555555555556,
              "#d8576b"
             ],
             [
              0.6666666666666666,
              "#ed7953"
             ],
             [
              0.7777777777777778,
              "#fb9f3a"
             ],
             [
              0.8888888888888888,
              "#fdca26"
             ],
             [
              1,
              "#f0f921"
             ]
            ],
            "type": "heatmapgl"
           }
          ],
          "histogram": [
           {
            "marker": {
             "pattern": {
              "fillmode": "overlay",
              "size": 10,
              "solidity": 0.2
             }
            },
            "type": "histogram"
           }
          ],
          "histogram2d": [
           {
            "colorbar": {
             "outlinewidth": 0,
             "ticks": ""
            },
            "colorscale": [
             [
              0,
              "#0d0887"
             ],
             [
              0.1111111111111111,
              "#46039f"
             ],
             [
              0.2222222222222222,
              "#7201a8"
             ],
             [
              0.3333333333333333,
              "#9c179e"
             ],
             [
              0.4444444444444444,
              "#bd3786"
             ],
             [
              0.5555555555555556,
              "#d8576b"
             ],
             [
              0.6666666666666666,
              "#ed7953"
             ],
             [
              0.7777777777777778,
              "#fb9f3a"
             ],
             [
              0.8888888888888888,
              "#fdca26"
             ],
             [
              1,
              "#f0f921"
             ]
            ],
            "type": "histogram2d"
           }
          ],
          "histogram2dcontour": [
           {
            "colorbar": {
             "outlinewidth": 0,
             "ticks": ""
            },
            "colorscale": [
             [
              0,
              "#0d0887"
             ],
             [
              0.1111111111111111,
              "#46039f"
             ],
             [
              0.2222222222222222,
              "#7201a8"
             ],
             [
              0.3333333333333333,
              "#9c179e"
             ],
             [
              0.4444444444444444,
              "#bd3786"
             ],
             [
              0.5555555555555556,
              "#d8576b"
             ],
             [
              0.6666666666666666,
              "#ed7953"
             ],
             [
              0.7777777777777778,
              "#fb9f3a"
             ],
             [
              0.8888888888888888,
              "#fdca26"
             ],
             [
              1,
              "#f0f921"
             ]
            ],
            "type": "histogram2dcontour"
           }
          ],
          "mesh3d": [
           {
            "colorbar": {
             "outlinewidth": 0,
             "ticks": ""
            },
            "type": "mesh3d"
           }
          ],
          "parcoords": [
           {
            "line": {
             "colorbar": {
              "outlinewidth": 0,
              "ticks": ""
             }
            },
            "type": "parcoords"
           }
          ],
          "pie": [
           {
            "automargin": true,
            "type": "pie"
           }
          ],
          "scatter": [
           {
            "marker": {
             "colorbar": {
              "outlinewidth": 0,
              "ticks": ""
             }
            },
            "type": "scatter"
           }
          ],
          "scatter3d": [
           {
            "line": {
             "colorbar": {
              "outlinewidth": 0,
              "ticks": ""
             }
            },
            "marker": {
             "colorbar": {
              "outlinewidth": 0,
              "ticks": ""
             }
            },
            "type": "scatter3d"
           }
          ],
          "scattercarpet": [
           {
            "marker": {
             "colorbar": {
              "outlinewidth": 0,
              "ticks": ""
             }
            },
            "type": "scattercarpet"
           }
          ],
          "scattergeo": [
           {
            "marker": {
             "colorbar": {
              "outlinewidth": 0,
              "ticks": ""
             }
            },
            "type": "scattergeo"
           }
          ],
          "scattergl": [
           {
            "marker": {
             "colorbar": {
              "outlinewidth": 0,
              "ticks": ""
             }
            },
            "type": "scattergl"
           }
          ],
          "scattermapbox": [
           {
            "marker": {
             "colorbar": {
              "outlinewidth": 0,
              "ticks": ""
             }
            },
            "type": "scattermapbox"
           }
          ],
          "scatterpolar": [
           {
            "marker": {
             "colorbar": {
              "outlinewidth": 0,
              "ticks": ""
             }
            },
            "type": "scatterpolar"
           }
          ],
          "scatterpolargl": [
           {
            "marker": {
             "colorbar": {
              "outlinewidth": 0,
              "ticks": ""
             }
            },
            "type": "scatterpolargl"
           }
          ],
          "scatterternary": [
           {
            "marker": {
             "colorbar": {
              "outlinewidth": 0,
              "ticks": ""
             }
            },
            "type": "scatterternary"
           }
          ],
          "surface": [
           {
            "colorbar": {
             "outlinewidth": 0,
             "ticks": ""
            },
            "colorscale": [
             [
              0,
              "#0d0887"
             ],
             [
              0.1111111111111111,
              "#46039f"
             ],
             [
              0.2222222222222222,
              "#7201a8"
             ],
             [
              0.3333333333333333,
              "#9c179e"
             ],
             [
              0.4444444444444444,
              "#bd3786"
             ],
             [
              0.5555555555555556,
              "#d8576b"
             ],
             [
              0.6666666666666666,
              "#ed7953"
             ],
             [
              0.7777777777777778,
              "#fb9f3a"
             ],
             [
              0.8888888888888888,
              "#fdca26"
             ],
             [
              1,
              "#f0f921"
             ]
            ],
            "type": "surface"
           }
          ],
          "table": [
           {
            "cells": {
             "fill": {
              "color": "#EBF0F8"
             },
             "line": {
              "color": "white"
             }
            },
            "header": {
             "fill": {
              "color": "#C8D4E3"
             },
             "line": {
              "color": "white"
             }
            },
            "type": "table"
           }
          ]
         },
         "layout": {
          "annotationdefaults": {
           "arrowcolor": "#2a3f5f",
           "arrowhead": 0,
           "arrowwidth": 1
          },
          "autotypenumbers": "strict",
          "coloraxis": {
           "colorbar": {
            "outlinewidth": 0,
            "ticks": ""
           }
          },
          "colorscale": {
           "diverging": [
            [
             0,
             "#8e0152"
            ],
            [
             0.1,
             "#c51b7d"
            ],
            [
             0.2,
             "#de77ae"
            ],
            [
             0.3,
             "#f1b6da"
            ],
            [
             0.4,
             "#fde0ef"
            ],
            [
             0.5,
             "#f7f7f7"
            ],
            [
             0.6,
             "#e6f5d0"
            ],
            [
             0.7,
             "#b8e186"
            ],
            [
             0.8,
             "#7fbc41"
            ],
            [
             0.9,
             "#4d9221"
            ],
            [
             1,
             "#276419"
            ]
           ],
           "sequential": [
            [
             0,
             "#0d0887"
            ],
            [
             0.1111111111111111,
             "#46039f"
            ],
            [
             0.2222222222222222,
             "#7201a8"
            ],
            [
             0.3333333333333333,
             "#9c179e"
            ],
            [
             0.4444444444444444,
             "#bd3786"
            ],
            [
             0.5555555555555556,
             "#d8576b"
            ],
            [
             0.6666666666666666,
             "#ed7953"
            ],
            [
             0.7777777777777778,
             "#fb9f3a"
            ],
            [
             0.8888888888888888,
             "#fdca26"
            ],
            [
             1,
             "#f0f921"
            ]
           ],
           "sequentialminus": [
            [
             0,
             "#0d0887"
            ],
            [
             0.1111111111111111,
             "#46039f"
            ],
            [
             0.2222222222222222,
             "#7201a8"
            ],
            [
             0.3333333333333333,
             "#9c179e"
            ],
            [
             0.4444444444444444,
             "#bd3786"
            ],
            [
             0.5555555555555556,
             "#d8576b"
            ],
            [
             0.6666666666666666,
             "#ed7953"
            ],
            [
             0.7777777777777778,
             "#fb9f3a"
            ],
            [
             0.8888888888888888,
             "#fdca26"
            ],
            [
             1,
             "#f0f921"
            ]
           ]
          },
          "colorway": [
           "#636efa",
           "#EF553B",
           "#00cc96",
           "#ab63fa",
           "#FFA15A",
           "#19d3f3",
           "#FF6692",
           "#B6E880",
           "#FF97FF",
           "#FECB52"
          ],
          "font": {
           "color": "#2a3f5f"
          },
          "geo": {
           "bgcolor": "white",
           "lakecolor": "white",
           "landcolor": "#E5ECF6",
           "showlakes": true,
           "showland": true,
           "subunitcolor": "white"
          },
          "hoverlabel": {
           "align": "left"
          },
          "hovermode": "closest",
          "mapbox": {
           "style": "light"
          },
          "paper_bgcolor": "white",
          "plot_bgcolor": "#E5ECF6",
          "polar": {
           "angularaxis": {
            "gridcolor": "white",
            "linecolor": "white",
            "ticks": ""
           },
           "bgcolor": "#E5ECF6",
           "radialaxis": {
            "gridcolor": "white",
            "linecolor": "white",
            "ticks": ""
           }
          },
          "scene": {
           "xaxis": {
            "backgroundcolor": "#E5ECF6",
            "gridcolor": "white",
            "gridwidth": 2,
            "linecolor": "white",
            "showbackground": true,
            "ticks": "",
            "zerolinecolor": "white"
           },
           "yaxis": {
            "backgroundcolor": "#E5ECF6",
            "gridcolor": "white",
            "gridwidth": 2,
            "linecolor": "white",
            "showbackground": true,
            "ticks": "",
            "zerolinecolor": "white"
           },
           "zaxis": {
            "backgroundcolor": "#E5ECF6",
            "gridcolor": "white",
            "gridwidth": 2,
            "linecolor": "white",
            "showbackground": true,
            "ticks": "",
            "zerolinecolor": "white"
           }
          },
          "shapedefaults": {
           "line": {
            "color": "#2a3f5f"
           }
          },
          "ternary": {
           "aaxis": {
            "gridcolor": "white",
            "linecolor": "white",
            "ticks": ""
           },
           "baxis": {
            "gridcolor": "white",
            "linecolor": "white",
            "ticks": ""
           },
           "bgcolor": "#E5ECF6",
           "caxis": {
            "gridcolor": "white",
            "linecolor": "white",
            "ticks": ""
           }
          },
          "title": {
           "x": 0.05
          },
          "xaxis": {
           "automargin": true,
           "gridcolor": "white",
           "linecolor": "white",
           "ticks": "",
           "title": {
            "standoff": 15
           },
           "zerolinecolor": "white",
           "zerolinewidth": 2
          },
          "yaxis": {
           "automargin": true,
           "gridcolor": "white",
           "linecolor": "white",
           "ticks": "",
           "title": {
            "standoff": 15
           },
           "zerolinecolor": "white",
           "zerolinewidth": 2
          }
         }
        }
       }
      }
     },
     "metadata": {},
     "output_type": "display_data"
    }
   ],
   "source": [
    "fig = px.scatter_mapbox(\n",
    "    df, \n",
    "    lat=\"latitude\", \n",
    "    lon=\"longitude\",     \n",
    "    hover_name=\"name\",\n",
    "    hover_data=[\"room_type\",\"room_url\", \"license\"],\n",
    "    color=\"room_type\", \n",
    "    color_discrete_map={\n",
    "                \"Entire home/apt\": \"lightgray\",\n",
    "                \"Private room\": \"red\",\n",
    "                \"Hotel room\": \"blue\",\n",
    "                },\n",
    "    zoom=14\n",
    "    )\n",
    "\n",
    "fig.show()"
   ]
  },
  {
   "cell_type": "markdown",
   "metadata": {},
   "source": [
    "# How many with license ? (for entire apt only)"
   ]
  },
  {
   "cell_type": "markdown",
   "metadata": {},
   "source": [
    "What is a proper length for license number ?"
   ]
  },
  {
   "cell_type": "code",
   "execution_count": 172,
   "metadata": {},
   "outputs": [
    {
     "data": {
      "application/vnd.plotly.v1+json": {
       "config": {
        "plotlyServerURL": "https://plot.ly"
       },
       "data": [
        {
         "alignmentgroup": "True",
         "bingroup": "x",
         "histnorm": "percent",
         "hovertemplate": "variable=license<br>value=%{x}<br>percent=%{y}<extra></extra>",
         "legendgroup": "license",
         "marker": {
          "color": "#636efa",
          "pattern": {
           "shape": ""
          }
         },
         "name": "license",
         "offsetgroup": "license",
         "orientation": "v",
         "showlegend": true,
         "type": "histogram",
         "x": [
          0,
          0,
          13,
          1,
          13,
          0,
          0,
          0,
          0,
          13,
          13,
          0,
          13,
          13,
          13,
          0,
          0,
          0,
          0,
          15,
          0,
          0,
          0,
          13,
          0,
          0,
          0,
          0,
          0,
          0,
          0,
          13,
          13,
          13,
          0,
          0,
          14,
          0,
          13,
          13,
          0,
          1,
          13,
          13,
          0,
          0,
          11,
          13,
          13,
          0,
          0,
          13,
          13,
          13,
          13,
          13,
          13,
          13,
          13,
          13,
          13,
          0,
          1,
          13,
          13,
          13,
          0,
          0,
          0,
          0,
          13,
          15,
          13,
          0,
          0,
          0,
          0,
          0,
          0,
          0,
          13,
          13,
          14,
          1,
          15,
          13,
          13,
          13,
          0,
          15,
          0,
          0,
          0,
          0,
          1,
          13,
          13,
          13,
          13,
          0,
          13,
          13,
          13,
          14,
          0,
          1,
          13,
          13,
          0,
          0,
          0,
          0,
          0,
          13,
          0,
          0,
          15,
          0,
          13,
          13,
          6,
          13,
          0,
          13,
          13,
          0,
          13,
          0,
          0,
          13,
          0,
          0,
          0,
          0,
          13,
          13,
          13,
          37,
          0,
          13,
          0,
          0,
          13,
          0,
          13,
          0,
          1,
          1,
          0,
          13,
          13,
          13,
          0,
          0,
          0,
          0,
          13,
          13,
          0,
          0,
          13,
          13,
          0,
          13,
          0,
          0,
          15,
          13,
          0,
          0,
          13,
          13,
          0,
          0,
          0,
          13,
          0,
          0,
          0,
          0,
          13,
          13,
          0,
          11,
          13,
          13,
          0,
          0,
          1,
          1,
          0,
          13,
          13,
          0,
          0,
          13,
          0,
          13,
          0,
          15,
          0,
          13,
          0,
          13,
          0,
          0,
          13,
          0,
          0,
          1,
          1,
          1,
          0,
          13,
          0,
          13,
          0,
          13,
          13,
          0,
          0,
          13,
          13,
          13,
          0,
          13,
          0,
          0,
          13,
          15,
          1,
          1,
          1,
          13,
          13,
          0,
          13,
          13,
          13,
          0,
          13,
          0,
          13,
          13,
          0,
          13,
          0,
          0,
          13,
          13,
          0,
          1,
          1,
          1,
          1,
          0,
          0,
          13,
          0,
          0,
          0,
          0,
          0,
          0,
          15,
          0,
          13,
          13,
          0,
          0,
          0,
          0,
          0,
          0,
          0,
          13,
          0,
          0,
          13,
          13,
          13,
          0,
          0,
          13,
          13,
          0,
          13,
          13,
          14,
          15,
          13,
          0,
          13,
          0,
          14,
          13,
          0,
          13,
          0,
          13,
          13,
          13,
          0,
          14,
          0,
          0,
          0,
          0,
          0,
          0,
          0,
          0,
          0,
          0,
          15,
          0,
          0,
          0,
          0,
          13,
          0,
          0,
          0,
          0,
          0,
          0,
          13,
          0,
          0,
          0,
          0,
          0,
          0,
          0,
          0,
          15,
          0,
          0,
          0,
          0,
          13,
          0,
          13,
          0,
          0,
          13,
          13,
          0,
          0,
          13,
          13,
          0,
          13,
          13,
          0,
          0,
          13,
          13,
          0,
          13,
          13,
          14,
          0,
          13,
          0,
          13,
          0,
          0,
          10,
          13,
          13,
          0,
          17,
          0,
          13,
          0,
          14,
          0,
          0,
          0,
          0,
          0,
          0,
          13,
          0,
          0,
          0,
          0,
          0,
          0,
          0,
          0,
          13,
          0,
          13,
          13,
          0,
          0,
          0,
          13,
          0,
          0,
          0,
          15,
          13,
          13,
          0,
          0,
          0,
          13,
          0,
          13,
          0,
          0,
          0,
          13,
          0,
          13,
          0,
          0,
          0,
          0,
          0,
          0,
          0,
          0,
          13,
          0,
          0,
          13,
          0,
          0,
          0,
          13,
          14,
          0,
          0,
          0,
          0,
          0,
          13,
          13,
          0,
          0,
          13,
          13,
          0,
          0,
          0,
          0,
          0,
          13,
          0,
          0,
          13,
          13,
          13,
          1,
          0,
          0,
          0,
          0,
          13,
          0,
          13,
          0,
          0,
          0,
          15,
          0,
          0,
          0,
          0,
          0,
          0,
          0,
          0,
          0,
          0,
          0,
          13,
          13,
          9,
          13,
          13,
          13,
          13,
          13,
          0,
          0,
          0,
          0,
          14,
          13,
          0,
          13,
          0,
          13,
          0,
          0,
          13,
          13,
          13,
          0,
          0,
          0,
          13,
          0,
          13,
          13,
          13,
          0,
          13,
          0,
          13,
          0,
          0,
          0,
          0,
          0,
          0,
          0,
          0,
          0,
          13,
          0,
          0,
          0,
          0,
          0,
          0,
          0,
          14,
          0,
          0,
          13,
          0,
          0,
          0,
          0,
          0,
          0,
          0,
          0,
          0,
          13,
          0,
          13,
          13,
          0,
          13,
          0,
          0,
          13,
          0,
          13,
          13,
          0,
          0,
          0,
          14,
          14,
          0,
          13,
          13,
          0,
          0,
          0,
          13,
          0,
          1,
          13,
          13,
          13,
          0,
          0,
          0,
          0,
          13,
          14,
          0,
          13,
          13,
          0,
          13,
          0,
          0,
          0,
          0,
          0,
          0,
          13,
          0,
          0,
          13,
          0,
          0,
          13,
          11,
          0,
          15,
          13,
          0,
          0,
          12,
          15
         ],
         "xaxis": "x",
         "yaxis": "y"
        }
       ],
       "layout": {
        "barmode": "relative",
        "legend": {
         "title": {
          "text": "variable"
         },
         "tracegroupgap": 0
        },
        "margin": {
         "t": 60
        },
        "template": {
         "data": {
          "bar": [
           {
            "error_x": {
             "color": "#2a3f5f"
            },
            "error_y": {
             "color": "#2a3f5f"
            },
            "marker": {
             "line": {
              "color": "#E5ECF6",
              "width": 0.5
             },
             "pattern": {
              "fillmode": "overlay",
              "size": 10,
              "solidity": 0.2
             }
            },
            "type": "bar"
           }
          ],
          "barpolar": [
           {
            "marker": {
             "line": {
              "color": "#E5ECF6",
              "width": 0.5
             },
             "pattern": {
              "fillmode": "overlay",
              "size": 10,
              "solidity": 0.2
             }
            },
            "type": "barpolar"
           }
          ],
          "carpet": [
           {
            "aaxis": {
             "endlinecolor": "#2a3f5f",
             "gridcolor": "white",
             "linecolor": "white",
             "minorgridcolor": "white",
             "startlinecolor": "#2a3f5f"
            },
            "baxis": {
             "endlinecolor": "#2a3f5f",
             "gridcolor": "white",
             "linecolor": "white",
             "minorgridcolor": "white",
             "startlinecolor": "#2a3f5f"
            },
            "type": "carpet"
           }
          ],
          "choropleth": [
           {
            "colorbar": {
             "outlinewidth": 0,
             "ticks": ""
            },
            "type": "choropleth"
           }
          ],
          "contour": [
           {
            "colorbar": {
             "outlinewidth": 0,
             "ticks": ""
            },
            "colorscale": [
             [
              0,
              "#0d0887"
             ],
             [
              0.1111111111111111,
              "#46039f"
             ],
             [
              0.2222222222222222,
              "#7201a8"
             ],
             [
              0.3333333333333333,
              "#9c179e"
             ],
             [
              0.4444444444444444,
              "#bd3786"
             ],
             [
              0.5555555555555556,
              "#d8576b"
             ],
             [
              0.6666666666666666,
              "#ed7953"
             ],
             [
              0.7777777777777778,
              "#fb9f3a"
             ],
             [
              0.8888888888888888,
              "#fdca26"
             ],
             [
              1,
              "#f0f921"
             ]
            ],
            "type": "contour"
           }
          ],
          "contourcarpet": [
           {
            "colorbar": {
             "outlinewidth": 0,
             "ticks": ""
            },
            "type": "contourcarpet"
           }
          ],
          "heatmap": [
           {
            "colorbar": {
             "outlinewidth": 0,
             "ticks": ""
            },
            "colorscale": [
             [
              0,
              "#0d0887"
             ],
             [
              0.1111111111111111,
              "#46039f"
             ],
             [
              0.2222222222222222,
              "#7201a8"
             ],
             [
              0.3333333333333333,
              "#9c179e"
             ],
             [
              0.4444444444444444,
              "#bd3786"
             ],
             [
              0.5555555555555556,
              "#d8576b"
             ],
             [
              0.6666666666666666,
              "#ed7953"
             ],
             [
              0.7777777777777778,
              "#fb9f3a"
             ],
             [
              0.8888888888888888,
              "#fdca26"
             ],
             [
              1,
              "#f0f921"
             ]
            ],
            "type": "heatmap"
           }
          ],
          "heatmapgl": [
           {
            "colorbar": {
             "outlinewidth": 0,
             "ticks": ""
            },
            "colorscale": [
             [
              0,
              "#0d0887"
             ],
             [
              0.1111111111111111,
              "#46039f"
             ],
             [
              0.2222222222222222,
              "#7201a8"
             ],
             [
              0.3333333333333333,
              "#9c179e"
             ],
             [
              0.4444444444444444,
              "#bd3786"
             ],
             [
              0.5555555555555556,
              "#d8576b"
             ],
             [
              0.6666666666666666,
              "#ed7953"
             ],
             [
              0.7777777777777778,
              "#fb9f3a"
             ],
             [
              0.8888888888888888,
              "#fdca26"
             ],
             [
              1,
              "#f0f921"
             ]
            ],
            "type": "heatmapgl"
           }
          ],
          "histogram": [
           {
            "marker": {
             "pattern": {
              "fillmode": "overlay",
              "size": 10,
              "solidity": 0.2
             }
            },
            "type": "histogram"
           }
          ],
          "histogram2d": [
           {
            "colorbar": {
             "outlinewidth": 0,
             "ticks": ""
            },
            "colorscale": [
             [
              0,
              "#0d0887"
             ],
             [
              0.1111111111111111,
              "#46039f"
             ],
             [
              0.2222222222222222,
              "#7201a8"
             ],
             [
              0.3333333333333333,
              "#9c179e"
             ],
             [
              0.4444444444444444,
              "#bd3786"
             ],
             [
              0.5555555555555556,
              "#d8576b"
             ],
             [
              0.6666666666666666,
              "#ed7953"
             ],
             [
              0.7777777777777778,
              "#fb9f3a"
             ],
             [
              0.8888888888888888,
              "#fdca26"
             ],
             [
              1,
              "#f0f921"
             ]
            ],
            "type": "histogram2d"
           }
          ],
          "histogram2dcontour": [
           {
            "colorbar": {
             "outlinewidth": 0,
             "ticks": ""
            },
            "colorscale": [
             [
              0,
              "#0d0887"
             ],
             [
              0.1111111111111111,
              "#46039f"
             ],
             [
              0.2222222222222222,
              "#7201a8"
             ],
             [
              0.3333333333333333,
              "#9c179e"
             ],
             [
              0.4444444444444444,
              "#bd3786"
             ],
             [
              0.5555555555555556,
              "#d8576b"
             ],
             [
              0.6666666666666666,
              "#ed7953"
             ],
             [
              0.7777777777777778,
              "#fb9f3a"
             ],
             [
              0.8888888888888888,
              "#fdca26"
             ],
             [
              1,
              "#f0f921"
             ]
            ],
            "type": "histogram2dcontour"
           }
          ],
          "mesh3d": [
           {
            "colorbar": {
             "outlinewidth": 0,
             "ticks": ""
            },
            "type": "mesh3d"
           }
          ],
          "parcoords": [
           {
            "line": {
             "colorbar": {
              "outlinewidth": 0,
              "ticks": ""
             }
            },
            "type": "parcoords"
           }
          ],
          "pie": [
           {
            "automargin": true,
            "type": "pie"
           }
          ],
          "scatter": [
           {
            "marker": {
             "colorbar": {
              "outlinewidth": 0,
              "ticks": ""
             }
            },
            "type": "scatter"
           }
          ],
          "scatter3d": [
           {
            "line": {
             "colorbar": {
              "outlinewidth": 0,
              "ticks": ""
             }
            },
            "marker": {
             "colorbar": {
              "outlinewidth": 0,
              "ticks": ""
             }
            },
            "type": "scatter3d"
           }
          ],
          "scattercarpet": [
           {
            "marker": {
             "colorbar": {
              "outlinewidth": 0,
              "ticks": ""
             }
            },
            "type": "scattercarpet"
           }
          ],
          "scattergeo": [
           {
            "marker": {
             "colorbar": {
              "outlinewidth": 0,
              "ticks": ""
             }
            },
            "type": "scattergeo"
           }
          ],
          "scattergl": [
           {
            "marker": {
             "colorbar": {
              "outlinewidth": 0,
              "ticks": ""
             }
            },
            "type": "scattergl"
           }
          ],
          "scattermapbox": [
           {
            "marker": {
             "colorbar": {
              "outlinewidth": 0,
              "ticks": ""
             }
            },
            "type": "scattermapbox"
           }
          ],
          "scatterpolar": [
           {
            "marker": {
             "colorbar": {
              "outlinewidth": 0,
              "ticks": ""
             }
            },
            "type": "scatterpolar"
           }
          ],
          "scatterpolargl": [
           {
            "marker": {
             "colorbar": {
              "outlinewidth": 0,
              "ticks": ""
             }
            },
            "type": "scatterpolargl"
           }
          ],
          "scatterternary": [
           {
            "marker": {
             "colorbar": {
              "outlinewidth": 0,
              "ticks": ""
             }
            },
            "type": "scatterternary"
           }
          ],
          "surface": [
           {
            "colorbar": {
             "outlinewidth": 0,
             "ticks": ""
            },
            "colorscale": [
             [
              0,
              "#0d0887"
             ],
             [
              0.1111111111111111,
              "#46039f"
             ],
             [
              0.2222222222222222,
              "#7201a8"
             ],
             [
              0.3333333333333333,
              "#9c179e"
             ],
             [
              0.4444444444444444,
              "#bd3786"
             ],
             [
              0.5555555555555556,
              "#d8576b"
             ],
             [
              0.6666666666666666,
              "#ed7953"
             ],
             [
              0.7777777777777778,
              "#fb9f3a"
             ],
             [
              0.8888888888888888,
              "#fdca26"
             ],
             [
              1,
              "#f0f921"
             ]
            ],
            "type": "surface"
           }
          ],
          "table": [
           {
            "cells": {
             "fill": {
              "color": "#EBF0F8"
             },
             "line": {
              "color": "white"
             }
            },
            "header": {
             "fill": {
              "color": "#C8D4E3"
             },
             "line": {
              "color": "white"
             }
            },
            "type": "table"
           }
          ]
         },
         "layout": {
          "annotationdefaults": {
           "arrowcolor": "#2a3f5f",
           "arrowhead": 0,
           "arrowwidth": 1
          },
          "autotypenumbers": "strict",
          "coloraxis": {
           "colorbar": {
            "outlinewidth": 0,
            "ticks": ""
           }
          },
          "colorscale": {
           "diverging": [
            [
             0,
             "#8e0152"
            ],
            [
             0.1,
             "#c51b7d"
            ],
            [
             0.2,
             "#de77ae"
            ],
            [
             0.3,
             "#f1b6da"
            ],
            [
             0.4,
             "#fde0ef"
            ],
            [
             0.5,
             "#f7f7f7"
            ],
            [
             0.6,
             "#e6f5d0"
            ],
            [
             0.7,
             "#b8e186"
            ],
            [
             0.8,
             "#7fbc41"
            ],
            [
             0.9,
             "#4d9221"
            ],
            [
             1,
             "#276419"
            ]
           ],
           "sequential": [
            [
             0,
             "#0d0887"
            ],
            [
             0.1111111111111111,
             "#46039f"
            ],
            [
             0.2222222222222222,
             "#7201a8"
            ],
            [
             0.3333333333333333,
             "#9c179e"
            ],
            [
             0.4444444444444444,
             "#bd3786"
            ],
            [
             0.5555555555555556,
             "#d8576b"
            ],
            [
             0.6666666666666666,
             "#ed7953"
            ],
            [
             0.7777777777777778,
             "#fb9f3a"
            ],
            [
             0.8888888888888888,
             "#fdca26"
            ],
            [
             1,
             "#f0f921"
            ]
           ],
           "sequentialminus": [
            [
             0,
             "#0d0887"
            ],
            [
             0.1111111111111111,
             "#46039f"
            ],
            [
             0.2222222222222222,
             "#7201a8"
            ],
            [
             0.3333333333333333,
             "#9c179e"
            ],
            [
             0.4444444444444444,
             "#bd3786"
            ],
            [
             0.5555555555555556,
             "#d8576b"
            ],
            [
             0.6666666666666666,
             "#ed7953"
            ],
            [
             0.7777777777777778,
             "#fb9f3a"
            ],
            [
             0.8888888888888888,
             "#fdca26"
            ],
            [
             1,
             "#f0f921"
            ]
           ]
          },
          "colorway": [
           "#636efa",
           "#EF553B",
           "#00cc96",
           "#ab63fa",
           "#FFA15A",
           "#19d3f3",
           "#FF6692",
           "#B6E880",
           "#FF97FF",
           "#FECB52"
          ],
          "font": {
           "color": "#2a3f5f"
          },
          "geo": {
           "bgcolor": "white",
           "lakecolor": "white",
           "landcolor": "#E5ECF6",
           "showlakes": true,
           "showland": true,
           "subunitcolor": "white"
          },
          "hoverlabel": {
           "align": "left"
          },
          "hovermode": "closest",
          "mapbox": {
           "style": "light"
          },
          "paper_bgcolor": "white",
          "plot_bgcolor": "#E5ECF6",
          "polar": {
           "angularaxis": {
            "gridcolor": "white",
            "linecolor": "white",
            "ticks": ""
           },
           "bgcolor": "#E5ECF6",
           "radialaxis": {
            "gridcolor": "white",
            "linecolor": "white",
            "ticks": ""
           }
          },
          "scene": {
           "xaxis": {
            "backgroundcolor": "#E5ECF6",
            "gridcolor": "white",
            "gridwidth": 2,
            "linecolor": "white",
            "showbackground": true,
            "ticks": "",
            "zerolinecolor": "white"
           },
           "yaxis": {
            "backgroundcolor": "#E5ECF6",
            "gridcolor": "white",
            "gridwidth": 2,
            "linecolor": "white",
            "showbackground": true,
            "ticks": "",
            "zerolinecolor": "white"
           },
           "zaxis": {
            "backgroundcolor": "#E5ECF6",
            "gridcolor": "white",
            "gridwidth": 2,
            "linecolor": "white",
            "showbackground": true,
            "ticks": "",
            "zerolinecolor": "white"
           }
          },
          "shapedefaults": {
           "line": {
            "color": "#2a3f5f"
           }
          },
          "ternary": {
           "aaxis": {
            "gridcolor": "white",
            "linecolor": "white",
            "ticks": ""
           },
           "baxis": {
            "gridcolor": "white",
            "linecolor": "white",
            "ticks": ""
           },
           "bgcolor": "#E5ECF6",
           "caxis": {
            "gridcolor": "white",
            "linecolor": "white",
            "ticks": ""
           }
          },
          "title": {
           "x": 0.05
          },
          "xaxis": {
           "automargin": true,
           "gridcolor": "white",
           "linecolor": "white",
           "ticks": "",
           "title": {
            "standoff": 15
           },
           "zerolinecolor": "white",
           "zerolinewidth": 2
          },
          "yaxis": {
           "automargin": true,
           "gridcolor": "white",
           "linecolor": "white",
           "ticks": "",
           "title": {
            "standoff": 15
           },
           "zerolinecolor": "white",
           "zerolinewidth": 2
          }
         }
        },
        "xaxis": {
         "anchor": "y",
         "domain": [
          0,
          1
         ],
         "title": {
          "text": "value"
         }
        },
        "yaxis": {
         "anchor": "x",
         "domain": [
          0,
          1
         ],
         "title": {
          "text": "percent"
         }
        }
       }
      }
     },
     "metadata": {},
     "output_type": "display_data"
    }
   ],
   "source": [
    "px.histogram(\n",
    "    df.license.str.len(),\n",
    "    histnorm='percent',\n",
    ")"
   ]
  },
  {
   "cell_type": "markdown",
   "metadata": {},
   "source": [
    "We will accept license number with 2 digits or more (it is likely that license with 5 to 12 digits are fake though) "
   ]
  },
  {
   "cell_type": "code",
   "execution_count": 173,
   "metadata": {},
   "outputs": [
    {
     "name": "stdout",
     "output_type": "stream",
     "text": [
      "With license (entire apt only) : 245 on 588 (42%)\n"
     ]
    }
   ],
   "source": [
    "df[\"has_license\"] = df.license.str.len() > 2\n",
    "df_entire_apt_only = df[df.room_type == \"Entire home/apt\"]\n",
    "print(f\"With license (entire apt only) : {len(df_entire_apt_only[df_entire_apt_only.has_license])} on {len(df_entire_apt_only)} ({ 100 * len(df_entire_apt_only[df_entire_apt_only.has_license]) / len(df_entire_apt_only):.0f}%)\")"
   ]
  },
  {
   "cell_type": "markdown",
   "metadata": {},
   "source": [
    "Plot rooms with license vs non-licensed"
   ]
  },
  {
   "cell_type": "code",
   "execution_count": 174,
   "metadata": {},
   "outputs": [
    {
     "data": {
      "application/vnd.plotly.v1+json": {
       "config": {
        "plotlyServerURL": "https://plot.ly"
       },
       "data": [
        {
         "customdata": [
          [
           "Entire home/apt",
           "http://www.airbnb.com/rooms/9018945",
           ""
          ],
          [
           "Entire home/apt",
           "http://www.airbnb.com/rooms/44087402",
           ""
          ],
          [
           "Entire home/apt",
           "http://www.airbnb.com/rooms/50582066",
           "3"
          ],
          [
           "Entire home/apt",
           "http://www.airbnb.com/rooms/50295878",
           ""
          ],
          [
           "Entire home/apt",
           "http://www.airbnb.com/rooms/39991402",
           ""
          ],
          [
           "Entire home/apt",
           "http://www.airbnb.com/rooms/49992273",
           ""
          ],
          [
           "Entire home/apt",
           "http://www.airbnb.com/rooms/31720299",
           ""
          ],
          [
           "Entire home/apt",
           "http://www.airbnb.com/rooms/48280147",
           ""
          ],
          [
           "Entire home/apt",
           "http://www.airbnb.com/rooms/43058441",
           ""
          ],
          [
           "Entire home/apt",
           "http://www.airbnb.com/rooms/44584262",
           ""
          ],
          [
           "Entire home/apt",
           "http://www.airbnb.com/rooms/19763473",
           ""
          ],
          [
           "Entire home/apt",
           "http://www.airbnb.com/rooms/38420786",
           ""
          ],
          [
           "Entire home/apt",
           "http://www.airbnb.com/rooms/27820639",
           ""
          ],
          [
           "Entire home/apt",
           "http://www.airbnb.com/rooms/17809436",
           ""
          ],
          [
           "Entire home/apt",
           "http://www.airbnb.com/rooms/12900857",
           ""
          ],
          [
           "Entire home/apt",
           "http://www.airbnb.com/rooms/49475837",
           ""
          ],
          [
           "Entire home/apt",
           "http://www.airbnb.com/rooms/40642286",
           ""
          ],
          [
           "Entire home/apt",
           "http://www.airbnb.com/rooms/8934704",
           ""
          ],
          [
           "Entire home/apt",
           "http://www.airbnb.com/rooms/49084346",
           ""
          ],
          [
           "Entire home/apt",
           "http://www.airbnb.com/rooms/36480489",
           ""
          ],
          [
           "Entire home/apt",
           "http://www.airbnb.com/rooms/52217754",
           ""
          ],
          [
           "Entire home/apt",
           "http://www.airbnb.com/rooms/50252825",
           ""
          ],
          [
           "Entire home/apt",
           "http://www.airbnb.com/rooms/34220853",
           ""
          ],
          [
           "Entire home/apt",
           "http://www.airbnb.com/rooms/663153",
           ""
          ],
          [
           "Entire home/apt",
           "http://www.airbnb.com/rooms/43856036",
           ""
          ],
          [
           "Entire home/apt",
           "http://www.airbnb.com/rooms/38439782",
           "3"
          ],
          [
           "Entire home/apt",
           "http://www.airbnb.com/rooms/43607365",
           ""
          ],
          [
           "Entire home/apt",
           "http://www.airbnb.com/rooms/17484693",
           ""
          ],
          [
           "Entire home/apt",
           "http://www.airbnb.com/rooms/50595675",
           ""
          ],
          [
           "Entire home/apt",
           "http://www.airbnb.com/rooms/41875446",
           ""
          ],
          [
           "Entire home/apt",
           "http://www.airbnb.com/rooms/49330258",
           "2"
          ],
          [
           "Entire home/apt",
           "http://www.airbnb.com/rooms/42480014",
           ""
          ],
          [
           "Entire home/apt",
           "http://www.airbnb.com/rooms/35507791",
           ""
          ],
          [
           "Entire home/apt",
           "http://www.airbnb.com/rooms/35020755",
           ""
          ],
          [
           "Entire home/apt",
           "http://www.airbnb.com/rooms/48754390",
           ""
          ],
          [
           "Entire home/apt",
           "http://www.airbnb.com/rooms/43587757",
           ""
          ],
          [
           "Entire home/apt",
           "http://www.airbnb.com/rooms/44955376",
           ""
          ],
          [
           "Entire home/apt",
           "http://www.airbnb.com/rooms/50323556",
           ""
          ],
          [
           "Entire home/apt",
           "http://www.airbnb.com/rooms/10422658",
           ""
          ],
          [
           "Entire home/apt",
           "http://www.airbnb.com/rooms/35701427",
           ""
          ],
          [
           "Entire home/apt",
           "http://www.airbnb.com/rooms/15871375",
           ""
          ],
          [
           "Entire home/apt",
           "http://www.airbnb.com/rooms/18422388",
           ""
          ],
          [
           "Entire home/apt",
           "http://www.airbnb.com/rooms/49720218",
           "3"
          ],
          [
           "Entire home/apt",
           "http://www.airbnb.com/rooms/40526228",
           ""
          ],
          [
           "Entire home/apt",
           "http://www.airbnb.com/rooms/14411963",
           ""
          ],
          [
           "Entire home/apt",
           "http://www.airbnb.com/rooms/25441938",
           ""
          ],
          [
           "Entire home/apt",
           "http://www.airbnb.com/rooms/51097054",
           ""
          ],
          [
           "Entire home/apt",
           "http://www.airbnb.com/rooms/24613490",
           ""
          ],
          [
           "Entire home/apt",
           "http://www.airbnb.com/rooms/49331210",
           "2"
          ],
          [
           "Entire home/apt",
           "http://www.airbnb.com/rooms/43146781",
           ""
          ],
          [
           "Entire home/apt",
           "http://www.airbnb.com/rooms/2428567",
           ""
          ],
          [
           "Entire home/apt",
           "http://www.airbnb.com/rooms/49330931",
           "3"
          ],
          [
           "Entire home/apt",
           "http://www.airbnb.com/rooms/50330518",
           ""
          ],
          [
           "Entire home/apt",
           "http://www.airbnb.com/rooms/50751415",
           ""
          ],
          [
           "Entire home/apt",
           "http://www.airbnb.com/rooms/18985030",
           ""
          ],
          [
           "Entire home/apt",
           "http://www.airbnb.com/rooms/20416682",
           ""
          ],
          [
           "Entire home/apt",
           "http://www.airbnb.com/rooms/7571180",
           ""
          ],
          [
           "Entire home/apt",
           "http://www.airbnb.com/rooms/31705940",
           ""
          ],
          [
           "Entire home/apt",
           "http://www.airbnb.com/rooms/11620548",
           ""
          ],
          [
           "Entire home/apt",
           "http://www.airbnb.com/rooms/23014846",
           ""
          ],
          [
           "Entire home/apt",
           "http://www.airbnb.com/rooms/3044322",
           ""
          ],
          [
           "Entire home/apt",
           "http://www.airbnb.com/rooms/3203911",
           ""
          ],
          [
           "Entire home/apt",
           "http://www.airbnb.com/rooms/49978213",
           ""
          ],
          [
           "Entire home/apt",
           "http://www.airbnb.com/rooms/8184660",
           ""
          ],
          [
           "Entire home/apt",
           "http://www.airbnb.com/rooms/21987146",
           ""
          ],
          [
           "Entire home/apt",
           "http://www.airbnb.com/rooms/51685903",
           ""
          ],
          [
           "Entire home/apt",
           "http://www.airbnb.com/rooms/18373706",
           ""
          ],
          [
           "Entire home/apt",
           "http://www.airbnb.com/rooms/44054650",
           ""
          ],
          [
           "Entire home/apt",
           "http://www.airbnb.com/rooms/25199426",
           ""
          ],
          [
           "Entire home/apt",
           "http://www.airbnb.com/rooms/3445009",
           ""
          ],
          [
           "Entire home/apt",
           "http://www.airbnb.com/rooms/12554030",
           ""
          ],
          [
           "Entire home/apt",
           "http://www.airbnb.com/rooms/43738065",
           ""
          ],
          [
           "Entire home/apt",
           "http://www.airbnb.com/rooms/49742491",
           "3"
          ],
          [
           "Entire home/apt",
           "http://www.airbnb.com/rooms/49331437",
           "2"
          ],
          [
           "Entire home/apt",
           "http://www.airbnb.com/rooms/49631339",
           ""
          ],
          [
           "Entire home/apt",
           "http://www.airbnb.com/rooms/20403354",
           ""
          ],
          [
           "Entire home/apt",
           "http://www.airbnb.com/rooms/32522917",
           ""
          ],
          [
           "Entire home/apt",
           "http://www.airbnb.com/rooms/27882797",
           ""
          ],
          [
           "Entire home/apt",
           "http://www.airbnb.com/rooms/5981693",
           ""
          ],
          [
           "Entire home/apt",
           "http://www.airbnb.com/rooms/48443573",
           ""
          ],
          [
           "Entire home/apt",
           "http://www.airbnb.com/rooms/12733075",
           ""
          ],
          [
           "Entire home/apt",
           "http://www.airbnb.com/rooms/17435137",
           ""
          ],
          [
           "Entire home/apt",
           "http://www.airbnb.com/rooms/16791945",
           ""
          ],
          [
           "Entire home/apt",
           "http://www.airbnb.com/rooms/50985163",
           ""
          ],
          [
           "Entire home/apt",
           "http://www.airbnb.com/rooms/7051171",
           ""
          ],
          [
           "Entire home/apt",
           "http://www.airbnb.com/rooms/41907913",
           ""
          ],
          [
           "Entire home/apt",
           "http://www.airbnb.com/rooms/13779622",
           ""
          ],
          [
           "Entire home/apt",
           "http://www.airbnb.com/rooms/13448175",
           ""
          ],
          [
           "Entire home/apt",
           "http://www.airbnb.com/rooms/24741468",
           ""
          ],
          [
           "Entire home/apt",
           "http://www.airbnb.com/rooms/43812511",
           ""
          ],
          [
           "Entire home/apt",
           "http://www.airbnb.com/rooms/12193622",
           ""
          ],
          [
           "Entire home/apt",
           "http://www.airbnb.com/rooms/3733730",
           ""
          ],
          [
           "Entire home/apt",
           "http://www.airbnb.com/rooms/16870254",
           ""
          ],
          [
           "Entire home/apt",
           "http://www.airbnb.com/rooms/6631911",
           ""
          ],
          [
           "Entire home/apt",
           "http://www.airbnb.com/rooms/49903649",
           ""
          ],
          [
           "Entire home/apt",
           "http://www.airbnb.com/rooms/52807129",
           ""
          ],
          [
           "Entire home/apt",
           "http://www.airbnb.com/rooms/49331021",
           "2"
          ],
          [
           "Entire home/apt",
           "http://www.airbnb.com/rooms/38219821",
           "2"
          ],
          [
           "Entire home/apt",
           "http://www.airbnb.com/rooms/49812724",
           ""
          ],
          [
           "Entire home/apt",
           "http://www.airbnb.com/rooms/781465",
           ""
          ],
          [
           "Entire home/apt",
           "http://www.airbnb.com/rooms/18884144",
           ""
          ],
          [
           "Entire home/apt",
           "http://www.airbnb.com/rooms/44158490",
           ""
          ],
          [
           "Entire home/apt",
           "http://www.airbnb.com/rooms/52356490",
           ""
          ],
          [
           "Entire home/apt",
           "http://www.airbnb.com/rooms/20411039",
           ""
          ],
          [
           "Entire home/apt",
           "http://www.airbnb.com/rooms/50122237",
           ""
          ],
          [
           "Entire home/apt",
           "http://www.airbnb.com/rooms/48895763",
           ""
          ],
          [
           "Entire home/apt",
           "http://www.airbnb.com/rooms/48837967",
           ""
          ],
          [
           "Entire home/apt",
           "http://www.airbnb.com/rooms/13967073",
           ""
          ],
          [
           "Entire home/apt",
           "http://www.airbnb.com/rooms/16957514",
           "2"
          ],
          [
           "Entire home/apt",
           "http://www.airbnb.com/rooms/49330673",
           "3"
          ],
          [
           "Entire home/apt",
           "http://www.airbnb.com/rooms/16957483",
           "3"
          ],
          [
           "Entire home/apt",
           "http://www.airbnb.com/rooms/26561585",
           ""
          ],
          [
           "Entire home/apt",
           "http://www.airbnb.com/rooms/20416813",
           ""
          ],
          [
           "Entire home/apt",
           "http://www.airbnb.com/rooms/4066499",
           ""
          ],
          [
           "Entire home/apt",
           "http://www.airbnb.com/rooms/6609982",
           ""
          ],
          [
           "Entire home/apt",
           "http://www.airbnb.com/rooms/50612160",
           ""
          ],
          [
           "Entire home/apt",
           "http://www.airbnb.com/rooms/32035574",
           ""
          ],
          [
           "Entire home/apt",
           "http://www.airbnb.com/rooms/16957497",
           "3"
          ],
          [
           "Entire home/apt",
           "http://www.airbnb.com/rooms/42795203",
           "2"
          ],
          [
           "Entire home/apt",
           "http://www.airbnb.com/rooms/16957522",
           "3"
          ],
          [
           "Entire home/apt",
           "http://www.airbnb.com/rooms/47831545",
           ""
          ],
          [
           "Entire home/apt",
           "http://www.airbnb.com/rooms/23629103",
           ""
          ],
          [
           "Entire home/apt",
           "http://www.airbnb.com/rooms/6255589",
           ""
          ],
          [
           "Entire home/apt",
           "http://www.airbnb.com/rooms/47246862",
           ""
          ],
          [
           "Entire home/apt",
           "http://www.airbnb.com/rooms/5974555",
           ""
          ],
          [
           "Entire home/apt",
           "http://www.airbnb.com/rooms/52790410",
           ""
          ],
          [
           "Entire home/apt",
           "http://www.airbnb.com/rooms/49094219",
           ""
          ],
          [
           "Entire home/apt",
           "http://www.airbnb.com/rooms/16957520",
           "3"
          ],
          [
           "Entire home/apt",
           "http://www.airbnb.com/rooms/52543437",
           "2"
          ],
          [
           "Entire home/apt",
           "http://www.airbnb.com/rooms/49327948",
           "3"
          ],
          [
           "Entire home/apt",
           "http://www.airbnb.com/rooms/25441842",
           "2"
          ],
          [
           "Entire home/apt",
           "http://www.airbnb.com/rooms/48103344",
           ""
          ],
          [
           "Entire home/apt",
           "http://www.airbnb.com/rooms/42702309",
           ""
          ],
          [
           "Entire home/apt",
           "http://www.airbnb.com/rooms/24741339",
           ""
          ],
          [
           "Entire home/apt",
           "http://www.airbnb.com/rooms/44428724",
           ""
          ],
          [
           "Entire home/apt",
           "http://www.airbnb.com/rooms/47774608",
           ""
          ],
          [
           "Entire home/apt",
           "http://www.airbnb.com/rooms/514652",
           ""
          ],
          [
           "Entire home/apt",
           "http://www.airbnb.com/rooms/20467323",
           ""
          ],
          [
           "Entire home/apt",
           "http://www.airbnb.com/rooms/45306719",
           ""
          ],
          [
           "Entire home/apt",
           "http://www.airbnb.com/rooms/30691588",
           ""
          ],
          [
           "Entire home/apt",
           "http://www.airbnb.com/rooms/48765206",
           ""
          ],
          [
           "Entire home/apt",
           "http://www.airbnb.com/rooms/51207676",
           ""
          ],
          [
           "Entire home/apt",
           "http://www.airbnb.com/rooms/7210504",
           ""
          ],
          [
           "Entire home/apt",
           "http://www.airbnb.com/rooms/52545535",
           ""
          ],
          [
           "Entire home/apt",
           "http://www.airbnb.com/rooms/48252114",
           ""
          ],
          [
           "Entire home/apt",
           "http://www.airbnb.com/rooms/14435191",
           ""
          ],
          [
           "Entire home/apt",
           "http://www.airbnb.com/rooms/51162645",
           ""
          ],
          [
           "Entire home/apt",
           "http://www.airbnb.com/rooms/51835062",
           ""
          ],
          [
           "Entire home/apt",
           "http://www.airbnb.com/rooms/43696068",
           ""
          ],
          [
           "Entire home/apt",
           "http://www.airbnb.com/rooms/21987243",
           ""
          ],
          [
           "Entire home/apt",
           "http://www.airbnb.com/rooms/27642524",
           ""
          ],
          [
           "Entire home/apt",
           "http://www.airbnb.com/rooms/43050034",
           ""
          ],
          [
           "Entire home/apt",
           "http://www.airbnb.com/rooms/49661589",
           ""
          ],
          [
           "Entire home/apt",
           "http://www.airbnb.com/rooms/6704668",
           ""
          ],
          [
           "Entire home/apt",
           "http://www.airbnb.com/rooms/3146424",
           ""
          ],
          [
           "Entire home/apt",
           "http://www.airbnb.com/rooms/13772485",
           ""
          ],
          [
           "Entire home/apt",
           "http://www.airbnb.com/rooms/50668809",
           ""
          ],
          [
           "Entire home/apt",
           "http://www.airbnb.com/rooms/36294903",
           ""
          ],
          [
           "Entire home/apt",
           "http://www.airbnb.com/rooms/49219717",
           ""
          ],
          [
           "Entire home/apt",
           "http://www.airbnb.com/rooms/37988016",
           ""
          ],
          [
           "Entire home/apt",
           "http://www.airbnb.com/rooms/10716840",
           ""
          ],
          [
           "Entire home/apt",
           "http://www.airbnb.com/rooms/43868353",
           ""
          ],
          [
           "Entire home/apt",
           "http://www.airbnb.com/rooms/48311823",
           ""
          ],
          [
           "Entire home/apt",
           "http://www.airbnb.com/rooms/18237954",
           ""
          ],
          [
           "Entire home/apt",
           "http://www.airbnb.com/rooms/50719800",
           ""
          ],
          [
           "Entire home/apt",
           "http://www.airbnb.com/rooms/37027128",
           ""
          ],
          [
           "Entire home/apt",
           "http://www.airbnb.com/rooms/51255535",
           ""
          ],
          [
           "Entire home/apt",
           "http://www.airbnb.com/rooms/43258070",
           ""
          ],
          [
           "Entire home/apt",
           "http://www.airbnb.com/rooms/21904424",
           ""
          ],
          [
           "Entire home/apt",
           "http://www.airbnb.com/rooms/18831229",
           ""
          ],
          [
           "Entire home/apt",
           "http://www.airbnb.com/rooms/1599030",
           ""
          ],
          [
           "Entire home/apt",
           "http://www.airbnb.com/rooms/10029525",
           ""
          ],
          [
           "Entire home/apt",
           "http://www.airbnb.com/rooms/26580157",
           ""
          ],
          [
           "Entire home/apt",
           "http://www.airbnb.com/rooms/18618641",
           ""
          ],
          [
           "Entire home/apt",
           "http://www.airbnb.com/rooms/16544211",
           ""
          ],
          [
           "Entire home/apt",
           "http://www.airbnb.com/rooms/20403342",
           ""
          ],
          [
           "Entire home/apt",
           "http://www.airbnb.com/rooms/34487019",
           ""
          ],
          [
           "Entire home/apt",
           "http://www.airbnb.com/rooms/24955642",
           ""
          ],
          [
           "Entire home/apt",
           "http://www.airbnb.com/rooms/50353603",
           ""
          ],
          [
           "Entire home/apt",
           "http://www.airbnb.com/rooms/8019766",
           ""
          ],
          [
           "Entire home/apt",
           "http://www.airbnb.com/rooms/52880408",
           ""
          ],
          [
           "Entire home/apt",
           "http://www.airbnb.com/rooms/50061733",
           ""
          ],
          [
           "Entire home/apt",
           "http://www.airbnb.com/rooms/36414166",
           ""
          ],
          [
           "Entire home/apt",
           "http://www.airbnb.com/rooms/48217774",
           ""
          ],
          [
           "Entire home/apt",
           "http://www.airbnb.com/rooms/33572882",
           ""
          ],
          [
           "Entire home/apt",
           "http://www.airbnb.com/rooms/10913666",
           ""
          ],
          [
           "Entire home/apt",
           "http://www.airbnb.com/rooms/20403444",
           ""
          ],
          [
           "Entire home/apt",
           "http://www.airbnb.com/rooms/50916010",
           ""
          ],
          [
           "Entire home/apt",
           "http://www.airbnb.com/rooms/48038071",
           ""
          ],
          [
           "Entire home/apt",
           "http://www.airbnb.com/rooms/50712383",
           ""
          ],
          [
           "Entire home/apt",
           "http://www.airbnb.com/rooms/49310991",
           ""
          ],
          [
           "Entire home/apt",
           "http://www.airbnb.com/rooms/48708056",
           ""
          ],
          [
           "Entire home/apt",
           "http://www.airbnb.com/rooms/6219400",
           ""
          ],
          [
           "Entire home/apt",
           "http://www.airbnb.com/rooms/49853944",
           ""
          ],
          [
           "Entire home/apt",
           "http://www.airbnb.com/rooms/3885759",
           ""
          ],
          [
           "Entire home/apt",
           "http://www.airbnb.com/rooms/48679147",
           ""
          ],
          [
           "Entire home/apt",
           "http://www.airbnb.com/rooms/14779318",
           ""
          ],
          [
           "Entire home/apt",
           "http://www.airbnb.com/rooms/48228656",
           ""
          ],
          [
           "Entire home/apt",
           "http://www.airbnb.com/rooms/3526332",
           ""
          ],
          [
           "Entire home/apt",
           "http://www.airbnb.com/rooms/20403278",
           ""
          ],
          [
           "Entire home/apt",
           "http://www.airbnb.com/rooms/15699575",
           ""
          ],
          [
           "Entire home/apt",
           "http://www.airbnb.com/rooms/19185756",
           ""
          ],
          [
           "Entire home/apt",
           "http://www.airbnb.com/rooms/5407553",
           ""
          ],
          [
           "Entire home/apt",
           "http://www.airbnb.com/rooms/32687039",
           ""
          ],
          [
           "Entire home/apt",
           "http://www.airbnb.com/rooms/41869819",
           ""
          ],
          [
           "Entire home/apt",
           "http://www.airbnb.com/rooms/49139452",
           ""
          ],
          [
           "Entire home/apt",
           "http://www.airbnb.com/rooms/50218204",
           ""
          ],
          [
           "Entire home/apt",
           "http://www.airbnb.com/rooms/37030676",
           ""
          ],
          [
           "Entire home/apt",
           "http://www.airbnb.com/rooms/50849640",
           ""
          ],
          [
           "Entire home/apt",
           "http://www.airbnb.com/rooms/18118706",
           ""
          ],
          [
           "Entire home/apt",
           "http://www.airbnb.com/rooms/26462821",
           ""
          ],
          [
           "Entire home/apt",
           "http://www.airbnb.com/rooms/33217275",
           ""
          ],
          [
           "Entire home/apt",
           "http://www.airbnb.com/rooms/3317845",
           ""
          ],
          [
           "Entire home/apt",
           "http://www.airbnb.com/rooms/49664931",
           ""
          ],
          [
           "Entire home/apt",
           "http://www.airbnb.com/rooms/49154226",
           ""
          ],
          [
           "Entire home/apt",
           "http://www.airbnb.com/rooms/27010111",
           ""
          ],
          [
           "Entire home/apt",
           "http://www.airbnb.com/rooms/24787774",
           ""
          ],
          [
           "Entire home/apt",
           "http://www.airbnb.com/rooms/9890215",
           ""
          ],
          [
           "Entire home/apt",
           "http://www.airbnb.com/rooms/28132223",
           ""
          ],
          [
           "Entire home/apt",
           "http://www.airbnb.com/rooms/31462680",
           ""
          ],
          [
           "Entire home/apt",
           "http://www.airbnb.com/rooms/27279496",
           ""
          ],
          [
           "Entire home/apt",
           "http://www.airbnb.com/rooms/31396189",
           ""
          ],
          [
           "Entire home/apt",
           "http://www.airbnb.com/rooms/43661860",
           ""
          ],
          [
           "Entire home/apt",
           "http://www.airbnb.com/rooms/19520608",
           ""
          ],
          [
           "Entire home/apt",
           "http://www.airbnb.com/rooms/36480284",
           ""
          ],
          [
           "Entire home/apt",
           "http://www.airbnb.com/rooms/2423160",
           ""
          ],
          [
           "Entire home/apt",
           "http://www.airbnb.com/rooms/24491288",
           ""
          ],
          [
           "Entire home/apt",
           "http://www.airbnb.com/rooms/49663028",
           ""
          ],
          [
           "Entire home/apt",
           "http://www.airbnb.com/rooms/47443378",
           ""
          ],
          [
           "Entire home/apt",
           "http://www.airbnb.com/rooms/36659577",
           ""
          ],
          [
           "Entire home/apt",
           "http://www.airbnb.com/rooms/42746051",
           ""
          ],
          [
           "Entire home/apt",
           "http://www.airbnb.com/rooms/38210898",
           ""
          ],
          [
           "Entire home/apt",
           "http://www.airbnb.com/rooms/34404435",
           ""
          ],
          [
           "Entire home/apt",
           "http://www.airbnb.com/rooms/36531007",
           ""
          ],
          [
           "Entire home/apt",
           "http://www.airbnb.com/rooms/31032000",
           ""
          ],
          [
           "Entire home/apt",
           "http://www.airbnb.com/rooms/51162441",
           ""
          ],
          [
           "Entire home/apt",
           "http://www.airbnb.com/rooms/34579319",
           ""
          ],
          [
           "Entire home/apt",
           "http://www.airbnb.com/rooms/7285233",
           ""
          ],
          [
           "Entire home/apt",
           "http://www.airbnb.com/rooms/44388748",
           ""
          ],
          [
           "Entire home/apt",
           "http://www.airbnb.com/rooms/13923902",
           ""
          ],
          [
           "Entire home/apt",
           "http://www.airbnb.com/rooms/43974658",
           ""
          ],
          [
           "Entire home/apt",
           "http://www.airbnb.com/rooms/34384709",
           ""
          ],
          [
           "Entire home/apt",
           "http://www.airbnb.com/rooms/43801071",
           ""
          ],
          [
           "Entire home/apt",
           "http://www.airbnb.com/rooms/50029942",
           ""
          ],
          [
           "Entire home/apt",
           "http://www.airbnb.com/rooms/50042148",
           ""
          ],
          [
           "Entire home/apt",
           "http://www.airbnb.com/rooms/36591806",
           ""
          ],
          [
           "Entire home/apt",
           "http://www.airbnb.com/rooms/26159543",
           ""
          ],
          [
           "Entire home/apt",
           "http://www.airbnb.com/rooms/49848653",
           ""
          ],
          [
           "Entire home/apt",
           "http://www.airbnb.com/rooms/50635514",
           ""
          ],
          [
           "Entire home/apt",
           "http://www.airbnb.com/rooms/35464703",
           ""
          ],
          [
           "Entire home/apt",
           "http://www.airbnb.com/rooms/6325216",
           ""
          ],
          [
           "Entire home/apt",
           "http://www.airbnb.com/rooms/35780901",
           ""
          ],
          [
           "Entire home/apt",
           "http://www.airbnb.com/rooms/35391830",
           ""
          ],
          [
           "Entire home/apt",
           "http://www.airbnb.com/rooms/43295501",
           ""
          ],
          [
           "Entire home/apt",
           "http://www.airbnb.com/rooms/49329232",
           "3"
          ],
          [
           "Entire home/apt",
           "http://www.airbnb.com/rooms/35536076",
           ""
          ],
          [
           "Entire home/apt",
           "http://www.airbnb.com/rooms/16170190",
           ""
          ],
          [
           "Entire home/apt",
           "http://www.airbnb.com/rooms/36530995",
           ""
          ],
          [
           "Entire home/apt",
           "http://www.airbnb.com/rooms/35556609",
           ""
          ],
          [
           "Entire home/apt",
           "http://www.airbnb.com/rooms/51079644",
           ""
          ],
          [
           "Entire home/apt",
           "http://www.airbnb.com/rooms/36620255",
           ""
          ],
          [
           "Entire home/apt",
           "http://www.airbnb.com/rooms/38696305",
           ""
          ],
          [
           "Entire home/apt",
           "http://www.airbnb.com/rooms/47877787",
           ""
          ],
          [
           "Entire home/apt",
           "http://www.airbnb.com/rooms/2823899",
           ""
          ],
          [
           "Entire home/apt",
           "http://www.airbnb.com/rooms/50910436",
           ""
          ],
          [
           "Entire home/apt",
           "http://www.airbnb.com/rooms/35182330",
           ""
          ],
          [
           "Entire home/apt",
           "http://www.airbnb.com/rooms/8959413",
           ""
          ],
          [
           "Entire home/apt",
           "http://www.airbnb.com/rooms/2492079",
           ""
          ],
          [
           "Entire home/apt",
           "http://www.airbnb.com/rooms/6232250",
           ""
          ],
          [
           "Entire home/apt",
           "http://www.airbnb.com/rooms/51229044",
           ""
          ],
          [
           "Entire home/apt",
           "http://www.airbnb.com/rooms/36932195",
           ""
          ],
          [
           "Entire home/apt",
           "http://www.airbnb.com/rooms/3726393",
           ""
          ],
          [
           "Entire home/apt",
           "http://www.airbnb.com/rooms/18420304",
           ""
          ],
          [
           "Entire home/apt",
           "http://www.airbnb.com/rooms/30441150",
           ""
          ],
          [
           "Entire home/apt",
           "http://www.airbnb.com/rooms/49490802",
           ""
          ],
          [
           "Entire home/apt",
           "http://www.airbnb.com/rooms/35257794",
           ""
          ],
          [
           "Entire home/apt",
           "http://www.airbnb.com/rooms/5958121",
           ""
          ],
          [
           "Entire home/apt",
           "http://www.airbnb.com/rooms/41632185",
           ""
          ],
          [
           "Entire home/apt",
           "http://www.airbnb.com/rooms/26946218",
           ""
          ],
          [
           "Entire home/apt",
           "http://www.airbnb.com/rooms/41770863",
           ""
          ],
          [
           "Entire home/apt",
           "http://www.airbnb.com/rooms/19804762",
           ""
          ],
          [
           "Entire home/apt",
           "http://www.airbnb.com/rooms/24110946",
           ""
          ],
          [
           "Entire home/apt",
           "http://www.airbnb.com/rooms/50761748",
           ""
          ],
          [
           "Entire home/apt",
           "http://www.airbnb.com/rooms/52609071",
           ""
          ],
          [
           "Entire home/apt",
           "http://www.airbnb.com/rooms/17724599",
           ""
          ],
          [
           "Entire home/apt",
           "http://www.airbnb.com/rooms/35988970",
           ""
          ],
          [
           "Entire home/apt",
           "http://www.airbnb.com/rooms/3745332",
           ""
          ],
          [
           "Entire home/apt",
           "http://www.airbnb.com/rooms/4032545",
           ""
          ],
          [
           "Entire home/apt",
           "http://www.airbnb.com/rooms/39943963",
           ""
          ],
          [
           "Entire home/apt",
           "http://www.airbnb.com/rooms/49080487",
           ""
          ],
          [
           "Entire home/apt",
           "http://www.airbnb.com/rooms/44510605",
           ""
          ],
          [
           "Entire home/apt",
           "http://www.airbnb.com/rooms/40712545",
           ""
          ],
          [
           "Entire home/apt",
           "http://www.airbnb.com/rooms/44423284",
           ""
          ],
          [
           "Entire home/apt",
           "http://www.airbnb.com/rooms/33933091",
           ""
          ],
          [
           "Entire home/apt",
           "http://www.airbnb.com/rooms/51120328",
           ""
          ],
          [
           "Entire home/apt",
           "http://www.airbnb.com/rooms/43721195",
           ""
          ],
          [
           "Entire home/apt",
           "http://www.airbnb.com/rooms/7910352",
           ""
          ],
          [
           "Entire home/apt",
           "http://www.airbnb.com/rooms/50440605",
           ""
          ],
          [
           "Entire home/apt",
           "http://www.airbnb.com/rooms/36266935",
           ""
          ],
          [
           "Entire home/apt",
           "http://www.airbnb.com/rooms/34301235",
           ""
          ],
          [
           "Entire home/apt",
           "http://www.airbnb.com/rooms/38355980",
           ""
          ],
          [
           "Entire home/apt",
           "http://www.airbnb.com/rooms/48051072",
           ""
          ],
          [
           "Entire home/apt",
           "http://www.airbnb.com/rooms/49358847",
           ""
          ],
          [
           "Entire home/apt",
           "http://www.airbnb.com/rooms/12779919",
           ""
          ],
          [
           "Entire home/apt",
           "http://www.airbnb.com/rooms/38348425",
           ""
          ],
          [
           "Entire home/apt",
           "http://www.airbnb.com/rooms/44226043",
           ""
          ],
          [
           "Entire home/apt",
           "http://www.airbnb.com/rooms/22207445",
           ""
          ],
          [
           "Entire home/apt",
           "http://www.airbnb.com/rooms/12147797",
           ""
          ],
          [
           "Entire home/apt",
           "http://www.airbnb.com/rooms/849475",
           ""
          ],
          [
           "Entire home/apt",
           "http://www.airbnb.com/rooms/35641655",
           ""
          ],
          [
           "Entire home/apt",
           "http://www.airbnb.com/rooms/36668164",
           ""
          ],
          [
           "Entire home/apt",
           "http://www.airbnb.com/rooms/50353564",
           ""
          ],
          [
           "Entire home/apt",
           "http://www.airbnb.com/rooms/2926731",
           ""
          ],
          [
           "Entire home/apt",
           "http://www.airbnb.com/rooms/18262531",
           ""
          ],
          [
           "Entire home/apt",
           "http://www.airbnb.com/rooms/36573362",
           ""
          ],
          [
           "Entire home/apt",
           "http://www.airbnb.com/rooms/24843401",
           ""
          ],
          [
           "Entire home/apt",
           "http://www.airbnb.com/rooms/1486599",
           ""
          ],
          [
           "Entire home/apt",
           "http://www.airbnb.com/rooms/51135867",
           ""
          ],
          [
           "Entire home/apt",
           "http://www.airbnb.com/rooms/38949847",
           ""
          ],
          [
           "Entire home/apt",
           "http://www.airbnb.com/rooms/40691912",
           ""
          ],
          [
           "Entire home/apt",
           "http://www.airbnb.com/rooms/21670212",
           ""
          ],
          [
           "Entire home/apt",
           "http://www.airbnb.com/rooms/41846573",
           ""
          ],
          [
           "Entire home/apt",
           "http://www.airbnb.com/rooms/14363649",
           ""
          ],
          [
           "Entire home/apt",
           "http://www.airbnb.com/rooms/50200513",
           ""
          ],
          [
           "Entire home/apt",
           "http://www.airbnb.com/rooms/49331212",
           "2"
          ],
          [
           "Entire home/apt",
           "http://www.airbnb.com/rooms/20354099",
           ""
          ],
          [
           "Entire home/apt",
           "http://www.airbnb.com/rooms/50411590",
           ""
          ],
          [
           "Entire home/apt",
           "http://www.airbnb.com/rooms/38118582",
           ""
          ],
          [
           "Entire home/apt",
           "http://www.airbnb.com/rooms/1342493",
           ""
          ],
          [
           "Entire home/apt",
           "http://www.airbnb.com/rooms/49558363",
           ""
          ],
          [
           "Entire home/apt",
           "http://www.airbnb.com/rooms/14271726",
           ""
          ],
          [
           "Entire home/apt",
           "http://www.airbnb.com/rooms/42230601",
           ""
          ],
          [
           "Entire home/apt",
           "http://www.airbnb.com/rooms/48325492",
           ""
          ],
          [
           "Entire home/apt",
           "http://www.airbnb.com/rooms/11530436",
           ""
          ],
          [
           "Entire home/apt",
           "http://www.airbnb.com/rooms/17902997",
           ""
          ],
          [
           "Entire home/apt",
           "http://www.airbnb.com/rooms/50068836",
           ""
          ],
          [
           "Entire home/apt",
           "http://www.airbnb.com/rooms/52955847",
           ""
          ],
          [
           "Entire home/apt",
           "http://www.airbnb.com/rooms/14412421",
           ""
          ],
          [
           "Entire home/apt",
           "http://www.airbnb.com/rooms/18563252",
           ""
          ],
          [
           "Entire home/apt",
           "http://www.airbnb.com/rooms/50384419",
           ""
          ],
          [
           "Entire home/apt",
           "http://www.airbnb.com/rooms/50161450",
           ""
          ],
          [
           "Entire home/apt",
           "http://www.airbnb.com/rooms/20410897",
           ""
          ],
          [
           "Entire home/apt",
           "http://www.airbnb.com/rooms/9853725",
           ""
          ]
         ],
         "hovertemplate": "<b>%{hovertext}</b><br><br>has_license=False<br>latitude=%{lat}<br>longitude=%{lon}<br>room_type=%{customdata[0]}<br>room_link=%{customdata[1]}<br>license=%{customdata[2]}<extra></extra>",
         "hovertext": [
          "City Center - Cosy + private courtyard",
          "Appartement cosy à 150m de la plage",
          "Bellevue Plage for 3 persons.",
          "Chez « Alfred »",
          "Studio Climatisé GrandePlage Biarritz VictoriaSurf",
          "Biarritz tout à pied, avec vue mer !",
          "Biarritz Grande Plage 25m2 avec Balcon",
          "MODERN T1 CENTRE BIARRITZ, 100M PLAGE, WIFI+BALCON",
          "Studio, Biarritz- Centre, piscine privée",
          "APPARTEMENT COSY RENOVE BIARRITZ GRANDE PLAGE",
          "Charmant petit studio en plein centre de Biarritz",
          "Biarritz Balcon sur la Grande plage",
          "Villa Ariany - appartement au coeur de Biarritz",
          "T2 - 85m from the Gran Plage",
          "Biarritz T2 bis 4, 6 personnes 300m Grande plage",
          "Esprit cosy pour ce bien à l'emplacement de choix - FR-1-3-517",
          "Bien de prestige à l'emplacement idéal - FR-1-3-488",
          "2 pièces hyper centre Biarritz",
          "30 m2 Livres et vinyles Grande plage",
          "Appartement Design Biarritz Coeur de Ville",
          "Très bel appartement de caractère avec vue sur mer",
          "Appartement vue Mer Biarritz",
          "Agreable T2 plein centre Biarritz",
          "Stylish beach home in town center",
          "T2 centre ville + patio, 650 mètres Grande Plage",
          "Jaulerry for 4 persons.",
          "Un pied dans l'océan, l'autre centre-ville !",
          "Charming apartment perfect for couples",
          "VUE MER BIARRITZ GRANDE PLAGE - STUDIO AVEC BALCON",
          "Biarritz  STUDIO VUE SUR MER",
          "Villa Maurice for 4 persons.",
          "BIARRITZ CENTRE AU CALME TOUT A PIED T2 LUMINEUX",
          "Superbe vue grande plage, hyper centre Biarritz",
          "Charmant appartement idéalement situé à Biarritz",
          "\"BLUE COCOON\": hypercentre, plages, WIFI",
          "Location à la semaine studio centre de Biarritz",
          "Front de mer, belle vue mer grand plage et piscine",
          "Studio en centre ville",
          "Biarritz charmant  appartement",
          "Studio 4pers au cœur de Biarritz",
          "Biarritz hyper centre, gare du midi, Magnifique T2",
          "T2 Hypercentre tout près de la Plage - aperçu mer",
          "La Maison Basque for 4 persons.",
          "Appartement plein coeur de Biarritz -Victoria Surf",
          "Charmant T2 au coeur de biarritz",
          "GuestReady - Glamorous Apartment in Biarritz",
          "Appartement au coeur de Biarritz - 5 min plage",
          "Biarritz Studio F",
          "Bellevue Clemenceau for 2 persons.",
          "Studio face à la mer avec piscine",
          "T2 sur Grande Plage avec Parking",
          "Clémenceau for 4 persons.",
          "Charmant Appartement de 40 m2 avec parking privé",
          "Superbe studio dernier étage, Biarritz centre.",
          "Beautiful flat in the center of Biarritz",
          "Studio les pieds dans l'eau à Biarritz - FR-1-3-389",
          "VIEW SEA+PALACE, CENTRE BIARRITZ & 50M BEACH+WIFI",
          "Appartement cosy et design proche Mer/hyper centre",
          "APPARTEMENT GRAND STANDING - VUE OCEAN",
          "CINE'HOME in town - Bedroom & mezzanine + Parking",
          "Beau T2 avec vue sur Grande Plage",
          "3*** CNTRE BIARRITZ 100M BEACH WIFI",
          "Appartement hyper centre Biarritz, 200m plage",
          "Très beau studio 40m2 hypercentre VUE MER  Wifi HD",
          "W193 - Cute studio close to beaches in Biarritz",
          "Appartement 4/6 pers avec piscine",
          "Magnifique Appartement de 80m2 Centre ville",
          "Biarritz - Grande Plage - Studio avec terrasse",
          "Studio piscine Centre Ville/Grande Plage Terrasse",
          "Biarritz studio charmant 100m plage",
          "T2 of 29 M ² IN THE CITY CENTER",
          "Apt Biarritz Res Carlton, proche Grande Plage",
          "Bellevue Plage for 4 persons.",
          "Victoria Surf for 4 persons.",
          "Grand Appt centre Biarritz à 300m Grande Plage",
          "Emplacement de choix pour ce studio - FR-1-3-412",
          "Location centre-ville de Biarritz",
          "Studio Place de la Libération",
          "Big flat in Central Biarritz",
          "Proximité grande plage, appartement T2 lumineux",
          "Biarritz T2 Centre Proche Grande Plage",
          "Studio  avec piscine sur  Grande plage Biarritz",
          "Biarritz, hyper centre, Gde plage",
          "** Appartement tout neuf au coeur des halles **",
          "VUE PANORAMIQUE SUR  GRANDE PLAGE PISCINE PARKING",
          "Le Manège Btz 600m de la plage",
          "T4 de charme, vue mer, 1ère ligne, centre Biarritz",
          "3 chambres dans un Palace+Parking-Biarritz",
          "T2 Biarritz hypercentre, la grande plage à 500m",
          "VILLA CASANOVA appartement au coeur de Biarritz",
          "Appartement charmant plein centre",
          "In the heart of Biarritz",
          "Joli studio avec terrasse à 300m grande plage",
          "Beau T3 80m2 - Coeur BIARRITZ entre Halles & Plage",
          "Studio 600m grande plage",
          "Studio avec terrasse au centre de Biarritz",
          "Arudy for 4 persons.",
          "Atlantic for 6 persons.",
          "T3 centre-ville avec terrasse et parking + WIFI",
          "Biarritz centre appartement 70 m2",
          "T 2, hyper centre avec terrasse et parking privé.",
          "Appartement bord de mer Biarritz",
          "T2 dans le coeur de Biarritz",
          "Studio face à la mer - FR-1-3-394",
          "Itsasoaren: «  Auprès de l océan » T2 très cosy !",
          "Très beau T2, balcon, parking, Grande Plage à 200m",
          "T2 lumineux central, Grde plage & commerces à pied",
          "Erdian - Biarritz",
          "Saint Andrews for 2 persons.",
          "Astoria for 4 persons.",
          "Victoria for 6 persons.",
          "Joli T3 RDC rénové au coeur de Biarritz",
          "Studio avec un emplacement de choix à Biarritz - FR-1-3-418",
          "Salty holidays !",
          "Agréable 45m2 hyper centre ville",
          "Superbe appartement belle Terrasse proche plage 🏖",
          "GRANDE PLAGE AVEC VUE MER ET PARKING",
          "Charles Floquet for 4 persons.",
          "Jardin Public for 4 persons.",
          "Bellevue Clemenceau for 6 persons.",
          "Biarritz Quartier des Halles et 2min Grande Plage",
          "T1 bis bien placé, coquet, au centre de Biarritz",
          "Central Biarritz modern flat",
          "Superbe 3* Halles+ plage à pied+ 2 jolis balcons¤¤",
          "Charmant T2 à 200m de la plage",
          "COSY apt just a step from the BEACH",
          "IMPÉRIAL BEACH  JOLI T1 bis + BALCON 150m plage",
          "Victoria for 4 persons.",
          "André Lamandé for 4 persons.",
          "Chalet Louisette for 4 persons.",
          "Etcheverry for 4 persons.",
          "VICTORIA - Beautiful Apartment, few steps from the main Beach of Biarritz with Parking - BARNES",
          "Biarritz centre ville grand plage à 100 m",
          "#L étape 2 Ch, Parking, 250m Gde Plage, tt à pieds",
          "Studio au cœur des halles de Biarritz",
          "Résidence bord de plage, Biarritz pour 6 personnes",
          "2-bedroom  flat in central Biarritz",
          "Face hôtel du Palais F3 ttes vue sur mer ,parking",
          "Grande Plage / Impérial  - Loft avec terrasse",
          "Joli studio, Grande plage, les Halles, 5 mn à pied",
          "Appartement centre ville à 100m de la grande plage",
          "Résidence bere Naia Biarritz",
          "Beautiful T2 in Biarritz center with parking",
          "Biarritz 1 minute de la plage",
          "BiarritzStudio  acces direct plage Milady Marbella",
          "Nice 1 bedroom, large balcony, heart of Biarritz",
          "Biarritz -T2 - grande terrasse vue mer",
          "Appartement à 500 m  de la plage avec place de parking - FR-1-3-536",
          "Appartement de charme + Jardin, à 400m de la plage",
          "Large apartment in Biarritz, balconies, parking, 350m beach - W201",
          "Appartement de Charme au coeur de Biarritz",
          "Proximité grande plage, joli T2 dans maison basque",
          "TRÈS BEAU STUDIO AVEC BALCON VUE MER À 180°",
          "STUDIO BIARRRITZ CENTRE PLAGE",
          "Be in Biarritz - 200 m Grande Plage",
          "A 3mn de la Plage à pied  ** HYPER CENTRE **",
          "Biarritz super petit appartement avec balcon. En plein coeur du centre ville et du quartier des halles, vous profiterez pleinement des bars et restaurants ainsi que de la proximités des plages",
          "Villa Berroeta : à 5 min de la grande plage",
          "Studio rénové résidence piscine en front de mer",
          "Biarritz en Campervan !",
          "studio au coeur de biarritz",
          "Coeur Biarritz 5 mn à pied grde plage. Grd T2  .",
          "Location Biarritz ocean",
          "T2 front de mer hyper-centre Biarritz",
          "Superbe T1bis, Grande Plage : vue mer et piscine",
          "Appartement cosy à 5 min de la plage",
          "Superbe appartement balcon  vue mer Grande Plage",
          "LES TOURELLES - Maison entièrement rénovée",
          "Appartement bourgeois idéalement situé - FR-1-3-406",
          "T2 hyper centre 47 M2",
          "Maison centre Biarritz 4 chambres terrasse parking",
          "F3  Biarritz  300m plage tout inclus et parking",
          "Maison de 300m2 avec piscine en centre ville BTZ",
          "STUDIO 1 min from the beach",
          "Biarritz 1 min de la grande plage",
          "Studio au cur de la ville - FR-1-3-410",
          "Découvrez le Pays Basque en Campervan !",
          "Grande maison de charme 270m2 au coeur de Biarritz",
          "superbe appartement grand 2 pieces",
          "Quiet apartment for family in hyper center",
          "BIARRITZ HYPER CENTRE AU CALME",
          "Appartement vintage tout près de la plage",
          "Maison de charme avec jardin plein sud",
          "Appart.hyper centre au calme,jolies prestations",
          "Appart hypercentre 2mn Grande plage 3 à 5 pers.",
          "Résidence Palais continental",
          "Un balcon sur l'Océan à Biarritz - FR-1-3-379",
          "Superbe appartement au centre de Biarritz",
          "Studio en centre ville de Biarritz",
          "Spacieux T3 à quelques pas de la plage + parking",
          "Grand T3 en plein centre, plage à pied",
          "T2 400 de la grande plage",
          "Chambre centre ville Biarritz",
          "Hypercentre de Biarritz avec parking !",
          "Ravissante maison Biarritz centre",
          "T2 hypercentre halles avec terrasse",
          "grande plage à pied, T3 de charme + parking",
          "Appartement 4-6 pers vue panoramique",
          "à 150 m à pied de la grande plage",
          "Grand appartement en plein centre-ville - FR-1-3-390",
          "Superb duplex 3bdr, heart of Biarritz, ocean view",
          "Biarritz tout à pied, 70m² pour 4/6 , wifi",
          "TRES BEAU - 200m2 - HYPER CENTRE  + PARKING",
          "A 5MNs À PIED DE LA GRANDE PLAGE",
          "Plein de centre de Biarritz",
          "Halles BIARRITZ, duplex 4p, centre-ville & plages",
          "MIARRITZE - FR-1-239-660",
          "Appartement en première ligne sur l'océan",
          "Superbe appartement au bord de l'océan",
          "Appartement duplex en centre ville",
          "Bien d'exception au coeur de Biarritz",
          "Duplex avec terrasse en plein coeur de Biarritz",
          "Studio Face à la Grande Plage",
          "A 200 mètre de la plage - FR-1-3-518",
          "T2 Biarritz centre, 350m plage, terrasse, parking",
          "Lovely studio, Beach front , Sea view & Pool",
          "Les Halles, tout à pied",
          "Biarritz centre 2ch, jardin,   80m2",
          "Studio quartier des Halles au coeur de Biarritz",
          "Entre Mer et Ciel. Terrasse et Parking au centre.",
          "Studio Biarritz  vue Mer",
          "Studio vue mer place Bellevue.",
          "Plein centre-ville 200 m de la grande plage",
          "Oceanfront ideal family apartment",
          "studio quartier Saint Charles Biarritz",
          "Earth, sea and sky!",
          "Deux pièces hypercentre Biarritz/100m de la plage",
          "Appartement 2-4 pers avec piscine",
          "4*- 3 Bedrooms Rooftop Sea View Bellevue  Biarritz",
          "Superbe studio avec balcons en coeur de ville",
          "Vue d'exception à Biarritz - FR-1-3-499",
          "Appartement à 50m de la plage tout confort",
          "Grand appartement vue mer au coeur de Biarritz",
          "Appt 3 pièces 5 couchages BIARRITZ - FR-1-248-10",
          "Appt Studio 2 couchages BIARRITZ - FR-1-248-63",
          "Bel appartement dans résidence de caractère",
          "Studio - 2 personnes - BIARRITZ (64) - FR-1-248-70",
          "studio bord de mer",
          "Le Phare",
          "T2 Biarritz Hypercentre Terrasse Parking Securisé",
          "Studio charmant idéalement situé à Biarritz centre",
          "Magnifique 3 pièces au cœur de Biarritz les Halles",
          "T2 avec grande terrasse vue mer & ville / Piscine",
          "Appartement en hypercentre- 1mn de la Grande Plage",
          "Appartement hyper centre Biarritz",
          "Grande villa bourgeoise",
          "APPARTEMENT CENTRE/PLAGE",
          "PANORAMA OCEAN, Place Bellevue, 130m2 + Parking",
          "HYPER CENTRAL Grand Appartement +100m² BIARRITZ",
          "CHARMANTE VILLA BASQUE + PISCINE+ MUSCU À BIARRITZ",
          "Appartement 6 pièces Grande Plage",
          "Studio plein centre Biarritz",
          "Maison Biarritz à deux pas de la côte des basques",
          "Grande plage appartement dernier étage sur océan",
          "Windsor for 4 persons.",
          "Idéal pour vacances familiales.",
          "Bel appartement au coeur de Biarritz, à 200m plage",
          "Appt 3 pièces 4 couchages BIARRITZ - FR-1-248-54",
          "BIARRITZ GRANDE PLAGE DUPLEX TERRASSE MER",
          "Appartement hyper centre Biarritz avec parking",
          "F2 PLEIN CENTRE",
          "T3 bis stylé, Halles et surf à pied.",
          "Artist workshop in Biarritz' city centre",
          "Apt idéalement situé, plages à pied",
          "Grand studio plein centre",
          "Maison 4 chambres, piscine, jardin plein sud",
          "Beach, downtown Biarritz",
          "T3 town center, 100 meters from the beach",
          "Appartement hyper centre",
          "Appartement T3 au calme centre-ville de Biarritz",
          "Appartement Biarritz centre",
          "Studio avec patio en centre ville",
          "T2 Biarritz Centre 500m Grande plage ☀ !",
          "Maison Appart 50 m² terrasse-BIARRITZ Centre",
          "LOFT 3 ch CENTRE, proche Halles + Grande Plage",
          "Superbe appartement Biarritz centre ville",
          "Super central & Charming apartment,  5 min beach",
          "Cocon familial plein centre+garage+place privative",
          "T3+ à Biarritz centre - 2mn Grande plage - commerc",
          "⭐️ Charmant T2Bis à 5 minutes de la plage ⭐️",
          "Hypercentre Biarritz,",
          "Hypercentre, terrasse, vue mer, proche plage",
          "Nice bright and quiet apt in BIARRITZ",
          "Superbe 130m2 lumineux, 5min à pied plage/centre",
          "Bel Appartement en coeur de ville",
          "T2 Bis, hyper centre de Biarritz",
          "appartement  4 personnes Biarritz",
          "Biarritz Centre-Gde Plage à 3 min Idealement placé",
          "Beautiful charm suit for 2/4 person, amazing view",
          "Moussempes - a moins de 500m de la grande plage - FR-1-239-616",
          "Appartement vintage au coeur de Biarritz",
          "Saint Georges à 350m de la Grande plage - FR-1-3-489",
          "Bien de caractère situé au centre-ville - FR-1-3-391",
          "Studio tout neuf centre Biarritz 2/4 pers",
          "Beau T2 centre Biarritz",
          "T4 Biarritz au calme 2 Sdb",
          "T3 au coeur de Biarritz tout à pied",
          "Hyper centre F2. de 40m2 traversant.",
          "Charming apartment city center-Grande Plage 5 min walking",
          "Appartement lumineux et calme rue Moussempès",
          "Studio à 2 pas des plages au cœur de Biarritz",
          "Pleasant studio - near ocean",
          "location d’été appartement Biarritz Centre",
          "Centre Biarritz 300 m de la plage",
          "Charmant T3 au cœur du centre ville de Biarritz",
          "T3 proche centre ville et plages à pied",
          "Appartement neuf et calme, hypercentre, 2 balcons.",
          "Biarritz hyper centre",
          "3P rénové à 200m Grande Plage avec  parking",
          "Maison de ville 10 minutes  à pied grande plage.",
          "Biarritz hypercentre, T3, 2 chambres",
          "Charmant triplex T3 vue mer en plein centre ville",
          "70m2 Hyper centre/Gde Plage, parking couvert, wifi",
          "appartment Brigitte",
          "Bel appartement à 500m de la Grande Plage",
          "Villa Juancho",
          "Adorable appartement aux Halles",
          "Appartement de charme en plein coeur de Biarritz",
          "Joli appartement au cœur des halles de Biarritz",
          "Charmant Appartement de 45 m2 aux Halles",
          "Spacious 100sqm apartment in Biarritz center",
          "T2+Mezzanine Cosy, Balcon, 150m Halles&Plage, 30m2",
          "Superb design 1 bedroom, heart of town, Ocean view",
          "Clemenceau - FR-1-239-658",
          "Bellevue Clemenceau for 2 persons.",
          "appartement hyper centre Biarritz, plage à pied",
          "Appartement vue mer dans l'hypercentre de Biarritz",
          "Appartement 5 pers, au centre-ville/plages a 50 m",
          "Superbe loft ,Halles et plages",
          "Appartement spacieux au coeur de Biarritz",
          "Studio \"Surf Rétro\", coeur du Quartier des Halles",
          "Jean Bart - offrez-vous Biarritz à pied - FR-1-239-498",
          "Coquet T2bis Biarritz centre pour 3 personnes",
          "Bright duplex appartment citycenter",
          "non dispo",
          "Biarritz: aux Halles, terrasse, olivier et jasmin",
          "Chez « Alban »",
          "Superb duplex, heart of Biarritz",
          "Charmant T3 à 2 pas de la plage.",
          "Biarritz Halles / Ambiance pop Art / balcon",
          "Superbe petit appartement avec parking privé",
          "Du bleu à perte de vue pour ce charmant studio - FR-1-3-383",
          "Appartement T3 Pavillon d'Angleterre vue mer"
         ],
         "lat": [
          43.48146,
          43.482792,
          43.48265,
          43.48389,
          43.48526,
          43.48257,
          43.48475,
          43.48384,
          43.48507,
          43.48475,
          43.48161,
          43.48494,
          43.48504,
          43.48347,
          43.48497,
          43.484795,
          43.48535,
          43.4829,
          43.48325,
          43.48475,
          43.48485,
          43.48377,
          43.48139,
          43.48409,
          43.48174,
          43.48056,
          43.48508,
          43.48426,
          43.48383,
          43.48291,
          43.481083,
          43.48067,
          43.48549,
          43.48427,
          43.48141,
          43.48476,
          43.48541,
          43.48205,
          43.48402,
          43.48317,
          43.48102,
          43.48234,
          43.483635,
          43.48257,
          43.48434,
          43.48359,
          43.48351,
          43.48194,
          43.482609,
          43.48349,
          43.4854,
          43.482258,
          43.48364,
          43.48353,
          43.48299,
          43.48487,
          43.48498,
          43.48295,
          43.4851,
          43.48448,
          43.48374,
          43.48194,
          43.48201,
          43.48136,
          43.48315,
          43.48351,
          43.48255,
          43.48136,
          43.48412,
          43.48322,
          43.48331,
          43.4845,
          43.482647,
          43.485008,
          43.4831,
          43.48487,
          43.48166,
          43.48004,
          43.48449,
          43.48293,
          43.4823,
          43.48454,
          43.4843,
          43.48066,
          43.48442,
          43.48357,
          43.48207,
          43.48539,
          43.48268,
          43.48163,
          43.48188,
          43.4805,
          43.48214,
          43.48264,
          43.48069,
          43.48389,
          43.480305,
          43.48323,
          43.48338,
          43.48376,
          43.4838,
          43.482697,
          43.48228,
          43.48487,
          43.48396,
          43.48508,
          43.48138,
          43.48193,
          43.48139,
          43.48122,
          43.48518,
          43.48051,
          43.48491,
          43.48064,
          43.48136,
          43.482441,
          43.48529,
          43.48033,
          43.48025,
          43.48261,
          43.480453,
          43.48297,
          43.48107,
          43.48021,
          43.48317,
          43.48272,
          43.48503,
          43.48515,
          43.482735,
          43.480297,
          43.48186,
          43.48388,
          43.48359,
          43.48465,
          43.48078,
          43.4842,
          43.48055,
          43.48522,
          43.485294,
          43.4811,
          43.48322,
          43.48413,
          43.4819,
          43.483,
          43.48346,
          43.48119,
          43.48208,
          43.48441,
          43.48341,
          43.48499,
          43.48039,
          43.48341,
          43.48378,
          43.48074,
          43.48376,
          43.48345,
          43.48123,
          43.48384,
          43.48546,
          43.48412,
          43.48502,
          43.48191,
          43.48389,
          43.4846,
          43.484753,
          43.48156,
          43.48389,
          43.48311,
          43.48483,
          43.48338,
          43.48309,
          43.48312,
          43.48457,
          43.48365,
          43.48502,
          43.48488,
          43.48473,
          43.48309,
          43.48459,
          43.48429,
          43.48362,
          43.48319,
          43.4838,
          43.48348,
          43.4831,
          43.48518,
          43.482388,
          43.48154,
          43.48224,
          43.48318,
          43.48203,
          43.48009,
          43.48104,
          43.48339,
          43.48351,
          43.48045,
          43.48288,
          43.48513,
          43.48542,
          43.48118,
          43.48119,
          43.48122,
          43.48062,
          43.48071,
          43.48186,
          43.48204,
          43.482349,
          43.48178,
          43.4833,
          43.48216,
          43.48407,
          43.48045,
          43.48443,
          43.48239,
          43.48031,
          43.48504,
          43.48084,
          43.48426,
          43.48061,
          43.48322,
          43.48425,
          43.48333,
          43.4828,
          43.48464,
          43.48397,
          43.482609,
          43.48286,
          43.48415,
          43.48299,
          43.48289,
          43.48301,
          43.48461,
          43.48352,
          43.48315,
          43.48323,
          43.48323,
          43.48315,
          43.48502,
          43.48366,
          43.48341,
          43.48318,
          43.48282,
          43.48367,
          43.484,
          43.483757,
          43.48412,
          43.48281,
          43.48294,
          43.482224,
          43.48292,
          43.48338,
          43.48352,
          43.48429,
          43.48316,
          43.48114,
          43.48197,
          43.48117,
          43.48135,
          43.48219,
          43.48245,
          43.48106,
          43.48113,
          43.48014,
          43.48211,
          43.48222,
          43.48215,
          43.48045,
          43.48069,
          43.4816,
          43.48115,
          43.48239,
          43.48253,
          43.4827,
          43.48132,
          43.48155,
          43.48186,
          43.4805,
          43.48064,
          43.48274,
          43.48231,
          43.48151,
          43.48214,
          43.481358,
          43.48155,
          43.48126,
          43.48015,
          43.48153,
          43.48021,
          43.48071,
          43.48128,
          43.4825,
          43.48152,
          43.48092,
          43.48135,
          43.48133,
          43.48131,
          43.4803,
          43.480564,
          43.48134,
          43.48226,
          43.48149,
          43.48182,
          43.48209,
          43.48211,
          43.48255,
          43.481823,
          43.48195,
          43.48185,
          43.48012,
          43.4822,
          43.48197,
          43.48182,
          43.48109,
          43.48167,
          43.48021,
          43.48261,
          43.48021,
          43.48266,
          43.48071,
          43.48115,
          43.4819,
          43.480709,
          43.48119,
          43.48215,
          43.482609,
          43.48155,
          43.48238,
          43.4825,
          43.48021,
          43.480251,
          43.48012,
          43.48108,
          43.48267,
          43.48045,
          43.48099,
          43.48074,
          43.48183,
          43.48119,
          43.48007,
          43.48063,
          43.48213,
          43.482388,
          43.48109
         ],
         "legendgroup": "False",
         "lon": [
          -1.55377,
          -1.558055,
          -1.56135,
          -1.55875,
          -1.55763,
          -1.55889,
          -1.55726,
          -1.55617,
          -1.55706,
          -1.55908,
          -1.5602,
          -1.55832,
          -1.55475,
          -1.5564,
          -1.55691,
          -1.556773,
          -1.55682,
          -1.55558,
          -1.55513,
          -1.55726,
          -1.55779,
          -1.55755,
          -1.55674,
          -1.55627,
          -1.55413,
          -1.55915,
          -1.55699,
          -1.55657,
          -1.55868,
          -1.55997,
          -1.557525,
          -1.55673,
          -1.55689,
          -1.55971,
          -1.5618,
          -1.55569,
          -1.55624,
          -1.56087,
          -1.55784,
          -1.55606,
          -1.55627,
          -1.55636,
          -1.559254,
          -1.55762,
          -1.55494,
          -1.55615,
          -1.55531,
          -1.55404,
          -1.560922,
          -1.55854,
          -1.55565,
          -1.559593,
          -1.55394,
          -1.5561,
          -1.55621,
          -1.55713,
          -1.55574,
          -1.55529,
          -1.55533,
          -1.5554,
          -1.56183,
          -1.56132,
          -1.55708,
          -1.56119,
          -1.55863,
          -1.55793,
          -1.55633,
          -1.55729,
          -1.55691,
          -1.55674,
          -1.5544,
          -1.55411,
          -1.561351,
          -1.55683,
          -1.55554,
          -1.55712,
          -1.55475,
          -1.55632,
          -1.55604,
          -1.55696,
          -1.55658,
          -1.55768,
          -1.55418,
          -1.5619,
          -1.55792,
          -1.55441,
          -1.56067,
          -1.55567,
          -1.55458,
          -1.56135,
          -1.55941,
          -1.5595,
          -1.55723,
          -1.56029,
          -1.55481,
          -1.55799,
          -1.557436,
          -1.55806,
          -1.55578,
          -1.55398,
          -1.56072,
          -1.560196,
          -1.55946,
          -1.55712,
          -1.55787,
          -1.55411,
          -1.55774,
          -1.559,
          -1.56207,
          -1.56219,
          -1.55553,
          -1.56049,
          -1.55717,
          -1.56223,
          -1.55972,
          -1.55422,
          -1.55729,
          -1.55663,
          -1.55929,
          -1.56092,
          -1.560321,
          -1.55461,
          -1.55904,
          -1.56147,
          -1.55502,
          -1.55783,
          -1.55498,
          -1.55576,
          -1.554327,
          -1.554482,
          -1.5617,
          -1.55714,
          -1.55615,
          -1.55646,
          -1.56119,
          -1.55668,
          -1.55392,
          -1.55707,
          -1.554767,
          -1.56024,
          -1.55722,
          -1.55637,
          -1.56202,
          -1.55758,
          -1.55782,
          -1.56187,
          -1.55631,
          -1.55611,
          -1.5547,
          -1.5542,
          -1.55661,
          -1.55565,
          -1.55819,
          -1.55987,
          -1.55637,
          -1.56153,
          -1.56142,
          -1.55417,
          -1.55696,
          -1.55774,
          -1.55559,
          -1.5579,
          -1.55639,
          -1.55603,
          -1.557259,
          -1.55441,
          -1.5565,
          -1.55602,
          -1.55688,
          -1.55692,
          -1.55511,
          -1.55801,
          -1.55596,
          -1.55674,
          -1.55687,
          -1.55713,
          -1.55621,
          -1.55685,
          -1.5555,
          -1.55653,
          -1.55553,
          -1.55471,
          -1.55774,
          -1.55608,
          -1.55696,
          -1.55435,
          -1.561632,
          -1.56062,
          -1.56073,
          -1.55737,
          -1.56109,
          -1.55813,
          -1.55955,
          -1.56107,
          -1.55608,
          -1.56206,
          -1.55474,
          -1.55656,
          -1.55646,
          -1.56025,
          -1.56187,
          -1.56206,
          -1.55987,
          -1.55713,
          -1.55821,
          -1.56145,
          -1.561719,
          -1.5617,
          -1.55963,
          -1.55812,
          -1.56066,
          -1.56102,
          -1.55952,
          -1.56163,
          -1.55976,
          -1.55819,
          -1.56221,
          -1.56167,
          -1.5609,
          -1.56154,
          -1.55843,
          -1.56015,
          -1.56194,
          -1.5589,
          -1.55841,
          -1.559407,
          -1.56165,
          -1.5584,
          -1.56092,
          -1.56171,
          -1.56046,
          -1.55888,
          -1.55815,
          -1.55863,
          -1.56146,
          -1.56177,
          -1.55863,
          -1.55832,
          -1.56073,
          -1.55902,
          -1.5613,
          -1.55902,
          -1.55809,
          -1.55838,
          -1.55866,
          -1.55821,
          -1.56175,
          -1.56173,
          -1.561221,
          -1.55935,
          -1.55909,
          -1.55909,
          -1.55971,
          -1.56207,
          -1.55555,
          -1.55924,
          -1.55816,
          -1.56015,
          -1.56094,
          -1.55839,
          -1.55904,
          -1.55846,
          -1.5582,
          -1.55901,
          -1.55877,
          -1.55914,
          -1.55811,
          -1.5583,
          -1.55912,
          -1.55634,
          -1.55564,
          -1.55382,
          -1.55685,
          -1.55423,
          -1.5571,
          -1.55664,
          -1.55738,
          -1.55786,
          -1.55698,
          -1.55418,
          -1.55732,
          -1.5562,
          -1.557738,
          -1.55626,
          -1.55661,
          -1.55702,
          -1.55636,
          -1.55718,
          -1.55702,
          -1.55659,
          -1.55519,
          -1.55683,
          -1.55663,
          -1.55755,
          -1.55421,
          -1.55439,
          -1.55754,
          -1.557944,
          -1.55612,
          -1.55556,
          -1.55716,
          -1.55793,
          -1.55714,
          -1.55476,
          -1.55726,
          -1.555647,
          -1.5561,
          -1.55447,
          -1.55597,
          -1.55759,
          -1.55705,
          -1.55761,
          -1.55659,
          -1.5541,
          -1.55579,
          -1.55408,
          -1.56225,
          -1.56122,
          -1.55995,
          -1.56158,
          -1.56203,
          -1.559948,
          -1.56187,
          -1.55948,
          -1.560922,
          -1.56099,
          -1.55955,
          -1.56212,
          -1.56225,
          -1.55964,
          -1.56128,
          -1.55812,
          -1.56019,
          -1.5584,
          -1.55968,
          -1.56174,
          -1.55814,
          -1.56187,
          -1.55883,
          -1.56173,
          -1.56047,
          -1.561632,
          -1.56162
         ],
         "marker": {
          "color": "red"
         },
         "mode": "markers",
         "name": "False",
         "showlegend": true,
         "subplot": "mapbox",
         "type": "scattermapbox"
        },
        {
         "customdata": [
          [
           "Entire home/apt",
           "http://www.airbnb.com/rooms/30008238",
           "6412200041509"
          ],
          [
           "Entire home/apt",
           "http://www.airbnb.com/rooms/913348",
           "64122172650VS"
          ],
          [
           "Entire home/apt",
           "http://www.airbnb.com/rooms/50173663",
           "64122001942F6"
          ],
          [
           "Entire home/apt",
           "http://www.airbnb.com/rooms/36550012",
           "64122001082BA"
          ],
          [
           "Entire home/apt",
           "http://www.airbnb.com/rooms/44133724",
           "641220016532A"
          ],
          [
           "Entire home/apt",
           "http://www.airbnb.com/rooms/26471340",
           "64122182781TJ"
          ],
          [
           "Entire home/apt",
           "http://www.airbnb.com/rooms/744138",
           "64122182647RM"
          ],
          [
           "Entire home/apt",
           "http://www.airbnb.com/rooms/12769031",
           "64122 171751 YN"
          ],
          [
           "Entire home/apt",
           "http://www.airbnb.com/rooms/46404614",
           "64122182878RA"
          ],
          [
           "Entire home/apt",
           "http://www.airbnb.com/rooms/23678711",
           "6412200003673"
          ],
          [
           "Entire home/apt",
           "http://www.airbnb.com/rooms/42291837",
           "641220013277E"
          ],
          [
           "Entire home/apt",
           "http://www.airbnb.com/rooms/20317845",
           "6412200006628"
          ],
          [
           "Entire home/apt",
           "http://www.airbnb.com/rooms/20644237",
           "64122170173 SA"
          ],
          [
           "Entire home/apt",
           "http://www.airbnb.com/rooms/29096457",
           "6412200139930"
          ],
          [
           "Entire home/apt",
           "http://www.airbnb.com/rooms/40150842",
           "64122000991EB"
          ],
          [
           "Entire home/apt",
           "http://www.airbnb.com/rooms/6183228",
           "64122171301ZS"
          ],
          [
           "Entire home/apt",
           "http://www.airbnb.com/rooms/36397100",
           "6412200182691"
          ],
          [
           "Entire home/apt",
           "http://www.airbnb.com/rooms/51321774",
           "64122210474"
          ],
          [
           "Entire home/apt",
           "http://www.airbnb.com/rooms/43607015",
           "641220013759F"
          ],
          [
           "Entire home/apt",
           "http://www.airbnb.com/rooms/22662798",
           "64122182847TJ"
          ],
          [
           "Entire home/apt",
           "http://www.airbnb.com/rooms/6189590",
           "64122182792TJ"
          ],
          [
           "Entire home/apt",
           "http://www.airbnb.com/rooms/21127022",
           "6412200121119"
          ],
          [
           "Entire home/apt",
           "http://www.airbnb.com/rooms/48024575",
           "64122001837D3"
          ],
          [
           "Entire home/apt",
           "http://www.airbnb.com/rooms/32060475",
           "641220004798A"
          ],
          [
           "Entire home/apt",
           "http://www.airbnb.com/rooms/30528000",
           "6412200046430"
          ],
          [
           "Entire home/apt",
           "http://www.airbnb.com/rooms/43447953",
           "6412200135733"
          ],
          [
           "Entire home/apt",
           "http://www.airbnb.com/rooms/43769330",
           "6412200156673"
          ],
          [
           "Entire home/apt",
           "http://www.airbnb.com/rooms/44114732",
           "64122000202B0"
          ],
          [
           "Entire home/apt",
           "http://www.airbnb.com/rooms/33768886",
           "64122000684B2"
          ],
          [
           "Entire home/apt",
           "http://www.airbnb.com/rooms/18679128",
           "64122000696FA"
          ],
          [
           "Entire home/apt",
           "http://www.airbnb.com/rooms/49706193",
           "6412200176889"
          ],
          [
           "Entire home/apt",
           "http://www.airbnb.com/rooms/5776607",
           "641220001009F"
          ],
          [
           "Entire home/apt",
           "http://www.airbnb.com/rooms/46770288",
           "64122001800F4"
          ],
          [
           "Entire home/apt",
           "http://www.airbnb.com/rooms/680185",
           "6412200082971"
          ],
          [
           "Entire home/apt",
           "http://www.airbnb.com/rooms/16715018",
           "64122 182610 ZM"
          ],
          [
           "Entire home/apt",
           "http://www.airbnb.com/rooms/33526014",
           "6412200063691"
          ],
          [
           "Entire home/apt",
           "http://www.airbnb.com/rooms/49725636",
           "64122002028A7"
          ],
          [
           "Entire home/apt",
           "http://www.airbnb.com/rooms/43964394",
           "64122001534B2"
          ],
          [
           "Entire home/apt",
           "http://www.airbnb.com/rooms/18583323",
           "64122172207 RJ"
          ],
          [
           "Entire home/apt",
           "http://www.airbnb.com/rooms/9833149",
           "64122 171993 YM"
          ],
          [
           "Entire home/apt",
           "http://www.airbnb.com/rooms/19540151",
           "6412200085926"
          ],
          [
           "Entire home/apt",
           "http://www.airbnb.com/rooms/36206133",
           "6412200096967"
          ],
          [
           "Entire home/apt",
           "http://www.airbnb.com/rooms/20537370",
           "6412200023059"
          ],
          [
           "Entire home/apt",
           "http://www.airbnb.com/rooms/39827154",
           "64122 172291 ZA"
          ],
          [
           "Entire home/apt",
           "http://www.airbnb.com/rooms/33633268",
           "641220008203B"
          ],
          [
           "Entire home/apt",
           "http://www.airbnb.com/rooms/51114157",
           "6412200229027"
          ],
          [
           "Entire home/apt",
           "http://www.airbnb.com/rooms/42107078",
           "64122001389F3"
          ],
          [
           "Entire home/apt",
           "http://www.airbnb.com/rooms/50448905",
           "6412200023059"
          ],
          [
           "Entire home/apt",
           "http://www.airbnb.com/rooms/51416589",
           "641220021041C"
          ],
          [
           "Entire home/apt",
           "http://www.airbnb.com/rooms/2519893",
           "64122000309DF"
          ],
          [
           "Entire home/apt",
           "http://www.airbnb.com/rooms/34432848",
           "6412200076545"
          ],
          [
           "Entire home/apt",
           "http://www.airbnb.com/rooms/19786084",
           "641220000195DB"
          ],
          [
           "Entire home/apt",
           "http://www.airbnb.com/rooms/49496432",
           "6412200200729"
          ],
          [
           "Entire home/apt",
           "http://www.airbnb.com/rooms/50433682",
           "64122002127A6"
          ],
          [
           "Entire home/apt",
           "http://www.airbnb.com/rooms/4294607",
           "6412200022641"
          ],
          [
           "Entire home/apt",
           "http://www.airbnb.com/rooms/25076888",
           "62122 182891 TA"
          ],
          [
           "Entire home/apt",
           "http://www.airbnb.com/rooms/34564918",
           "641220006726A"
          ],
          [
           "Entire home/apt",
           "http://www.airbnb.com/rooms/23873302",
           "6412200017563"
          ],
          [
           "Entire home/apt",
           "http://www.airbnb.com/rooms/2776136",
           "3-0705"
          ],
          [
           "Entire home/apt",
           "http://www.airbnb.com/rooms/48688590",
           "64122171880VS"
          ],
          [
           "Entire home/apt",
           "http://www.airbnb.com/rooms/32414913",
           "641220005399E"
          ],
          [
           "Entire home/apt",
           "http://www.airbnb.com/rooms/50771553",
           "6412200206586"
          ],
          [
           "Entire home/apt",
           "http://www.airbnb.com/rooms/3696114",
           "6412200056953"
          ],
          [
           "Entire home/apt",
           "http://www.airbnb.com/rooms/21922191",
           "6412200023889"
          ],
          [
           "Entire home/apt",
           "http://www.airbnb.com/rooms/24721541",
           "64122182341TJ"
          ],
          [
           "Entire home/apt",
           "http://www.airbnb.com/rooms/27570228",
           "64122001402EC"
          ],
          [
           "Entire home/apt",
           "http://www.airbnb.com/rooms/51420718",
           "6412200166572"
          ],
          [
           "Entire home/apt",
           "http://www.airbnb.com/rooms/44053092",
           "Numéro d’enregistrement 64122001779CB"
          ],
          [
           "Entire home/apt",
           "http://www.airbnb.com/rooms/33059466",
           "64122001487EC"
          ],
          [
           "Entire home/apt",
           "http://www.airbnb.com/rooms/48763419",
           "641220023052C"
          ],
          [
           "Entire home/apt",
           "http://www.airbnb.com/rooms/48901391",
           "641220019647B"
          ],
          [
           "Entire home/apt",
           "http://www.airbnb.com/rooms/25385796",
           "6412200016839"
          ],
          [
           "Entire home/apt",
           "http://www.airbnb.com/rooms/50239302",
           "6412200216173"
          ],
          [
           "Entire home/apt",
           "http://www.airbnb.com/rooms/45571937",
           "641220003191C"
          ],
          [
           "Entire home/apt",
           "http://www.airbnb.com/rooms/50739659",
           "64122002172B5"
          ],
          [
           "Entire home/apt",
           "http://www.airbnb.com/rooms/33762472",
           "6412200101527"
          ],
          [
           "Entire home/apt",
           "http://www.airbnb.com/rooms/13483465",
           "64122000695F4"
          ],
          [
           "Entire home/apt",
           "http://www.airbnb.com/rooms/51183938",
           "64122002233CF"
          ],
          [
           "Entire home/apt",
           "http://www.airbnb.com/rooms/39404734",
           "64122000254E9"
          ],
          [
           "Entire home/apt",
           "http://www.airbnb.com/rooms/1220244",
           "64122 171558 RS"
          ],
          [
           "Entire home/apt",
           "http://www.airbnb.com/rooms/38890841",
           "6412200121637"
          ],
          [
           "Entire home/apt",
           "http://www.airbnb.com/rooms/3551591",
           "64122182536QM"
          ],
          [
           "Entire home/apt",
           "http://www.airbnb.com/rooms/50763044",
           "6412200221357"
          ],
          [
           "Entire home/apt",
           "http://www.airbnb.com/rooms/23476018",
           "641220005684D"
          ],
          [
           "Entire home/apt",
           "http://www.airbnb.com/rooms/49445082",
           "6412200161751"
          ],
          [
           "Entire home/apt",
           "http://www.airbnb.com/rooms/37281560",
           "64122001048ED"
          ],
          [
           "Entire home/apt",
           "http://www.airbnb.com/rooms/30396853",
           "14000004*02"
          ],
          [
           "Entire home/apt",
           "http://www.airbnb.com/rooms/19328006",
           "64125000210E9"
          ],
          [
           "Entire home/apt",
           "http://www.airbnb.com/rooms/52768736",
           "64122001676B4"
          ],
          [
           "Entire home/apt",
           "http://www.airbnb.com/rooms/18787534",
           "64122000889DA"
          ],
          [
           "Entire home/apt",
           "http://www.airbnb.com/rooms/26524700",
           "641220003642B"
          ],
          [
           "Entire home/apt",
           "http://www.airbnb.com/rooms/20086722",
           "6412200140917"
          ],
          [
           "Entire home/apt",
           "http://www.airbnb.com/rooms/36386386",
           "6412200071724"
          ],
          [
           "Entire home/apt",
           "http://www.airbnb.com/rooms/25798936",
           "64122 182732 NJ"
          ],
          [
           "Entire home/apt",
           "http://www.airbnb.com/rooms/21407600",
           "64122172246YS"
          ],
          [
           "Entire home/apt",
           "http://www.airbnb.com/rooms/20415630",
           "641220009623D"
          ],
          [
           "Entire home/apt",
           "http://www.airbnb.com/rooms/28795580",
           "6412200003155"
          ],
          [
           "Entire home/apt",
           "http://www.airbnb.com/rooms/47980261",
           "64122001871A0"
          ],
          [
           "Entire home/apt",
           "http://www.airbnb.com/rooms/35637652",
           "64122001036A5"
          ],
          [
           "Entire home/apt",
           "http://www.airbnb.com/rooms/45552395",
           "641220016729C"
          ],
          [
           "Entire home/apt",
           "http://www.airbnb.com/rooms/36043421",
           "641220009359A"
          ],
          [
           "Entire home/apt",
           "http://www.airbnb.com/rooms/42186581",
           "641220010696C"
          ],
          [
           "Entire home/apt",
           "http://www.airbnb.com/rooms/48391313",
           "641220013982A"
          ],
          [
           "Entire home/apt",
           "http://www.airbnb.com/rooms/50321291",
           "641220022145D"
          ],
          [
           "Entire home/apt",
           "http://www.airbnb.com/rooms/36473818",
           "6412200201765"
          ],
          [
           "Entire home/apt",
           "http://www.airbnb.com/rooms/44672920",
           "641220016278D"
          ],
          [
           "Entire home/apt",
           "http://www.airbnb.com/rooms/3040607",
           "64122 182436 PJ"
          ],
          [
           "Entire home/apt",
           "http://www.airbnb.com/rooms/50081344",
           "64122001974B7"
          ],
          [
           "Entire home/apt",
           "http://www.airbnb.com/rooms/25330703",
           "64122182692sj"
          ],
          [
           "Entire home/apt",
           "http://www.airbnb.com/rooms/1240053",
           "64122182685xm"
          ],
          [
           "Entire home/apt",
           "http://www.airbnb.com/rooms/25833611",
           "641220001776F"
          ],
          [
           "Entire home/apt",
           "http://www.airbnb.com/rooms/33264724",
           "64122170703VS"
          ],
          [
           "Entire home/apt",
           "http://www.airbnb.com/rooms/1197701",
           "6412200046848"
          ],
          [
           "Entire home/apt",
           "http://www.airbnb.com/rooms/29122745",
           "64122000650E5"
          ],
          [
           "Entire home/apt",
           "http://www.airbnb.com/rooms/29895066",
           "64122171932RS"
          ],
          [
           "Entire home/apt",
           "http://www.airbnb.com/rooms/18924525",
           "641220013930C"
          ],
          [
           "Entire home/apt",
           "http://www.airbnb.com/rooms/1701412",
           "6412200022641"
          ],
          [
           "Entire home/apt",
           "http://www.airbnb.com/rooms/24753671",
           "6412200013572"
          ],
          [
           "Entire home/apt",
           "http://www.airbnb.com/rooms/34192245",
           "64122000710F9"
          ],
          [
           "Entire home/apt",
           "http://www.airbnb.com/rooms/24435727",
           "64122 171667 QN"
          ],
          [
           "Entire home/apt",
           "http://www.airbnb.com/rooms/22184545",
           "64122172433YD"
          ],
          [
           "Entire home/apt",
           "http://www.airbnb.com/rooms/48899192",
           "6412200202595"
          ],
          [
           "Entire home/apt",
           "http://www.airbnb.com/rooms/50427091",
           "641220018657C"
          ],
          [
           "Entire home/apt",
           "http://www.airbnb.com/rooms/35084584",
           "641220009592B"
          ],
          [
           "Entire home/apt",
           "http://www.airbnb.com/rooms/13241893",
           "641220003243A"
          ],
          [
           "Entire home/apt",
           "http://www.airbnb.com/rooms/14687284",
           "6412200210522"
          ],
          [
           "Entire home/apt",
           "http://www.airbnb.com/rooms/50694994",
           "641220022881B"
          ],
          [
           "Entire home/apt",
           "http://www.airbnb.com/rooms/1241427",
           "64122182853NJ"
          ],
          [
           "Entire home/apt",
           "http://www.airbnb.com/rooms/51277495",
           "6412200206586"
          ],
          [
           "Entire home/apt",
           "http://www.airbnb.com/rooms/2312867",
           "64122182684WM"
          ],
          [
           "Entire home/apt",
           "http://www.airbnb.com/rooms/48558077",
           "MT064122210046"
          ],
          [
           "Entire home/apt",
           "http://www.airbnb.com/rooms/6967560",
           "64122 182884 YA"
          ],
          [
           "Entire home/apt",
           "http://www.airbnb.com/rooms/45168344",
           "64122001631A5"
          ],
          [
           "Entire home/apt",
           "http://www.airbnb.com/rooms/52526176",
           "641220023083E"
          ],
          [
           "Entire home/apt",
           "http://www.airbnb.com/rooms/17781935",
           "64122172570 RS"
          ],
          [
           "Entire home/apt",
           "http://www.airbnb.com/rooms/50747291",
           "7412200123191"
          ],
          [
           "Entire home/apt",
           "http://www.airbnb.com/rooms/19714637",
           "641220000387F"
          ],
          [
           "Entire home/apt",
           "http://www.airbnb.com/rooms/48066835",
           "641220018709A"
          ],
          [
           "Entire home/apt",
           "http://www.airbnb.com/rooms/43447948",
           "6412200142889"
          ],
          [
           "Entire home/apt",
           "http://www.airbnb.com/rooms/26990055",
           "64122182836TJ"
          ],
          [
           "Entire home/apt",
           "http://www.airbnb.com/rooms/49671686",
           "MT064122210298"
          ],
          [
           "Entire home/apt",
           "http://www.airbnb.com/rooms/51897877",
           "6464122001545F4"
          ],
          [
           "Entire home/apt",
           "http://www.airbnb.com/rooms/43975815",
           "64122001535B8"
          ],
          [
           "Entire home/apt",
           "http://www.airbnb.com/rooms/36164839",
           "641220018890D"
          ],
          [
           "Entire home/apt",
           "http://www.airbnb.com/rooms/15703594",
           "64122 172298 VA"
          ],
          [
           "Entire home/apt",
           "http://www.airbnb.com/rooms/47353317",
           "64122001583D9"
          ],
          [
           "Entire home/apt",
           "http://www.airbnb.com/rooms/6483286",
           "64122182506TM"
          ],
          [
           "Entire home/apt",
           "http://www.airbnb.com/rooms/42821796",
           "641220023000E"
          ],
          [
           "Entire home/apt",
           "http://www.airbnb.com/rooms/50303904",
           "641220018942B"
          ],
          [
           "Entire home/apt",
           "http://www.airbnb.com/rooms/43918415",
           "6412200155119"
          ],
          [
           "Entire home/apt",
           "http://www.airbnb.com/rooms/24648162",
           "64122001401E6"
          ],
          [
           "Entire home/apt",
           "http://www.airbnb.com/rooms/43970124",
           "641220017501D"
          ],
          [
           "Entire home/apt",
           "http://www.airbnb.com/rooms/33607270",
           "641220006254F"
          ],
          [
           "Entire home/apt",
           "http://www.airbnb.com/rooms/27503667",
           "64122000589CB"
          ],
          [
           "Entire home/apt",
           "http://www.airbnb.com/rooms/13610502",
           "6412200102251"
          ],
          [
           "Entire home/apt",
           "http://www.airbnb.com/rooms/48764279",
           "6412200230632"
          ],
          [
           "Entire home/apt",
           "http://www.airbnb.com/rooms/16265685",
           "64122000111E1"
          ],
          [
           "Entire home/apt",
           "http://www.airbnb.com/rooms/19637718",
           "MT064122210219"
          ],
          [
           "Entire home/apt",
           "http://www.airbnb.com/rooms/37269074",
           "64122182762XJ"
          ],
          [
           "Entire home/apt",
           "http://www.airbnb.com/rooms/29147179",
           "64122182888QA"
          ],
          [
           "Entire home/apt",
           "http://www.airbnb.com/rooms/46371957",
           "1220260643"
          ],
          [
           "Entire home/apt",
           "http://www.airbnb.com/rooms/32651511",
           "641220005653B"
          ],
          [
           "Entire home/apt",
           "http://www.airbnb.com/rooms/50808847",
           "641220020668C"
          ],
          [
           "Entire home/apt",
           "http://www.airbnb.com/rooms/20131485",
           "64122.172.302.Z.A"
          ],
          [
           "Entire home/apt",
           "http://www.airbnb.com/rooms/33933275",
           "641220004611E"
          ],
          [
           "Entire home/apt",
           "http://www.airbnb.com/rooms/52250572",
           "MT064122210589"
          ],
          [
           "Entire home/apt",
           "http://www.airbnb.com/rooms/4081124",
           "64122171588NS"
          ],
          [
           "Entire home/apt",
           "http://www.airbnb.com/rooms/50772455",
           "6412200184504"
          ],
          [
           "Entire home/apt",
           "http://www.airbnb.com/rooms/49285159",
           "6412200208917"
          ],
          [
           "Entire home/apt",
           "http://www.airbnb.com/rooms/18469304",
           "6412200139100"
          ],
          [
           "Entire home/apt",
           "http://www.airbnb.com/rooms/13072898",
           "64122182501NM"
          ],
          [
           "Entire home/apt",
           "http://www.airbnb.com/rooms/13233557",
           "64122 172434 ZD"
          ],
          [
           "Entire home/apt",
           "http://www.airbnb.com/rooms/36894042",
           "6412209937985"
          ],
          [
           "Entire home/apt",
           "http://www.airbnb.com/rooms/46618264",
           "6412200174811"
          ],
          [
           "Entire home/apt",
           "http://www.airbnb.com/rooms/19672189",
           "64200172241SJ"
          ],
          [
           "Entire home/apt",
           "http://www.airbnb.com/rooms/48951572",
           "6412200076027"
          ],
          [
           "Entire home/apt",
           "http://www.airbnb.com/rooms/16852743",
           "64122001039B7"
          ],
          [
           "Entire home/apt",
           "http://www.airbnb.com/rooms/21922351",
           "64122172423zn"
          ],
          [
           "Entire home/apt",
           "http://www.airbnb.com/rooms/50635022",
           "64122182476XJ"
          ],
          [
           "Entire home/apt",
           "http://www.airbnb.com/rooms/50415281",
           "641220020186B"
          ],
          [
           "Entire home/apt",
           "http://www.airbnb.com/rooms/41043794",
           "6412200139518"
          ],
          [
           "Entire home/apt",
           "http://www.airbnb.com/rooms/48650548",
           "MT064122210217"
          ],
          [
           "Entire home/apt",
           "http://www.airbnb.com/rooms/5009016",
           "6412200200935"
          ],
          [
           "Entire home/apt",
           "http://www.airbnb.com/rooms/41924398",
           "6412200121949"
          ],
          [
           "Entire home/apt",
           "http://www.airbnb.com/rooms/35943091",
           "6412200055605"
          ],
          [
           "Entire home/apt",
           "http://www.airbnb.com/rooms/31666609",
           "64122000505D1"
          ],
          [
           "Entire home/apt",
           "http://www.airbnb.com/rooms/19381606",
           "641220018890D"
          ],
          [
           "Entire home/apt",
           "http://www.airbnb.com/rooms/50653582",
           "6412200214619"
          ],
          [
           "Entire home/apt",
           "http://www.airbnb.com/rooms/30014033",
           "64122001883E8"
          ],
          [
           "Entire home/apt",
           "http://www.airbnb.com/rooms/11566815",
           "6412200046224"
          ],
          [
           "Entire home/apt",
           "http://www.airbnb.com/rooms/50266925",
           "6412200209953"
          ],
          [
           "Entire home/apt",
           "http://www.airbnb.com/rooms/51854467",
           "641220022679C"
          ],
          [
           "Entire home/apt",
           "http://www.airbnb.com/rooms/6859507",
           "64122 182520 XM"
          ],
          [
           "Entire home/apt",
           "http://www.airbnb.com/rooms/44552989",
           "641220017636B"
          ],
          [
           "Entire home/apt",
           "http://www.airbnb.com/rooms/52684358",
           "64122181859VJ"
          ],
          [
           "Entire home/apt",
           "http://www.airbnb.com/rooms/19735246",
           "780664496"
          ],
          [
           "Entire home/apt",
           "http://www.airbnb.com/rooms/49544413",
           "6412200204926"
          ],
          [
           "Entire home/apt",
           "http://www.airbnb.com/rooms/17393940",
           "64122000144A8"
          ],
          [
           "Entire home/apt",
           "http://www.airbnb.com/rooms/21922542",
           "64122172423ZN"
          ],
          [
           "Entire home/apt",
           "http://www.airbnb.com/rooms/18399769",
           "64122172164SS"
          ],
          [
           "Entire home/apt",
           "http://www.airbnb.com/rooms/6684523",
           "64122000346BE"
          ],
          [
           "Entire home/apt",
           "http://www.airbnb.com/rooms/13004284",
           "64122 182463VJ"
          ],
          [
           "Entire home/apt",
           "http://www.airbnb.com/rooms/1242856",
           "64122182682TM"
          ],
          [
           "Entire home/apt",
           "http://www.airbnb.com/rooms/20006630",
           "64200172268YJ"
          ],
          [
           "Entire home/apt",
           "http://www.airbnb.com/rooms/38945367",
           "64122001482CE"
          ],
          [
           "Entire home/apt",
           "http://www.airbnb.com/rooms/34714273",
           "6412200186994"
          ],
          [
           "Entire home/apt",
           "http://www.airbnb.com/rooms/14256858",
           "64122001305F9"
          ],
          [
           "Entire home/apt",
           "http://www.airbnb.com/rooms/20082560",
           "FR64122182851"
          ],
          [
           "Entire home/apt",
           "http://www.airbnb.com/rooms/48327294",
           "6412200184816"
          ],
          [
           "Entire home/apt",
           "http://www.airbnb.com/rooms/27484489",
           "64122182808ZJ"
          ],
          [
           "Entire home/apt",
           "http://www.airbnb.com/rooms/42523706",
           "6412200135215"
          ],
          [
           "Entire home/apt",
           "http://www.airbnb.com/rooms/49787816",
           "64122001983ED"
          ],
          [
           "Entire home/apt",
           "http://www.airbnb.com/rooms/42483237",
           "64122001432A1"
          ],
          [
           "Entire home/apt",
           "http://www.airbnb.com/rooms/26549177",
           "64122000106C3"
          ],
          [
           "Entire home/apt",
           "http://www.airbnb.com/rooms/10951137",
           "64122182678PM"
          ],
          [
           "Entire home/apt",
           "http://www.airbnb.com/rooms/16922913",
           "MT064122210669"
          ],
          [
           "Entire home/apt",
           "http://www.airbnb.com/rooms/47573297",
           "6412200176577"
          ],
          [
           "Entire home/apt",
           "http://www.airbnb.com/rooms/14894955",
           "64122001543E8"
          ],
          [
           "Entire home/apt",
           "http://www.airbnb.com/rooms/33947268",
           "64122182630XM"
          ],
          [
           "Entire home/apt",
           "http://www.airbnb.com/rooms/35764328",
           "64122001971A5"
          ],
          [
           "Entire home/apt",
           "http://www.airbnb.com/rooms/18688646",
           "641220003409A"
          ],
          [
           "Entire home/apt",
           "http://www.airbnb.com/rooms/24349393",
           "641220000221F"
          ],
          [
           "Entire home/apt",
           "http://www.airbnb.com/rooms/35476029",
           "64122000744C6"
          ],
          [
           "Entire home/apt",
           "http://www.airbnb.com/rooms/7753978",
           "6412200057783"
          ],
          [
           "Entire home/apt",
           "http://www.airbnb.com/rooms/42649605",
           "MT064122200092"
          ],
          [
           "Entire home/apt",
           "http://www.airbnb.com/rooms/45493850",
           "MT064122200764"
          ],
          [
           "Entire home/apt",
           "http://www.airbnb.com/rooms/48241986",
           "64122182858TJ"
          ],
          [
           "Entire home/apt",
           "http://www.airbnb.com/rooms/46501316",
           "64122171082NS"
          ],
          [
           "Entire home/apt",
           "http://www.airbnb.com/rooms/46130402",
           "6412200180619"
          ],
          [
           "Entire home/apt",
           "http://www.airbnb.com/rooms/38152854",
           "64122182475WF"
          ],
          [
           "Entire home/apt",
           "http://www.airbnb.com/rooms/38311255",
           "64122001186D7"
          ],
          [
           "Entire home/apt",
           "http://www.airbnb.com/rooms/6996218",
           "64122182502PM"
          ],
          [
           "Entire home/apt",
           "http://www.airbnb.com/rooms/27827367",
           "64122182889RA"
          ],
          [
           "Entire home/apt",
           "http://www.airbnb.com/rooms/15411578",
           "MT064122210187"
          ],
          [
           "Entire home/apt",
           "http://www.airbnb.com/rooms/11385792",
           "64122001244DF"
          ],
          [
           "Entire home/apt",
           "http://www.airbnb.com/rooms/36613253",
           "6412200106242"
          ],
          [
           "Entire home/apt",
           "http://www.airbnb.com/rooms/50240463",
           "6412200216691"
          ],
          [
           "Entire home/apt",
           "http://www.airbnb.com/rooms/25697671",
           "6412200047884"
          ],
          [
           "Entire home/apt",
           "http://www.airbnb.com/rooms/35934318",
           "641220010665A"
          ],
          [
           "Entire home/apt",
           "http://www.airbnb.com/rooms/35995081",
           "6412200101215"
          ],
          [
           "Entire home/apt",
           "http://www.airbnb.com/rooms/49026528",
           "1220240733X"
          ],
          [
           "Entire home/apt",
           "http://www.airbnb.com/rooms/18850151",
           "64122 182697 YJ"
          ],
          [
           "Entire home/apt",
           "http://www.airbnb.com/rooms/51203464",
           "641220022430C"
          ],
          [
           "Entire home/apt",
           "http://www.airbnb.com/rooms/51593901",
           "641220078131"
          ],
          [
           "Entire home/apt",
           "http://www.airbnb.com/rooms/19205340",
           "64122 172418 VN"
          ]
         ],
         "hovertemplate": "<b>%{hovertext}</b><br><br>has_license=True<br>latitude=%{lat}<br>longitude=%{lon}<br>room_type=%{customdata[0]}<br>room_link=%{customdata[1]}<br>license=%{customdata[2]}<extra></extra>",
         "hovertext": [
          "NOUVELLE VAGUE, studio w/ balcony, seaview & pool.",
          "BIARRITZ 30 METERS BEACH AT VICTORIA SURF 1",
          "Biarritz- Accès direct à la Grande Plage T2 33 m2",
          "Studio apartment in central Biarritz",
          "Victoria surf / Front de mer / Balcon / piscine",
          "4* Biarritz Standing Hyper Centre 100m Plage",
          "Nice studio, excellent situation.",
          "TINY CENTER BY FIRSTLIDAYS",
          "GuestReady - Luxurious Apartment with view of The Grande Plage",
          "Studio Grande Plage Quartier Impérial",
          "BRIGHT APT WITH LARGE BALCONY IN BIARRITZ BEACH, 2 PEOPLE",
          "Studio avec terrasse  - 200 m de la Grande plage",
          "T2 avec vue exceptionnelle BIARRITZ +Parking",
          "Biarritz Hyper centre au calme, Parking, Terrasse",
          "T2 cosy, parking, 100m de la grande plage",
          "BIARRITZ 30 METERS BEACH AT VICTORIA SURF 3",
          "Studio Rés. Victoria Surf  vue ville avec piscine",
          "Superbe appartement T3 centre, terrasse, parking",
          "Biarritz - Centre Ville - Grande Plage",
          "Biarritz centre haut de gamme. Calme. 150 m plage.",
          "One room downtown Rue du Helder",
          "Breathtaking apartment with an ocean view",
          "Biarritz center / studio / beach and halls 5minute",
          "PALMA : Biarritz downtown & 150 meters to the beach",
          "Superbe Appartement à louer avec Vue Mer, Biarritz",
          "Large studio design w/ balcony at the heart of Biarritz - Welkeys",
          "Biarritz hyper centre Plage direct Grande terrasse",
          "Studio w/ balcony and breathtaking view of Grand Plage (Biarritz) – Welkeys",
          "Studio sur la grande plage - Piscine privée",
          "T1 lumineux au calme hyper centre 150m océan",
          "Charming T2 with terrace in the city center",
          "LA COUPOLE -  200m from the beach",
          "Studio au calme, rénové. Plage à pied/parking/Wifi",
          "BIARRITZ - 200 M FROM THE BEACH",
          "Spacious 2 bedrooms Apartment Town Hall Biarritz",
          "Hyper centre Biarritz  près Halles et Grande Plage",
          "Le Queen Victoria - Proche plage - Quartier St Charles",
          "T2 50 m2 plein centre tout confort au calme",
          "Biarritz ocean front condo with swiming pool",
          "Charmant 2p hyper centre Biarritz plage à pieds",
          "Au pied de la Grande Plage Hypercentre de Biarritz",
          "Bright and functional studio in Biarritz center",
          "Studio neuf balcon piscine Grande Plage Biarritz",
          "Plage et design en plein coeur de Biarritz",
          "Studio & Piscine sur la grande plage de Biarritz!",
          "VUE MER GRANDE PLAGE T2 DUPLEX // PARKING PRIVÉE",
          "Grand studio lumineux au coeur de Biarritz",
          "★HYPERCENTRE BIARRITZ★ Proche Plage et Casino★WIFI",
          "Modern studio in the heart of Biarritz, 4 min walk from the beach - Welkeys",
          "Prestigious*Jewel*, town's heart, Internet.",
          "Charmant T2 centre de Biarritz - Tout à pieds",
          "Biarritz centre. Au calme. 2>4 pers. Plage 150m.",
          "Nice studio with sea view & balcony in the centre of Biarritz - Welkeys",
          "Biarritz Centre, beaux volumes au dernier étage!",
          "BIARRITZ, 130 M2  , HYPER CENTRE, SEA VIEW",
          "Studio lumineux hyper centre / Grande plage",
          "Cozy studio just nearby Biarritz beach",
          "Biarritz  près des halles vue mer  studio ***",
          "Appartement de charme à Biarritz près de la mer",
          "Charming flat 4 minutes from the Grande Plage of Biarritz away - Welkeys",
          "Studio 50m away from the beach with terrace",
          "Studio d architecte vue mer",
          "STUDIO AVEC BALCON VUE MER PANORAMIQUE & PISCINE",
          "L’océan à perte de vue, la grand plage à vos pieds",
          "STUDIO FLOUMOR PARKING HYPER CENTRE - TOUT A PIED",
          "Pavillon studio au calme hyper centre 150m océan",
          "🏖Superbe T2 + parking / Grande plage à 90m",
          "Studio Hypercentre Biarritz",
          "Luminous studio in the heart of Biarritz - Welkeys",
          "Studio d' exception 103 Victoria Surf",
          "Studio Biarritz Centre~Calme~Grande Plage à 400m",
          "BEACHVIEW · KEYWEEK Beachfront Renovated Apartment with Parking in Biarritz",
          "★ HYPERCENTRE BIARRITZ★Proche Plage et Casino★WIFI",
          "The Carlton",
          "Studio with a peacefull private patio",
          "Charmant studio, coeur de ville, proche des plages",
          "Charmant studio au calme centre ville 150m océan",
          "Charmant T1 hypercentre 100m Grand Plage",
          "Charming 3*** studio at the heart of Biarritz, 50m from the beach - Welkeys",
          "STUDIO *** HEART of BARRITZ ,250 m FROM THE BEACH",
          "Apartment with a beautiful terrace in Biarritz",
          "Etche IZADI 4 pièces Grande Plage, terrasse",
          "T1 avec balcon au pied de la grande plage",
          "HYPER CENTRE soit 250 m de la grande plage",
          "Central 1Bed flat-5mn from the beach-South Terrace",
          "Appartement F2 original.",
          "Clémenceau / Place Bellevue T2 - 2/4 personnes",
          "PALM • KEYWEEK Townhouse - terrace and Jacuzzi in Bidart beach",
          "Jaulerry · Plages, Halles à pied ☼",
          "Superb apartment near the Grande plage",
          "T3 Biarritz centre - parking - famille 4 personnes",
          "Agreable T2 de 60 m2 Biarritz centre et plages",
          "Grande plage, beau 3 pièces refait à neuf, parking, calme",
          "COUP DE COEUR - T3 AU COEUR DE BIARRITZ",
          "T3 Cosy avec terrasse Coeur de Biarritz Parking",
          "T2 à Biarritz: Plage et centre-ville 5min à pied",
          "Modern apartment in Biarritz center",
          "STUDIO - Grande plage Biarritz - Balcon - Piscine",
          "Centre Biarritz Grande plage Victoria surf",
          "Appartement cosy //Centre ville au calme",
          "Appartement vue mer et grande plage",
          "KAIROS • KEYWEEK Apartment with sea view ideally located in Biarritz",
          "Superb and calm T3 in the heart of Biarritz, 5 min from the beach - Welkeys",
          "Appartement, situation idéale, avec parking",
          "Exceptionnel 2** : hypercentre Biarritz T2 + patio",
          "Modern 1br with terrace, 5 min from Biarritz’s Grande Plage – Welkeys",
          "T1  classé  4pers 100 m Gde  Plage  BIARRITZ  Wifi",
          "T2 moderne-4pers. Aperçu océan.Hypercentre+Parking",
          "Biarritz - 2 bedroom apartment 5 min walk to beach",
          "STUDIO ON PLACE CENTER, 100M FROM THE BEACH",
          "BLUE MOON • KEYWEEK Seafront Apt with large Terrace and Parking Biarritz",
          "Victoria Surf apart 4 pers. 2* ocean view & pool",
          "Maison centre Biarritz 500 m plage",
          "Studio grande plage vue mer, possibilité parking!",
          "Spacious 2br in central Biarritz, close to beaches",
          "⭐Le Bellevue BTZ : bercé par les vagues🌊🏖️🚙",
          "BIARRITZ, T3, 100m2 VUE MER +GARAGE",
          "Appartement à 2 pas de la plage et des halles !",
          "Studio with pool and direct entrance to the beach",
          "VILLA CLEMENCE BY FIRSTLIDAYS",
          "4 pers 49m² BIARRITZ  Casino Hypercentre",
          "FULL CENTER, 6 adults, sea view, 50 m large beach",
          "T3 Hyper-Centre avec terrasse - Biarritz",
          "Bel appartement 104m² - Grande Plage  + Parking",
          "Studio de charme au coeur de Biarritz",
          "T3 d'architecte classé 4* en hypercentre ville",
          "Superbe T3, parking, balcon, Grande Plage à pied",
          "Large Studio with Sea View, contemporary design.",
          "Studio avec balcon, plein centre, sans vis à vis",
          "STUDIO T1 BIS CENTER , 200m BEACH, BALCONY, WIFI..",
          "Nice clear studio - Near the beach",
          "Très Beau T2 44m2 terrasse 1er Biarritz centre",
          "Charmant appartement // HYPER CENTRE AVEC BALCON",
          "Nice and modern 1br flat at the heart of Biarritz - Welkeys",
          "Studio cosy Biarritz 250 m de la plage",
          "Marilyn : beautiful flat at 400 meters from the Grande Plage in Biarritz",
          "Large studio in the city center of Biarritz",
          "Nice modern apartment in the heart of Biarritz",
          "Charming 5 stars flat at the heart of Biarritz, near the beach - Welkeys",
          "Beautiful apartment near the Grande Plage Biarritz",
          "Bel appartement- terrasse-centre ville Parking",
          "Cozy Apartment in the Heart of Biarritz, Parking, Walking distance to the Beach - BARNES",
          "Santa Clara · Apt familial, plages à pied ☼",
          "\"Appart Californien 3 Chambres 150m2\"",
          "Appartement vue imprenable sur l'Océan",
          "Charming 1br at the heart of Biarritz, 5 min walking to the beach - Welkeys",
          "LOFT · KEYWEEK contemporary Loft style Apartment in Biarritz City center",
          "Biarritz, quartier des halles, coquet T2",
          "COAST • KEYWEEK Duplex apartment in the city center with sea view",
          "Biarritz accès direct à la grande plage",
          "T2 Biarritz Centre, 150m Grande Plage, au calme",
          "Mignon studio entièrement rénové  hyper centre",
          "Vue exceptionnelle !  Appartement avec parking",
          "Biarritz Studio: super central, awesome sea view.",
          "Very nice",
          "Studio d' exception 101 Victoria Surf",
          "Appart au calme 3 chambres 500m de la Grande Plage",
          "Charming apartment in the luxury Carlton palace",
          "Charming flat in the heart of Biarritz",
          "Biarritz / Clemenceau / plage & centre ville",
          "Bel appartement T3, Grange Plage, design, parking",
          "HYPERCENTRE +PARKING T2  50m de la Grande Plage",
          "Quartier impérial, dernier étage à la déco pop",
          "Appartement 80m² à 100m de la plage.",
          "BIARRITZ: Duplex  85 m² vue mer et montagne",
          "Appartement \"Confort&Cosy\" aux Halles de Biarritz",
          "Duplex 135 m2  0.4 KM Grande Plage",
          "Appartement Biarritz centre, au calme/proche plage",
          "Grand et lumineux appartement en duplex",
          "Chez Mamie, hyper centre, sur la place Bellevue",
          "PERSPECTIVE • KEYWEEK Beachfront Apartment with Parking, Biarritz Center",
          "123 - BELLEVUE-CLEMENCEAU EN TERRASSE",
          "Biarritz , plein centre , loft avec terrasse",
          "Très bel appartement // Hyper centre Biarritz",
          "Coup de coeur assuré!",
          "Beautiful flat in the centre of Biarritz",
          "Fenêtres sur mer, Biarritz sur la Grande Plage",
          "Fully renovated studio, 100m from the Grande Plage",
          "Appartement contemporain 90m2, Halles de Biarritz",
          "CATWALK • KEYWEEK 2 bedroom apartment in Biarritz city center, parking",
          "IMPERIAL • Apartment in the center of Biarritz close to the beach",
          "Loft Coco · Luxe au coeur de Biarritz",
          "Apartment , view on Biarritz beach, 6 persons",
          "CALYPSO • KEYWEEK Apartment with amazing sea view in Biarritz",
          "T4, Hyper centre, tout équipé, vue mer,  8pers",
          "l'océanic: 2 pers vue mer, parking, grande plage",
          "Appartement 3 Chambres 150m2",
          "Spacieux T2, hypercentre Biarritz, tout à pied",
          "Le Rooftop des Halles",
          "Typical Neighborhood - All on foot - 6 Persons",
          "Biarritz hyper centre - à 350 m de la Grande Plage",
          "A little sweet home in the heart of Biarritz",
          "Appartement Biarritz Clémenceau",
          "Appartement 45m2 au centre avec garage et balcons",
          "Charming flat with garden in a house at the heart of Biarritz - Welkeys",
          "Appartement de charme en plein coeur de Biarritz",
          "Joli Appartement à Biarritz",
          "Charming apartment in Biarritz with a balcony",
          "Fully renovated studio 100m from the Grande Plage",
          "Ravissant studio baroque -  200 m Grande Plage",
          "Studio 30 m2 Biarritz centre 300m plage + Garage",
          "Appartement à 5 min de la Grande Plage.",
          "STUDIO CENTER of BIARRITZ, 100M FROM BEACH, WIFI..",
          "T2 duplex hyper centre de Biarritz - tout à pied",
          "Hyper centre au calme, grande plage du casino",
          "Appartement de charme Grande plage/halles à pieds",
          "Appartement T4 coup de coeur, 5mn plage, vue Phare",
          "GuestReady - Family Apt near La Grande Plage and Les Halles",
          "POP • KEYWEEK Apt 3 bedrooms with terrace & parking Biarritz city center",
          "COCOON • KEYWEEK Holiday House with lovely patio in Biarritz city center",
          "ENEKO • KEYWEEK Apartment with car park and balcony in Biarritz center",
          "Modern apartment - Near the city center/beach",
          "Agréable T3 - Hypercentre, plage à pied – Parking",
          "Cosy loft 6 couchages.Calme et charme.Centre-ville",
          "Maison au coeur de Biarritz avec terrasse & garage",
          "200m de la plage, beau 3 pièces pour 6 personnes",
          "2** Les Petites Cyclades, 2 ch av SDB, Pkg sécur",
          "MAISON 5* PISCINE, CENTRE HALLES,GARAGES,PLAGE à p",
          "Charmant 90m2 dans maison basque avec jardin",
          "Appartement plein centre / Grande plage",
          "Superbe T3, Biarritz centre et proche des plages",
          "OSSUNA • KEYWEEK Very nice apartment close the main beach in Biarritz",
          "Appartement Terrasse Hypercentre Biarritz",
          "Studio calme - Ultra centre les Halles - Vue phare",
          "Authentic apartment with a ocean view",
          "Contemporary junior suite - Halles, Biarritz",
          "Agréable appartement // Grande terrasse",
          "Charming 3*** 3br with breathtaking seaview in Biarritz center - Welkeys",
          "Hyper centre : Appartement avec grande terrasse",
          "Apartment in the center of Biarritz",
          "PROMO Haussman -Elegant 2 bedrooms flat in the heart of Biarritz- Parking",
          "BELLEVUE · KEYWEEK Elegant Apartment with Elevator, Ocean View in Biarritz",
          "CITY VIEW • KEYWEEK Apartment in the heart of Biarritz close to the beach",
          "T3, hypercentre, vue mer, Halles et plage à pieds",
          "Plage 450m, Marché 200m : hyper centre ! parking !",
          "TONIC BELLEVUE BY FIRSTLIDAYS",
          "Biarritz hyper centre, en mode tout à pied !",
          "Très bel appartement, hyper-centre de Biarritz.",
          "Bel appartement en plein cœur de Biarritz",
          "Studio proche des plages au coeur de Biarritz",
          "Aperçu océan rénové hypercentre, plage à pied",
          "GuestReady - Charming Duplex with a Park View",
          "Biarritz tout à pied",
          "Holiday flat with balcony and ocean view in Biarritz town centre",
          "PARK VIEW BY FIRSTLIDAYS"
         ],
         "lat": [
          43.48337,
          43.48491,
          43.4846,
          43.48238,
          43.48391,
          43.48235,
          43.48375,
          43.48052,
          43.48517,
          43.48463,
          43.48464,
          43.4851,
          43.48347,
          43.48033,
          43.484,
          43.48459,
          43.48457,
          43.48292,
          43.48443,
          43.48217,
          43.48136,
          43.4841,
          43.48126,
          43.4818,
          43.48363,
          43.4832,
          43.48473,
          43.48342,
          43.48475,
          43.48343,
          43.48082,
          43.48192,
          43.48448,
          43.4848,
          43.48434,
          43.48158,
          43.484978,
          43.48044,
          43.48389,
          43.48061,
          43.48451,
          43.48115,
          43.48457,
          43.48095,
          43.48457,
          43.48377,
          43.48315,
          43.48481,
          43.48129,
          43.48206,
          43.482105,
          43.48235,
          43.48165,
          43.48163,
          43.48398,
          43.48216,
          43.48311,
          43.4811,
          43.4849,
          43.48372,
          43.48259,
          43.48416,
          43.48457,
          43.48479,
          43.4811,
          43.48182,
          43.485046,
          43.48166,
          43.48029,
          43.48507,
          43.48064,
          43.48275,
          43.48507,
          43.48542,
          43.48282,
          43.48213,
          43.48322,
          43.4832,
          43.48311,
          43.48191,
          43.48323,
          43.48246,
          43.48417,
          43.48254,
          43.48143,
          43.48236,
          43.48117,
          43.48007,
          43.48119,
          43.4841,
          43.48435,
          43.48443,
          43.48328,
          43.48315,
          43.48227,
          43.48326,
          43.48282,
          43.48516,
          43.48489,
          43.48349,
          43.48264,
          43.48436,
          43.48149,
          43.48487,
          43.48089,
          43.48123,
          43.4845,
          43.481171,
          43.48475,
          43.48177,
          43.48255,
          43.48437,
          43.48323,
          43.48457,
          43.48367,
          43.48278,
          43.48349,
          43.48099,
          43.48457,
          43.48454,
          43.48184,
          43.482746,
          43.48044,
          43.48253,
          43.48043,
          43.482037,
          43.484413,
          43.48308,
          43.48324,
          43.48141,
          43.48489,
          43.48095,
          43.48214,
          43.48413,
          43.48037,
          43.48254,
          43.48235,
          43.48211,
          43.48073,
          43.48509,
          43.48269,
          43.48169,
          43.48324,
          43.48344,
          43.48298,
          43.4834,
          43.48273,
          43.48121,
          43.48129,
          43.48537,
          43.48293,
          43.48293,
          43.48301,
          43.48283,
          43.48507,
          43.48515,
          43.48428,
          43.48484,
          43.48516,
          43.48294,
          43.48372,
          43.484608,
          43.48425,
          43.48497,
          43.48235,
          43.4801,
          43.48029,
          43.480976,
          43.48257,
          43.48332,
          43.4837,
          43.48282,
          43.48111,
          43.48344,
          43.4834,
          43.48313,
          43.48517,
          43.48319,
          43.48075,
          43.48427,
          43.48363,
          43.48294,
          43.48344,
          43.48413,
          43.48346,
          43.48447,
          43.48296,
          43.48254,
          43.48004,
          43.481,
          43.48161,
          43.480667,
          43.48215,
          43.48167,
          43.481564,
          43.48038,
          43.48072,
          43.4822,
          43.48184,
          43.48275,
          43.48264,
          43.48211,
          43.48267,
          43.48172,
          43.48125,
          43.48023,
          43.48156,
          43.48143,
          43.48121,
          43.48222,
          43.48158,
          43.48135,
          43.48164,
          43.48008,
          43.48153,
          43.48077,
          43.4809,
          43.48229,
          43.48232,
          43.48233,
          43.48021,
          43.48185,
          43.48168,
          43.48052,
          43.48176,
          43.48107,
          43.48199,
          43.48253,
          43.48106,
          43.48149,
          43.48019,
          43.48159,
          43.4824,
          43.4827,
          43.48078,
          43.48186,
          43.482,
          43.48238,
          43.4811,
          43.48122,
          43.48005,
          43.48125,
          43.48134,
          43.48064,
          43.48025
         ],
         "legendgroup": "True",
         "lon": [
          -1.55719,
          -1.55719,
          -1.55726,
          -1.55577,
          -1.55716,
          -1.56105,
          -1.55851,
          -1.55904,
          -1.55525,
          -1.55461,
          -1.55776,
          -1.55528,
          -1.56102,
          -1.55737,
          -1.55587,
          -1.55723,
          -1.55756,
          -1.55455,
          -1.55766,
          -1.55895,
          -1.55774,
          -1.5574,
          -1.55876,
          -1.55722,
          -1.56113,
          -1.56027,
          -1.55799,
          -1.56091,
          -1.55726,
          -1.5575,
          -1.55515,
          -1.55904,
          -1.5544,
          -1.55557,
          -1.55595,
          -1.55732,
          -1.554132,
          -1.55963,
          -1.55705,
          -1.55655,
          -1.55964,
          -1.55815,
          -1.55756,
          -1.55851,
          -1.55756,
          -1.55913,
          -1.56138,
          -1.55709,
          -1.55903,
          -1.56044,
          -1.555104,
          -1.55768,
          -1.56162,
          -1.55892,
          -1.55987,
          -1.55936,
          -1.55689,
          -1.56097,
          -1.55608,
          -1.55652,
          -1.55972,
          -1.55679,
          -1.55756,
          -1.55685,
          -1.55839,
          -1.5556,
          -1.556118,
          -1.56106,
          -1.56159,
          -1.55871,
          -1.55584,
          -1.56044,
          -1.55818,
          -1.55526,
          -1.55799,
          -1.55494,
          -1.55729,
          -1.5574,
          -1.55772,
          -1.55994,
          -1.5566,
          -1.55637,
          -1.55642,
          -1.55663,
          -1.55628,
          -1.55615,
          -1.56091,
          -1.56183,
          -1.56005,
          -1.55486,
          -1.55604,
          -1.55574,
          -1.55607,
          -1.55863,
          -1.55594,
          -1.55648,
          -1.55741,
          -1.55744,
          -1.55786,
          -1.55386,
          -1.56041,
          -1.55492,
          -1.55669,
          -1.55569,
          -1.55742,
          -1.5564,
          -1.55746,
          -1.556822,
          -1.55443,
          -1.56086,
          -1.56027,
          -1.55611,
          -1.55418,
          -1.55756,
          -1.55903,
          -1.56199,
          -1.562,
          -1.55986,
          -1.55756,
          -1.55488,
          -1.5586,
          -1.56094,
          -1.55941,
          -1.5576,
          -1.5618,
          -1.562132,
          -1.556106,
          -1.56087,
          -1.55856,
          -1.55811,
          -1.55471,
          -1.55886,
          -1.55851,
          -1.55585,
          -1.55736,
          -1.55764,
          -1.5622,
          -1.55954,
          -1.5557,
          -1.55692,
          -1.55537,
          -1.55979,
          -1.55618,
          -1.55752,
          -1.55414,
          -1.55886,
          -1.56041,
          -1.55909,
          -1.55802,
          -1.55837,
          -1.55669,
          -1.56102,
          -1.56097,
          -1.56087,
          -1.55806,
          -1.55664,
          -1.55446,
          -1.55483,
          -1.55539,
          -1.56066,
          -1.55686,
          -1.55667,
          -1.55404,
          -1.55481,
          -1.55962,
          -1.56161,
          -1.55879,
          -1.558327,
          -1.56208,
          -1.56221,
          -1.56122,
          -1.56167,
          -1.56137,
          -1.55891,
          -1.55905,
          -1.56032,
          -1.55909,
          -1.55848,
          -1.56146,
          -1.55827,
          -1.55895,
          -1.55944,
          -1.5588,
          -1.55813,
          -1.56065,
          -1.55898,
          -1.55991,
          -1.55727,
          -1.56204,
          -1.56188,
          -1.55852,
          -1.557548,
          -1.55729,
          -1.5558,
          -1.55651,
          -1.55714,
          -1.55683,
          -1.5541,
          -1.55717,
          -1.55773,
          -1.55572,
          -1.5551,
          -1.55759,
          -1.55799,
          -1.55486,
          -1.55466,
          -1.55558,
          -1.5565,
          -1.55734,
          -1.55547,
          -1.55747,
          -1.55403,
          -1.55698,
          -1.55443,
          -1.55535,
          -1.55751,
          -1.55746,
          -1.55789,
          -1.55759,
          -1.55702,
          -1.55402,
          -1.55527,
          -1.562,
          -1.56191,
          -1.5601,
          -1.56206,
          -1.5587,
          -1.55827,
          -1.56079,
          -1.56189,
          -1.56155,
          -1.56176,
          -1.5591,
          -1.56175,
          -1.56026,
          -1.56097,
          -1.55932,
          -1.56152,
          -1.55811,
          -1.55838,
          -1.56133,
          -1.5586,
          -1.56153,
          -1.55969,
          -1.55964
         ],
         "marker": {
          "color": "lightgray"
         },
         "mode": "markers",
         "name": "True",
         "showlegend": true,
         "subplot": "mapbox",
         "type": "scattermapbox"
        }
       ],
       "layout": {
        "legend": {
         "title": {
          "text": "has_license"
         },
         "tracegroupgap": 0
        },
        "mapbox": {
         "accesstoken": "pk.eyJ1IjoibWF6ZWx4IiwiYSI6ImNqOG9tODMzYzA1MnAydnBjZG5lYTR4bGwifQ.R7lZcLkJejwX4D4--1yMSA",
         "center": {
          "lat": 43.48267741836735,
          "lon": -1.5580277551020407
         },
         "domain": {
          "x": [
           0,
           1
          ],
          "y": [
           0,
           1
          ]
         },
         "zoom": 14
        },
        "margin": {
         "t": 60
        },
        "template": {
         "data": {
          "bar": [
           {
            "error_x": {
             "color": "#2a3f5f"
            },
            "error_y": {
             "color": "#2a3f5f"
            },
            "marker": {
             "line": {
              "color": "#E5ECF6",
              "width": 0.5
             },
             "pattern": {
              "fillmode": "overlay",
              "size": 10,
              "solidity": 0.2
             }
            },
            "type": "bar"
           }
          ],
          "barpolar": [
           {
            "marker": {
             "line": {
              "color": "#E5ECF6",
              "width": 0.5
             },
             "pattern": {
              "fillmode": "overlay",
              "size": 10,
              "solidity": 0.2
             }
            },
            "type": "barpolar"
           }
          ],
          "carpet": [
           {
            "aaxis": {
             "endlinecolor": "#2a3f5f",
             "gridcolor": "white",
             "linecolor": "white",
             "minorgridcolor": "white",
             "startlinecolor": "#2a3f5f"
            },
            "baxis": {
             "endlinecolor": "#2a3f5f",
             "gridcolor": "white",
             "linecolor": "white",
             "minorgridcolor": "white",
             "startlinecolor": "#2a3f5f"
            },
            "type": "carpet"
           }
          ],
          "choropleth": [
           {
            "colorbar": {
             "outlinewidth": 0,
             "ticks": ""
            },
            "type": "choropleth"
           }
          ],
          "contour": [
           {
            "colorbar": {
             "outlinewidth": 0,
             "ticks": ""
            },
            "colorscale": [
             [
              0,
              "#0d0887"
             ],
             [
              0.1111111111111111,
              "#46039f"
             ],
             [
              0.2222222222222222,
              "#7201a8"
             ],
             [
              0.3333333333333333,
              "#9c179e"
             ],
             [
              0.4444444444444444,
              "#bd3786"
             ],
             [
              0.5555555555555556,
              "#d8576b"
             ],
             [
              0.6666666666666666,
              "#ed7953"
             ],
             [
              0.7777777777777778,
              "#fb9f3a"
             ],
             [
              0.8888888888888888,
              "#fdca26"
             ],
             [
              1,
              "#f0f921"
             ]
            ],
            "type": "contour"
           }
          ],
          "contourcarpet": [
           {
            "colorbar": {
             "outlinewidth": 0,
             "ticks": ""
            },
            "type": "contourcarpet"
           }
          ],
          "heatmap": [
           {
            "colorbar": {
             "outlinewidth": 0,
             "ticks": ""
            },
            "colorscale": [
             [
              0,
              "#0d0887"
             ],
             [
              0.1111111111111111,
              "#46039f"
             ],
             [
              0.2222222222222222,
              "#7201a8"
             ],
             [
              0.3333333333333333,
              "#9c179e"
             ],
             [
              0.4444444444444444,
              "#bd3786"
             ],
             [
              0.5555555555555556,
              "#d8576b"
             ],
             [
              0.6666666666666666,
              "#ed7953"
             ],
             [
              0.7777777777777778,
              "#fb9f3a"
             ],
             [
              0.8888888888888888,
              "#fdca26"
             ],
             [
              1,
              "#f0f921"
             ]
            ],
            "type": "heatmap"
           }
          ],
          "heatmapgl": [
           {
            "colorbar": {
             "outlinewidth": 0,
             "ticks": ""
            },
            "colorscale": [
             [
              0,
              "#0d0887"
             ],
             [
              0.1111111111111111,
              "#46039f"
             ],
             [
              0.2222222222222222,
              "#7201a8"
             ],
             [
              0.3333333333333333,
              "#9c179e"
             ],
             [
              0.4444444444444444,
              "#bd3786"
             ],
             [
              0.5555555555555556,
              "#d8576b"
             ],
             [
              0.6666666666666666,
              "#ed7953"
             ],
             [
              0.7777777777777778,
              "#fb9f3a"
             ],
             [
              0.8888888888888888,
              "#fdca26"
             ],
             [
              1,
              "#f0f921"
             ]
            ],
            "type": "heatmapgl"
           }
          ],
          "histogram": [
           {
            "marker": {
             "pattern": {
              "fillmode": "overlay",
              "size": 10,
              "solidity": 0.2
             }
            },
            "type": "histogram"
           }
          ],
          "histogram2d": [
           {
            "colorbar": {
             "outlinewidth": 0,
             "ticks": ""
            },
            "colorscale": [
             [
              0,
              "#0d0887"
             ],
             [
              0.1111111111111111,
              "#46039f"
             ],
             [
              0.2222222222222222,
              "#7201a8"
             ],
             [
              0.3333333333333333,
              "#9c179e"
             ],
             [
              0.4444444444444444,
              "#bd3786"
             ],
             [
              0.5555555555555556,
              "#d8576b"
             ],
             [
              0.6666666666666666,
              "#ed7953"
             ],
             [
              0.7777777777777778,
              "#fb9f3a"
             ],
             [
              0.8888888888888888,
              "#fdca26"
             ],
             [
              1,
              "#f0f921"
             ]
            ],
            "type": "histogram2d"
           }
          ],
          "histogram2dcontour": [
           {
            "colorbar": {
             "outlinewidth": 0,
             "ticks": ""
            },
            "colorscale": [
             [
              0,
              "#0d0887"
             ],
             [
              0.1111111111111111,
              "#46039f"
             ],
             [
              0.2222222222222222,
              "#7201a8"
             ],
             [
              0.3333333333333333,
              "#9c179e"
             ],
             [
              0.4444444444444444,
              "#bd3786"
             ],
             [
              0.5555555555555556,
              "#d8576b"
             ],
             [
              0.6666666666666666,
              "#ed7953"
             ],
             [
              0.7777777777777778,
              "#fb9f3a"
             ],
             [
              0.8888888888888888,
              "#fdca26"
             ],
             [
              1,
              "#f0f921"
             ]
            ],
            "type": "histogram2dcontour"
           }
          ],
          "mesh3d": [
           {
            "colorbar": {
             "outlinewidth": 0,
             "ticks": ""
            },
            "type": "mesh3d"
           }
          ],
          "parcoords": [
           {
            "line": {
             "colorbar": {
              "outlinewidth": 0,
              "ticks": ""
             }
            },
            "type": "parcoords"
           }
          ],
          "pie": [
           {
            "automargin": true,
            "type": "pie"
           }
          ],
          "scatter": [
           {
            "marker": {
             "colorbar": {
              "outlinewidth": 0,
              "ticks": ""
             }
            },
            "type": "scatter"
           }
          ],
          "scatter3d": [
           {
            "line": {
             "colorbar": {
              "outlinewidth": 0,
              "ticks": ""
             }
            },
            "marker": {
             "colorbar": {
              "outlinewidth": 0,
              "ticks": ""
             }
            },
            "type": "scatter3d"
           }
          ],
          "scattercarpet": [
           {
            "marker": {
             "colorbar": {
              "outlinewidth": 0,
              "ticks": ""
             }
            },
            "type": "scattercarpet"
           }
          ],
          "scattergeo": [
           {
            "marker": {
             "colorbar": {
              "outlinewidth": 0,
              "ticks": ""
             }
            },
            "type": "scattergeo"
           }
          ],
          "scattergl": [
           {
            "marker": {
             "colorbar": {
              "outlinewidth": 0,
              "ticks": ""
             }
            },
            "type": "scattergl"
           }
          ],
          "scattermapbox": [
           {
            "marker": {
             "colorbar": {
              "outlinewidth": 0,
              "ticks": ""
             }
            },
            "type": "scattermapbox"
           }
          ],
          "scatterpolar": [
           {
            "marker": {
             "colorbar": {
              "outlinewidth": 0,
              "ticks": ""
             }
            },
            "type": "scatterpolar"
           }
          ],
          "scatterpolargl": [
           {
            "marker": {
             "colorbar": {
              "outlinewidth": 0,
              "ticks": ""
             }
            },
            "type": "scatterpolargl"
           }
          ],
          "scatterternary": [
           {
            "marker": {
             "colorbar": {
              "outlinewidth": 0,
              "ticks": ""
             }
            },
            "type": "scatterternary"
           }
          ],
          "surface": [
           {
            "colorbar": {
             "outlinewidth": 0,
             "ticks": ""
            },
            "colorscale": [
             [
              0,
              "#0d0887"
             ],
             [
              0.1111111111111111,
              "#46039f"
             ],
             [
              0.2222222222222222,
              "#7201a8"
             ],
             [
              0.3333333333333333,
              "#9c179e"
             ],
             [
              0.4444444444444444,
              "#bd3786"
             ],
             [
              0.5555555555555556,
              "#d8576b"
             ],
             [
              0.6666666666666666,
              "#ed7953"
             ],
             [
              0.7777777777777778,
              "#fb9f3a"
             ],
             [
              0.8888888888888888,
              "#fdca26"
             ],
             [
              1,
              "#f0f921"
             ]
            ],
            "type": "surface"
           }
          ],
          "table": [
           {
            "cells": {
             "fill": {
              "color": "#EBF0F8"
             },
             "line": {
              "color": "white"
             }
            },
            "header": {
             "fill": {
              "color": "#C8D4E3"
             },
             "line": {
              "color": "white"
             }
            },
            "type": "table"
           }
          ]
         },
         "layout": {
          "annotationdefaults": {
           "arrowcolor": "#2a3f5f",
           "arrowhead": 0,
           "arrowwidth": 1
          },
          "autotypenumbers": "strict",
          "coloraxis": {
           "colorbar": {
            "outlinewidth": 0,
            "ticks": ""
           }
          },
          "colorscale": {
           "diverging": [
            [
             0,
             "#8e0152"
            ],
            [
             0.1,
             "#c51b7d"
            ],
            [
             0.2,
             "#de77ae"
            ],
            [
             0.3,
             "#f1b6da"
            ],
            [
             0.4,
             "#fde0ef"
            ],
            [
             0.5,
             "#f7f7f7"
            ],
            [
             0.6,
             "#e6f5d0"
            ],
            [
             0.7,
             "#b8e186"
            ],
            [
             0.8,
             "#7fbc41"
            ],
            [
             0.9,
             "#4d9221"
            ],
            [
             1,
             "#276419"
            ]
           ],
           "sequential": [
            [
             0,
             "#0d0887"
            ],
            [
             0.1111111111111111,
             "#46039f"
            ],
            [
             0.2222222222222222,
             "#7201a8"
            ],
            [
             0.3333333333333333,
             "#9c179e"
            ],
            [
             0.4444444444444444,
             "#bd3786"
            ],
            [
             0.5555555555555556,
             "#d8576b"
            ],
            [
             0.6666666666666666,
             "#ed7953"
            ],
            [
             0.7777777777777778,
             "#fb9f3a"
            ],
            [
             0.8888888888888888,
             "#fdca26"
            ],
            [
             1,
             "#f0f921"
            ]
           ],
           "sequentialminus": [
            [
             0,
             "#0d0887"
            ],
            [
             0.1111111111111111,
             "#46039f"
            ],
            [
             0.2222222222222222,
             "#7201a8"
            ],
            [
             0.3333333333333333,
             "#9c179e"
            ],
            [
             0.4444444444444444,
             "#bd3786"
            ],
            [
             0.5555555555555556,
             "#d8576b"
            ],
            [
             0.6666666666666666,
             "#ed7953"
            ],
            [
             0.7777777777777778,
             "#fb9f3a"
            ],
            [
             0.8888888888888888,
             "#fdca26"
            ],
            [
             1,
             "#f0f921"
            ]
           ]
          },
          "colorway": [
           "#636efa",
           "#EF553B",
           "#00cc96",
           "#ab63fa",
           "#FFA15A",
           "#19d3f3",
           "#FF6692",
           "#B6E880",
           "#FF97FF",
           "#FECB52"
          ],
          "font": {
           "color": "#2a3f5f"
          },
          "geo": {
           "bgcolor": "white",
           "lakecolor": "white",
           "landcolor": "#E5ECF6",
           "showlakes": true,
           "showland": true,
           "subunitcolor": "white"
          },
          "hoverlabel": {
           "align": "left"
          },
          "hovermode": "closest",
          "mapbox": {
           "style": "light"
          },
          "paper_bgcolor": "white",
          "plot_bgcolor": "#E5ECF6",
          "polar": {
           "angularaxis": {
            "gridcolor": "white",
            "linecolor": "white",
            "ticks": ""
           },
           "bgcolor": "#E5ECF6",
           "radialaxis": {
            "gridcolor": "white",
            "linecolor": "white",
            "ticks": ""
           }
          },
          "scene": {
           "xaxis": {
            "backgroundcolor": "#E5ECF6",
            "gridcolor": "white",
            "gridwidth": 2,
            "linecolor": "white",
            "showbackground": true,
            "ticks": "",
            "zerolinecolor": "white"
           },
           "yaxis": {
            "backgroundcolor": "#E5ECF6",
            "gridcolor": "white",
            "gridwidth": 2,
            "linecolor": "white",
            "showbackground": true,
            "ticks": "",
            "zerolinecolor": "white"
           },
           "zaxis": {
            "backgroundcolor": "#E5ECF6",
            "gridcolor": "white",
            "gridwidth": 2,
            "linecolor": "white",
            "showbackground": true,
            "ticks": "",
            "zerolinecolor": "white"
           }
          },
          "shapedefaults": {
           "line": {
            "color": "#2a3f5f"
           }
          },
          "ternary": {
           "aaxis": {
            "gridcolor": "white",
            "linecolor": "white",
            "ticks": ""
           },
           "baxis": {
            "gridcolor": "white",
            "linecolor": "white",
            "ticks": ""
           },
           "bgcolor": "#E5ECF6",
           "caxis": {
            "gridcolor": "white",
            "linecolor": "white",
            "ticks": ""
           }
          },
          "title": {
           "x": 0.05
          },
          "xaxis": {
           "automargin": true,
           "gridcolor": "white",
           "linecolor": "white",
           "ticks": "",
           "title": {
            "standoff": 15
           },
           "zerolinecolor": "white",
           "zerolinewidth": 2
          },
          "yaxis": {
           "automargin": true,
           "gridcolor": "white",
           "linecolor": "white",
           "ticks": "",
           "title": {
            "standoff": 15
           },
           "zerolinecolor": "white",
           "zerolinewidth": 2
          }
         }
        }
       }
      }
     },
     "metadata": {},
     "output_type": "display_data"
    }
   ],
   "source": [
    "fig = px.scatter_mapbox(\n",
    "    df_entire_apt_only, \n",
    "    lat=\"latitude\", \n",
    "    lon=\"longitude\",     \n",
    "    hover_name=\"name\",\n",
    "    hover_data=[\"room_type\",\"room_url\", \"license\"],\n",
    "    color=\"has_license\", \n",
    "    zoom=14,   \n",
    "    color_discrete_map={\n",
    "            True: \"lightgray\",\n",
    "            False: \"red\",\n",
    "            },\n",
    "    )\n",
    "\n",
    "fig.show()"
   ]
  },
  {
   "cell_type": "markdown",
   "metadata": {},
   "source": [
    "# What about Hosts with multiple rooms ?"
   ]
  },
  {
   "cell_type": "code",
   "execution_count": 195,
   "metadata": {},
   "outputs": [
    {
     "data": {
      "application/vnd.plotly.v1+json": {
       "config": {
        "plotlyServerURL": "https://plot.ly"
       },
       "data": [
        {
         "alignmentgroup": "True",
         "bingroup": "x",
         "histnorm": "percent",
         "hovertemplate": "variable=host_id<br>value=%{x}<br>percent=%{y}<extra></extra>",
         "legendgroup": "host_id",
         "marker": {
          "color": "#636efa",
          "pattern": {
           "shape": ""
          }
         },
         "name": "host_id",
         "offsetgroup": "host_id",
         "orientation": "v",
         "showlegend": true,
         "type": "histogram",
         "x": [
          22,
          13,
          12,
          9,
          8,
          8,
          7,
          6,
          4,
          4,
          4,
          4,
          4,
          4,
          4,
          4,
          4,
          3,
          3,
          3,
          3,
          3,
          3,
          3,
          3,
          2,
          2,
          2,
          2,
          2,
          2,
          2,
          2,
          2,
          2,
          2,
          2,
          2,
          2,
          2,
          2,
          2,
          2,
          2,
          2,
          2,
          2,
          2,
          2,
          2,
          2,
          2,
          2,
          2,
          2,
          2,
          2,
          1,
          1,
          1,
          1,
          1,
          1,
          1,
          1,
          1,
          1,
          1,
          1,
          1,
          1,
          1,
          1,
          1,
          1,
          1,
          1,
          1,
          1,
          1,
          1,
          1,
          1,
          1,
          1,
          1,
          1,
          1,
          1,
          1,
          1,
          1,
          1,
          1,
          1,
          1,
          1,
          1,
          1,
          1,
          1,
          1,
          1,
          1,
          1,
          1,
          1,
          1,
          1,
          1,
          1,
          1,
          1,
          1,
          1,
          1,
          1,
          1,
          1,
          1,
          1,
          1,
          1,
          1,
          1,
          1,
          1,
          1,
          1,
          1,
          1,
          1,
          1,
          1,
          1,
          1,
          1,
          1,
          1,
          1,
          1,
          1,
          1,
          1,
          1,
          1,
          1,
          1,
          1,
          1,
          1,
          1,
          1,
          1,
          1,
          1,
          1,
          1,
          1,
          1,
          1,
          1,
          1,
          1,
          1,
          1,
          1,
          1,
          1,
          1,
          1,
          1,
          1,
          1,
          1,
          1,
          1,
          1,
          1,
          1,
          1,
          1,
          1,
          1,
          1,
          1,
          1,
          1,
          1,
          1,
          1,
          1,
          1,
          1,
          1,
          1,
          1,
          1,
          1,
          1,
          1,
          1,
          1,
          1,
          1,
          1,
          1,
          1,
          1,
          1,
          1,
          1,
          1,
          1,
          1,
          1,
          1,
          1,
          1,
          1,
          1,
          1,
          1,
          1,
          1,
          1,
          1,
          1,
          1,
          1,
          1,
          1,
          1,
          1,
          1,
          1,
          1,
          1,
          1,
          1,
          1,
          1,
          1,
          1,
          1,
          1,
          1,
          1,
          1,
          1,
          1,
          1,
          1,
          1,
          1,
          1,
          1,
          1,
          1,
          1,
          1,
          1,
          1,
          1,
          1,
          1,
          1,
          1,
          1,
          1,
          1,
          1,
          1,
          1,
          1,
          1,
          1,
          1,
          1,
          1,
          1,
          1,
          1,
          1,
          1,
          1,
          1,
          1,
          1,
          1,
          1,
          1,
          1,
          1,
          1,
          1,
          1,
          1,
          1,
          1,
          1,
          1,
          1,
          1,
          1,
          1,
          1,
          1,
          1,
          1,
          1,
          1,
          1,
          1,
          1,
          1,
          1,
          1,
          1,
          1,
          1,
          1,
          1,
          1,
          1,
          1,
          1,
          1,
          1,
          1,
          1,
          1,
          1,
          1,
          1,
          1,
          1,
          1,
          1,
          1,
          1,
          1,
          1,
          1,
          1,
          1,
          1,
          1,
          1,
          1,
          1,
          1,
          1,
          1,
          1,
          1,
          1,
          1,
          1,
          1,
          1,
          1,
          1,
          1,
          1,
          1,
          1,
          1,
          1,
          1,
          1,
          1,
          1,
          1,
          1,
          1,
          1,
          1,
          1,
          1,
          1,
          1,
          1,
          1,
          1,
          1,
          1,
          1,
          1,
          1,
          1,
          1,
          1,
          1,
          1,
          1,
          1,
          1,
          1,
          1,
          1,
          1,
          1,
          1,
          1,
          1,
          1,
          1,
          1,
          1,
          1,
          1,
          1,
          1,
          1,
          1,
          1,
          1,
          1,
          1,
          1,
          1,
          1,
          1,
          1,
          1,
          1,
          1,
          1,
          1,
          1,
          1,
          1,
          1,
          1,
          1,
          1,
          1,
          1,
          1,
          1,
          1,
          1,
          1,
          1,
          1,
          1,
          1,
          1,
          1,
          1,
          1,
          1,
          1
         ],
         "xaxis": "x",
         "yaxis": "y"
        }
       ],
       "layout": {
        "barmode": "relative",
        "legend": {
         "title": {
          "text": "variable"
         },
         "tracegroupgap": 0
        },
        "margin": {
         "t": 60
        },
        "template": {
         "data": {
          "bar": [
           {
            "error_x": {
             "color": "#2a3f5f"
            },
            "error_y": {
             "color": "#2a3f5f"
            },
            "marker": {
             "line": {
              "color": "#E5ECF6",
              "width": 0.5
             },
             "pattern": {
              "fillmode": "overlay",
              "size": 10,
              "solidity": 0.2
             }
            },
            "type": "bar"
           }
          ],
          "barpolar": [
           {
            "marker": {
             "line": {
              "color": "#E5ECF6",
              "width": 0.5
             },
             "pattern": {
              "fillmode": "overlay",
              "size": 10,
              "solidity": 0.2
             }
            },
            "type": "barpolar"
           }
          ],
          "carpet": [
           {
            "aaxis": {
             "endlinecolor": "#2a3f5f",
             "gridcolor": "white",
             "linecolor": "white",
             "minorgridcolor": "white",
             "startlinecolor": "#2a3f5f"
            },
            "baxis": {
             "endlinecolor": "#2a3f5f",
             "gridcolor": "white",
             "linecolor": "white",
             "minorgridcolor": "white",
             "startlinecolor": "#2a3f5f"
            },
            "type": "carpet"
           }
          ],
          "choropleth": [
           {
            "colorbar": {
             "outlinewidth": 0,
             "ticks": ""
            },
            "type": "choropleth"
           }
          ],
          "contour": [
           {
            "colorbar": {
             "outlinewidth": 0,
             "ticks": ""
            },
            "colorscale": [
             [
              0,
              "#0d0887"
             ],
             [
              0.1111111111111111,
              "#46039f"
             ],
             [
              0.2222222222222222,
              "#7201a8"
             ],
             [
              0.3333333333333333,
              "#9c179e"
             ],
             [
              0.4444444444444444,
              "#bd3786"
             ],
             [
              0.5555555555555556,
              "#d8576b"
             ],
             [
              0.6666666666666666,
              "#ed7953"
             ],
             [
              0.7777777777777778,
              "#fb9f3a"
             ],
             [
              0.8888888888888888,
              "#fdca26"
             ],
             [
              1,
              "#f0f921"
             ]
            ],
            "type": "contour"
           }
          ],
          "contourcarpet": [
           {
            "colorbar": {
             "outlinewidth": 0,
             "ticks": ""
            },
            "type": "contourcarpet"
           }
          ],
          "heatmap": [
           {
            "colorbar": {
             "outlinewidth": 0,
             "ticks": ""
            },
            "colorscale": [
             [
              0,
              "#0d0887"
             ],
             [
              0.1111111111111111,
              "#46039f"
             ],
             [
              0.2222222222222222,
              "#7201a8"
             ],
             [
              0.3333333333333333,
              "#9c179e"
             ],
             [
              0.4444444444444444,
              "#bd3786"
             ],
             [
              0.5555555555555556,
              "#d8576b"
             ],
             [
              0.6666666666666666,
              "#ed7953"
             ],
             [
              0.7777777777777778,
              "#fb9f3a"
             ],
             [
              0.8888888888888888,
              "#fdca26"
             ],
             [
              1,
              "#f0f921"
             ]
            ],
            "type": "heatmap"
           }
          ],
          "heatmapgl": [
           {
            "colorbar": {
             "outlinewidth": 0,
             "ticks": ""
            },
            "colorscale": [
             [
              0,
              "#0d0887"
             ],
             [
              0.1111111111111111,
              "#46039f"
             ],
             [
              0.2222222222222222,
              "#7201a8"
             ],
             [
              0.3333333333333333,
              "#9c179e"
             ],
             [
              0.4444444444444444,
              "#bd3786"
             ],
             [
              0.5555555555555556,
              "#d8576b"
             ],
             [
              0.6666666666666666,
              "#ed7953"
             ],
             [
              0.7777777777777778,
              "#fb9f3a"
             ],
             [
              0.8888888888888888,
              "#fdca26"
             ],
             [
              1,
              "#f0f921"
             ]
            ],
            "type": "heatmapgl"
           }
          ],
          "histogram": [
           {
            "marker": {
             "pattern": {
              "fillmode": "overlay",
              "size": 10,
              "solidity": 0.2
             }
            },
            "type": "histogram"
           }
          ],
          "histogram2d": [
           {
            "colorbar": {
             "outlinewidth": 0,
             "ticks": ""
            },
            "colorscale": [
             [
              0,
              "#0d0887"
             ],
             [
              0.1111111111111111,
              "#46039f"
             ],
             [
              0.2222222222222222,
              "#7201a8"
             ],
             [
              0.3333333333333333,
              "#9c179e"
             ],
             [
              0.4444444444444444,
              "#bd3786"
             ],
             [
              0.5555555555555556,
              "#d8576b"
             ],
             [
              0.6666666666666666,
              "#ed7953"
             ],
             [
              0.7777777777777778,
              "#fb9f3a"
             ],
             [
              0.8888888888888888,
              "#fdca26"
             ],
             [
              1,
              "#f0f921"
             ]
            ],
            "type": "histogram2d"
           }
          ],
          "histogram2dcontour": [
           {
            "colorbar": {
             "outlinewidth": 0,
             "ticks": ""
            },
            "colorscale": [
             [
              0,
              "#0d0887"
             ],
             [
              0.1111111111111111,
              "#46039f"
             ],
             [
              0.2222222222222222,
              "#7201a8"
             ],
             [
              0.3333333333333333,
              "#9c179e"
             ],
             [
              0.4444444444444444,
              "#bd3786"
             ],
             [
              0.5555555555555556,
              "#d8576b"
             ],
             [
              0.6666666666666666,
              "#ed7953"
             ],
             [
              0.7777777777777778,
              "#fb9f3a"
             ],
             [
              0.8888888888888888,
              "#fdca26"
             ],
             [
              1,
              "#f0f921"
             ]
            ],
            "type": "histogram2dcontour"
           }
          ],
          "mesh3d": [
           {
            "colorbar": {
             "outlinewidth": 0,
             "ticks": ""
            },
            "type": "mesh3d"
           }
          ],
          "parcoords": [
           {
            "line": {
             "colorbar": {
              "outlinewidth": 0,
              "ticks": ""
             }
            },
            "type": "parcoords"
           }
          ],
          "pie": [
           {
            "automargin": true,
            "type": "pie"
           }
          ],
          "scatter": [
           {
            "marker": {
             "colorbar": {
              "outlinewidth": 0,
              "ticks": ""
             }
            },
            "type": "scatter"
           }
          ],
          "scatter3d": [
           {
            "line": {
             "colorbar": {
              "outlinewidth": 0,
              "ticks": ""
             }
            },
            "marker": {
             "colorbar": {
              "outlinewidth": 0,
              "ticks": ""
             }
            },
            "type": "scatter3d"
           }
          ],
          "scattercarpet": [
           {
            "marker": {
             "colorbar": {
              "outlinewidth": 0,
              "ticks": ""
             }
            },
            "type": "scattercarpet"
           }
          ],
          "scattergeo": [
           {
            "marker": {
             "colorbar": {
              "outlinewidth": 0,
              "ticks": ""
             }
            },
            "type": "scattergeo"
           }
          ],
          "scattergl": [
           {
            "marker": {
             "colorbar": {
              "outlinewidth": 0,
              "ticks": ""
             }
            },
            "type": "scattergl"
           }
          ],
          "scattermapbox": [
           {
            "marker": {
             "colorbar": {
              "outlinewidth": 0,
              "ticks": ""
             }
            },
            "type": "scattermapbox"
           }
          ],
          "scatterpolar": [
           {
            "marker": {
             "colorbar": {
              "outlinewidth": 0,
              "ticks": ""
             }
            },
            "type": "scatterpolar"
           }
          ],
          "scatterpolargl": [
           {
            "marker": {
             "colorbar": {
              "outlinewidth": 0,
              "ticks": ""
             }
            },
            "type": "scatterpolargl"
           }
          ],
          "scatterternary": [
           {
            "marker": {
             "colorbar": {
              "outlinewidth": 0,
              "ticks": ""
             }
            },
            "type": "scatterternary"
           }
          ],
          "surface": [
           {
            "colorbar": {
             "outlinewidth": 0,
             "ticks": ""
            },
            "colorscale": [
             [
              0,
              "#0d0887"
             ],
             [
              0.1111111111111111,
              "#46039f"
             ],
             [
              0.2222222222222222,
              "#7201a8"
             ],
             [
              0.3333333333333333,
              "#9c179e"
             ],
             [
              0.4444444444444444,
              "#bd3786"
             ],
             [
              0.5555555555555556,
              "#d8576b"
             ],
             [
              0.6666666666666666,
              "#ed7953"
             ],
             [
              0.7777777777777778,
              "#fb9f3a"
             ],
             [
              0.8888888888888888,
              "#fdca26"
             ],
             [
              1,
              "#f0f921"
             ]
            ],
            "type": "surface"
           }
          ],
          "table": [
           {
            "cells": {
             "fill": {
              "color": "#EBF0F8"
             },
             "line": {
              "color": "white"
             }
            },
            "header": {
             "fill": {
              "color": "#C8D4E3"
             },
             "line": {
              "color": "white"
             }
            },
            "type": "table"
           }
          ]
         },
         "layout": {
          "annotationdefaults": {
           "arrowcolor": "#2a3f5f",
           "arrowhead": 0,
           "arrowwidth": 1
          },
          "autotypenumbers": "strict",
          "coloraxis": {
           "colorbar": {
            "outlinewidth": 0,
            "ticks": ""
           }
          },
          "colorscale": {
           "diverging": [
            [
             0,
             "#8e0152"
            ],
            [
             0.1,
             "#c51b7d"
            ],
            [
             0.2,
             "#de77ae"
            ],
            [
             0.3,
             "#f1b6da"
            ],
            [
             0.4,
             "#fde0ef"
            ],
            [
             0.5,
             "#f7f7f7"
            ],
            [
             0.6,
             "#e6f5d0"
            ],
            [
             0.7,
             "#b8e186"
            ],
            [
             0.8,
             "#7fbc41"
            ],
            [
             0.9,
             "#4d9221"
            ],
            [
             1,
             "#276419"
            ]
           ],
           "sequential": [
            [
             0,
             "#0d0887"
            ],
            [
             0.1111111111111111,
             "#46039f"
            ],
            [
             0.2222222222222222,
             "#7201a8"
            ],
            [
             0.3333333333333333,
             "#9c179e"
            ],
            [
             0.4444444444444444,
             "#bd3786"
            ],
            [
             0.5555555555555556,
             "#d8576b"
            ],
            [
             0.6666666666666666,
             "#ed7953"
            ],
            [
             0.7777777777777778,
             "#fb9f3a"
            ],
            [
             0.8888888888888888,
             "#fdca26"
            ],
            [
             1,
             "#f0f921"
            ]
           ],
           "sequentialminus": [
            [
             0,
             "#0d0887"
            ],
            [
             0.1111111111111111,
             "#46039f"
            ],
            [
             0.2222222222222222,
             "#7201a8"
            ],
            [
             0.3333333333333333,
             "#9c179e"
            ],
            [
             0.4444444444444444,
             "#bd3786"
            ],
            [
             0.5555555555555556,
             "#d8576b"
            ],
            [
             0.6666666666666666,
             "#ed7953"
            ],
            [
             0.7777777777777778,
             "#fb9f3a"
            ],
            [
             0.8888888888888888,
             "#fdca26"
            ],
            [
             1,
             "#f0f921"
            ]
           ]
          },
          "colorway": [
           "#636efa",
           "#EF553B",
           "#00cc96",
           "#ab63fa",
           "#FFA15A",
           "#19d3f3",
           "#FF6692",
           "#B6E880",
           "#FF97FF",
           "#FECB52"
          ],
          "font": {
           "color": "#2a3f5f"
          },
          "geo": {
           "bgcolor": "white",
           "lakecolor": "white",
           "landcolor": "#E5ECF6",
           "showlakes": true,
           "showland": true,
           "subunitcolor": "white"
          },
          "hoverlabel": {
           "align": "left"
          },
          "hovermode": "closest",
          "mapbox": {
           "style": "light"
          },
          "paper_bgcolor": "white",
          "plot_bgcolor": "#E5ECF6",
          "polar": {
           "angularaxis": {
            "gridcolor": "white",
            "linecolor": "white",
            "ticks": ""
           },
           "bgcolor": "#E5ECF6",
           "radialaxis": {
            "gridcolor": "white",
            "linecolor": "white",
            "ticks": ""
           }
          },
          "scene": {
           "xaxis": {
            "backgroundcolor": "#E5ECF6",
            "gridcolor": "white",
            "gridwidth": 2,
            "linecolor": "white",
            "showbackground": true,
            "ticks": "",
            "zerolinecolor": "white"
           },
           "yaxis": {
            "backgroundcolor": "#E5ECF6",
            "gridcolor": "white",
            "gridwidth": 2,
            "linecolor": "white",
            "showbackground": true,
            "ticks": "",
            "zerolinecolor": "white"
           },
           "zaxis": {
            "backgroundcolor": "#E5ECF6",
            "gridcolor": "white",
            "gridwidth": 2,
            "linecolor": "white",
            "showbackground": true,
            "ticks": "",
            "zerolinecolor": "white"
           }
          },
          "shapedefaults": {
           "line": {
            "color": "#2a3f5f"
           }
          },
          "ternary": {
           "aaxis": {
            "gridcolor": "white",
            "linecolor": "white",
            "ticks": ""
           },
           "baxis": {
            "gridcolor": "white",
            "linecolor": "white",
            "ticks": ""
           },
           "bgcolor": "#E5ECF6",
           "caxis": {
            "gridcolor": "white",
            "linecolor": "white",
            "ticks": ""
           }
          },
          "title": {
           "x": 0.05
          },
          "xaxis": {
           "automargin": true,
           "gridcolor": "white",
           "linecolor": "white",
           "ticks": "",
           "title": {
            "standoff": 15
           },
           "zerolinecolor": "white",
           "zerolinewidth": 2
          },
          "yaxis": {
           "automargin": true,
           "gridcolor": "white",
           "linecolor": "white",
           "ticks": "",
           "title": {
            "standoff": 15
           },
           "zerolinecolor": "white",
           "zerolinewidth": 2
          }
         }
        },
        "xaxis": {
         "anchor": "y",
         "domain": [
          0,
          1
         ],
         "title": {
          "text": "value"
         }
        },
        "yaxis": {
         "anchor": "x",
         "domain": [
          0,
          1
         ],
         "title": {
          "text": "percent"
         }
        }
       }
      }
     },
     "metadata": {},
     "output_type": "display_data"
    }
   ],
   "source": [
    "px.histogram(\n",
    "    df.host_id.value_counts(),\n",
    "    histnorm=\"percent\"\n",
    "    )"
   ]
  },
  {
   "cell_type": "code",
   "execution_count": 194,
   "metadata": {},
   "outputs": [
    {
     "data": {
      "application/vnd.plotly.v1+json": {
       "config": {
        "plotlyServerURL": "https://plot.ly"
       },
       "data": [
        {
         "alignmentgroup": "True",
         "bingroup": "x",
         "histnorm": "percent",
         "hovertemplate": "variable=host_id<br>value=%{x}<br>percent=%{y}<extra></extra>",
         "legendgroup": "host_id",
         "marker": {
          "color": "#636efa",
          "pattern": {
           "shape": ""
          }
         },
         "name": "host_id",
         "offsetgroup": "host_id",
         "orientation": "v",
         "showlegend": true,
         "type": "histogram",
         "x": [
          22,
          13,
          12,
          9,
          8,
          8,
          7,
          6,
          4,
          4,
          4,
          4,
          4,
          4,
          4,
          4,
          4,
          3,
          3,
          3,
          3,
          3,
          3,
          3,
          3,
          2,
          2,
          2,
          2,
          2,
          2,
          2,
          2,
          2,
          2,
          2,
          2,
          2,
          2,
          2,
          2,
          2,
          2,
          2,
          2,
          2,
          2,
          2,
          2,
          2,
          2,
          2,
          2,
          2,
          2,
          2,
          2
         ],
         "xaxis": "x",
         "yaxis": "y"
        }
       ],
       "layout": {
        "barmode": "relative",
        "legend": {
         "title": {
          "text": "variable"
         },
         "tracegroupgap": 0
        },
        "margin": {
         "t": 60
        },
        "template": {
         "data": {
          "bar": [
           {
            "error_x": {
             "color": "#2a3f5f"
            },
            "error_y": {
             "color": "#2a3f5f"
            },
            "marker": {
             "line": {
              "color": "#E5ECF6",
              "width": 0.5
             },
             "pattern": {
              "fillmode": "overlay",
              "size": 10,
              "solidity": 0.2
             }
            },
            "type": "bar"
           }
          ],
          "barpolar": [
           {
            "marker": {
             "line": {
              "color": "#E5ECF6",
              "width": 0.5
             },
             "pattern": {
              "fillmode": "overlay",
              "size": 10,
              "solidity": 0.2
             }
            },
            "type": "barpolar"
           }
          ],
          "carpet": [
           {
            "aaxis": {
             "endlinecolor": "#2a3f5f",
             "gridcolor": "white",
             "linecolor": "white",
             "minorgridcolor": "white",
             "startlinecolor": "#2a3f5f"
            },
            "baxis": {
             "endlinecolor": "#2a3f5f",
             "gridcolor": "white",
             "linecolor": "white",
             "minorgridcolor": "white",
             "startlinecolor": "#2a3f5f"
            },
            "type": "carpet"
           }
          ],
          "choropleth": [
           {
            "colorbar": {
             "outlinewidth": 0,
             "ticks": ""
            },
            "type": "choropleth"
           }
          ],
          "contour": [
           {
            "colorbar": {
             "outlinewidth": 0,
             "ticks": ""
            },
            "colorscale": [
             [
              0,
              "#0d0887"
             ],
             [
              0.1111111111111111,
              "#46039f"
             ],
             [
              0.2222222222222222,
              "#7201a8"
             ],
             [
              0.3333333333333333,
              "#9c179e"
             ],
             [
              0.4444444444444444,
              "#bd3786"
             ],
             [
              0.5555555555555556,
              "#d8576b"
             ],
             [
              0.6666666666666666,
              "#ed7953"
             ],
             [
              0.7777777777777778,
              "#fb9f3a"
             ],
             [
              0.8888888888888888,
              "#fdca26"
             ],
             [
              1,
              "#f0f921"
             ]
            ],
            "type": "contour"
           }
          ],
          "contourcarpet": [
           {
            "colorbar": {
             "outlinewidth": 0,
             "ticks": ""
            },
            "type": "contourcarpet"
           }
          ],
          "heatmap": [
           {
            "colorbar": {
             "outlinewidth": 0,
             "ticks": ""
            },
            "colorscale": [
             [
              0,
              "#0d0887"
             ],
             [
              0.1111111111111111,
              "#46039f"
             ],
             [
              0.2222222222222222,
              "#7201a8"
             ],
             [
              0.3333333333333333,
              "#9c179e"
             ],
             [
              0.4444444444444444,
              "#bd3786"
             ],
             [
              0.5555555555555556,
              "#d8576b"
             ],
             [
              0.6666666666666666,
              "#ed7953"
             ],
             [
              0.7777777777777778,
              "#fb9f3a"
             ],
             [
              0.8888888888888888,
              "#fdca26"
             ],
             [
              1,
              "#f0f921"
             ]
            ],
            "type": "heatmap"
           }
          ],
          "heatmapgl": [
           {
            "colorbar": {
             "outlinewidth": 0,
             "ticks": ""
            },
            "colorscale": [
             [
              0,
              "#0d0887"
             ],
             [
              0.1111111111111111,
              "#46039f"
             ],
             [
              0.2222222222222222,
              "#7201a8"
             ],
             [
              0.3333333333333333,
              "#9c179e"
             ],
             [
              0.4444444444444444,
              "#bd3786"
             ],
             [
              0.5555555555555556,
              "#d8576b"
             ],
             [
              0.6666666666666666,
              "#ed7953"
             ],
             [
              0.7777777777777778,
              "#fb9f3a"
             ],
             [
              0.8888888888888888,
              "#fdca26"
             ],
             [
              1,
              "#f0f921"
             ]
            ],
            "type": "heatmapgl"
           }
          ],
          "histogram": [
           {
            "marker": {
             "pattern": {
              "fillmode": "overlay",
              "size": 10,
              "solidity": 0.2
             }
            },
            "type": "histogram"
           }
          ],
          "histogram2d": [
           {
            "colorbar": {
             "outlinewidth": 0,
             "ticks": ""
            },
            "colorscale": [
             [
              0,
              "#0d0887"
             ],
             [
              0.1111111111111111,
              "#46039f"
             ],
             [
              0.2222222222222222,
              "#7201a8"
             ],
             [
              0.3333333333333333,
              "#9c179e"
             ],
             [
              0.4444444444444444,
              "#bd3786"
             ],
             [
              0.5555555555555556,
              "#d8576b"
             ],
             [
              0.6666666666666666,
              "#ed7953"
             ],
             [
              0.7777777777777778,
              "#fb9f3a"
             ],
             [
              0.8888888888888888,
              "#fdca26"
             ],
             [
              1,
              "#f0f921"
             ]
            ],
            "type": "histogram2d"
           }
          ],
          "histogram2dcontour": [
           {
            "colorbar": {
             "outlinewidth": 0,
             "ticks": ""
            },
            "colorscale": [
             [
              0,
              "#0d0887"
             ],
             [
              0.1111111111111111,
              "#46039f"
             ],
             [
              0.2222222222222222,
              "#7201a8"
             ],
             [
              0.3333333333333333,
              "#9c179e"
             ],
             [
              0.4444444444444444,
              "#bd3786"
             ],
             [
              0.5555555555555556,
              "#d8576b"
             ],
             [
              0.6666666666666666,
              "#ed7953"
             ],
             [
              0.7777777777777778,
              "#fb9f3a"
             ],
             [
              0.8888888888888888,
              "#fdca26"
             ],
             [
              1,
              "#f0f921"
             ]
            ],
            "type": "histogram2dcontour"
           }
          ],
          "mesh3d": [
           {
            "colorbar": {
             "outlinewidth": 0,
             "ticks": ""
            },
            "type": "mesh3d"
           }
          ],
          "parcoords": [
           {
            "line": {
             "colorbar": {
              "outlinewidth": 0,
              "ticks": ""
             }
            },
            "type": "parcoords"
           }
          ],
          "pie": [
           {
            "automargin": true,
            "type": "pie"
           }
          ],
          "scatter": [
           {
            "marker": {
             "colorbar": {
              "outlinewidth": 0,
              "ticks": ""
             }
            },
            "type": "scatter"
           }
          ],
          "scatter3d": [
           {
            "line": {
             "colorbar": {
              "outlinewidth": 0,
              "ticks": ""
             }
            },
            "marker": {
             "colorbar": {
              "outlinewidth": 0,
              "ticks": ""
             }
            },
            "type": "scatter3d"
           }
          ],
          "scattercarpet": [
           {
            "marker": {
             "colorbar": {
              "outlinewidth": 0,
              "ticks": ""
             }
            },
            "type": "scattercarpet"
           }
          ],
          "scattergeo": [
           {
            "marker": {
             "colorbar": {
              "outlinewidth": 0,
              "ticks": ""
             }
            },
            "type": "scattergeo"
           }
          ],
          "scattergl": [
           {
            "marker": {
             "colorbar": {
              "outlinewidth": 0,
              "ticks": ""
             }
            },
            "type": "scattergl"
           }
          ],
          "scattermapbox": [
           {
            "marker": {
             "colorbar": {
              "outlinewidth": 0,
              "ticks": ""
             }
            },
            "type": "scattermapbox"
           }
          ],
          "scatterpolar": [
           {
            "marker": {
             "colorbar": {
              "outlinewidth": 0,
              "ticks": ""
             }
            },
            "type": "scatterpolar"
           }
          ],
          "scatterpolargl": [
           {
            "marker": {
             "colorbar": {
              "outlinewidth": 0,
              "ticks": ""
             }
            },
            "type": "scatterpolargl"
           }
          ],
          "scatterternary": [
           {
            "marker": {
             "colorbar": {
              "outlinewidth": 0,
              "ticks": ""
             }
            },
            "type": "scatterternary"
           }
          ],
          "surface": [
           {
            "colorbar": {
             "outlinewidth": 0,
             "ticks": ""
            },
            "colorscale": [
             [
              0,
              "#0d0887"
             ],
             [
              0.1111111111111111,
              "#46039f"
             ],
             [
              0.2222222222222222,
              "#7201a8"
             ],
             [
              0.3333333333333333,
              "#9c179e"
             ],
             [
              0.4444444444444444,
              "#bd3786"
             ],
             [
              0.5555555555555556,
              "#d8576b"
             ],
             [
              0.6666666666666666,
              "#ed7953"
             ],
             [
              0.7777777777777778,
              "#fb9f3a"
             ],
             [
              0.8888888888888888,
              "#fdca26"
             ],
             [
              1,
              "#f0f921"
             ]
            ],
            "type": "surface"
           }
          ],
          "table": [
           {
            "cells": {
             "fill": {
              "color": "#EBF0F8"
             },
             "line": {
              "color": "white"
             }
            },
            "header": {
             "fill": {
              "color": "#C8D4E3"
             },
             "line": {
              "color": "white"
             }
            },
            "type": "table"
           }
          ]
         },
         "layout": {
          "annotationdefaults": {
           "arrowcolor": "#2a3f5f",
           "arrowhead": 0,
           "arrowwidth": 1
          },
          "autotypenumbers": "strict",
          "coloraxis": {
           "colorbar": {
            "outlinewidth": 0,
            "ticks": ""
           }
          },
          "colorscale": {
           "diverging": [
            [
             0,
             "#8e0152"
            ],
            [
             0.1,
             "#c51b7d"
            ],
            [
             0.2,
             "#de77ae"
            ],
            [
             0.3,
             "#f1b6da"
            ],
            [
             0.4,
             "#fde0ef"
            ],
            [
             0.5,
             "#f7f7f7"
            ],
            [
             0.6,
             "#e6f5d0"
            ],
            [
             0.7,
             "#b8e186"
            ],
            [
             0.8,
             "#7fbc41"
            ],
            [
             0.9,
             "#4d9221"
            ],
            [
             1,
             "#276419"
            ]
           ],
           "sequential": [
            [
             0,
             "#0d0887"
            ],
            [
             0.1111111111111111,
             "#46039f"
            ],
            [
             0.2222222222222222,
             "#7201a8"
            ],
            [
             0.3333333333333333,
             "#9c179e"
            ],
            [
             0.4444444444444444,
             "#bd3786"
            ],
            [
             0.5555555555555556,
             "#d8576b"
            ],
            [
             0.6666666666666666,
             "#ed7953"
            ],
            [
             0.7777777777777778,
             "#fb9f3a"
            ],
            [
             0.8888888888888888,
             "#fdca26"
            ],
            [
             1,
             "#f0f921"
            ]
           ],
           "sequentialminus": [
            [
             0,
             "#0d0887"
            ],
            [
             0.1111111111111111,
             "#46039f"
            ],
            [
             0.2222222222222222,
             "#7201a8"
            ],
            [
             0.3333333333333333,
             "#9c179e"
            ],
            [
             0.4444444444444444,
             "#bd3786"
            ],
            [
             0.5555555555555556,
             "#d8576b"
            ],
            [
             0.6666666666666666,
             "#ed7953"
            ],
            [
             0.7777777777777778,
             "#fb9f3a"
            ],
            [
             0.8888888888888888,
             "#fdca26"
            ],
            [
             1,
             "#f0f921"
            ]
           ]
          },
          "colorway": [
           "#636efa",
           "#EF553B",
           "#00cc96",
           "#ab63fa",
           "#FFA15A",
           "#19d3f3",
           "#FF6692",
           "#B6E880",
           "#FF97FF",
           "#FECB52"
          ],
          "font": {
           "color": "#2a3f5f"
          },
          "geo": {
           "bgcolor": "white",
           "lakecolor": "white",
           "landcolor": "#E5ECF6",
           "showlakes": true,
           "showland": true,
           "subunitcolor": "white"
          },
          "hoverlabel": {
           "align": "left"
          },
          "hovermode": "closest",
          "mapbox": {
           "style": "light"
          },
          "paper_bgcolor": "white",
          "plot_bgcolor": "#E5ECF6",
          "polar": {
           "angularaxis": {
            "gridcolor": "white",
            "linecolor": "white",
            "ticks": ""
           },
           "bgcolor": "#E5ECF6",
           "radialaxis": {
            "gridcolor": "white",
            "linecolor": "white",
            "ticks": ""
           }
          },
          "scene": {
           "xaxis": {
            "backgroundcolor": "#E5ECF6",
            "gridcolor": "white",
            "gridwidth": 2,
            "linecolor": "white",
            "showbackground": true,
            "ticks": "",
            "zerolinecolor": "white"
           },
           "yaxis": {
            "backgroundcolor": "#E5ECF6",
            "gridcolor": "white",
            "gridwidth": 2,
            "linecolor": "white",
            "showbackground": true,
            "ticks": "",
            "zerolinecolor": "white"
           },
           "zaxis": {
            "backgroundcolor": "#E5ECF6",
            "gridcolor": "white",
            "gridwidth": 2,
            "linecolor": "white",
            "showbackground": true,
            "ticks": "",
            "zerolinecolor": "white"
           }
          },
          "shapedefaults": {
           "line": {
            "color": "#2a3f5f"
           }
          },
          "ternary": {
           "aaxis": {
            "gridcolor": "white",
            "linecolor": "white",
            "ticks": ""
           },
           "baxis": {
            "gridcolor": "white",
            "linecolor": "white",
            "ticks": ""
           },
           "bgcolor": "#E5ECF6",
           "caxis": {
            "gridcolor": "white",
            "linecolor": "white",
            "ticks": ""
           }
          },
          "title": {
           "x": 0.05
          },
          "xaxis": {
           "automargin": true,
           "gridcolor": "white",
           "linecolor": "white",
           "ticks": "",
           "title": {
            "standoff": 15
           },
           "zerolinecolor": "white",
           "zerolinewidth": 2
          },
          "yaxis": {
           "automargin": true,
           "gridcolor": "white",
           "linecolor": "white",
           "ticks": "",
           "title": {
            "standoff": 15
           },
           "zerolinecolor": "white",
           "zerolinewidth": 2
          }
         }
        },
        "xaxis": {
         "anchor": "y",
         "domain": [
          0,
          1
         ],
         "title": {
          "text": "value"
         }
        },
        "yaxis": {
         "anchor": "x",
         "domain": [
          0,
          1
         ],
         "title": {
          "text": "percent"
         }
        }
       }
      }
     },
     "metadata": {},
     "output_type": "display_data"
    }
   ],
   "source": [
    "px.histogram(\n",
    "    df.host_id.value_counts()[df.host_id.value_counts()>1],\n",
    "    histnorm=\"percent\"\n",
    "    )"
   ]
  },
  {
   "cell_type": "markdown",
   "metadata": {},
   "source": [
    "Hosts with more rooms in the area"
   ]
  },
  {
   "cell_type": "code",
   "execution_count": 202,
   "metadata": {},
   "outputs": [
    {
     "data": {
      "application/vnd.plotly.v1+json": {
       "config": {
        "plotlyServerURL": "https://plot.ly"
       },
       "data": [
        {
         "customdata": [
          [
           "Entire home/apt",
           "http://www.airbnb.com/rooms/50582066",
           "3"
          ],
          [
           "Entire home/apt",
           "http://www.airbnb.com/rooms/38439782",
           "3"
          ],
          [
           "Entire home/apt",
           "http://www.airbnb.com/rooms/49330258",
           "2"
          ],
          [
           "Entire home/apt",
           "http://www.airbnb.com/rooms/49720218",
           "3"
          ],
          [
           "Entire home/apt",
           "http://www.airbnb.com/rooms/49331210",
           "2"
          ],
          [
           "Entire home/apt",
           "http://www.airbnb.com/rooms/49330931",
           "3"
          ],
          [
           "Entire home/apt",
           "http://www.airbnb.com/rooms/49742491",
           "3"
          ],
          [
           "Entire home/apt",
           "http://www.airbnb.com/rooms/49331437",
           "2"
          ],
          [
           "Entire home/apt",
           "http://www.airbnb.com/rooms/49331021",
           "2"
          ],
          [
           "Entire home/apt",
           "http://www.airbnb.com/rooms/38219821",
           "2"
          ],
          [
           "Entire home/apt",
           "http://www.airbnb.com/rooms/16957514",
           "2"
          ],
          [
           "Entire home/apt",
           "http://www.airbnb.com/rooms/49330673",
           "3"
          ],
          [
           "Entire home/apt",
           "http://www.airbnb.com/rooms/16957483",
           "3"
          ],
          [
           "Entire home/apt",
           "http://www.airbnb.com/rooms/16957497",
           "3"
          ],
          [
           "Entire home/apt",
           "http://www.airbnb.com/rooms/42795203",
           "2"
          ],
          [
           "Entire home/apt",
           "http://www.airbnb.com/rooms/16957522",
           "3"
          ],
          [
           "Entire home/apt",
           "http://www.airbnb.com/rooms/16957520",
           "3"
          ],
          [
           "Entire home/apt",
           "http://www.airbnb.com/rooms/52543437",
           "2"
          ],
          [
           "Entire home/apt",
           "http://www.airbnb.com/rooms/49327948",
           "3"
          ],
          [
           "Entire home/apt",
           "http://www.airbnb.com/rooms/25441842",
           "2"
          ],
          [
           "Entire home/apt",
           "http://www.airbnb.com/rooms/49329232",
           "3"
          ],
          [
           "Entire home/apt",
           "http://www.airbnb.com/rooms/49331212",
           "2"
          ]
         ],
         "hovertemplate": "<b>%{hovertext}</b><br><br>host_id=113038136<br>latitude=%{lat}<br>longitude=%{lon}<br>room_type=%{customdata[0]}<br>room_link=%{customdata[1]}<br>license=%{customdata[2]}<extra></extra>",
         "hovertext": [
          "Bellevue Plage for 3 persons.",
          "Jaulerry for 4 persons.",
          "Villa Maurice for 4 persons.",
          "La Maison Basque for 4 persons.",
          "Bellevue Clemenceau for 2 persons.",
          "Clémenceau for 4 persons.",
          "Bellevue Plage for 4 persons.",
          "Victoria Surf for 4 persons.",
          "Arudy for 4 persons.",
          "Atlantic for 6 persons.",
          "Saint Andrews for 2 persons.",
          "Astoria for 4 persons.",
          "Victoria for 6 persons.",
          "Charles Floquet for 4 persons.",
          "Jardin Public for 4 persons.",
          "Bellevue Clemenceau for 6 persons.",
          "Victoria for 4 persons.",
          "André Lamandé for 4 persons.",
          "Chalet Louisette for 4 persons.",
          "Etcheverry for 4 persons.",
          "Windsor for 4 persons.",
          "Bellevue Clemenceau for 2 persons."
         ],
         "lat": [
          43.48265,
          43.48056,
          43.481083,
          43.483635,
          43.482609,
          43.482258,
          43.482647,
          43.485008,
          43.480305,
          43.48323,
          43.48139,
          43.48122,
          43.48518,
          43.48033,
          43.48025,
          43.48261,
          43.48515,
          43.482735,
          43.480297,
          43.48186,
          43.48114,
          43.482609
         ],
         "legendgroup": "113038136",
         "lon": [
          -1.56135,
          -1.55915,
          -1.557525,
          -1.559254,
          -1.560922,
          -1.559593,
          -1.561351,
          -1.55683,
          -1.557436,
          -1.55806,
          -1.56207,
          -1.56219,
          -1.55553,
          -1.55663,
          -1.55929,
          -1.56092,
          -1.55576,
          -1.554327,
          -1.554482,
          -1.5617,
          -1.55555,
          -1.560922
         ],
         "marker": {
          "color": "#636efa"
         },
         "mode": "markers",
         "name": "113038136",
         "showlegend": true,
         "subplot": "mapbox",
         "type": "scattermapbox"
        },
        {
         "customdata": [
          [
           "Entire home/apt",
           "http://www.airbnb.com/rooms/49475837",
           ""
          ],
          [
           "Entire home/apt",
           "http://www.airbnb.com/rooms/20416682",
           ""
          ],
          [
           "Entire home/apt",
           "http://www.airbnb.com/rooms/51835062",
           ""
          ],
          [
           "Entire home/apt",
           "http://www.airbnb.com/rooms/20403342",
           ""
          ],
          [
           "Entire home/apt",
           "http://www.airbnb.com/rooms/20403278",
           ""
          ],
          [
           "Entire home/apt",
           "http://www.airbnb.com/rooms/31032000",
           ""
          ],
          [
           "Entire home/apt",
           "http://www.airbnb.com/rooms/34579319",
           ""
          ],
          [
           "Entire home/apt",
           "http://www.airbnb.com/rooms/36530995",
           ""
          ],
          [
           "Entire home/apt",
           "http://www.airbnb.com/rooms/49080487",
           ""
          ],
          [
           "Entire home/apt",
           "http://www.airbnb.com/rooms/40712545",
           ""
          ],
          [
           "Entire home/apt",
           "http://www.airbnb.com/rooms/50200513",
           ""
          ],
          [
           "Entire home/apt",
           "http://www.airbnb.com/rooms/20410897",
           ""
          ]
         ],
         "hovertemplate": "<b>%{hovertext}</b><br><br>host_id=133058806<br>latitude=%{lat}<br>longitude=%{lon}<br>room_type=%{customdata[0]}<br>room_link=%{customdata[1]}<br>license=%{customdata[2]}<extra></extra>",
         "hovertext": [
          "Esprit cosy pour ce bien à l'emplacement de choix - FR-1-3-517",
          "Studio les pieds dans l'eau à Biarritz - FR-1-3-389",
          "Appartement à 500 m  de la plage avec place de parking - FR-1-3-536",
          "Studio au cur de la ville - FR-1-3-410",
          "Grand appartement en plein centre-ville - FR-1-3-390",
          "Appt Studio 2 couchages BIARRITZ - FR-1-248-63",
          "Studio - 2 personnes - BIARRITZ (64) - FR-1-248-70",
          "Appt 3 pièces 4 couchages BIARRITZ - FR-1-248-54",
          "Moussempes - a moins de 500m de la grande plage - FR-1-239-616",
          "Saint Georges à 350m de la Grande plage - FR-1-3-489",
          "Clemenceau - FR-1-239-658",
          "Du bleu à perte de vue pour ce charmant studio - FR-1-3-383"
         ],
         "lat": [
          43.484795,
          43.48487,
          43.48441,
          43.48488,
          43.48118,
          43.48323,
          43.48315,
          43.48135,
          43.48128,
          43.48152,
          43.48215,
          43.482388
         ],
         "legendgroup": "133058806",
         "lon": [
          -1.556773,
          -1.55713,
          -1.55611,
          -1.55713,
          -1.56025,
          -1.56146,
          -1.55863,
          -1.56015,
          -1.55659,
          -1.55683,
          -1.55948,
          -1.561632
         ],
         "marker": {
          "color": "#EF553B"
         },
         "mode": "markers",
         "name": "133058806",
         "showlegend": true,
         "subplot": "mapbox",
         "type": "scattermapbox"
        },
        {
         "customdata": [
          [
           "Entire home/apt",
           "http://www.airbnb.com/rooms/43447953",
           "6412200135733"
          ],
          [
           "Entire home/apt",
           "http://www.airbnb.com/rooms/44114732",
           "64122000202B0"
          ],
          [
           "Entire home/apt",
           "http://www.airbnb.com/rooms/51416589",
           "641220021041C"
          ],
          [
           "Entire home/apt",
           "http://www.airbnb.com/rooms/49496432",
           "6412200200729"
          ],
          [
           "Entire home/apt",
           "http://www.airbnb.com/rooms/48688590",
           "64122171880VS"
          ],
          [
           "Entire home/apt",
           "http://www.airbnb.com/rooms/48391313",
           "641220013982A"
          ],
          [
           "Entire home/apt",
           "http://www.airbnb.com/rooms/44672920",
           "641220016278D"
          ],
          [
           "Entire home/apt",
           "http://www.airbnb.com/rooms/29895066",
           "64122171932RS"
          ],
          [
           "Entire home/apt",
           "http://www.airbnb.com/rooms/52526176",
           "641220023083E"
          ],
          [
           "Entire home/apt",
           "http://www.airbnb.com/rooms/43447948",
           "6412200142889"
          ],
          [
           "Entire home/apt",
           "http://www.airbnb.com/rooms/47353317",
           "64122001583D9"
          ],
          [
           "Entire home/apt",
           "http://www.airbnb.com/rooms/52684358",
           "64122181859VJ"
          ],
          [
           "Entire home/apt",
           "http://www.airbnb.com/rooms/46501316",
           "64122171082NS"
          ]
         ],
         "hovertemplate": "<b>%{hovertext}</b><br><br>host_id=184945495<br>latitude=%{lat}<br>longitude=%{lon}<br>room_type=%{customdata[0]}<br>room_link=%{customdata[1]}<br>license=%{customdata[2]}<extra></extra>",
         "hovertext": [
          "Large studio design w/ balcony at the heart of Biarritz - Welkeys",
          "Studio w/ balcony and breathtaking view of Grand Plage (Biarritz) – Welkeys",
          "Modern studio in the heart of Biarritz, 4 min walk from the beach - Welkeys",
          "Nice studio with sea view & balcony in the centre of Biarritz - Welkeys",
          "Charming flat 4 minutes from the Grande Plage of Biarritz away - Welkeys",
          "Superb and calm T3 in the heart of Biarritz, 5 min from the beach - Welkeys",
          "Modern 1br with terrace, 5 min from Biarritz’s Grande Plage – Welkeys",
          "Spacious 2br in central Biarritz, close to beaches",
          "Nice and modern 1br flat at the heart of Biarritz - Welkeys",
          "Charming 5 stars flat at the heart of Biarritz, near the beach - Welkeys",
          "Charming 1br at the heart of Biarritz, 5 min walking to the beach - Welkeys",
          "Charming flat with garden in a house at the heart of Biarritz - Welkeys",
          "Charming 3*** 3br with breathtaking seaview in Biarritz center - Welkeys"
         ],
         "lat": [
          43.4832,
          43.48342,
          43.48129,
          43.48165,
          43.48372,
          43.48149,
          43.48123,
          43.48367,
          43.48413,
          43.48073,
          43.4834,
          43.481564,
          43.48253
         ],
         "legendgroup": "184945495",
         "lon": [
          -1.56027,
          -1.56091,
          -1.55903,
          -1.56162,
          -1.55652,
          -1.55669,
          -1.5564,
          -1.55903,
          -1.55585,
          -1.5557,
          -1.55886,
          -1.55651,
          -1.55827
         ],
         "marker": {
          "color": "#00cc96"
         },
         "mode": "markers",
         "name": "184945495",
         "showlegend": true,
         "subplot": "mapbox",
         "type": "scattermapbox"
        }
       ],
       "layout": {
        "legend": {
         "title": {
          "text": "host_id"
         },
         "tracegroupgap": 0
        },
        "mapbox": {
         "accesstoken": "pk.eyJ1IjoibWF6ZWx4IiwiYSI6ImNqOG9tODMzYzA1MnAydnBjZG5lYTR4bGwifQ.R7lZcLkJejwX4D4--1yMSA",
         "center": {
          "lat": 43.482467723404255,
          "lon": -1.558482276595745
         },
         "domain": {
          "x": [
           0,
           1
          ],
          "y": [
           0,
           1
          ]
         },
         "zoom": 14
        },
        "margin": {
         "t": 60
        },
        "template": {
         "data": {
          "bar": [
           {
            "error_x": {
             "color": "#2a3f5f"
            },
            "error_y": {
             "color": "#2a3f5f"
            },
            "marker": {
             "line": {
              "color": "#E5ECF6",
              "width": 0.5
             },
             "pattern": {
              "fillmode": "overlay",
              "size": 10,
              "solidity": 0.2
             }
            },
            "type": "bar"
           }
          ],
          "barpolar": [
           {
            "marker": {
             "line": {
              "color": "#E5ECF6",
              "width": 0.5
             },
             "pattern": {
              "fillmode": "overlay",
              "size": 10,
              "solidity": 0.2
             }
            },
            "type": "barpolar"
           }
          ],
          "carpet": [
           {
            "aaxis": {
             "endlinecolor": "#2a3f5f",
             "gridcolor": "white",
             "linecolor": "white",
             "minorgridcolor": "white",
             "startlinecolor": "#2a3f5f"
            },
            "baxis": {
             "endlinecolor": "#2a3f5f",
             "gridcolor": "white",
             "linecolor": "white",
             "minorgridcolor": "white",
             "startlinecolor": "#2a3f5f"
            },
            "type": "carpet"
           }
          ],
          "choropleth": [
           {
            "colorbar": {
             "outlinewidth": 0,
             "ticks": ""
            },
            "type": "choropleth"
           }
          ],
          "contour": [
           {
            "colorbar": {
             "outlinewidth": 0,
             "ticks": ""
            },
            "colorscale": [
             [
              0,
              "#0d0887"
             ],
             [
              0.1111111111111111,
              "#46039f"
             ],
             [
              0.2222222222222222,
              "#7201a8"
             ],
             [
              0.3333333333333333,
              "#9c179e"
             ],
             [
              0.4444444444444444,
              "#bd3786"
             ],
             [
              0.5555555555555556,
              "#d8576b"
             ],
             [
              0.6666666666666666,
              "#ed7953"
             ],
             [
              0.7777777777777778,
              "#fb9f3a"
             ],
             [
              0.8888888888888888,
              "#fdca26"
             ],
             [
              1,
              "#f0f921"
             ]
            ],
            "type": "contour"
           }
          ],
          "contourcarpet": [
           {
            "colorbar": {
             "outlinewidth": 0,
             "ticks": ""
            },
            "type": "contourcarpet"
           }
          ],
          "heatmap": [
           {
            "colorbar": {
             "outlinewidth": 0,
             "ticks": ""
            },
            "colorscale": [
             [
              0,
              "#0d0887"
             ],
             [
              0.1111111111111111,
              "#46039f"
             ],
             [
              0.2222222222222222,
              "#7201a8"
             ],
             [
              0.3333333333333333,
              "#9c179e"
             ],
             [
              0.4444444444444444,
              "#bd3786"
             ],
             [
              0.5555555555555556,
              "#d8576b"
             ],
             [
              0.6666666666666666,
              "#ed7953"
             ],
             [
              0.7777777777777778,
              "#fb9f3a"
             ],
             [
              0.8888888888888888,
              "#fdca26"
             ],
             [
              1,
              "#f0f921"
             ]
            ],
            "type": "heatmap"
           }
          ],
          "heatmapgl": [
           {
            "colorbar": {
             "outlinewidth": 0,
             "ticks": ""
            },
            "colorscale": [
             [
              0,
              "#0d0887"
             ],
             [
              0.1111111111111111,
              "#46039f"
             ],
             [
              0.2222222222222222,
              "#7201a8"
             ],
             [
              0.3333333333333333,
              "#9c179e"
             ],
             [
              0.4444444444444444,
              "#bd3786"
             ],
             [
              0.5555555555555556,
              "#d8576b"
             ],
             [
              0.6666666666666666,
              "#ed7953"
             ],
             [
              0.7777777777777778,
              "#fb9f3a"
             ],
             [
              0.8888888888888888,
              "#fdca26"
             ],
             [
              1,
              "#f0f921"
             ]
            ],
            "type": "heatmapgl"
           }
          ],
          "histogram": [
           {
            "marker": {
             "pattern": {
              "fillmode": "overlay",
              "size": 10,
              "solidity": 0.2
             }
            },
            "type": "histogram"
           }
          ],
          "histogram2d": [
           {
            "colorbar": {
             "outlinewidth": 0,
             "ticks": ""
            },
            "colorscale": [
             [
              0,
              "#0d0887"
             ],
             [
              0.1111111111111111,
              "#46039f"
             ],
             [
              0.2222222222222222,
              "#7201a8"
             ],
             [
              0.3333333333333333,
              "#9c179e"
             ],
             [
              0.4444444444444444,
              "#bd3786"
             ],
             [
              0.5555555555555556,
              "#d8576b"
             ],
             [
              0.6666666666666666,
              "#ed7953"
             ],
             [
              0.7777777777777778,
              "#fb9f3a"
             ],
             [
              0.8888888888888888,
              "#fdca26"
             ],
             [
              1,
              "#f0f921"
             ]
            ],
            "type": "histogram2d"
           }
          ],
          "histogram2dcontour": [
           {
            "colorbar": {
             "outlinewidth": 0,
             "ticks": ""
            },
            "colorscale": [
             [
              0,
              "#0d0887"
             ],
             [
              0.1111111111111111,
              "#46039f"
             ],
             [
              0.2222222222222222,
              "#7201a8"
             ],
             [
              0.3333333333333333,
              "#9c179e"
             ],
             [
              0.4444444444444444,
              "#bd3786"
             ],
             [
              0.5555555555555556,
              "#d8576b"
             ],
             [
              0.6666666666666666,
              "#ed7953"
             ],
             [
              0.7777777777777778,
              "#fb9f3a"
             ],
             [
              0.8888888888888888,
              "#fdca26"
             ],
             [
              1,
              "#f0f921"
             ]
            ],
            "type": "histogram2dcontour"
           }
          ],
          "mesh3d": [
           {
            "colorbar": {
             "outlinewidth": 0,
             "ticks": ""
            },
            "type": "mesh3d"
           }
          ],
          "parcoords": [
           {
            "line": {
             "colorbar": {
              "outlinewidth": 0,
              "ticks": ""
             }
            },
            "type": "parcoords"
           }
          ],
          "pie": [
           {
            "automargin": true,
            "type": "pie"
           }
          ],
          "scatter": [
           {
            "marker": {
             "colorbar": {
              "outlinewidth": 0,
              "ticks": ""
             }
            },
            "type": "scatter"
           }
          ],
          "scatter3d": [
           {
            "line": {
             "colorbar": {
              "outlinewidth": 0,
              "ticks": ""
             }
            },
            "marker": {
             "colorbar": {
              "outlinewidth": 0,
              "ticks": ""
             }
            },
            "type": "scatter3d"
           }
          ],
          "scattercarpet": [
           {
            "marker": {
             "colorbar": {
              "outlinewidth": 0,
              "ticks": ""
             }
            },
            "type": "scattercarpet"
           }
          ],
          "scattergeo": [
           {
            "marker": {
             "colorbar": {
              "outlinewidth": 0,
              "ticks": ""
             }
            },
            "type": "scattergeo"
           }
          ],
          "scattergl": [
           {
            "marker": {
             "colorbar": {
              "outlinewidth": 0,
              "ticks": ""
             }
            },
            "type": "scattergl"
           }
          ],
          "scattermapbox": [
           {
            "marker": {
             "colorbar": {
              "outlinewidth": 0,
              "ticks": ""
             }
            },
            "type": "scattermapbox"
           }
          ],
          "scatterpolar": [
           {
            "marker": {
             "colorbar": {
              "outlinewidth": 0,
              "ticks": ""
             }
            },
            "type": "scatterpolar"
           }
          ],
          "scatterpolargl": [
           {
            "marker": {
             "colorbar": {
              "outlinewidth": 0,
              "ticks": ""
             }
            },
            "type": "scatterpolargl"
           }
          ],
          "scatterternary": [
           {
            "marker": {
             "colorbar": {
              "outlinewidth": 0,
              "ticks": ""
             }
            },
            "type": "scatterternary"
           }
          ],
          "surface": [
           {
            "colorbar": {
             "outlinewidth": 0,
             "ticks": ""
            },
            "colorscale": [
             [
              0,
              "#0d0887"
             ],
             [
              0.1111111111111111,
              "#46039f"
             ],
             [
              0.2222222222222222,
              "#7201a8"
             ],
             [
              0.3333333333333333,
              "#9c179e"
             ],
             [
              0.4444444444444444,
              "#bd3786"
             ],
             [
              0.5555555555555556,
              "#d8576b"
             ],
             [
              0.6666666666666666,
              "#ed7953"
             ],
             [
              0.7777777777777778,
              "#fb9f3a"
             ],
             [
              0.8888888888888888,
              "#fdca26"
             ],
             [
              1,
              "#f0f921"
             ]
            ],
            "type": "surface"
           }
          ],
          "table": [
           {
            "cells": {
             "fill": {
              "color": "#EBF0F8"
             },
             "line": {
              "color": "white"
             }
            },
            "header": {
             "fill": {
              "color": "#C8D4E3"
             },
             "line": {
              "color": "white"
             }
            },
            "type": "table"
           }
          ]
         },
         "layout": {
          "annotationdefaults": {
           "arrowcolor": "#2a3f5f",
           "arrowhead": 0,
           "arrowwidth": 1
          },
          "autotypenumbers": "strict",
          "coloraxis": {
           "colorbar": {
            "outlinewidth": 0,
            "ticks": ""
           }
          },
          "colorscale": {
           "diverging": [
            [
             0,
             "#8e0152"
            ],
            [
             0.1,
             "#c51b7d"
            ],
            [
             0.2,
             "#de77ae"
            ],
            [
             0.3,
             "#f1b6da"
            ],
            [
             0.4,
             "#fde0ef"
            ],
            [
             0.5,
             "#f7f7f7"
            ],
            [
             0.6,
             "#e6f5d0"
            ],
            [
             0.7,
             "#b8e186"
            ],
            [
             0.8,
             "#7fbc41"
            ],
            [
             0.9,
             "#4d9221"
            ],
            [
             1,
             "#276419"
            ]
           ],
           "sequential": [
            [
             0,
             "#0d0887"
            ],
            [
             0.1111111111111111,
             "#46039f"
            ],
            [
             0.2222222222222222,
             "#7201a8"
            ],
            [
             0.3333333333333333,
             "#9c179e"
            ],
            [
             0.4444444444444444,
             "#bd3786"
            ],
            [
             0.5555555555555556,
             "#d8576b"
            ],
            [
             0.6666666666666666,
             "#ed7953"
            ],
            [
             0.7777777777777778,
             "#fb9f3a"
            ],
            [
             0.8888888888888888,
             "#fdca26"
            ],
            [
             1,
             "#f0f921"
            ]
           ],
           "sequentialminus": [
            [
             0,
             "#0d0887"
            ],
            [
             0.1111111111111111,
             "#46039f"
            ],
            [
             0.2222222222222222,
             "#7201a8"
            ],
            [
             0.3333333333333333,
             "#9c179e"
            ],
            [
             0.4444444444444444,
             "#bd3786"
            ],
            [
             0.5555555555555556,
             "#d8576b"
            ],
            [
             0.6666666666666666,
             "#ed7953"
            ],
            [
             0.7777777777777778,
             "#fb9f3a"
            ],
            [
             0.8888888888888888,
             "#fdca26"
            ],
            [
             1,
             "#f0f921"
            ]
           ]
          },
          "colorway": [
           "#636efa",
           "#EF553B",
           "#00cc96",
           "#ab63fa",
           "#FFA15A",
           "#19d3f3",
           "#FF6692",
           "#B6E880",
           "#FF97FF",
           "#FECB52"
          ],
          "font": {
           "color": "#2a3f5f"
          },
          "geo": {
           "bgcolor": "white",
           "lakecolor": "white",
           "landcolor": "#E5ECF6",
           "showlakes": true,
           "showland": true,
           "subunitcolor": "white"
          },
          "hoverlabel": {
           "align": "left"
          },
          "hovermode": "closest",
          "mapbox": {
           "style": "light"
          },
          "paper_bgcolor": "white",
          "plot_bgcolor": "#E5ECF6",
          "polar": {
           "angularaxis": {
            "gridcolor": "white",
            "linecolor": "white",
            "ticks": ""
           },
           "bgcolor": "#E5ECF6",
           "radialaxis": {
            "gridcolor": "white",
            "linecolor": "white",
            "ticks": ""
           }
          },
          "scene": {
           "xaxis": {
            "backgroundcolor": "#E5ECF6",
            "gridcolor": "white",
            "gridwidth": 2,
            "linecolor": "white",
            "showbackground": true,
            "ticks": "",
            "zerolinecolor": "white"
           },
           "yaxis": {
            "backgroundcolor": "#E5ECF6",
            "gridcolor": "white",
            "gridwidth": 2,
            "linecolor": "white",
            "showbackground": true,
            "ticks": "",
            "zerolinecolor": "white"
           },
           "zaxis": {
            "backgroundcolor": "#E5ECF6",
            "gridcolor": "white",
            "gridwidth": 2,
            "linecolor": "white",
            "showbackground": true,
            "ticks": "",
            "zerolinecolor": "white"
           }
          },
          "shapedefaults": {
           "line": {
            "color": "#2a3f5f"
           }
          },
          "ternary": {
           "aaxis": {
            "gridcolor": "white",
            "linecolor": "white",
            "ticks": ""
           },
           "baxis": {
            "gridcolor": "white",
            "linecolor": "white",
            "ticks": ""
           },
           "bgcolor": "#E5ECF6",
           "caxis": {
            "gridcolor": "white",
            "linecolor": "white",
            "ticks": ""
           }
          },
          "title": {
           "x": 0.05
          },
          "xaxis": {
           "automargin": true,
           "gridcolor": "white",
           "linecolor": "white",
           "ticks": "",
           "title": {
            "standoff": 15
           },
           "zerolinecolor": "white",
           "zerolinewidth": 2
          },
          "yaxis": {
           "automargin": true,
           "gridcolor": "white",
           "linecolor": "white",
           "ticks": "",
           "title": {
            "standoff": 15
           },
           "zerolinecolor": "white",
           "zerolinewidth": 2
          }
         }
        }
       }
      }
     },
     "metadata": {},
     "output_type": "display_data"
    }
   ],
   "source": [
    "top_multi_hosts = df.host_id.value_counts()[df.host_id.value_counts() > 1][:3].index\n",
    "top_multi_hosts\n",
    "fig = px.scatter_mapbox(\n",
    "    df[df.host_id.isin(top_multi_hosts)], \n",
    "    lat=\"latitude\", \n",
    "    lon=\"longitude\",     \n",
    "    hover_name=\"name\",\n",
    "    hover_data=[\"room_type\",\"room_url\", \"license\"],\n",
    "    color=\"host_id\", \n",
    "    zoom=14,   \n",
    "    )\n",
    "\n",
    "fig.show()"
   ]
  },
  {
   "cell_type": "code",
   "execution_count": 237,
   "metadata": {},
   "outputs": [
    {
     "name": "stdout",
     "output_type": "stream",
     "text": [
      "For host 113038136 (22 rooms, 22 without license):\n"
     ]
    },
    {
     "data": {
      "text/html": [
       "<a href=\"http://www.airbnb.com/rooms/50582066\">http://www.airbnb.com/rooms/50582066</a>"
      ],
      "text/plain": [
       "<IPython.core.display.HTML object>"
      ]
     },
     "metadata": {},
     "output_type": "display_data"
    },
    {
     "data": {
      "text/html": [
       "<a href=\"http://www.airbnb.com/rooms/38439782\">http://www.airbnb.com/rooms/38439782</a>"
      ],
      "text/plain": [
       "<IPython.core.display.HTML object>"
      ]
     },
     "metadata": {},
     "output_type": "display_data"
    },
    {
     "data": {
      "text/html": [
       "<a href=\"http://www.airbnb.com/rooms/49330258\">http://www.airbnb.com/rooms/49330258</a>"
      ],
      "text/plain": [
       "<IPython.core.display.HTML object>"
      ]
     },
     "metadata": {},
     "output_type": "display_data"
    },
    {
     "data": {
      "text/html": [
       "<a href=\"http://www.airbnb.com/rooms/49720218\">http://www.airbnb.com/rooms/49720218</a>"
      ],
      "text/plain": [
       "<IPython.core.display.HTML object>"
      ]
     },
     "metadata": {},
     "output_type": "display_data"
    },
    {
     "data": {
      "text/html": [
       "<a href=\"http://www.airbnb.com/rooms/49331210\">http://www.airbnb.com/rooms/49331210</a>"
      ],
      "text/plain": [
       "<IPython.core.display.HTML object>"
      ]
     },
     "metadata": {},
     "output_type": "display_data"
    },
    {
     "data": {
      "text/html": [
       "<a href=\"http://www.airbnb.com/rooms/49330931\">http://www.airbnb.com/rooms/49330931</a>"
      ],
      "text/plain": [
       "<IPython.core.display.HTML object>"
      ]
     },
     "metadata": {},
     "output_type": "display_data"
    },
    {
     "data": {
      "text/html": [
       "<a href=\"http://www.airbnb.com/rooms/49742491\">http://www.airbnb.com/rooms/49742491</a>"
      ],
      "text/plain": [
       "<IPython.core.display.HTML object>"
      ]
     },
     "metadata": {},
     "output_type": "display_data"
    },
    {
     "data": {
      "text/html": [
       "<a href=\"http://www.airbnb.com/rooms/49331437\">http://www.airbnb.com/rooms/49331437</a>"
      ],
      "text/plain": [
       "<IPython.core.display.HTML object>"
      ]
     },
     "metadata": {},
     "output_type": "display_data"
    },
    {
     "data": {
      "text/html": [
       "<a href=\"http://www.airbnb.com/rooms/49331021\">http://www.airbnb.com/rooms/49331021</a>"
      ],
      "text/plain": [
       "<IPython.core.display.HTML object>"
      ]
     },
     "metadata": {},
     "output_type": "display_data"
    },
    {
     "data": {
      "text/html": [
       "<a href=\"http://www.airbnb.com/rooms/38219821\">http://www.airbnb.com/rooms/38219821</a>"
      ],
      "text/plain": [
       "<IPython.core.display.HTML object>"
      ]
     },
     "metadata": {},
     "output_type": "display_data"
    },
    {
     "data": {
      "text/html": [
       "<a href=\"http://www.airbnb.com/rooms/16957514\">http://www.airbnb.com/rooms/16957514</a>"
      ],
      "text/plain": [
       "<IPython.core.display.HTML object>"
      ]
     },
     "metadata": {},
     "output_type": "display_data"
    },
    {
     "data": {
      "text/html": [
       "<a href=\"http://www.airbnb.com/rooms/49330673\">http://www.airbnb.com/rooms/49330673</a>"
      ],
      "text/plain": [
       "<IPython.core.display.HTML object>"
      ]
     },
     "metadata": {},
     "output_type": "display_data"
    },
    {
     "data": {
      "text/html": [
       "<a href=\"http://www.airbnb.com/rooms/16957483\">http://www.airbnb.com/rooms/16957483</a>"
      ],
      "text/plain": [
       "<IPython.core.display.HTML object>"
      ]
     },
     "metadata": {},
     "output_type": "display_data"
    },
    {
     "data": {
      "text/html": [
       "<a href=\"http://www.airbnb.com/rooms/16957497\">http://www.airbnb.com/rooms/16957497</a>"
      ],
      "text/plain": [
       "<IPython.core.display.HTML object>"
      ]
     },
     "metadata": {},
     "output_type": "display_data"
    },
    {
     "data": {
      "text/html": [
       "<a href=\"http://www.airbnb.com/rooms/42795203\">http://www.airbnb.com/rooms/42795203</a>"
      ],
      "text/plain": [
       "<IPython.core.display.HTML object>"
      ]
     },
     "metadata": {},
     "output_type": "display_data"
    },
    {
     "data": {
      "text/html": [
       "<a href=\"http://www.airbnb.com/rooms/16957522\">http://www.airbnb.com/rooms/16957522</a>"
      ],
      "text/plain": [
       "<IPython.core.display.HTML object>"
      ]
     },
     "metadata": {},
     "output_type": "display_data"
    },
    {
     "data": {
      "text/html": [
       "<a href=\"http://www.airbnb.com/rooms/16957520\">http://www.airbnb.com/rooms/16957520</a>"
      ],
      "text/plain": [
       "<IPython.core.display.HTML object>"
      ]
     },
     "metadata": {},
     "output_type": "display_data"
    },
    {
     "data": {
      "text/html": [
       "<a href=\"http://www.airbnb.com/rooms/52543437\">http://www.airbnb.com/rooms/52543437</a>"
      ],
      "text/plain": [
       "<IPython.core.display.HTML object>"
      ]
     },
     "metadata": {},
     "output_type": "display_data"
    },
    {
     "data": {
      "text/html": [
       "<a href=\"http://www.airbnb.com/rooms/49327948\">http://www.airbnb.com/rooms/49327948</a>"
      ],
      "text/plain": [
       "<IPython.core.display.HTML object>"
      ]
     },
     "metadata": {},
     "output_type": "display_data"
    },
    {
     "data": {
      "text/html": [
       "<a href=\"http://www.airbnb.com/rooms/25441842\">http://www.airbnb.com/rooms/25441842</a>"
      ],
      "text/plain": [
       "<IPython.core.display.HTML object>"
      ]
     },
     "metadata": {},
     "output_type": "display_data"
    },
    {
     "data": {
      "text/html": [
       "<a href=\"http://www.airbnb.com/rooms/49329232\">http://www.airbnb.com/rooms/49329232</a>"
      ],
      "text/plain": [
       "<IPython.core.display.HTML object>"
      ]
     },
     "metadata": {},
     "output_type": "display_data"
    },
    {
     "data": {
      "text/html": [
       "<a href=\"http://www.airbnb.com/rooms/49331212\">http://www.airbnb.com/rooms/49331212</a>"
      ],
      "text/plain": [
       "<IPython.core.display.HTML object>"
      ]
     },
     "metadata": {},
     "output_type": "display_data"
    },
    {
     "name": "stdout",
     "output_type": "stream",
     "text": [
      "For host 184945495 (13 rooms, 0 without license):\n"
     ]
    },
    {
     "data": {
      "text/html": [
       "<a href=\"http://www.airbnb.com/rooms/43447953\">http://www.airbnb.com/rooms/43447953</a>"
      ],
      "text/plain": [
       "<IPython.core.display.HTML object>"
      ]
     },
     "metadata": {},
     "output_type": "display_data"
    },
    {
     "data": {
      "text/html": [
       "<a href=\"http://www.airbnb.com/rooms/44114732\">http://www.airbnb.com/rooms/44114732</a>"
      ],
      "text/plain": [
       "<IPython.core.display.HTML object>"
      ]
     },
     "metadata": {},
     "output_type": "display_data"
    },
    {
     "data": {
      "text/html": [
       "<a href=\"http://www.airbnb.com/rooms/51416589\">http://www.airbnb.com/rooms/51416589</a>"
      ],
      "text/plain": [
       "<IPython.core.display.HTML object>"
      ]
     },
     "metadata": {},
     "output_type": "display_data"
    },
    {
     "data": {
      "text/html": [
       "<a href=\"http://www.airbnb.com/rooms/49496432\">http://www.airbnb.com/rooms/49496432</a>"
      ],
      "text/plain": [
       "<IPython.core.display.HTML object>"
      ]
     },
     "metadata": {},
     "output_type": "display_data"
    },
    {
     "data": {
      "text/html": [
       "<a href=\"http://www.airbnb.com/rooms/48688590\">http://www.airbnb.com/rooms/48688590</a>"
      ],
      "text/plain": [
       "<IPython.core.display.HTML object>"
      ]
     },
     "metadata": {},
     "output_type": "display_data"
    },
    {
     "data": {
      "text/html": [
       "<a href=\"http://www.airbnb.com/rooms/48391313\">http://www.airbnb.com/rooms/48391313</a>"
      ],
      "text/plain": [
       "<IPython.core.display.HTML object>"
      ]
     },
     "metadata": {},
     "output_type": "display_data"
    },
    {
     "data": {
      "text/html": [
       "<a href=\"http://www.airbnb.com/rooms/44672920\">http://www.airbnb.com/rooms/44672920</a>"
      ],
      "text/plain": [
       "<IPython.core.display.HTML object>"
      ]
     },
     "metadata": {},
     "output_type": "display_data"
    },
    {
     "data": {
      "text/html": [
       "<a href=\"http://www.airbnb.com/rooms/29895066\">http://www.airbnb.com/rooms/29895066</a>"
      ],
      "text/plain": [
       "<IPython.core.display.HTML object>"
      ]
     },
     "metadata": {},
     "output_type": "display_data"
    },
    {
     "data": {
      "text/html": [
       "<a href=\"http://www.airbnb.com/rooms/52526176\">http://www.airbnb.com/rooms/52526176</a>"
      ],
      "text/plain": [
       "<IPython.core.display.HTML object>"
      ]
     },
     "metadata": {},
     "output_type": "display_data"
    },
    {
     "data": {
      "text/html": [
       "<a href=\"http://www.airbnb.com/rooms/43447948\">http://www.airbnb.com/rooms/43447948</a>"
      ],
      "text/plain": [
       "<IPython.core.display.HTML object>"
      ]
     },
     "metadata": {},
     "output_type": "display_data"
    },
    {
     "data": {
      "text/html": [
       "<a href=\"http://www.airbnb.com/rooms/47353317\">http://www.airbnb.com/rooms/47353317</a>"
      ],
      "text/plain": [
       "<IPython.core.display.HTML object>"
      ]
     },
     "metadata": {},
     "output_type": "display_data"
    },
    {
     "data": {
      "text/html": [
       "<a href=\"http://www.airbnb.com/rooms/52684358\">http://www.airbnb.com/rooms/52684358</a>"
      ],
      "text/plain": [
       "<IPython.core.display.HTML object>"
      ]
     },
     "metadata": {},
     "output_type": "display_data"
    },
    {
     "data": {
      "text/html": [
       "<a href=\"http://www.airbnb.com/rooms/46501316\">http://www.airbnb.com/rooms/46501316</a>"
      ],
      "text/plain": [
       "<IPython.core.display.HTML object>"
      ]
     },
     "metadata": {},
     "output_type": "display_data"
    },
    {
     "name": "stdout",
     "output_type": "stream",
     "text": [
      "For host 133058806 (12 rooms, 12 without license):\n"
     ]
    },
    {
     "data": {
      "text/html": [
       "<a href=\"http://www.airbnb.com/rooms/49475837\">http://www.airbnb.com/rooms/49475837</a>"
      ],
      "text/plain": [
       "<IPython.core.display.HTML object>"
      ]
     },
     "metadata": {},
     "output_type": "display_data"
    },
    {
     "data": {
      "text/html": [
       "<a href=\"http://www.airbnb.com/rooms/20416682\">http://www.airbnb.com/rooms/20416682</a>"
      ],
      "text/plain": [
       "<IPython.core.display.HTML object>"
      ]
     },
     "metadata": {},
     "output_type": "display_data"
    },
    {
     "data": {
      "text/html": [
       "<a href=\"http://www.airbnb.com/rooms/51835062\">http://www.airbnb.com/rooms/51835062</a>"
      ],
      "text/plain": [
       "<IPython.core.display.HTML object>"
      ]
     },
     "metadata": {},
     "output_type": "display_data"
    },
    {
     "data": {
      "text/html": [
       "<a href=\"http://www.airbnb.com/rooms/20403342\">http://www.airbnb.com/rooms/20403342</a>"
      ],
      "text/plain": [
       "<IPython.core.display.HTML object>"
      ]
     },
     "metadata": {},
     "output_type": "display_data"
    },
    {
     "data": {
      "text/html": [
       "<a href=\"http://www.airbnb.com/rooms/20403278\">http://www.airbnb.com/rooms/20403278</a>"
      ],
      "text/plain": [
       "<IPython.core.display.HTML object>"
      ]
     },
     "metadata": {},
     "output_type": "display_data"
    },
    {
     "data": {
      "text/html": [
       "<a href=\"http://www.airbnb.com/rooms/31032000\">http://www.airbnb.com/rooms/31032000</a>"
      ],
      "text/plain": [
       "<IPython.core.display.HTML object>"
      ]
     },
     "metadata": {},
     "output_type": "display_data"
    },
    {
     "data": {
      "text/html": [
       "<a href=\"http://www.airbnb.com/rooms/34579319\">http://www.airbnb.com/rooms/34579319</a>"
      ],
      "text/plain": [
       "<IPython.core.display.HTML object>"
      ]
     },
     "metadata": {},
     "output_type": "display_data"
    },
    {
     "data": {
      "text/html": [
       "<a href=\"http://www.airbnb.com/rooms/36530995\">http://www.airbnb.com/rooms/36530995</a>"
      ],
      "text/plain": [
       "<IPython.core.display.HTML object>"
      ]
     },
     "metadata": {},
     "output_type": "display_data"
    },
    {
     "data": {
      "text/html": [
       "<a href=\"http://www.airbnb.com/rooms/49080487\">http://www.airbnb.com/rooms/49080487</a>"
      ],
      "text/plain": [
       "<IPython.core.display.HTML object>"
      ]
     },
     "metadata": {},
     "output_type": "display_data"
    },
    {
     "data": {
      "text/html": [
       "<a href=\"http://www.airbnb.com/rooms/40712545\">http://www.airbnb.com/rooms/40712545</a>"
      ],
      "text/plain": [
       "<IPython.core.display.HTML object>"
      ]
     },
     "metadata": {},
     "output_type": "display_data"
    },
    {
     "data": {
      "text/html": [
       "<a href=\"http://www.airbnb.com/rooms/50200513\">http://www.airbnb.com/rooms/50200513</a>"
      ],
      "text/plain": [
       "<IPython.core.display.HTML object>"
      ]
     },
     "metadata": {},
     "output_type": "display_data"
    },
    {
     "data": {
      "text/html": [
       "<a href=\"http://www.airbnb.com/rooms/20410897\">http://www.airbnb.com/rooms/20410897</a>"
      ],
      "text/plain": [
       "<IPython.core.display.HTML object>"
      ]
     },
     "metadata": {},
     "output_type": "display_data"
    }
   ],
   "source": [
    "from IPython.core.display import display, HTML\n",
    "for host_id in top_multi_hosts:\n",
    "    print(f\"For host {host_id} ({len(df[df.host_id == host_id])} rooms, {len(df[(df.host_id == host_id) & (df.has_license==False)])} without license):\")\n",
    "    [display(HTML(f\"\"\"<a href=\"{url}\">{url}</a>\"\"\")) for url in list(df[df.host_id == host_id].room_url)]\n"
   ]
  },
  {
   "cell_type": "markdown",
   "metadata": {},
   "source": [
    "Next : \n",
    "- identify pro accounts ?\n",
    "- more data"
   ]
  },
  {
   "cell_type": "markdown",
   "metadata": {},
   "source": []
  }
 ],
 "metadata": {
  "interpreter": {
   "hash": "f8204b2b6af2a73b1a872340058634412402a410fcef2b47a6b90083ad4c2522"
  },
  "kernelspec": {
   "display_name": "Python 3.9.7 64-bit ('env': venv)",
   "name": "python3"
  },
  "language_info": {
   "codemirror_mode": {
    "name": "ipython",
    "version": 3
   },
   "file_extension": ".py",
   "mimetype": "text/x-python",
   "name": "python",
   "nbconvert_exporter": "python",
   "pygments_lexer": "ipython3",
   "version": "3.9.7"
  },
  "orig_nbformat": 4
 },
 "nbformat": 4,
 "nbformat_minor": 2
}
